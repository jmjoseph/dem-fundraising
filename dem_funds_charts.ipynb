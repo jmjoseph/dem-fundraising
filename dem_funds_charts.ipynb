{
 "cells": [
  {
   "cell_type": "code",
   "execution_count": 2,
   "metadata": {},
   "outputs": [],
   "source": [
    "import plotly\n",
    "import plotly.graph_objs as go\n",
    "import plotly.io as pio"
   ]
  },
  {
   "cell_type": "code",
   "execution_count": 3,
   "metadata": {},
   "outputs": [],
   "source": [
    "# (CANDIDATE, TOTAL FUNDS, NUMBER OF DONATIONS, AVG DONATION)\n",
    "dem_dict = {'Kamala Harris' : (1500000, 38000, 37, '$1.5 M'),\n",
    "            'Beto O\\'Rourke' : (6136736, 128000, 47, '$6,136,736'),\n",
    "            'Bernie Sanders' : (5925771, 223047, 27, '$5,925,771'),\n",
    "           }"
   ]
  },
  {
   "cell_type": "code",
   "execution_count": 4,
   "metadata": {},
   "outputs": [
    {
     "data": {
      "text/plain": [
       "['Kamala Harris<br>$1.5 M',\n",
       " \"Beto O'Rourke<br>$6,136,736\",\n",
       " 'Bernie Sanders<br>$5,925,771']"
      ]
     },
     "execution_count": 4,
     "metadata": {},
     "output_type": "execute_result"
    }
   ],
   "source": [
    "[[d for d in dem_dict.keys()][n] + \n",
    "          '<br>' +\n",
    "          ['$1.5 M', '$6,136,736', '$5,925,771'][n] for n in range(3)]"
   ]
  },
  {
   "cell_type": "code",
   "execution_count": 5,
   "metadata": {},
   "outputs": [
    {
     "data": {
      "text/html": [
       "<script type=\"text/javascript\">window.PlotlyConfig = {MathJaxConfig: 'local'};</script><script type=\"text/javascript\">if (window.MathJax) {MathJax.Hub.Config({SVG: {font: \"STIX-Web\"}});}</script><script>requirejs.config({paths: { 'plotly': ['https://cdn.plot.ly/plotly-latest.min']},});if(!window._Plotly) {require(['plotly'],function(plotly) {window._Plotly=plotly;});}</script>"
      ],
      "text/vnd.plotly.v1+html": [
       "<script type=\"text/javascript\">window.PlotlyConfig = {MathJaxConfig: 'local'};</script><script type=\"text/javascript\">if (window.MathJax) {MathJax.Hub.Config({SVG: {font: \"STIX-Web\"}});}</script><script>requirejs.config({paths: { 'plotly': ['https://cdn.plot.ly/plotly-latest.min']},});if(!window._Plotly) {require(['plotly'],function(plotly) {window._Plotly=plotly;});}</script>"
      ]
     },
     "metadata": {},
     "output_type": "display_data"
    },
    {
     "data": {
      "application/vnd.plotly.v1+json": {
       "config": {
        "linkText": "Export to plot.ly",
        "plotlyServerURL": "https://plot.ly",
        "showLink": false
       },
       "data": [
        {
         "marker": {
          "cmax": 50,
          "cmin": 25,
          "color": [
           37,
           47,
           27
          ],
          "colorbar": {
           "tickmode": "auto",
           "tickprefix": "$",
           "title": {
            "side": "right",
            "text": "Average Donation Amount"
           }
          },
          "colorscale": "Blues",
          "line": {
           "color": "rgb(8,48,107)",
           "width": 1.5
          }
         },
         "opacity": 0.8,
         "text": [
          "Kamala Harris<br>$1.5 M",
          "Beto O'Rourke<br>$6,136,736",
          "Bernie Sanders<br>$5,925,771"
         ],
         "textposition": "outside",
         "type": "bar",
         "uid": "3ff6be83-d054-4921-ad87-3e7712115588",
         "width": 25000,
         "x": [
          38000,
          128000,
          223047
         ],
         "y": [
          1500000,
          6136736,
          5925771
         ]
        }
       ],
       "layout": {
        "showlegend": false,
        "title": {
         "text": "First Day Fundraising By Democratic Candidates"
        },
        "xaxis": {
         "showgrid": true,
         "tickangle": 0,
         "title": {
          "text": "Number of Donations"
         },
         "zeroline": false
        },
        "yaxis": {
         "range": [
          0,
          7000000
         ],
         "title": {
          "text": "Money Raised [$]"
         }
        }
       }
      },
      "text/html": [
       "<div id=\"4030edd4-70e0-462e-87fd-9465254e5db8\" style=\"height: 525px; width: 100%;\" class=\"plotly-graph-div\"></div><script type=\"text/javascript\">require([\"plotly\"], function(Plotly) { window.PLOTLYENV=window.PLOTLYENV || {};window.PLOTLYENV.BASE_URL=\"https://plot.ly\";\n",
       "if (document.getElementById(\"4030edd4-70e0-462e-87fd-9465254e5db8\")) {\n",
       "    Plotly.newPlot(\"4030edd4-70e0-462e-87fd-9465254e5db8\", [{\"marker\": {\"cmax\": 50, \"cmin\": 25, \"color\": [37, 47, 27], \"colorbar\": {\"tickmode\": \"auto\", \"tickprefix\": \"$\", \"title\": {\"side\": \"right\", \"text\": \"Average Donation Amount\"}}, \"colorscale\": \"Blues\", \"line\": {\"color\": \"rgb(8,48,107)\", \"width\": 1.5}}, \"opacity\": 0.8, \"text\": [\"Kamala Harris<br>$1.5 M\", \"Beto O'Rourke<br>$6,136,736\", \"Bernie Sanders<br>$5,925,771\"], \"textposition\": \"outside\", \"width\": 25000, \"x\": [38000, 128000, 223047], \"y\": [1500000, 6136736, 5925771], \"type\": \"bar\", \"uid\": \"3ff6be83-d054-4921-ad87-3e7712115588\"}], {\"showlegend\": false, \"title\": {\"text\": \"First Day Fundraising By Democratic Candidates\"}, \"xaxis\": {\"showgrid\": true, \"tickangle\": 0, \"title\": {\"text\": \"Number of Donations\"}, \"zeroline\": false}, \"yaxis\": {\"range\": [0, 7000000], \"title\": {\"text\": \"Money Raised [$]\"}}}, {\"showLink\": false, \"linkText\": \"Export to plot.ly\", \"plotlyServerURL\": \"https://plot.ly\"}); \n",
       "}\n",
       "});</script><script type=\"text/javascript\">window.addEventListener(\"resize\", function(){if (document.getElementById(\"4030edd4-70e0-462e-87fd-9465254e5db8\")) {window._Plotly.Plots.resize(document.getElementById(\"4030edd4-70e0-462e-87fd-9465254e5db8\"));};})</script>"
      ],
      "text/vnd.plotly.v1+html": [
       "<div id=\"4030edd4-70e0-462e-87fd-9465254e5db8\" style=\"height: 525px; width: 100%;\" class=\"plotly-graph-div\"></div><script type=\"text/javascript\">require([\"plotly\"], function(Plotly) { window.PLOTLYENV=window.PLOTLYENV || {};window.PLOTLYENV.BASE_URL=\"https://plot.ly\";\n",
       "if (document.getElementById(\"4030edd4-70e0-462e-87fd-9465254e5db8\")) {\n",
       "    Plotly.newPlot(\"4030edd4-70e0-462e-87fd-9465254e5db8\", [{\"marker\": {\"cmax\": 50, \"cmin\": 25, \"color\": [37, 47, 27], \"colorbar\": {\"tickmode\": \"auto\", \"tickprefix\": \"$\", \"title\": {\"side\": \"right\", \"text\": \"Average Donation Amount\"}}, \"colorscale\": \"Blues\", \"line\": {\"color\": \"rgb(8,48,107)\", \"width\": 1.5}}, \"opacity\": 0.8, \"text\": [\"Kamala Harris<br>$1.5 M\", \"Beto O'Rourke<br>$6,136,736\", \"Bernie Sanders<br>$5,925,771\"], \"textposition\": \"outside\", \"width\": 25000, \"x\": [38000, 128000, 223047], \"y\": [1500000, 6136736, 5925771], \"type\": \"bar\", \"uid\": \"3ff6be83-d054-4921-ad87-3e7712115588\"}], {\"showlegend\": false, \"title\": {\"text\": \"First Day Fundraising By Democratic Candidates\"}, \"xaxis\": {\"showgrid\": true, \"tickangle\": 0, \"title\": {\"text\": \"Number of Donations\"}, \"zeroline\": false}, \"yaxis\": {\"range\": [0, 7000000], \"title\": {\"text\": \"Money Raised [$]\"}}}, {\"showLink\": false, \"linkText\": \"Export to plot.ly\", \"plotlyServerURL\": \"https://plot.ly\"}); \n",
       "}\n",
       "});</script><script type=\"text/javascript\">window.addEventListener(\"resize\", function(){if (document.getElementById(\"4030edd4-70e0-462e-87fd-9465254e5db8\")) {window._Plotly.Plots.resize(document.getElementById(\"4030edd4-70e0-462e-87fd-9465254e5db8\"));};})</script>"
      ]
     },
     "metadata": {},
     "output_type": "display_data"
    }
   ],
   "source": [
    "bars = go.Bar(\n",
    "    x=[d[1] for d in dem_dict.values()],\n",
    "    y=[d[0] for d in dem_dict.values()],\n",
    "    width=25000,\n",
    "    text=[[d for d in dem_dict.keys()][n] + \n",
    "          '<br>' +\n",
    "          [d[3] for d in dem_dict.values()][n] for n in range(3)],\n",
    "    textposition = 'outside',\n",
    "    marker=dict(\n",
    "        color=[d[2] for d in dem_dict.values()],#'rgb(158,202,225)',\n",
    "        cmin=25,\n",
    "        cmax=50,\n",
    "        colorscale='Blues',\n",
    "        line=dict(\n",
    "            color='rgb(8,48,107)',\n",
    "            width=1.5\n",
    "        ),\n",
    "        colorbar=dict(\n",
    "            title=dict(\n",
    "                text='Average Donation Amount',\n",
    "                side='right'\n",
    "            ),\n",
    "            tickmode = 'auto',\n",
    "            #tickvals = [2,50,100],\n",
    "            #ticktext = ['Hot','Mild','Cool'],\n",
    "            tickprefix = '$',\n",
    "        )\n",
    "    ),\n",
    "    opacity=0.8\n",
    ")\n",
    "\n",
    "data = [bars]\n",
    "\n",
    "layout = go.Layout(\n",
    "    title = \"First Day Fundraising By Democratic Candidates\",\n",
    "    showlegend = False,\n",
    "    xaxis=dict(\n",
    "        title='Number of Donations',\n",
    "        #range=[congressYears[0]-1, congressYears[-1]+1],\n",
    "        #tickmode='linear',\n",
    "        #tick0=congressYears[0]+(5-congressYears[0]%5),\n",
    "        #dtick=50000,\n",
    "        tickangle=0,\n",
    "        #showline=True,\n",
    "        showgrid=True,\n",
    "        zeroline=False\n",
    "    ),\n",
    "    yaxis=dict(\n",
    "        title='Money Raised [$]',\n",
    "        range=[0,7000000],\n",
    "#        tickmode='array',\n",
    "#        tickvals=range(30,101,5),\n",
    "#        ticktext=[str(n) if n%10==0 else ' ' for n in range(30,101,5)]\n",
    "    )\n",
    ")\n",
    "\n",
    "\n",
    "fig = go.Figure(data=data,layout=layout)\n",
    "plotly.offline.init_notebook_mode(connected=True)\n",
    "plotly.offline.iplot(fig)"
   ]
  },
  {
   "cell_type": "code",
   "execution_count": 6,
   "metadata": {},
   "outputs": [
    {
     "data": {
      "text/html": [
       "<script type=\"text/javascript\">window.PlotlyConfig = {MathJaxConfig: 'local'};</script><script type=\"text/javascript\">if (window.MathJax) {MathJax.Hub.Config({SVG: {font: \"STIX-Web\"}});}</script><script>requirejs.config({paths: { 'plotly': ['https://cdn.plot.ly/plotly-latest.min']},});if(!window._Plotly) {require(['plotly'],function(plotly) {window._Plotly=plotly;});}</script>"
      ],
      "text/vnd.plotly.v1+html": [
       "<script type=\"text/javascript\">window.PlotlyConfig = {MathJaxConfig: 'local'};</script><script type=\"text/javascript\">if (window.MathJax) {MathJax.Hub.Config({SVG: {font: \"STIX-Web\"}});}</script><script>requirejs.config({paths: { 'plotly': ['https://cdn.plot.ly/plotly-latest.min']},});if(!window._Plotly) {require(['plotly'],function(plotly) {window._Plotly=plotly;});}</script>"
      ]
     },
     "metadata": {},
     "output_type": "display_data"
    },
    {
     "data": {
      "application/vnd.plotly.v1+json": {
       "config": {
        "linkText": "Export to plot.ly",
        "plotlyServerURL": "https://plot.ly",
        "showLink": false
       },
       "data": [
        {
         "marker": {
          "cmax": 50,
          "cmin": 25,
          "color": [
           27,
           47,
           37
          ],
          "colorbar": {
           "tickmode": "auto",
           "title": {
            "side": "right",
            "text": "Average Donation Amount [$]"
           }
          },
          "colorscale": "Blues",
          "line": {
           "color": "rgb(8,48,107)",
           "width": 1.5
          }
         },
         "opacity": 0.8,
         "type": "bar",
         "uid": "1e02a49e-12ca-4b64-8eba-e10dc5e8dec1",
         "width": [
          223047,
          128000,
          38000
         ],
         "x": [
          111523.5,
          64000,
          19000
         ],
         "y": [
          5925771,
          6136736,
          1500000
         ]
        },
        {
         "mode": "text",
         "text": [
          "Bernie Sanders<br>$5,925,771",
          "Beto O'Rourke<br>$6,136,736",
          "Kamala Harris<br>$1.5 M"
         ],
         "textposition": "top right",
         "type": "scatter",
         "uid": "caf12ea3-86a0-42d5-9a6e-0087eeba6365",
         "x": [
          223047,
          128000,
          38000
         ],
         "y": [
          5925771,
          6136736,
          1500000
         ]
        }
       ],
       "layout": {
        "showlegend": false,
        "title": {
         "text": "First Day Fundraising By Democratic Candidates"
        },
        "xaxis": {
         "range": [
          0,
          265000
         ],
         "showgrid": true,
         "tickangle": 0,
         "title": {
          "text": "Number of Donations"
         },
         "zeroline": false
        },
        "yaxis": {
         "range": [
          0,
          7000000
         ],
         "title": {
          "text": "Money Raised [$]"
         }
        }
       }
      },
      "text/html": [
       "<div id=\"c43a6a51-ab53-462d-9027-6f4cac726c33\" style=\"height: 525px; width: 100%;\" class=\"plotly-graph-div\"></div><script type=\"text/javascript\">require([\"plotly\"], function(Plotly) { window.PLOTLYENV=window.PLOTLYENV || {};window.PLOTLYENV.BASE_URL=\"https://plot.ly\";\n",
       "if (document.getElementById(\"c43a6a51-ab53-462d-9027-6f4cac726c33\")) {\n",
       "    Plotly.newPlot(\"c43a6a51-ab53-462d-9027-6f4cac726c33\", [{\"marker\": {\"cmax\": 50, \"cmin\": 25, \"color\": [27, 47, 37], \"colorbar\": {\"tickmode\": \"auto\", \"title\": {\"side\": \"right\", \"text\": \"Average Donation Amount [$]\"}}, \"colorscale\": \"Blues\", \"line\": {\"color\": \"rgb(8,48,107)\", \"width\": 1.5}}, \"opacity\": 0.8, \"width\": [223047, 128000, 38000], \"x\": [111523.5, 64000.0, 19000.0], \"y\": [5925771, 6136736, 1500000], \"type\": \"bar\", \"uid\": \"1e02a49e-12ca-4b64-8eba-e10dc5e8dec1\"}, {\"mode\": \"text\", \"text\": [\"Bernie Sanders<br>$5,925,771\", \"Beto O'Rourke<br>$6,136,736\", \"Kamala Harris<br>$1.5 M\"], \"textposition\": \"top right\", \"x\": [223047, 128000, 38000], \"y\": [5925771, 6136736, 1500000], \"type\": \"scatter\", \"uid\": \"caf12ea3-86a0-42d5-9a6e-0087eeba6365\"}], {\"showlegend\": false, \"title\": {\"text\": \"First Day Fundraising By Democratic Candidates\"}, \"xaxis\": {\"range\": [0, 265000], \"showgrid\": true, \"tickangle\": 0, \"title\": {\"text\": \"Number of Donations\"}, \"zeroline\": false}, \"yaxis\": {\"range\": [0, 7000000], \"title\": {\"text\": \"Money Raised [$]\"}}}, {\"showLink\": false, \"linkText\": \"Export to plot.ly\", \"plotlyServerURL\": \"https://plot.ly\"}); \n",
       "}\n",
       "});</script><script type=\"text/javascript\">window.addEventListener(\"resize\", function(){if (document.getElementById(\"c43a6a51-ab53-462d-9027-6f4cac726c33\")) {window._Plotly.Plots.resize(document.getElementById(\"c43a6a51-ab53-462d-9027-6f4cac726c33\"));};})</script>"
      ],
      "text/vnd.plotly.v1+html": [
       "<div id=\"c43a6a51-ab53-462d-9027-6f4cac726c33\" style=\"height: 525px; width: 100%;\" class=\"plotly-graph-div\"></div><script type=\"text/javascript\">require([\"plotly\"], function(Plotly) { window.PLOTLYENV=window.PLOTLYENV || {};window.PLOTLYENV.BASE_URL=\"https://plot.ly\";\n",
       "if (document.getElementById(\"c43a6a51-ab53-462d-9027-6f4cac726c33\")) {\n",
       "    Plotly.newPlot(\"c43a6a51-ab53-462d-9027-6f4cac726c33\", [{\"marker\": {\"cmax\": 50, \"cmin\": 25, \"color\": [27, 47, 37], \"colorbar\": {\"tickmode\": \"auto\", \"title\": {\"side\": \"right\", \"text\": \"Average Donation Amount [$]\"}}, \"colorscale\": \"Blues\", \"line\": {\"color\": \"rgb(8,48,107)\", \"width\": 1.5}}, \"opacity\": 0.8, \"width\": [223047, 128000, 38000], \"x\": [111523.5, 64000.0, 19000.0], \"y\": [5925771, 6136736, 1500000], \"type\": \"bar\", \"uid\": \"1e02a49e-12ca-4b64-8eba-e10dc5e8dec1\"}, {\"mode\": \"text\", \"text\": [\"Bernie Sanders<br>$5,925,771\", \"Beto O'Rourke<br>$6,136,736\", \"Kamala Harris<br>$1.5 M\"], \"textposition\": \"top right\", \"x\": [223047, 128000, 38000], \"y\": [5925771, 6136736, 1500000], \"type\": \"scatter\", \"uid\": \"caf12ea3-86a0-42d5-9a6e-0087eeba6365\"}], {\"showlegend\": false, \"title\": {\"text\": \"First Day Fundraising By Democratic Candidates\"}, \"xaxis\": {\"range\": [0, 265000], \"showgrid\": true, \"tickangle\": 0, \"title\": {\"text\": \"Number of Donations\"}, \"zeroline\": false}, \"yaxis\": {\"range\": [0, 7000000], \"title\": {\"text\": \"Money Raised [$]\"}}}, {\"showLink\": false, \"linkText\": \"Export to plot.ly\", \"plotlyServerURL\": \"https://plot.ly\"}); \n",
       "}\n",
       "});</script><script type=\"text/javascript\">window.addEventListener(\"resize\", function(){if (document.getElementById(\"c43a6a51-ab53-462d-9027-6f4cac726c33\")) {window._Plotly.Plots.resize(document.getElementById(\"c43a6a51-ab53-462d-9027-6f4cac726c33\"));};})</script>"
      ]
     },
     "metadata": {},
     "output_type": "display_data"
    }
   ],
   "source": [
    "# (CANDIDATE, TOTAL FUNDS, NUMBER OF DONATIONS, AVG DONATION)\n",
    "dem_dict = {'Bernie Sanders' : (5925771, 223047, 27, '$5,925,771'),\n",
    "            'Beto O\\'Rourke' : (6136736, 128000, 47, '$6,136,736'),\n",
    "            'Kamala Harris' : (1500000, 38000, 37, '$1.5 M'),\n",
    "           }\n",
    "\n",
    "bars = go.Bar(\n",
    "    x=[d[1]/2.0 for d in dem_dict.values()],\n",
    "    y=[d[0] for d in dem_dict.values()],\n",
    "    width=[d[1] for d in dem_dict.values()],\n",
    "#     text=[[d for d in dem_dict.keys()][n] + \n",
    "#           '<br>' +\n",
    "#           [d[3] for d in dem_dict.values()][n] for n in range(3)],\n",
    "#     textposition = 'outside',\n",
    "    marker=dict(\n",
    "        color=[d[2] for d in dem_dict.values()],#'rgb(158,202,225)',\n",
    "        cmin=25,\n",
    "        cmax=50,\n",
    "        colorscale='Blues',\n",
    "        line=dict(\n",
    "            color='rgb(8,48,107)',\n",
    "            width=1.5\n",
    "        ),\n",
    "        colorbar=dict(\n",
    "            title=dict(\n",
    "                text='Average Donation Amount [$]',\n",
    "                side='right'\n",
    "            ),\n",
    "            tickmode = 'auto',\n",
    "            #tickvals = [2,50,100],\n",
    "            #ticktext = ['Hot','Mild','Cool'],\n",
    "        )\n",
    "    ),\n",
    "    opacity=0.8\n",
    ")\n",
    "\n",
    "labels = go.Scatter(\n",
    "    x=[d[1] for d in dem_dict.values()],\n",
    "    y=[d[0] for d in dem_dict.values()],\n",
    "    mode='text',\n",
    "    text=[[d for d in dem_dict.keys()][n] + \n",
    "          '<br>' +\n",
    "          [d[3] for d in dem_dict.values()][n] for n in range(3)],\n",
    "    textposition='top right'\n",
    ")\n",
    "\n",
    "data = [bars, labels]\n",
    "\n",
    "layout = go.Layout(\n",
    "    title = \"First Day Fundraising By Democratic Candidates\",\n",
    "    showlegend = False,\n",
    "    xaxis=dict(\n",
    "        title='Number of Donations',\n",
    "        range=[0, 265000],\n",
    "        #tickmode='linear',\n",
    "        #tick0=congressYears[0]+(5-congressYears[0]%5),\n",
    "        #dtick=50000,\n",
    "        tickangle=0,\n",
    "        #showline=True,\n",
    "        showgrid=True,\n",
    "        zeroline=False\n",
    "    ),\n",
    "    yaxis=dict(\n",
    "        title='Money Raised [$]',\n",
    "        range=[0,7000000],\n",
    "#        tickmode='array',\n",
    "#        tickvals=range(30,101,5),\n",
    "#        ticktext=[str(n) if n%10==0 else ' ' for n in range(30,101,5)]\n",
    "    )\n",
    ")\n",
    "\n",
    "\n",
    "fig = go.Figure(data=data,layout=layout)\n",
    "plotly.offline.init_notebook_mode(connected=True)\n",
    "plotly.offline.iplot(fig)"
   ]
  },
  {
   "cell_type": "code",
   "execution_count": 7,
   "metadata": {},
   "outputs": [
    {
     "data": {
      "text/html": [
       "<script type=\"text/javascript\">window.PlotlyConfig = {MathJaxConfig: 'local'};</script><script type=\"text/javascript\">if (window.MathJax) {MathJax.Hub.Config({SVG: {font: \"STIX-Web\"}});}</script><script>requirejs.config({paths: { 'plotly': ['https://cdn.plot.ly/plotly-latest.min']},});if(!window._Plotly) {require(['plotly'],function(plotly) {window._Plotly=plotly;});}</script>"
      ],
      "text/vnd.plotly.v1+html": [
       "<script type=\"text/javascript\">window.PlotlyConfig = {MathJaxConfig: 'local'};</script><script type=\"text/javascript\">if (window.MathJax) {MathJax.Hub.Config({SVG: {font: \"STIX-Web\"}});}</script><script>requirejs.config({paths: { 'plotly': ['https://cdn.plot.ly/plotly-latest.min']},});if(!window._Plotly) {require(['plotly'],function(plotly) {window._Plotly=plotly;});}</script>"
      ]
     },
     "metadata": {},
     "output_type": "display_data"
    },
    {
     "data": {
      "application/vnd.plotly.v1+json": {
       "config": {
        "linkText": "Export to plot.ly",
        "plotlyServerURL": "https://plot.ly",
        "showLink": false
       },
       "data": [
        {
         "fill": "tozeroy",
         "mode": "none",
         "type": "scatter",
         "uid": "3b87b7e7-cf39-4e52-a206-85a3a1a071f5",
         "x": [
          0,
          223047
         ],
         "y": [
          27,
          27
         ]
        },
        {
         "fill": "tozeroy",
         "mode": "none",
         "type": "scatter",
         "uid": "667137fa-849c-45e5-8c9b-5594eda55bd3",
         "x": [
          0,
          128000
         ],
         "y": [
          47,
          47
         ]
        },
        {
         "fill": "tozeroy",
         "mode": "none",
         "type": "scatter",
         "uid": "4f9f97dd-ae3b-487a-bcaa-c83df49882c9",
         "x": [
          0,
          38000
         ],
         "y": [
          37,
          37
         ]
        },
        {
         "mode": "text",
         "text": [
          "Bernie Sanders<br>$5,925,771",
          "Beto O'Rourke<br>$6,136,736",
          "Kamala Harris<br>$1.5 M"
         ],
         "textposition": "top right",
         "type": "scatter",
         "uid": "41425a6f-f306-46aa-95a4-ece0242cae51",
         "x": [
          223047,
          128000,
          38000
         ],
         "y": [
          27,
          47,
          37
         ]
        }
       ],
       "layout": {
        "showlegend": false,
        "title": {
         "text": "First Day Fundraising By Democratic Candidates"
        },
        "xaxis": {
         "range": [
          0,
          265000
         ],
         "showgrid": true,
         "tickangle": 0,
         "title": {
          "text": "Number of Donations"
         },
         "zeroline": false
        },
        "yaxis": {
         "range": [
          0,
          55
         ],
         "title": {
          "text": "Average Donation [$]"
         }
        }
       }
      },
      "text/html": [
       "<div id=\"ffb52948-4c65-4713-96c3-c461bf3f2b74\" style=\"height: 525px; width: 100%;\" class=\"plotly-graph-div\"></div><script type=\"text/javascript\">require([\"plotly\"], function(Plotly) { window.PLOTLYENV=window.PLOTLYENV || {};window.PLOTLYENV.BASE_URL=\"https://plot.ly\";\n",
       "if (document.getElementById(\"ffb52948-4c65-4713-96c3-c461bf3f2b74\")) {\n",
       "    Plotly.newPlot(\"ffb52948-4c65-4713-96c3-c461bf3f2b74\", [{\"fill\": \"tozeroy\", \"mode\": \"none\", \"x\": [0, 223047], \"y\": [27, 27], \"type\": \"scatter\", \"uid\": \"3b87b7e7-cf39-4e52-a206-85a3a1a071f5\"}, {\"fill\": \"tozeroy\", \"mode\": \"none\", \"x\": [0, 128000], \"y\": [47, 47], \"type\": \"scatter\", \"uid\": \"667137fa-849c-45e5-8c9b-5594eda55bd3\"}, {\"fill\": \"tozeroy\", \"mode\": \"none\", \"x\": [0, 38000], \"y\": [37, 37], \"type\": \"scatter\", \"uid\": \"4f9f97dd-ae3b-487a-bcaa-c83df49882c9\"}, {\"mode\": \"text\", \"text\": [\"Bernie Sanders<br>$5,925,771\", \"Beto O'Rourke<br>$6,136,736\", \"Kamala Harris<br>$1.5 M\"], \"textposition\": \"top right\", \"x\": [223047, 128000, 38000], \"y\": [27, 47, 37], \"type\": \"scatter\", \"uid\": \"41425a6f-f306-46aa-95a4-ece0242cae51\"}], {\"showlegend\": false, \"title\": {\"text\": \"First Day Fundraising By Democratic Candidates\"}, \"xaxis\": {\"range\": [0, 265000], \"showgrid\": true, \"tickangle\": 0, \"title\": {\"text\": \"Number of Donations\"}, \"zeroline\": false}, \"yaxis\": {\"range\": [0, 55], \"title\": {\"text\": \"Average Donation [$]\"}}}, {\"showLink\": false, \"linkText\": \"Export to plot.ly\", \"plotlyServerURL\": \"https://plot.ly\"}); \n",
       "}\n",
       "});</script><script type=\"text/javascript\">window.addEventListener(\"resize\", function(){if (document.getElementById(\"ffb52948-4c65-4713-96c3-c461bf3f2b74\")) {window._Plotly.Plots.resize(document.getElementById(\"ffb52948-4c65-4713-96c3-c461bf3f2b74\"));};})</script>"
      ],
      "text/vnd.plotly.v1+html": [
       "<div id=\"ffb52948-4c65-4713-96c3-c461bf3f2b74\" style=\"height: 525px; width: 100%;\" class=\"plotly-graph-div\"></div><script type=\"text/javascript\">require([\"plotly\"], function(Plotly) { window.PLOTLYENV=window.PLOTLYENV || {};window.PLOTLYENV.BASE_URL=\"https://plot.ly\";\n",
       "if (document.getElementById(\"ffb52948-4c65-4713-96c3-c461bf3f2b74\")) {\n",
       "    Plotly.newPlot(\"ffb52948-4c65-4713-96c3-c461bf3f2b74\", [{\"fill\": \"tozeroy\", \"mode\": \"none\", \"x\": [0, 223047], \"y\": [27, 27], \"type\": \"scatter\", \"uid\": \"3b87b7e7-cf39-4e52-a206-85a3a1a071f5\"}, {\"fill\": \"tozeroy\", \"mode\": \"none\", \"x\": [0, 128000], \"y\": [47, 47], \"type\": \"scatter\", \"uid\": \"667137fa-849c-45e5-8c9b-5594eda55bd3\"}, {\"fill\": \"tozeroy\", \"mode\": \"none\", \"x\": [0, 38000], \"y\": [37, 37], \"type\": \"scatter\", \"uid\": \"4f9f97dd-ae3b-487a-bcaa-c83df49882c9\"}, {\"mode\": \"text\", \"text\": [\"Bernie Sanders<br>$5,925,771\", \"Beto O'Rourke<br>$6,136,736\", \"Kamala Harris<br>$1.5 M\"], \"textposition\": \"top right\", \"x\": [223047, 128000, 38000], \"y\": [27, 47, 37], \"type\": \"scatter\", \"uid\": \"41425a6f-f306-46aa-95a4-ece0242cae51\"}], {\"showlegend\": false, \"title\": {\"text\": \"First Day Fundraising By Democratic Candidates\"}, \"xaxis\": {\"range\": [0, 265000], \"showgrid\": true, \"tickangle\": 0, \"title\": {\"text\": \"Number of Donations\"}, \"zeroline\": false}, \"yaxis\": {\"range\": [0, 55], \"title\": {\"text\": \"Average Donation [$]\"}}}, {\"showLink\": false, \"linkText\": \"Export to plot.ly\", \"plotlyServerURL\": \"https://plot.ly\"}); \n",
       "}\n",
       "});</script><script type=\"text/javascript\">window.addEventListener(\"resize\", function(){if (document.getElementById(\"ffb52948-4c65-4713-96c3-c461bf3f2b74\")) {window._Plotly.Plots.resize(document.getElementById(\"ffb52948-4c65-4713-96c3-c461bf3f2b74\"));};})</script>"
      ]
     },
     "metadata": {},
     "output_type": "display_data"
    }
   ],
   "source": [
    "bernie = go.Scatter(\n",
    "    x=[0, dem_dict['Bernie Sanders'][1]],\n",
    "    y=2*[dem_dict['Bernie Sanders'][2]],\n",
    "    mode='none',\n",
    "    fill='tozeroy'\n",
    ")\n",
    "\n",
    "kamala = go.Scatter(\n",
    "    x=[0, dem_dict['Kamala Harris'][1]],\n",
    "    y=2*[dem_dict['Kamala Harris'][2]],\n",
    "    mode='none',\n",
    "    fill='tozeroy'\n",
    ")\n",
    "\n",
    "beto = go.Scatter(\n",
    "    x=[0, dem_dict[\"Beto O'Rourke\"][1]],\n",
    "    y=2*[dem_dict[\"Beto O'Rourke\"][2]],\n",
    "    mode='none',\n",
    "    fill='tozeroy'\n",
    ")\n",
    "\n",
    "labels = go.Scatter(\n",
    "    x=[d[1] for d in dem_dict.values()],\n",
    "    y=[d[2] for d in dem_dict.values()],\n",
    "    mode='text',\n",
    "    text=[[d for d in dem_dict.keys()][n] + \n",
    "          '<br>' +\n",
    "          [d[3] for d in dem_dict.values()][n] for n in range(3)],\n",
    "    textposition='top right'\n",
    ")\n",
    "\n",
    "\n",
    "data = [bernie, beto, kamala, labels]\n",
    "\n",
    "layout = go.Layout(\n",
    "    title = \"First Day Fundraising By Democratic Candidates\",\n",
    "    showlegend = False,\n",
    "    xaxis=dict(\n",
    "        title='Number of Donations',\n",
    "        range=[0, 265000],\n",
    "        #tickmode='linear',\n",
    "        #tick0=congressYears[0]+(5-congressYears[0]%5),\n",
    "        #dtick=50000,\n",
    "        tickangle=0,\n",
    "        #showline=True,\n",
    "        showgrid=True,\n",
    "        zeroline=False\n",
    "    ),\n",
    "    yaxis=dict(\n",
    "        title='Average Donation [$]',\n",
    "        range=[0,55],\n",
    "#        tickmode='array',\n",
    "#        tickvals=range(30,101,5),\n",
    "#        ticktext=[str(n) if n%10==0 else ' ' for n in range(30,101,5)]\n",
    "    )\n",
    ")\n",
    "\n",
    "\n",
    "fig = go.Figure(data=data,layout=layout)\n",
    "plotly.offline.init_notebook_mode(connected=True)\n",
    "plotly.offline.iplot(fig)"
   ]
  },
  {
   "cell_type": "code",
   "execution_count": 43,
   "metadata": {},
   "outputs": [
    {
     "data": {
      "text/html": [
       "<script type=\"text/javascript\">window.PlotlyConfig = {MathJaxConfig: 'local'};</script><script type=\"text/javascript\">if (window.MathJax) {MathJax.Hub.Config({SVG: {font: \"STIX-Web\"}});}</script><script>requirejs.config({paths: { 'plotly': ['https://cdn.plot.ly/plotly-latest.min']},});if(!window._Plotly) {require(['plotly'],function(plotly) {window._Plotly=plotly;});}</script>"
      ],
      "text/vnd.plotly.v1+html": [
       "<script type=\"text/javascript\">window.PlotlyConfig = {MathJaxConfig: 'local'};</script><script type=\"text/javascript\">if (window.MathJax) {MathJax.Hub.Config({SVG: {font: \"STIX-Web\"}});}</script><script>requirejs.config({paths: { 'plotly': ['https://cdn.plot.ly/plotly-latest.min']},});if(!window._Plotly) {require(['plotly'],function(plotly) {window._Plotly=plotly;});}</script>"
      ]
     },
     "metadata": {},
     "output_type": "display_data"
    },
    {
     "data": {
      "application/vnd.plotly.v1+json": {
       "config": {
        "linkText": "Export to plot.ly",
        "plotlyServerURL": "https://plot.ly",
        "showLink": false
       },
       "data": [
        {
         "fill": "tozeroy",
         "mode": "none",
         "type": "scatter",
         "uid": "7491af51-15bc-481e-b21f-3b603f5b330b",
         "x": [
          0,
          27
         ],
         "y": [
          223047,
          223047
         ]
        },
        {
         "fill": "tozeroy",
         "mode": "none",
         "type": "scatter",
         "uid": "8c598a87-5191-4801-8b82-99ce57cf7515",
         "x": [
          0,
          47
         ],
         "y": [
          128000,
          128000
         ]
        },
        {
         "fill": "tozeroy",
         "mode": "none",
         "type": "scatter",
         "uid": "8e0e8d84-3441-4406-bce8-65d57805c295",
         "x": [
          0,
          37
         ],
         "y": [
          38000,
          38000
         ]
        },
        {
         "mode": "text",
         "text": [
          "<b>Bernie Sanders</b><br>$5,925,771<br>223,047 donations<br>&#36;27 avg",
          "<b>Beto O'Rourke</b><br>$6,136,736<br>128,000 donations<br>&#36;47 avg",
          "<b>Kamala Harris</b><br>$1.5 M<br>38,000 donations<br>&#36;37 avg"
         ],
         "textfont": {
          "size": 10
         },
         "textposition": "top right",
         "type": "scatter",
         "uid": "6b9570ac-2d75-470c-b5d6-0b1f2ff26919",
         "x": [
          27,
          47,
          37
         ],
         "y": [
          223047,
          128000,
          38000
         ]
        }
       ],
       "layout": {
        "autosize": false,
        "height": 700,
        "images": [
         {
          "sizex": 5,
          "sizey": 25000,
          "source": "https://i.imgur.com/t8YoO1f.png",
          "x": 26.7,
          "xanchor": "right",
          "xref": "x",
          "y": 223547,
          "yanchor": "bottom",
          "yref": "y"
         },
         {
          "sizex": 5,
          "sizey": 25000,
          "source": "https://i.imgur.com/qLNftOJ.png",
          "x": 46.7,
          "xanchor": "right",
          "xref": "x",
          "y": 128500,
          "yanchor": "bottom",
          "yref": "y"
         },
         {
          "sizex": 5,
          "sizey": 25000,
          "source": "https://i.imgur.com/oDU7p8k.png",
          "x": 36.7,
          "xanchor": "right",
          "xref": "x",
          "y": 38500,
          "yanchor": "bottom",
          "yref": "y"
         }
        ],
        "showlegend": false,
        "title": {
         "text": "First Day Fundraising By Democratic Candidates"
        },
        "width": 800,
        "xaxis": {
         "range": [
          0,
          55
         ],
         "showgrid": true,
         "tickangle": 0,
         "tickprefix": "$",
         "title": {
          "text": "Average Donation"
         },
         "zeroline": false
        },
        "yaxis": {
         "range": [
          0,
          265000
         ],
         "title": {
          "text": "Number of Donations"
         }
        }
       }
      },
      "text/html": [
       "<div id=\"4a050b75-10b1-473e-a741-332504c92d0f\" style=\"height: 700px; width: 800px;\" class=\"plotly-graph-div\"></div><script type=\"text/javascript\">require([\"plotly\"], function(Plotly) { window.PLOTLYENV=window.PLOTLYENV || {};window.PLOTLYENV.BASE_URL=\"https://plot.ly\";\n",
       "if (document.getElementById(\"4a050b75-10b1-473e-a741-332504c92d0f\")) {\n",
       "    Plotly.newPlot(\"4a050b75-10b1-473e-a741-332504c92d0f\", [{\"fill\": \"tozeroy\", \"mode\": \"none\", \"x\": [0, 27], \"y\": [223047, 223047], \"type\": \"scatter\", \"uid\": \"7491af51-15bc-481e-b21f-3b603f5b330b\"}, {\"fill\": \"tozeroy\", \"mode\": \"none\", \"x\": [0, 47], \"y\": [128000, 128000], \"type\": \"scatter\", \"uid\": \"8c598a87-5191-4801-8b82-99ce57cf7515\"}, {\"fill\": \"tozeroy\", \"mode\": \"none\", \"x\": [0, 37], \"y\": [38000, 38000], \"type\": \"scatter\", \"uid\": \"8e0e8d84-3441-4406-bce8-65d57805c295\"}, {\"mode\": \"text\", \"text\": [\"<b>Bernie Sanders</b><br>$5,925,771<br>223,047 donations<br>&#36;27 avg\", \"<b>Beto O'Rourke</b><br>$6,136,736<br>128,000 donations<br>&#36;47 avg\", \"<b>Kamala Harris</b><br>$1.5 M<br>38,000 donations<br>&#36;37 avg\"], \"textfont\": {\"size\": 10}, \"textposition\": \"top right\", \"x\": [27, 47, 37], \"y\": [223047, 128000, 38000], \"type\": \"scatter\", \"uid\": \"6b9570ac-2d75-470c-b5d6-0b1f2ff26919\"}], {\"autosize\": false, \"height\": 700, \"images\": [{\"sizex\": 5, \"sizey\": 25000, \"source\": \"https://i.imgur.com/t8YoO1f.png\", \"x\": 26.7, \"xanchor\": \"right\", \"xref\": \"x\", \"y\": 223547, \"yanchor\": \"bottom\", \"yref\": \"y\"}, {\"sizex\": 5, \"sizey\": 25000, \"source\": \"https://i.imgur.com/qLNftOJ.png\", \"x\": 46.7, \"xanchor\": \"right\", \"xref\": \"x\", \"y\": 128500, \"yanchor\": \"bottom\", \"yref\": \"y\"}, {\"sizex\": 5, \"sizey\": 25000, \"source\": \"https://i.imgur.com/oDU7p8k.png\", \"x\": 36.7, \"xanchor\": \"right\", \"xref\": \"x\", \"y\": 38500, \"yanchor\": \"bottom\", \"yref\": \"y\"}], \"showlegend\": false, \"title\": {\"text\": \"First Day Fundraising By Democratic Candidates\"}, \"width\": 800, \"xaxis\": {\"range\": [0, 55], \"showgrid\": true, \"tickangle\": 0, \"tickprefix\": \"$\", \"title\": {\"text\": \"Average Donation\"}, \"zeroline\": false}, \"yaxis\": {\"range\": [0, 265000], \"title\": {\"text\": \"Number of Donations\"}}}, {\"showLink\": false, \"linkText\": \"Export to plot.ly\", \"plotlyServerURL\": \"https://plot.ly\"}); \n",
       "}\n",
       "});</script>"
      ],
      "text/vnd.plotly.v1+html": [
       "<div id=\"4a050b75-10b1-473e-a741-332504c92d0f\" style=\"height: 700px; width: 800px;\" class=\"plotly-graph-div\"></div><script type=\"text/javascript\">require([\"plotly\"], function(Plotly) { window.PLOTLYENV=window.PLOTLYENV || {};window.PLOTLYENV.BASE_URL=\"https://plot.ly\";\n",
       "if (document.getElementById(\"4a050b75-10b1-473e-a741-332504c92d0f\")) {\n",
       "    Plotly.newPlot(\"4a050b75-10b1-473e-a741-332504c92d0f\", [{\"fill\": \"tozeroy\", \"mode\": \"none\", \"x\": [0, 27], \"y\": [223047, 223047], \"type\": \"scatter\", \"uid\": \"7491af51-15bc-481e-b21f-3b603f5b330b\"}, {\"fill\": \"tozeroy\", \"mode\": \"none\", \"x\": [0, 47], \"y\": [128000, 128000], \"type\": \"scatter\", \"uid\": \"8c598a87-5191-4801-8b82-99ce57cf7515\"}, {\"fill\": \"tozeroy\", \"mode\": \"none\", \"x\": [0, 37], \"y\": [38000, 38000], \"type\": \"scatter\", \"uid\": \"8e0e8d84-3441-4406-bce8-65d57805c295\"}, {\"mode\": \"text\", \"text\": [\"<b>Bernie Sanders</b><br>$5,925,771<br>223,047 donations<br>&#36;27 avg\", \"<b>Beto O'Rourke</b><br>$6,136,736<br>128,000 donations<br>&#36;47 avg\", \"<b>Kamala Harris</b><br>$1.5 M<br>38,000 donations<br>&#36;37 avg\"], \"textfont\": {\"size\": 10}, \"textposition\": \"top right\", \"x\": [27, 47, 37], \"y\": [223047, 128000, 38000], \"type\": \"scatter\", \"uid\": \"6b9570ac-2d75-470c-b5d6-0b1f2ff26919\"}], {\"autosize\": false, \"height\": 700, \"images\": [{\"sizex\": 5, \"sizey\": 25000, \"source\": \"https://i.imgur.com/t8YoO1f.png\", \"x\": 26.7, \"xanchor\": \"right\", \"xref\": \"x\", \"y\": 223547, \"yanchor\": \"bottom\", \"yref\": \"y\"}, {\"sizex\": 5, \"sizey\": 25000, \"source\": \"https://i.imgur.com/qLNftOJ.png\", \"x\": 46.7, \"xanchor\": \"right\", \"xref\": \"x\", \"y\": 128500, \"yanchor\": \"bottom\", \"yref\": \"y\"}, {\"sizex\": 5, \"sizey\": 25000, \"source\": \"https://i.imgur.com/oDU7p8k.png\", \"x\": 36.7, \"xanchor\": \"right\", \"xref\": \"x\", \"y\": 38500, \"yanchor\": \"bottom\", \"yref\": \"y\"}], \"showlegend\": false, \"title\": {\"text\": \"First Day Fundraising By Democratic Candidates\"}, \"width\": 800, \"xaxis\": {\"range\": [0, 55], \"showgrid\": true, \"tickangle\": 0, \"tickprefix\": \"$\", \"title\": {\"text\": \"Average Donation\"}, \"zeroline\": false}, \"yaxis\": {\"range\": [0, 265000], \"title\": {\"text\": \"Number of Donations\"}}}, {\"showLink\": false, \"linkText\": \"Export to plot.ly\", \"plotlyServerURL\": \"https://plot.ly\"}); \n",
       "}\n",
       "});</script>"
      ]
     },
     "metadata": {},
     "output_type": "display_data"
    }
   ],
   "source": [
    "bernie = go.Scatter(\n",
    "    x=[0, dem_dict['Bernie Sanders'][2]],\n",
    "    y=2*[dem_dict['Bernie Sanders'][1]],\n",
    "    mode='none',\n",
    "    fill='tozeroy'\n",
    ")\n",
    "\n",
    "kamala = go.Scatter(\n",
    "    x=[0, dem_dict['Kamala Harris'][2]],\n",
    "    y=2*[dem_dict['Kamala Harris'][1]],\n",
    "    mode='none',\n",
    "    fill='tozeroy'\n",
    ")\n",
    "\n",
    "beto = go.Scatter(\n",
    "    x=[0, dem_dict[\"Beto O'Rourke\"][2]],\n",
    "    y=2*[dem_dict[\"Beto O'Rourke\"][1]],\n",
    "    mode='none',\n",
    "    fill='tozeroy'\n",
    ")\n",
    "\n",
    "\n",
    "labels = go.Scatter(\n",
    "    x=[d[2] for d in dem_dict.values()],\n",
    "    y=[d[1] for d in dem_dict.values()],\n",
    "    mode='text',\n",
    "    text=['<b>' + [d for d in dem_dict.keys()][n] + '</b>'\n",
    "          '<br>' +\n",
    "          [d[3] for d in dem_dict.values()][n] +\n",
    "          '<br>' +\n",
    "          '{:,}'.format([d[1] for d in dem_dict.values()][n]) + ' donations' + \n",
    "          '<br>' +\n",
    "          '&#36;' + str([d[2] for d in dem_dict.values()][n]) + ' avg'\n",
    "          for n in range(3)],\n",
    "    textposition='top right',\n",
    "    textfont=dict(\n",
    "        #family='',        \n",
    "        #color='',\n",
    "        size=10\n",
    "    )\n",
    ")\n",
    "\n",
    "data = [bernie, beto, kamala, labels]\n",
    "\n",
    "y_adj = 500\n",
    "x_adj = -0.3\n",
    "\n",
    "layout = go.Layout(\n",
    "    title = \"First Day Fundraising By Democratic Candidates\",\n",
    "    autosize=False,\n",
    "    width=800,\n",
    "    height=700,\n",
    "    showlegend = False,\n",
    "    xaxis=dict(\n",
    "        title='Average Donation',\n",
    "        range=[0,55],\n",
    "        #tickmode='linear',\n",
    "        #tick0=congressYears[0]+(5-congressYears[0]%5),\n",
    "        #dtick=50000,\n",
    "        tickprefix=\"$\",\n",
    "        tickangle=0,\n",
    "        #showline=True,\n",
    "        showgrid=True,\n",
    "        zeroline=False\n",
    "    ),\n",
    "    yaxis=dict(\n",
    "        title='Number of Donations',\n",
    "        range=[0, 265000],\n",
    "#        tickmode='array',\n",
    "#        tickvals=range(30,101,5),\n",
    "#        ticktext=[str(n) if n%10==0 else ' ' for n in range(30,101,5)]\n",
    "    ),\n",
    "    images=[dict(\n",
    "        #source=\"http://localhost:8889/view/images/bw-bernie.png\",\n",
    "        source=\"https://i.imgur.com/t8YoO1f.png\",\n",
    "        xref='x',\n",
    "        yref='y',\n",
    "        x=dem_dict['Bernie Sanders'][2] + x_adj,\n",
    "        y=dem_dict['Bernie Sanders'][1] + y_adj,\n",
    "        sizex= 5,\n",
    "        sizey= 25000,\n",
    "        xanchor= \"right\",\n",
    "        yanchor= \"bottom\"\n",
    "        ),\n",
    "        dict(\n",
    "        #source=\"http://localhost:8889/view/images/bw-beto.png\",\n",
    "        source=\"https://i.imgur.com/qLNftOJ.png\",\n",
    "        xref='x',\n",
    "        yref='y',\n",
    "        x=dem_dict[\"Beto O'Rourke\"][2] + x_adj,\n",
    "        y=dem_dict[\"Beto O'Rourke\"][1] + y_adj,\n",
    "        sizex= 5,\n",
    "        sizey= 25000,\n",
    "        xanchor= \"right\",\n",
    "        yanchor= \"bottom\"\n",
    "        ),\n",
    "        dict(\n",
    "        #source=\"http://localhost:8889/view/images/bw-kamala.png\",\n",
    "        source=\"https://i.imgur.com/oDU7p8k.png\",\n",
    "        xref='x',\n",
    "        yref='y',\n",
    "        x=dem_dict['Kamala Harris'][2] + x_adj,\n",
    "        y=dem_dict['Kamala Harris'][1] + y_adj,\n",
    "        sizex= 5,\n",
    "        sizey= 25000,\n",
    "        xanchor= \"right\",\n",
    "        yanchor= \"bottom\"\n",
    "        )\n",
    "    ]\n",
    ")\n",
    "\n",
    "\n",
    "fig = go.Figure(data=data,layout=layout)\n",
    "plotly.offline.init_notebook_mode(connected=True)\n",
    "plotly.offline.iplot(fig)#, filename=‘whatever’, image=‘png’)"
   ]
  },
  {
   "cell_type": "code",
   "execution_count": 44,
   "metadata": {},
   "outputs": [],
   "source": [
    "# Checked source at\n",
    "# https://github.com/plotly/plotly.py/blob/master/plotly/io/_orca.py\n",
    "pio.write_image(fig, 'images/fig5.png', format='png', scale=3.0, width=800, height=700)"
   ]
  },
  {
   "cell_type": "code",
   "execution_count": 80,
   "metadata": {},
   "outputs": [
    {
     "name": "stdout",
     "output_type": "stream",
     "text": [
      "This is the format of your plot grid:\n",
      "[ (1,1) x1,y1 ]  [ (1,2) x2,y2 ]\n",
      "\n"
     ]
    },
    {
     "data": {
      "text/html": [
       "<script type=\"text/javascript\">window.PlotlyConfig = {MathJaxConfig: 'local'};</script><script type=\"text/javascript\">if (window.MathJax) {MathJax.Hub.Config({SVG: {font: \"STIX-Web\"}});}</script><script>requirejs.config({paths: { 'plotly': ['https://cdn.plot.ly/plotly-latest.min']},});if(!window._Plotly) {require(['plotly'],function(plotly) {window._Plotly=plotly;});}</script>"
      ],
      "text/vnd.plotly.v1+html": [
       "<script type=\"text/javascript\">window.PlotlyConfig = {MathJaxConfig: 'local'};</script><script type=\"text/javascript\">if (window.MathJax) {MathJax.Hub.Config({SVG: {font: \"STIX-Web\"}});}</script><script>requirejs.config({paths: { 'plotly': ['https://cdn.plot.ly/plotly-latest.min']},});if(!window._Plotly) {require(['plotly'],function(plotly) {window._Plotly=plotly;});}</script>"
      ]
     },
     "metadata": {},
     "output_type": "display_data"
    },
    {
     "data": {
      "application/vnd.plotly.v1+json": {
       "config": {
        "linkText": "Export to plot.ly",
        "plotlyServerURL": "https://plot.ly",
        "showLink": false
       },
       "data": [
        {
         "marker": {
          "color": "#2ca02c",
          "line": {
           "width": 1.5
          }
         },
         "opacity": 0.8,
         "text": [
          "$1.5 M",
          "$6,136,736",
          "$5,925,771"
         ],
         "textposition": "outside",
         "type": "bar",
         "uid": "f65a1d03-60f0-4fc5-a9a1-1cea7d92f2cc",
         "x": [
          "Kamala Harris",
          "Beto O'Rourke",
          "Bernie Sanders"
         ],
         "xaxis": "x",
         "y": [
          1500000,
          6136736,
          5925771
         ],
         "yaxis": "y"
        },
        {
         "marker": {
          "color": "#9467bd",
          "line": {
           "width": 1.5
          }
         },
         "opacity": 0.8,
         "text": [
          "38,000",
          "128,000",
          "223,047"
         ],
         "textposition": "outside",
         "type": "bar",
         "uid": "f1e61a24-9a2a-4812-9aac-e05179173678",
         "x": [
          "Kamala Harris",
          "Beto O'Rourke",
          "Bernie Sanders"
         ],
         "xaxis": "x2",
         "y": [
          38000,
          128000,
          223047
         ],
         "yaxis": "y2"
        }
       ],
       "layout": {
        "annotations": [
         {
          "font": {
           "size": 16
          },
          "showarrow": false,
          "text": "Total Raised",
          "x": 0.225,
          "xanchor": "center",
          "xref": "paper",
          "y": 1,
          "yanchor": "bottom",
          "yref": "paper"
         },
         {
          "font": {
           "size": 16
          },
          "showarrow": false,
          "text": "Number of Donations",
          "x": 0.775,
          "xanchor": "center",
          "xref": "paper",
          "y": 1,
          "yanchor": "bottom",
          "yref": "paper"
         }
        ],
        "height": 500,
        "showlegend": false,
        "title": {
         "text": "First Day Fundraising: Money or People"
        },
        "width": 800,
        "xaxis": {
         "anchor": "y",
         "domain": [
          0,
          0.45
         ],
         "tickfont": {
          "size": 11
         }
        },
        "xaxis2": {
         "anchor": "y2",
         "domain": [
          0.55,
          1
         ],
         "tickfont": {
          "size": 11
         }
        },
        "yaxis": {
         "anchor": "x",
         "domain": [
          0,
          1
         ],
         "range": [
          0,
          7219689.4117647065
         ],
         "tickprefix": "$",
         "title": {
          "text": "Total Amount"
         }
        },
        "yaxis2": {
         "anchor": "x2",
         "domain": [
          0,
          1
         ],
         "range": [
          0,
          262408.23529411765
         ],
         "title": {
          "text": "# of Donations"
         }
        }
       }
      },
      "text/html": [
       "<div id=\"20379c06-c312-483e-9599-43e9a50ac603\" style=\"height: 500px; width: 800px;\" class=\"plotly-graph-div\"></div><script type=\"text/javascript\">require([\"plotly\"], function(Plotly) { window.PLOTLYENV=window.PLOTLYENV || {};window.PLOTLYENV.BASE_URL=\"https://plot.ly\";\n",
       "if (document.getElementById(\"20379c06-c312-483e-9599-43e9a50ac603\")) {\n",
       "    Plotly.newPlot(\"20379c06-c312-483e-9599-43e9a50ac603\", [{\"marker\": {\"color\": \"#2ca02c\", \"line\": {\"width\": 1.5}}, \"opacity\": 0.8, \"text\": [\"$1.5 M\", \"$6,136,736\", \"$5,925,771\"], \"textposition\": \"outside\", \"x\": [\"Kamala Harris\", \"Beto O'Rourke\", \"Bernie Sanders\"], \"y\": [1500000, 6136736, 5925771], \"type\": \"bar\", \"uid\": \"f65a1d03-60f0-4fc5-a9a1-1cea7d92f2cc\", \"xaxis\": \"x\", \"yaxis\": \"y\"}, {\"marker\": {\"color\": \"#9467bd\", \"line\": {\"width\": 1.5}}, \"opacity\": 0.8, \"text\": [\"38,000\", \"128,000\", \"223,047\"], \"textposition\": \"outside\", \"x\": [\"Kamala Harris\", \"Beto O'Rourke\", \"Bernie Sanders\"], \"y\": [38000, 128000, 223047], \"type\": \"bar\", \"uid\": \"f1e61a24-9a2a-4812-9aac-e05179173678\", \"xaxis\": \"x2\", \"yaxis\": \"y2\"}], {\"annotations\": [{\"font\": {\"size\": 16}, \"showarrow\": false, \"text\": \"Total Raised\", \"x\": 0.225, \"xanchor\": \"center\", \"xref\": \"paper\", \"y\": 1.0, \"yanchor\": \"bottom\", \"yref\": \"paper\"}, {\"font\": {\"size\": 16}, \"showarrow\": false, \"text\": \"Number of Donations\", \"x\": 0.775, \"xanchor\": \"center\", \"xref\": \"paper\", \"y\": 1.0, \"yanchor\": \"bottom\", \"yref\": \"paper\"}], \"xaxis\": {\"anchor\": \"y\", \"domain\": [0.0, 0.45], \"tickfont\": {\"size\": 11}}, \"yaxis\": {\"anchor\": \"x\", \"domain\": [0.0, 1.0], \"title\": {\"text\": \"Total Amount\"}, \"tickprefix\": \"$\", \"range\": [0, 7219689.4117647065]}, \"xaxis2\": {\"anchor\": \"y2\", \"domain\": [0.55, 1.0], \"tickfont\": {\"size\": 11}}, \"yaxis2\": {\"anchor\": \"x2\", \"domain\": [0.0, 1.0], \"title\": {\"text\": \"# of Donations\"}, \"range\": [0, 262408.23529411765]}, \"title\": {\"text\": \"First Day Fundraising: Money or People\"}, \"width\": 800, \"height\": 500, \"showlegend\": false}, {\"showLink\": false, \"linkText\": \"Export to plot.ly\", \"plotlyServerURL\": \"https://plot.ly\"}); \n",
       "}\n",
       "});</script>"
      ],
      "text/vnd.plotly.v1+html": [
       "<div id=\"20379c06-c312-483e-9599-43e9a50ac603\" style=\"height: 500px; width: 800px;\" class=\"plotly-graph-div\"></div><script type=\"text/javascript\">require([\"plotly\"], function(Plotly) { window.PLOTLYENV=window.PLOTLYENV || {};window.PLOTLYENV.BASE_URL=\"https://plot.ly\";\n",
       "if (document.getElementById(\"20379c06-c312-483e-9599-43e9a50ac603\")) {\n",
       "    Plotly.newPlot(\"20379c06-c312-483e-9599-43e9a50ac603\", [{\"marker\": {\"color\": \"#2ca02c\", \"line\": {\"width\": 1.5}}, \"opacity\": 0.8, \"text\": [\"$1.5 M\", \"$6,136,736\", \"$5,925,771\"], \"textposition\": \"outside\", \"x\": [\"Kamala Harris\", \"Beto O'Rourke\", \"Bernie Sanders\"], \"y\": [1500000, 6136736, 5925771], \"type\": \"bar\", \"uid\": \"f65a1d03-60f0-4fc5-a9a1-1cea7d92f2cc\", \"xaxis\": \"x\", \"yaxis\": \"y\"}, {\"marker\": {\"color\": \"#9467bd\", \"line\": {\"width\": 1.5}}, \"opacity\": 0.8, \"text\": [\"38,000\", \"128,000\", \"223,047\"], \"textposition\": \"outside\", \"x\": [\"Kamala Harris\", \"Beto O'Rourke\", \"Bernie Sanders\"], \"y\": [38000, 128000, 223047], \"type\": \"bar\", \"uid\": \"f1e61a24-9a2a-4812-9aac-e05179173678\", \"xaxis\": \"x2\", \"yaxis\": \"y2\"}], {\"annotations\": [{\"font\": {\"size\": 16}, \"showarrow\": false, \"text\": \"Total Raised\", \"x\": 0.225, \"xanchor\": \"center\", \"xref\": \"paper\", \"y\": 1.0, \"yanchor\": \"bottom\", \"yref\": \"paper\"}, {\"font\": {\"size\": 16}, \"showarrow\": false, \"text\": \"Number of Donations\", \"x\": 0.775, \"xanchor\": \"center\", \"xref\": \"paper\", \"y\": 1.0, \"yanchor\": \"bottom\", \"yref\": \"paper\"}], \"xaxis\": {\"anchor\": \"y\", \"domain\": [0.0, 0.45], \"tickfont\": {\"size\": 11}}, \"yaxis\": {\"anchor\": \"x\", \"domain\": [0.0, 1.0], \"title\": {\"text\": \"Total Amount\"}, \"tickprefix\": \"$\", \"range\": [0, 7219689.4117647065]}, \"xaxis2\": {\"anchor\": \"y2\", \"domain\": [0.55, 1.0], \"tickfont\": {\"size\": 11}}, \"yaxis2\": {\"anchor\": \"x2\", \"domain\": [0.0, 1.0], \"title\": {\"text\": \"# of Donations\"}, \"range\": [0, 262408.23529411765]}, \"title\": {\"text\": \"First Day Fundraising: Money or People\"}, \"width\": 800, \"height\": 500, \"showlegend\": false}, {\"showLink\": false, \"linkText\": \"Export to plot.ly\", \"plotlyServerURL\": \"https://plot.ly\"}); \n",
       "}\n",
       "});</script>"
      ]
     },
     "metadata": {},
     "output_type": "display_data"
    }
   ],
   "source": [
    "names = ['Kamala Harris', \"Beto O'Rourke\", 'Bernie Sanders']\n",
    "money_bars = go.Bar(\n",
    "    x=names,\n",
    "    y=[dem_dict[n][0] for n in names],\n",
    "    #width=25000,\n",
    "    text=[dem_dict[n][3] for n in names],\n",
    "    textposition = 'outside',\n",
    "#     textfont=dict(\n",
    "#         size=10\n",
    "#     ),\n",
    "    marker=dict(\n",
    "        color='#2ca02c',\n",
    "        line=dict(\n",
    "            #color='rgb(8,48,107)',\n",
    "            width=1.5\n",
    "        ),\n",
    "    ),\n",
    "    opacity=0.8\n",
    ")\n",
    "\n",
    "donation_bars = go.Bar(\n",
    "    x=names,\n",
    "    y=[dem_dict[n][1] for n in names],\n",
    "    #width=25000,\n",
    "    text=[\"{:,}\".format(dem_dict[n][1]) for n in names],\n",
    "    textposition = 'outside',\n",
    "    marker=dict(\n",
    "        color='#9467bd',\n",
    "        line=dict(\n",
    "            #color='rgb(8,48,107)',\n",
    "            width=1.5,\n",
    "        ),\n",
    "    ),\n",
    "    opacity=0.8\n",
    ")\n",
    "\n",
    "\n",
    "fig = plotly.tools.make_subplots(rows=1, cols=2, subplot_titles=('Total Raised', 'Number of Donations'))\n",
    "\n",
    "fig.append_trace(money_bars, 1, 1)\n",
    "fig.append_trace(donation_bars, 1, 2)\n",
    "\n",
    "# Set max height of tallest bar equal across plots\n",
    "ratio = .85\n",
    "fig['layout']['xaxis1'].update(tickfont=dict(size=11))\n",
    "fig['layout']['xaxis2'].update(tickfont=dict(size=11))\n",
    "\n",
    "fig['layout']['yaxis1'].update(title='Total Amount',\n",
    "                               tickprefix=\"$\",\n",
    "                               range=[0,dem_dict[\"Beto O'Rourke\"][0]/float(ratio)])\n",
    "\n",
    "fig['layout']['yaxis2'].update(title='# of Donations',\n",
    "                               range=[0, dem_dict['Bernie Sanders'][1]/float(ratio)])\n",
    "fig['layout'].update(title='First Day Fundraising: Money or People',\n",
    "                     width=800,\n",
    "                     height=500,\n",
    "                     showlegend=False)\n",
    "\n",
    "plotly.offline.init_notebook_mode(connected=True)\n",
    "plotly.offline.iplot(fig)"
   ]
  },
  {
   "cell_type": "code",
   "execution_count": 81,
   "metadata": {},
   "outputs": [],
   "source": [
    "pio.write_image(fig, 'images/bars1.png', format='png', scale=3.0, width=800, height=500)"
   ]
  },
  {
   "cell_type": "code",
   "execution_count": null,
   "metadata": {},
   "outputs": [],
   "source": []
  }
 ],
 "metadata": {
  "kernelspec": {
   "display_name": "Python 3",
   "language": "python",
   "name": "python3"
  },
  "language_info": {
   "codemirror_mode": {
    "name": "ipython",
    "version": 3
   },
   "file_extension": ".py",
   "mimetype": "text/x-python",
   "name": "python",
   "nbconvert_exporter": "python",
   "pygments_lexer": "ipython3",
   "version": "3.6.8"
  }
 },
 "nbformat": 4,
 "nbformat_minor": 2
}
