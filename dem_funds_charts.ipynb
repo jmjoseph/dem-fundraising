{
 "cells": [
  {
   "cell_type": "code",
   "execution_count": 1,
   "metadata": {},
   "outputs": [],
   "source": [
    "import plotly\n",
    "import plotly.graph_objs as go"
   ]
  },
  {
   "cell_type": "code",
   "execution_count": 62,
   "metadata": {},
   "outputs": [],
   "source": [
    "# (CANDIDATE, TOTAL FUNDS, NUMBER OF DONATIONS, AVG DONATION)\n",
    "dem_dict = {'Kamala Harris' : (1500000, 38000, 37, '$1.5 M'),\n",
    "            'Beto O\\'Rourke' : (6136736, 128000, 47, '$6,136,736'),\n",
    "            'Bernie Sanders' : (5925771, 223047, 27, '$5,925,771'),\n",
    "           }"
   ]
  },
  {
   "cell_type": "code",
   "execution_count": 57,
   "metadata": {},
   "outputs": [
    {
     "ename": "TypeError",
     "evalue": "'list_reverseiterator' object is not subscriptable",
     "output_type": "error",
     "traceback": [
      "\u001b[0;31m---------------------------------------------------------------------------\u001b[0m",
      "\u001b[0;31mTypeError\u001b[0m                                 Traceback (most recent call last)",
      "\u001b[0;32m<ipython-input-57-6aaf1402e9a9>\u001b[0m in \u001b[0;36m<module>\u001b[0;34m\u001b[0m\n\u001b[1;32m      1\u001b[0m [reversed([d for d in dem_dict.keys()])[n] + \n\u001b[1;32m      2\u001b[0m           \u001b[0;34m'<br>'\u001b[0m \u001b[0;34m+\u001b[0m\u001b[0;34m\u001b[0m\u001b[0;34m\u001b[0m\u001b[0m\n\u001b[0;32m----> 3\u001b[0;31m           ['$1.5 M', '$6,136,736', '$5,925,771'][n] for n in range(3)]\n\u001b[0m",
      "\u001b[0;32m<ipython-input-57-6aaf1402e9a9>\u001b[0m in \u001b[0;36m<listcomp>\u001b[0;34m(.0)\u001b[0m\n\u001b[1;32m      1\u001b[0m [reversed([d for d in dem_dict.keys()])[n] + \n\u001b[1;32m      2\u001b[0m           \u001b[0;34m'<br>'\u001b[0m \u001b[0;34m+\u001b[0m\u001b[0;34m\u001b[0m\u001b[0;34m\u001b[0m\u001b[0m\n\u001b[0;32m----> 3\u001b[0;31m           ['$1.5 M', '$6,136,736', '$5,925,771'][n] for n in range(3)]\n\u001b[0m",
      "\u001b[0;31mTypeError\u001b[0m: 'list_reverseiterator' object is not subscriptable"
     ]
    }
   ],
   "source": [
    "[[d for d in dem_dict.keys()][n] + \n",
    "          '<br>' +\n",
    "          ['$1.5 M', '$6,136,736', '$5,925,771'][n] for n in range(3)]"
   ]
  },
  {
   "cell_type": "code",
   "execution_count": 63,
   "metadata": {},
   "outputs": [
    {
     "data": {
      "text/html": [
       "<script type=\"text/javascript\">window.PlotlyConfig = {MathJaxConfig: 'local'};</script><script type=\"text/javascript\">if (window.MathJax) {MathJax.Hub.Config({SVG: {font: \"STIX-Web\"}});}</script><script>requirejs.config({paths: { 'plotly': ['https://cdn.plot.ly/plotly-latest.min']},});if(!window._Plotly) {require(['plotly'],function(plotly) {window._Plotly=plotly;});}</script>"
      ],
      "text/vnd.plotly.v1+html": [
       "<script type=\"text/javascript\">window.PlotlyConfig = {MathJaxConfig: 'local'};</script><script type=\"text/javascript\">if (window.MathJax) {MathJax.Hub.Config({SVG: {font: \"STIX-Web\"}});}</script><script>requirejs.config({paths: { 'plotly': ['https://cdn.plot.ly/plotly-latest.min']},});if(!window._Plotly) {require(['plotly'],function(plotly) {window._Plotly=plotly;});}</script>"
      ]
     },
     "metadata": {},
     "output_type": "display_data"
    },
    {
     "data": {
      "application/vnd.plotly.v1+json": {
       "config": {
        "linkText": "Export to plot.ly",
        "plotlyServerURL": "https://plot.ly",
        "showLink": false
       },
       "data": [
        {
         "marker": {
          "cmax": 50,
          "cmin": 25,
          "color": [
           37,
           47,
           27
          ],
          "colorbar": {
           "tickmode": "auto",
           "title": {
            "side": "right",
            "text": "Average Donation Amount [$]"
           }
          },
          "colorscale": "Blues",
          "line": {
           "color": "rgb(8,48,107)",
           "width": 1.5
          }
         },
         "opacity": 0.8,
         "text": [
          "Kamala Harris<br>$1.5 M",
          "Beto O'Rourke<br>$6,136,736",
          "Bernie Sanders<br>$5,925,771"
         ],
         "textposition": "outside",
         "type": "bar",
         "uid": "0fe5ed88-baff-4ef6-9437-7856f15e55dd",
         "width": 25000,
         "x": [
          38000,
          128000,
          223047
         ],
         "y": [
          1500000,
          6136736,
          5925771
         ]
        }
       ],
       "layout": {
        "showlegend": false,
        "title": {
         "text": "First Day Fundraising By Democratic Candidates"
        },
        "xaxis": {
         "showgrid": true,
         "tickangle": 0,
         "title": {
          "text": "Number of Donations"
         },
         "zeroline": false
        },
        "yaxis": {
         "range": [
          0,
          7000000
         ],
         "title": {
          "text": "Money Raised [$]"
         }
        }
       }
      },
      "text/html": [
       "<div id=\"7f28aff9-abae-4eed-97b2-62e340c36f84\" style=\"height: 525px; width: 100%;\" class=\"plotly-graph-div\"></div><script type=\"text/javascript\">require([\"plotly\"], function(Plotly) { window.PLOTLYENV=window.PLOTLYENV || {};window.PLOTLYENV.BASE_URL=\"https://plot.ly\";\n",
       "if (document.getElementById(\"7f28aff9-abae-4eed-97b2-62e340c36f84\")) {\n",
       "    Plotly.newPlot(\"7f28aff9-abae-4eed-97b2-62e340c36f84\", [{\"marker\": {\"cmax\": 50, \"cmin\": 25, \"color\": [37, 47, 27], \"colorbar\": {\"tickmode\": \"auto\", \"title\": {\"side\": \"right\", \"text\": \"Average Donation Amount [$]\"}}, \"colorscale\": \"Blues\", \"line\": {\"color\": \"rgb(8,48,107)\", \"width\": 1.5}}, \"opacity\": 0.8, \"text\": [\"Kamala Harris<br>$1.5 M\", \"Beto O'Rourke<br>$6,136,736\", \"Bernie Sanders<br>$5,925,771\"], \"textposition\": \"outside\", \"width\": 25000, \"x\": [38000, 128000, 223047], \"y\": [1500000, 6136736, 5925771], \"type\": \"bar\", \"uid\": \"0fe5ed88-baff-4ef6-9437-7856f15e55dd\"}], {\"showlegend\": false, \"title\": {\"text\": \"First Day Fundraising By Democratic Candidates\"}, \"xaxis\": {\"showgrid\": true, \"tickangle\": 0, \"title\": {\"text\": \"Number of Donations\"}, \"zeroline\": false}, \"yaxis\": {\"range\": [0, 7000000], \"title\": {\"text\": \"Money Raised [$]\"}}}, {\"showLink\": false, \"linkText\": \"Export to plot.ly\", \"plotlyServerURL\": \"https://plot.ly\"}); \n",
       "}\n",
       "});</script><script type=\"text/javascript\">window.addEventListener(\"resize\", function(){if (document.getElementById(\"7f28aff9-abae-4eed-97b2-62e340c36f84\")) {window._Plotly.Plots.resize(document.getElementById(\"7f28aff9-abae-4eed-97b2-62e340c36f84\"));};})</script>"
      ],
      "text/vnd.plotly.v1+html": [
       "<div id=\"7f28aff9-abae-4eed-97b2-62e340c36f84\" style=\"height: 525px; width: 100%;\" class=\"plotly-graph-div\"></div><script type=\"text/javascript\">require([\"plotly\"], function(Plotly) { window.PLOTLYENV=window.PLOTLYENV || {};window.PLOTLYENV.BASE_URL=\"https://plot.ly\";\n",
       "if (document.getElementById(\"7f28aff9-abae-4eed-97b2-62e340c36f84\")) {\n",
       "    Plotly.newPlot(\"7f28aff9-abae-4eed-97b2-62e340c36f84\", [{\"marker\": {\"cmax\": 50, \"cmin\": 25, \"color\": [37, 47, 27], \"colorbar\": {\"tickmode\": \"auto\", \"title\": {\"side\": \"right\", \"text\": \"Average Donation Amount [$]\"}}, \"colorscale\": \"Blues\", \"line\": {\"color\": \"rgb(8,48,107)\", \"width\": 1.5}}, \"opacity\": 0.8, \"text\": [\"Kamala Harris<br>$1.5 M\", \"Beto O'Rourke<br>$6,136,736\", \"Bernie Sanders<br>$5,925,771\"], \"textposition\": \"outside\", \"width\": 25000, \"x\": [38000, 128000, 223047], \"y\": [1500000, 6136736, 5925771], \"type\": \"bar\", \"uid\": \"0fe5ed88-baff-4ef6-9437-7856f15e55dd\"}], {\"showlegend\": false, \"title\": {\"text\": \"First Day Fundraising By Democratic Candidates\"}, \"xaxis\": {\"showgrid\": true, \"tickangle\": 0, \"title\": {\"text\": \"Number of Donations\"}, \"zeroline\": false}, \"yaxis\": {\"range\": [0, 7000000], \"title\": {\"text\": \"Money Raised [$]\"}}}, {\"showLink\": false, \"linkText\": \"Export to plot.ly\", \"plotlyServerURL\": \"https://plot.ly\"}); \n",
       "}\n",
       "});</script><script type=\"text/javascript\">window.addEventListener(\"resize\", function(){if (document.getElementById(\"7f28aff9-abae-4eed-97b2-62e340c36f84\")) {window._Plotly.Plots.resize(document.getElementById(\"7f28aff9-abae-4eed-97b2-62e340c36f84\"));};})</script>"
      ]
     },
     "metadata": {},
     "output_type": "display_data"
    }
   ],
   "source": [
    "bars = go.Bar(\n",
    "    x=[d[1] for d in dem_dict.values()],\n",
    "    y=[d[0] for d in dem_dict.values()],\n",
    "    width=25000,\n",
    "    text=[[d for d in dem_dict.keys()][n] + \n",
    "          '<br>' +\n",
    "          [d[3] for d in dem_dict.values()][n] for n in range(3)],\n",
    "    textposition = 'outside',\n",
    "    marker=dict(\n",
    "        color=[d[2] for d in dem_dict.values()],#'rgb(158,202,225)',\n",
    "        cmin=25,\n",
    "        cmax=50,\n",
    "        colorscale='Blues',\n",
    "        line=dict(\n",
    "            color='rgb(8,48,107)',\n",
    "            width=1.5\n",
    "        ),\n",
    "        colorbar=dict(\n",
    "            title=dict(\n",
    "                text='Average Donation Amount [$]',\n",
    "                side='right'\n",
    "            ),\n",
    "            tickmode = 'auto',\n",
    "            #tickvals = [2,50,100],\n",
    "            #ticktext = ['Hot','Mild','Cool'],\n",
    "        )\n",
    "    ),\n",
    "    opacity=0.8\n",
    ")\n",
    "\n",
    "data = [bars]\n",
    "\n",
    "layout = go.Layout(\n",
    "    title = \"First Day Fundraising By Democratic Candidates\",\n",
    "    showlegend = False,\n",
    "    xaxis=dict(\n",
    "        title='Number of Donations',\n",
    "        #range=[congressYears[0]-1, congressYears[-1]+1],\n",
    "        #tickmode='linear',\n",
    "        #tick0=congressYears[0]+(5-congressYears[0]%5),\n",
    "        #dtick=50000,\n",
    "        tickangle=0,\n",
    "        #showline=True,\n",
    "        showgrid=True,\n",
    "        zeroline=False\n",
    "    ),\n",
    "    yaxis=dict(\n",
    "        title='Money Raised [$]',\n",
    "        range=[0,7000000],\n",
    "#        tickmode='array',\n",
    "#        tickvals=range(30,101,5),\n",
    "#        ticktext=[str(n) if n%10==0 else ' ' for n in range(30,101,5)]\n",
    "    )\n",
    ")\n",
    "\n",
    "\n",
    "fig = go.Figure(data=data,layout=layout)\n",
    "plotly.offline.init_notebook_mode(connected=True)\n",
    "plotly.offline.iplot(fig)"
   ]
  },
  {
   "cell_type": "code",
   "execution_count": 70,
   "metadata": {},
   "outputs": [
    {
     "data": {
      "text/html": [
       "<script type=\"text/javascript\">window.PlotlyConfig = {MathJaxConfig: 'local'};</script><script type=\"text/javascript\">if (window.MathJax) {MathJax.Hub.Config({SVG: {font: \"STIX-Web\"}});}</script><script>requirejs.config({paths: { 'plotly': ['https://cdn.plot.ly/plotly-latest.min']},});if(!window._Plotly) {require(['plotly'],function(plotly) {window._Plotly=plotly;});}</script>"
      ],
      "text/vnd.plotly.v1+html": [
       "<script type=\"text/javascript\">window.PlotlyConfig = {MathJaxConfig: 'local'};</script><script type=\"text/javascript\">if (window.MathJax) {MathJax.Hub.Config({SVG: {font: \"STIX-Web\"}});}</script><script>requirejs.config({paths: { 'plotly': ['https://cdn.plot.ly/plotly-latest.min']},});if(!window._Plotly) {require(['plotly'],function(plotly) {window._Plotly=plotly;});}</script>"
      ]
     },
     "metadata": {},
     "output_type": "display_data"
    },
    {
     "data": {
      "application/vnd.plotly.v1+json": {
       "config": {
        "linkText": "Export to plot.ly",
        "plotlyServerURL": "https://plot.ly",
        "showLink": false
       },
       "data": [
        {
         "marker": {
          "cmax": 50,
          "cmin": 25,
          "color": [
           27,
           47,
           37
          ],
          "colorbar": {
           "tickmode": "auto",
           "title": {
            "side": "right",
            "text": "Average Donation Amount [$]"
           }
          },
          "colorscale": "Blues",
          "line": {
           "color": "rgb(8,48,107)",
           "width": 1.5
          }
         },
         "opacity": 0.8,
         "type": "bar",
         "uid": "733ed54c-a0fb-4570-b721-4399d4200c7f",
         "width": [
          223047,
          128000,
          38000
         ],
         "x": [
          111523.5,
          64000,
          19000
         ],
         "y": [
          5925771,
          6136736,
          1500000
         ]
        },
        {
         "mode": "text",
         "text": [
          "Bernie Sanders<br>$5,925,771",
          "Beto O'Rourke<br>$6,136,736",
          "Kamala Harris<br>$1.5 M"
         ],
         "textposition": "top right",
         "type": "scatter",
         "uid": "1bd5a806-5326-4b5e-85c2-54fe9da346f2",
         "x": [
          223047,
          128000,
          38000
         ],
         "y": [
          5925771,
          6136736,
          1500000
         ]
        }
       ],
       "layout": {
        "showlegend": false,
        "title": {
         "text": "First Day Fundraising By Democratic Candidates"
        },
        "xaxis": {
         "range": [
          0,
          265000
         ],
         "showgrid": true,
         "tickangle": 0,
         "title": {
          "text": "Number of Donations"
         },
         "zeroline": false
        },
        "yaxis": {
         "range": [
          0,
          7000000
         ],
         "title": {
          "text": "Money Raised [$]"
         }
        }
       }
      },
      "text/html": [
       "<div id=\"25b2ad89-de4d-4284-b5a0-3cbf63e59729\" style=\"height: 525px; width: 100%;\" class=\"plotly-graph-div\"></div><script type=\"text/javascript\">require([\"plotly\"], function(Plotly) { window.PLOTLYENV=window.PLOTLYENV || {};window.PLOTLYENV.BASE_URL=\"https://plot.ly\";\n",
       "if (document.getElementById(\"25b2ad89-de4d-4284-b5a0-3cbf63e59729\")) {\n",
       "    Plotly.newPlot(\"25b2ad89-de4d-4284-b5a0-3cbf63e59729\", [{\"marker\": {\"cmax\": 50, \"cmin\": 25, \"color\": [27, 47, 37], \"colorbar\": {\"tickmode\": \"auto\", \"title\": {\"side\": \"right\", \"text\": \"Average Donation Amount [$]\"}}, \"colorscale\": \"Blues\", \"line\": {\"color\": \"rgb(8,48,107)\", \"width\": 1.5}}, \"opacity\": 0.8, \"width\": [223047, 128000, 38000], \"x\": [111523.5, 64000.0, 19000.0], \"y\": [5925771, 6136736, 1500000], \"type\": \"bar\", \"uid\": \"733ed54c-a0fb-4570-b721-4399d4200c7f\"}, {\"mode\": \"text\", \"text\": [\"Bernie Sanders<br>$5,925,771\", \"Beto O'Rourke<br>$6,136,736\", \"Kamala Harris<br>$1.5 M\"], \"textposition\": \"top right\", \"x\": [223047, 128000, 38000], \"y\": [5925771, 6136736, 1500000], \"type\": \"scatter\", \"uid\": \"1bd5a806-5326-4b5e-85c2-54fe9da346f2\"}], {\"showlegend\": false, \"title\": {\"text\": \"First Day Fundraising By Democratic Candidates\"}, \"xaxis\": {\"range\": [0, 265000], \"showgrid\": true, \"tickangle\": 0, \"title\": {\"text\": \"Number of Donations\"}, \"zeroline\": false}, \"yaxis\": {\"range\": [0, 7000000], \"title\": {\"text\": \"Money Raised [$]\"}}}, {\"showLink\": false, \"linkText\": \"Export to plot.ly\", \"plotlyServerURL\": \"https://plot.ly\"}); \n",
       "}\n",
       "});</script><script type=\"text/javascript\">window.addEventListener(\"resize\", function(){if (document.getElementById(\"25b2ad89-de4d-4284-b5a0-3cbf63e59729\")) {window._Plotly.Plots.resize(document.getElementById(\"25b2ad89-de4d-4284-b5a0-3cbf63e59729\"));};})</script>"
      ],
      "text/vnd.plotly.v1+html": [
       "<div id=\"25b2ad89-de4d-4284-b5a0-3cbf63e59729\" style=\"height: 525px; width: 100%;\" class=\"plotly-graph-div\"></div><script type=\"text/javascript\">require([\"plotly\"], function(Plotly) { window.PLOTLYENV=window.PLOTLYENV || {};window.PLOTLYENV.BASE_URL=\"https://plot.ly\";\n",
       "if (document.getElementById(\"25b2ad89-de4d-4284-b5a0-3cbf63e59729\")) {\n",
       "    Plotly.newPlot(\"25b2ad89-de4d-4284-b5a0-3cbf63e59729\", [{\"marker\": {\"cmax\": 50, \"cmin\": 25, \"color\": [27, 47, 37], \"colorbar\": {\"tickmode\": \"auto\", \"title\": {\"side\": \"right\", \"text\": \"Average Donation Amount [$]\"}}, \"colorscale\": \"Blues\", \"line\": {\"color\": \"rgb(8,48,107)\", \"width\": 1.5}}, \"opacity\": 0.8, \"width\": [223047, 128000, 38000], \"x\": [111523.5, 64000.0, 19000.0], \"y\": [5925771, 6136736, 1500000], \"type\": \"bar\", \"uid\": \"733ed54c-a0fb-4570-b721-4399d4200c7f\"}, {\"mode\": \"text\", \"text\": [\"Bernie Sanders<br>$5,925,771\", \"Beto O'Rourke<br>$6,136,736\", \"Kamala Harris<br>$1.5 M\"], \"textposition\": \"top right\", \"x\": [223047, 128000, 38000], \"y\": [5925771, 6136736, 1500000], \"type\": \"scatter\", \"uid\": \"1bd5a806-5326-4b5e-85c2-54fe9da346f2\"}], {\"showlegend\": false, \"title\": {\"text\": \"First Day Fundraising By Democratic Candidates\"}, \"xaxis\": {\"range\": [0, 265000], \"showgrid\": true, \"tickangle\": 0, \"title\": {\"text\": \"Number of Donations\"}, \"zeroline\": false}, \"yaxis\": {\"range\": [0, 7000000], \"title\": {\"text\": \"Money Raised [$]\"}}}, {\"showLink\": false, \"linkText\": \"Export to plot.ly\", \"plotlyServerURL\": \"https://plot.ly\"}); \n",
       "}\n",
       "});</script><script type=\"text/javascript\">window.addEventListener(\"resize\", function(){if (document.getElementById(\"25b2ad89-de4d-4284-b5a0-3cbf63e59729\")) {window._Plotly.Plots.resize(document.getElementById(\"25b2ad89-de4d-4284-b5a0-3cbf63e59729\"));};})</script>"
      ]
     },
     "metadata": {},
     "output_type": "display_data"
    }
   ],
   "source": [
    "# (CANDIDATE, TOTAL FUNDS, NUMBER OF DONATIONS, AVG DONATION)\n",
    "dem_dict = {'Bernie Sanders' : (5925771, 223047, 27, '$5,925,771'),\n",
    "            'Beto O\\'Rourke' : (6136736, 128000, 47, '$6,136,736'),\n",
    "            'Kamala Harris' : (1500000, 38000, 37, '$1.5 M'),\n",
    "           }\n",
    "\n",
    "bars = go.Bar(\n",
    "    x=[d[1]/2.0 for d in dem_dict.values()],\n",
    "    y=[d[0] for d in dem_dict.values()],\n",
    "    width=[d[1] for d in dem_dict.values()],\n",
    "#     text=[[d for d in dem_dict.keys()][n] + \n",
    "#           '<br>' +\n",
    "#           [d[3] for d in dem_dict.values()][n] for n in range(3)],\n",
    "#     textposition = 'outside',\n",
    "    marker=dict(\n",
    "        color=[d[2] for d in dem_dict.values()],#'rgb(158,202,225)',\n",
    "        cmin=25,\n",
    "        cmax=50,\n",
    "        colorscale='Blues',\n",
    "        line=dict(\n",
    "            color='rgb(8,48,107)',\n",
    "            width=1.5\n",
    "        ),\n",
    "        colorbar=dict(\n",
    "            title=dict(\n",
    "                text='Average Donation Amount [$]',\n",
    "                side='right'\n",
    "            ),\n",
    "            tickmode = 'auto',\n",
    "            #tickvals = [2,50,100],\n",
    "            #ticktext = ['Hot','Mild','Cool'],\n",
    "        )\n",
    "    ),\n",
    "    opacity=0.8\n",
    ")\n",
    "\n",
    "labels = go.Scatter(\n",
    "    x=[d[1] for d in dem_dict.values()],\n",
    "    y=[d[0] for d in dem_dict.values()],\n",
    "    mode='text',\n",
    "    text=[[d for d in dem_dict.keys()][n] + \n",
    "          '<br>' +\n",
    "          [d[3] for d in dem_dict.values()][n] for n in range(3)],\n",
    "    textposition='top right'\n",
    ")\n",
    "\n",
    "data = [bars, labels]\n",
    "\n",
    "layout = go.Layout(\n",
    "    title = \"First Day Fundraising By Democratic Candidates\",\n",
    "    showlegend = False,\n",
    "    xaxis=dict(\n",
    "        title='Number of Donations',\n",
    "        range=[0, 265000],\n",
    "        #tickmode='linear',\n",
    "        #tick0=congressYears[0]+(5-congressYears[0]%5),\n",
    "        #dtick=50000,\n",
    "        tickangle=0,\n",
    "        #showline=True,\n",
    "        showgrid=True,\n",
    "        zeroline=False\n",
    "    ),\n",
    "    yaxis=dict(\n",
    "        title='Money Raised [$]',\n",
    "        range=[0,7000000],\n",
    "#        tickmode='array',\n",
    "#        tickvals=range(30,101,5),\n",
    "#        ticktext=[str(n) if n%10==0 else ' ' for n in range(30,101,5)]\n",
    "    )\n",
    ")\n",
    "\n",
    "\n",
    "fig = go.Figure(data=data,layout=layout)\n",
    "plotly.offline.init_notebook_mode(connected=True)\n",
    "plotly.offline.iplot(fig)"
   ]
  },
  {
   "cell_type": "code",
   "execution_count": 60,
   "metadata": {},
   "outputs": [
    {
     "data": {
      "text/plain": [
       "[3, 2, 1]"
      ]
     },
     "execution_count": 60,
     "metadata": {},
     "output_type": "execute_result"
    }
   ],
   "source": [
    "list(reversed([1,2,3]))"
   ]
  },
  {
   "cell_type": "code",
   "execution_count": null,
   "metadata": {},
   "outputs": [],
   "source": []
  }
 ],
 "metadata": {
  "kernelspec": {
   "display_name": "Python 3",
   "language": "python",
   "name": "python3"
  },
  "language_info": {
   "codemirror_mode": {
    "name": "ipython",
    "version": 3
   },
   "file_extension": ".py",
   "mimetype": "text/x-python",
   "name": "python",
   "nbconvert_exporter": "python",
   "pygments_lexer": "ipython3",
   "version": "3.6.8"
  }
 },
 "nbformat": 4,
 "nbformat_minor": 2
}
