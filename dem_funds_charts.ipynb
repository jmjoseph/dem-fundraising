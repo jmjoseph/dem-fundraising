{
 "cells": [
  {
   "cell_type": "markdown",
   "metadata": {},
   "source": [
    "SOURCES<br>\n",
    "Bernie<br>\n",
    "https://news.vice.com/en_us/article/qvyz95/bernie-sanders-just-crushed-his-competition-in-the-first-24-hours-of-fundraising-for-his-presidential-campaign<br>\n",
    "Bernie, Kamala, summary<br>\n",
    "https://www.nytimes.com/2019/02/20/us/politics/bernie-sanders-fundraising.html<br>\n",
    "Kamala, Beto<br>\n",
    "https://www.politico.com/story/2019/03/23/kamala-harris-beto-orourke-2020-1233320<br>\n",
    "Beto<br>\n",
    "https://www.texastribune.org/2019/03/20/beto-orourke-bernie-sanders-unique-donors/<br>\n",
    "\n"
   ]
  },
  {
   "cell_type": "code",
   "execution_count": 631,
   "metadata": {},
   "outputs": [],
   "source": [
    "import plotly\n",
    "import plotly.graph_objs as go\n",
    "import plotly.io as pio"
   ]
  },
  {
   "cell_type": "code",
   "execution_count": 632,
   "metadata": {},
   "outputs": [],
   "source": [
    "# (CANDIDATE, TOTAL FUNDS, NUMBER OF DONATIONS, AVG DONATION)\n",
    "dem_dict = {'Kamala Harris' : (1500000, 38000, 37, '$1,500,000'),\n",
    "            'Beto O\\'Rourke' : (6136736, 112000, 48, '$6,136,736'), # formerly 128000\n",
    "            'Bernie Sanders' : (5925771, 223047, 27, '$5,925,771'),\n",
    "           }"
   ]
  },
  {
   "cell_type": "code",
   "execution_count": 633,
   "metadata": {},
   "outputs": [
    {
     "data": {
      "text/plain": [
       "['Kamala Harris<br>$1.5 M',\n",
       " \"Beto O'Rourke<br>$6,136,736\",\n",
       " 'Bernie Sanders<br>$5,925,771']"
      ]
     },
     "execution_count": 633,
     "metadata": {},
     "output_type": "execute_result"
    }
   ],
   "source": [
    "[[d for d in dem_dict.keys()][n] + \n",
    "          '<br>' +\n",
    "          ['$1.5 M', '$6,136,736', '$5,925,771'][n] for n in range(3)]"
   ]
  },
  {
   "cell_type": "code",
   "execution_count": 634,
   "metadata": {},
   "outputs": [
    {
     "data": {
      "text/html": [
       "<script type=\"text/javascript\">window.PlotlyConfig = {MathJaxConfig: 'local'};</script><script type=\"text/javascript\">if (window.MathJax) {MathJax.Hub.Config({SVG: {font: \"STIX-Web\"}});}</script><script>requirejs.config({paths: { 'plotly': ['https://cdn.plot.ly/plotly-latest.min']},});if(!window._Plotly) {require(['plotly'],function(plotly) {window._Plotly=plotly;});}</script>"
      ],
      "text/vnd.plotly.v1+html": [
       "<script type=\"text/javascript\">window.PlotlyConfig = {MathJaxConfig: 'local'};</script><script type=\"text/javascript\">if (window.MathJax) {MathJax.Hub.Config({SVG: {font: \"STIX-Web\"}});}</script><script>requirejs.config({paths: { 'plotly': ['https://cdn.plot.ly/plotly-latest.min']},});if(!window._Plotly) {require(['plotly'],function(plotly) {window._Plotly=plotly;});}</script>"
      ]
     },
     "metadata": {},
     "output_type": "display_data"
    },
    {
     "data": {
      "application/vnd.plotly.v1+json": {
       "config": {
        "linkText": "Export to plot.ly",
        "plotlyServerURL": "https://plot.ly",
        "showLink": false
       },
       "data": [
        {
         "marker": {
          "cmax": 50,
          "cmin": 25,
          "color": [
           37,
           48,
           27
          ],
          "colorbar": {
           "tickmode": "auto",
           "tickprefix": "$",
           "title": {
            "side": "right",
            "text": "Average Donation Amount"
           }
          },
          "colorscale": "Blues",
          "line": {
           "color": "rgb(8,48,107)",
           "width": 1.5
          }
         },
         "opacity": 0.8,
         "text": [
          "Kamala Harris<br>$1.5 M",
          "Beto O'Rourke<br>$6,136,736",
          "Bernie Sanders<br>$5,925,771"
         ],
         "textposition": "outside",
         "type": "bar",
         "uid": "c8265d47-3ddf-4a72-93c2-865b8d699db3",
         "width": 25000,
         "x": [
          38000,
          112000,
          223047
         ],
         "y": [
          1500000,
          6136736,
          5925771
         ]
        }
       ],
       "layout": {
        "showlegend": false,
        "title": {
         "text": "First Day Fundraising By Democratic Candidates"
        },
        "xaxis": {
         "showgrid": true,
         "tickangle": 0,
         "title": {
          "text": "Number of Donations"
         },
         "zeroline": false
        },
        "yaxis": {
         "range": [
          0,
          7000000
         ],
         "title": {
          "text": "Money Raised [$]"
         }
        }
       }
      },
      "text/html": [
       "<div id=\"6ee3aca1-1203-4a20-b422-a40b0775a796\" style=\"height: 525px; width: 100%;\" class=\"plotly-graph-div\"></div><script type=\"text/javascript\">require([\"plotly\"], function(Plotly) { window.PLOTLYENV=window.PLOTLYENV || {};window.PLOTLYENV.BASE_URL=\"https://plot.ly\";\n",
       "if (document.getElementById(\"6ee3aca1-1203-4a20-b422-a40b0775a796\")) {\n",
       "    Plotly.newPlot(\"6ee3aca1-1203-4a20-b422-a40b0775a796\", [{\"marker\": {\"cmax\": 50, \"cmin\": 25, \"color\": [37, 48, 27], \"colorbar\": {\"tickmode\": \"auto\", \"tickprefix\": \"$\", \"title\": {\"side\": \"right\", \"text\": \"Average Donation Amount\"}}, \"colorscale\": \"Blues\", \"line\": {\"color\": \"rgb(8,48,107)\", \"width\": 1.5}}, \"opacity\": 0.8, \"text\": [\"Kamala Harris<br>$1.5 M\", \"Beto O'Rourke<br>$6,136,736\", \"Bernie Sanders<br>$5,925,771\"], \"textposition\": \"outside\", \"width\": 25000, \"x\": [38000, 112000, 223047], \"y\": [1500000, 6136736, 5925771], \"type\": \"bar\", \"uid\": \"c8265d47-3ddf-4a72-93c2-865b8d699db3\"}], {\"showlegend\": false, \"title\": {\"text\": \"First Day Fundraising By Democratic Candidates\"}, \"xaxis\": {\"showgrid\": true, \"tickangle\": 0, \"title\": {\"text\": \"Number of Donations\"}, \"zeroline\": false}, \"yaxis\": {\"range\": [0, 7000000], \"title\": {\"text\": \"Money Raised [$]\"}}}, {\"showLink\": false, \"linkText\": \"Export to plot.ly\", \"plotlyServerURL\": \"https://plot.ly\"}); \n",
       "}\n",
       "});</script><script type=\"text/javascript\">window.addEventListener(\"resize\", function(){if (document.getElementById(\"6ee3aca1-1203-4a20-b422-a40b0775a796\")) {window._Plotly.Plots.resize(document.getElementById(\"6ee3aca1-1203-4a20-b422-a40b0775a796\"));};})</script>"
      ],
      "text/vnd.plotly.v1+html": [
       "<div id=\"6ee3aca1-1203-4a20-b422-a40b0775a796\" style=\"height: 525px; width: 100%;\" class=\"plotly-graph-div\"></div><script type=\"text/javascript\">require([\"plotly\"], function(Plotly) { window.PLOTLYENV=window.PLOTLYENV || {};window.PLOTLYENV.BASE_URL=\"https://plot.ly\";\n",
       "if (document.getElementById(\"6ee3aca1-1203-4a20-b422-a40b0775a796\")) {\n",
       "    Plotly.newPlot(\"6ee3aca1-1203-4a20-b422-a40b0775a796\", [{\"marker\": {\"cmax\": 50, \"cmin\": 25, \"color\": [37, 48, 27], \"colorbar\": {\"tickmode\": \"auto\", \"tickprefix\": \"$\", \"title\": {\"side\": \"right\", \"text\": \"Average Donation Amount\"}}, \"colorscale\": \"Blues\", \"line\": {\"color\": \"rgb(8,48,107)\", \"width\": 1.5}}, \"opacity\": 0.8, \"text\": [\"Kamala Harris<br>$1.5 M\", \"Beto O'Rourke<br>$6,136,736\", \"Bernie Sanders<br>$5,925,771\"], \"textposition\": \"outside\", \"width\": 25000, \"x\": [38000, 112000, 223047], \"y\": [1500000, 6136736, 5925771], \"type\": \"bar\", \"uid\": \"c8265d47-3ddf-4a72-93c2-865b8d699db3\"}], {\"showlegend\": false, \"title\": {\"text\": \"First Day Fundraising By Democratic Candidates\"}, \"xaxis\": {\"showgrid\": true, \"tickangle\": 0, \"title\": {\"text\": \"Number of Donations\"}, \"zeroline\": false}, \"yaxis\": {\"range\": [0, 7000000], \"title\": {\"text\": \"Money Raised [$]\"}}}, {\"showLink\": false, \"linkText\": \"Export to plot.ly\", \"plotlyServerURL\": \"https://plot.ly\"}); \n",
       "}\n",
       "});</script><script type=\"text/javascript\">window.addEventListener(\"resize\", function(){if (document.getElementById(\"6ee3aca1-1203-4a20-b422-a40b0775a796\")) {window._Plotly.Plots.resize(document.getElementById(\"6ee3aca1-1203-4a20-b422-a40b0775a796\"));};})</script>"
      ]
     },
     "metadata": {},
     "output_type": "display_data"
    }
   ],
   "source": [
    "bars = go.Bar(\n",
    "    x=[d[1] for d in dem_dict.values()],\n",
    "    y=[d[0] for d in dem_dict.values()],\n",
    "    width=25000,\n",
    "    text=[[d for d in dem_dict.keys()][n] + \n",
    "          '<br>' +\n",
    "          [d[3] for d in dem_dict.values()][n] for n in range(3)],\n",
    "    textposition = 'outside',\n",
    "    marker=dict(\n",
    "        color=[d[2] for d in dem_dict.values()],#'rgb(158,202,225)',\n",
    "        cmin=25,\n",
    "        cmax=50,\n",
    "        colorscale='Blues',\n",
    "        line=dict(\n",
    "            color='rgb(8,48,107)',\n",
    "            width=1.5\n",
    "        ),\n",
    "        colorbar=dict(\n",
    "            title=dict(\n",
    "                text='Average Donation Amount',\n",
    "                side='right'\n",
    "            ),\n",
    "            tickmode = 'auto',\n",
    "            #tickvals = [2,50,100],\n",
    "            #ticktext = ['Hot','Mild','Cool'],\n",
    "            tickprefix = '$',\n",
    "        )\n",
    "    ),\n",
    "    opacity=0.8\n",
    ")\n",
    "\n",
    "data = [bars]\n",
    "\n",
    "layout = go.Layout(\n",
    "    title = \"First Day Fundraising By Democratic Candidates\",\n",
    "    showlegend = False,\n",
    "    xaxis=dict(\n",
    "        title='Number of Donations',\n",
    "        #range=[congressYears[0]-1, congressYears[-1]+1],\n",
    "        #tickmode='linear',\n",
    "        #tick0=congressYears[0]+(5-congressYears[0]%5),\n",
    "        #dtick=50000,\n",
    "        tickangle=0,\n",
    "        #showline=True,\n",
    "        showgrid=True,\n",
    "        zeroline=False\n",
    "    ),\n",
    "    yaxis=dict(\n",
    "        title='Money Raised [$]',\n",
    "        range=[0,7000000],\n",
    "#        tickmode='array',\n",
    "#        tickvals=range(30,101,5),\n",
    "#        ticktext=[str(n) if n%10==0 else ' ' for n in range(30,101,5)]\n",
    "    )\n",
    ")\n",
    "\n",
    "\n",
    "fig = go.Figure(data=data,layout=layout)\n",
    "plotly.offline.init_notebook_mode(connected=True)\n",
    "plotly.offline.iplot(fig)"
   ]
  },
  {
   "cell_type": "code",
   "execution_count": 802,
   "metadata": {},
   "outputs": [
    {
     "data": {
      "text/html": [
       "<script type=\"text/javascript\">window.PlotlyConfig = {MathJaxConfig: 'local'};</script><script type=\"text/javascript\">if (window.MathJax) {MathJax.Hub.Config({SVG: {font: \"STIX-Web\"}});}</script><script>requirejs.config({paths: { 'plotly': ['https://cdn.plot.ly/plotly-latest.min']},});if(!window._Plotly) {require(['plotly'],function(plotly) {window._Plotly=plotly;});}</script>"
      ],
      "text/vnd.plotly.v1+html": [
       "<script type=\"text/javascript\">window.PlotlyConfig = {MathJaxConfig: 'local'};</script><script type=\"text/javascript\">if (window.MathJax) {MathJax.Hub.Config({SVG: {font: \"STIX-Web\"}});}</script><script>requirejs.config({paths: { 'plotly': ['https://cdn.plot.ly/plotly-latest.min']},});if(!window._Plotly) {require(['plotly'],function(plotly) {window._Plotly=plotly;});}</script>"
      ]
     },
     "metadata": {},
     "output_type": "display_data"
    },
    {
     "data": {
      "application/vnd.plotly.v1+json": {
       "config": {
        "linkText": "Export to plot.ly",
        "plotlyServerURL": "https://plot.ly",
        "showLink": false
       },
       "data": [
        {
         "marker": {
          "cmax": 50,
          "cmin": 25,
          "color": [
           27,
           48,
           37
          ],
          "colorbar": {
           "tickmode": "auto",
           "title": {
            "side": "right",
            "text": "Average Donation Amount [$]"
           }
          },
          "colorscale": "Blues",
          "line": {
           "color": "rgb(8,48,107)",
           "width": 1.5
          }
         },
         "opacity": 0.8,
         "type": "bar",
         "uid": "5f0bbaec-27c5-48db-9594-26494f5fd6ba",
         "width": [
          223047,
          112000,
          38000
         ],
         "x": [
          111523.5,
          56000,
          19000
         ],
         "y": [
          5925771,
          6136736,
          1500000
         ]
        },
        {
         "mode": "text",
         "text": [
          "Bernie Sanders<br>$5,925,771",
          "Beto O'Rourke<br>$6,136,736",
          "Kamala Harris<br>$1,500,000"
         ],
         "textposition": "top right",
         "type": "scatter",
         "uid": "ff47f45e-1cf1-4daf-9929-be79d7dc4303",
         "x": [
          223047,
          112000,
          38000
         ],
         "y": [
          5925771,
          6136736,
          1500000
         ]
        }
       ],
       "layout": {
        "showlegend": false,
        "title": {
         "text": "First Day Fundraising By Democratic Candidates"
        },
        "xaxis": {
         "range": [
          0,
          265000
         ],
         "showgrid": true,
         "tickangle": 0,
         "title": {
          "text": "Number of Donations"
         },
         "zeroline": false
        },
        "yaxis": {
         "range": [
          0,
          7000000
         ],
         "title": {
          "text": "Money Raised [$]"
         }
        }
       }
      },
      "text/html": [
       "<div id=\"9f06e342-236b-4c93-93ac-c7cf79e2a23a\" style=\"height: 525px; width: 100%;\" class=\"plotly-graph-div\"></div><script type=\"text/javascript\">require([\"plotly\"], function(Plotly) { window.PLOTLYENV=window.PLOTLYENV || {};window.PLOTLYENV.BASE_URL=\"https://plot.ly\";\n",
       "if (document.getElementById(\"9f06e342-236b-4c93-93ac-c7cf79e2a23a\")) {\n",
       "    Plotly.newPlot(\"9f06e342-236b-4c93-93ac-c7cf79e2a23a\", [{\"marker\": {\"cmax\": 50, \"cmin\": 25, \"color\": [27, 48, 37], \"colorbar\": {\"tickmode\": \"auto\", \"title\": {\"side\": \"right\", \"text\": \"Average Donation Amount [$]\"}}, \"colorscale\": \"Blues\", \"line\": {\"color\": \"rgb(8,48,107)\", \"width\": 1.5}}, \"opacity\": 0.8, \"width\": [223047, 112000, 38000], \"x\": [111523.5, 56000.0, 19000.0], \"y\": [5925771, 6136736, 1500000], \"type\": \"bar\", \"uid\": \"5f0bbaec-27c5-48db-9594-26494f5fd6ba\"}, {\"mode\": \"text\", \"text\": [\"Bernie Sanders<br>$5,925,771\", \"Beto O'Rourke<br>$6,136,736\", \"Kamala Harris<br>$1,500,000\"], \"textposition\": \"top right\", \"x\": [223047, 112000, 38000], \"y\": [5925771, 6136736, 1500000], \"type\": \"scatter\", \"uid\": \"ff47f45e-1cf1-4daf-9929-be79d7dc4303\"}], {\"showlegend\": false, \"title\": {\"text\": \"First Day Fundraising By Democratic Candidates\"}, \"xaxis\": {\"range\": [0, 265000], \"showgrid\": true, \"tickangle\": 0, \"title\": {\"text\": \"Number of Donations\"}, \"zeroline\": false}, \"yaxis\": {\"range\": [0, 7000000], \"title\": {\"text\": \"Money Raised [$]\"}}}, {\"showLink\": false, \"linkText\": \"Export to plot.ly\", \"plotlyServerURL\": \"https://plot.ly\"}); \n",
       "}\n",
       "});</script><script type=\"text/javascript\">window.addEventListener(\"resize\", function(){if (document.getElementById(\"9f06e342-236b-4c93-93ac-c7cf79e2a23a\")) {window._Plotly.Plots.resize(document.getElementById(\"9f06e342-236b-4c93-93ac-c7cf79e2a23a\"));};})</script>"
      ],
      "text/vnd.plotly.v1+html": [
       "<div id=\"9f06e342-236b-4c93-93ac-c7cf79e2a23a\" style=\"height: 525px; width: 100%;\" class=\"plotly-graph-div\"></div><script type=\"text/javascript\">require([\"plotly\"], function(Plotly) { window.PLOTLYENV=window.PLOTLYENV || {};window.PLOTLYENV.BASE_URL=\"https://plot.ly\";\n",
       "if (document.getElementById(\"9f06e342-236b-4c93-93ac-c7cf79e2a23a\")) {\n",
       "    Plotly.newPlot(\"9f06e342-236b-4c93-93ac-c7cf79e2a23a\", [{\"marker\": {\"cmax\": 50, \"cmin\": 25, \"color\": [27, 48, 37], \"colorbar\": {\"tickmode\": \"auto\", \"title\": {\"side\": \"right\", \"text\": \"Average Donation Amount [$]\"}}, \"colorscale\": \"Blues\", \"line\": {\"color\": \"rgb(8,48,107)\", \"width\": 1.5}}, \"opacity\": 0.8, \"width\": [223047, 112000, 38000], \"x\": [111523.5, 56000.0, 19000.0], \"y\": [5925771, 6136736, 1500000], \"type\": \"bar\", \"uid\": \"5f0bbaec-27c5-48db-9594-26494f5fd6ba\"}, {\"mode\": \"text\", \"text\": [\"Bernie Sanders<br>$5,925,771\", \"Beto O'Rourke<br>$6,136,736\", \"Kamala Harris<br>$1,500,000\"], \"textposition\": \"top right\", \"x\": [223047, 112000, 38000], \"y\": [5925771, 6136736, 1500000], \"type\": \"scatter\", \"uid\": \"ff47f45e-1cf1-4daf-9929-be79d7dc4303\"}], {\"showlegend\": false, \"title\": {\"text\": \"First Day Fundraising By Democratic Candidates\"}, \"xaxis\": {\"range\": [0, 265000], \"showgrid\": true, \"tickangle\": 0, \"title\": {\"text\": \"Number of Donations\"}, \"zeroline\": false}, \"yaxis\": {\"range\": [0, 7000000], \"title\": {\"text\": \"Money Raised [$]\"}}}, {\"showLink\": false, \"linkText\": \"Export to plot.ly\", \"plotlyServerURL\": \"https://plot.ly\"}); \n",
       "}\n",
       "});</script><script type=\"text/javascript\">window.addEventListener(\"resize\", function(){if (document.getElementById(\"9f06e342-236b-4c93-93ac-c7cf79e2a23a\")) {window._Plotly.Plots.resize(document.getElementById(\"9f06e342-236b-4c93-93ac-c7cf79e2a23a\"));};})</script>"
      ]
     },
     "metadata": {},
     "output_type": "display_data"
    }
   ],
   "source": [
    "# (CANDIDATE : TOTAL $, NUMBER OF DONATIONS, AVG DONATION, TOTAL TXT, IMG URL)\n",
    "dem_dict = {'Bernie Sanders' : (5925771, 223047, 27, '$5,925,771', 'https://i.imgur.com/t8YoO1f.png'),\n",
    "            'Beto O\\'Rourke' : (6136736, 112000, 48, '$6,136,736', 'https://i.imgur.com/qLNftOJ.png'),\n",
    "            'Kamala Harris' : (1500000, 38000, 37, '$1,500,000', 'https://i.imgur.com/oDU7p8k.png'),\n",
    "           }\n",
    "\n",
    "bars = go.Bar(\n",
    "    x=[d[1]/2.0 for d in dem_dict.values()],\n",
    "    y=[d[0] for d in dem_dict.values()],\n",
    "    width=[d[1] for d in dem_dict.values()],\n",
    "#     text=[[d for d in dem_dict.keys()][n] + \n",
    "#           '<br>' +\n",
    "#           [d[3] for d in dem_dict.values()][n] for n in range(3)],\n",
    "#     textposition = 'outside',\n",
    "    marker=dict(\n",
    "        color=[d[2] for d in dem_dict.values()],#'rgb(158,202,225)',\n",
    "        cmin=25,\n",
    "        cmax=50,\n",
    "        colorscale='Blues',\n",
    "        line=dict(\n",
    "            color='rgb(8,48,107)',\n",
    "            width=1.5\n",
    "        ),\n",
    "        colorbar=dict(\n",
    "            title=dict(\n",
    "                text='Average Donation Amount [$]',\n",
    "                side='right'\n",
    "            ),\n",
    "            tickmode = 'auto',\n",
    "            #tickvals = [2,50,100],\n",
    "            #ticktext = ['Hot','Mild','Cool'],\n",
    "        )\n",
    "    ),\n",
    "    opacity=0.8\n",
    ")\n",
    "\n",
    "labels = go.Scatter(\n",
    "    x=[d[1] for d in dem_dict.values()],\n",
    "    y=[d[0] for d in dem_dict.values()],\n",
    "    mode='text',\n",
    "    text=[[d for d in dem_dict.keys()][n] + \n",
    "          '<br>' +\n",
    "          [d[3] for d in dem_dict.values()][n] for n in range(3)],\n",
    "    textposition='top right'\n",
    ")\n",
    "\n",
    "data = [bars, labels]\n",
    "\n",
    "layout = go.Layout(\n",
    "    title = \"First Day Fundraising By Democratic Candidates\",\n",
    "    showlegend = False,\n",
    "    xaxis=dict(\n",
    "        title='Number of Donations',\n",
    "        range=[0, 265000],\n",
    "        #tickmode='linear',\n",
    "        #tick0=congressYears[0]+(5-congressYears[0]%5),\n",
    "        #dtick=50000,\n",
    "        tickangle=0,\n",
    "        #showline=True,\n",
    "        showgrid=True,\n",
    "        zeroline=False\n",
    "    ),\n",
    "    yaxis=dict(\n",
    "        title='Money Raised [$]',\n",
    "        range=[0,7000000],\n",
    "#        tickmode='array',\n",
    "#        tickvals=range(30,101,5),\n",
    "#        ticktext=[str(n) if n%10==0 else ' ' for n in range(30,101,5)]\n",
    "    )\n",
    ")\n",
    "\n",
    "\n",
    "fig = go.Figure(data=data,layout=layout)\n",
    "plotly.offline.init_notebook_mode(connected=True)\n",
    "plotly.offline.iplot(fig)"
   ]
  },
  {
   "cell_type": "code",
   "execution_count": 636,
   "metadata": {},
   "outputs": [
    {
     "data": {
      "text/html": [
       "<script type=\"text/javascript\">window.PlotlyConfig = {MathJaxConfig: 'local'};</script><script type=\"text/javascript\">if (window.MathJax) {MathJax.Hub.Config({SVG: {font: \"STIX-Web\"}});}</script><script>requirejs.config({paths: { 'plotly': ['https://cdn.plot.ly/plotly-latest.min']},});if(!window._Plotly) {require(['plotly'],function(plotly) {window._Plotly=plotly;});}</script>"
      ],
      "text/vnd.plotly.v1+html": [
       "<script type=\"text/javascript\">window.PlotlyConfig = {MathJaxConfig: 'local'};</script><script type=\"text/javascript\">if (window.MathJax) {MathJax.Hub.Config({SVG: {font: \"STIX-Web\"}});}</script><script>requirejs.config({paths: { 'plotly': ['https://cdn.plot.ly/plotly-latest.min']},});if(!window._Plotly) {require(['plotly'],function(plotly) {window._Plotly=plotly;});}</script>"
      ]
     },
     "metadata": {},
     "output_type": "display_data"
    },
    {
     "data": {
      "application/vnd.plotly.v1+json": {
       "config": {
        "linkText": "Export to plot.ly",
        "plotlyServerURL": "https://plot.ly",
        "showLink": false
       },
       "data": [
        {
         "fill": "tozeroy",
         "mode": "none",
         "type": "scatter",
         "uid": "ee5e8a66-eb2e-4c83-bba7-0adab640218a",
         "x": [
          0,
          223047
         ],
         "y": [
          27,
          27
         ]
        },
        {
         "fill": "tozeroy",
         "mode": "none",
         "type": "scatter",
         "uid": "5f96f63a-6ceb-4787-81b6-89ebbf6eee09",
         "x": [
          0,
          112000
         ],
         "y": [
          48,
          48
         ]
        },
        {
         "fill": "tozeroy",
         "mode": "none",
         "type": "scatter",
         "uid": "04de2759-ad07-4f4d-801a-e0d9fd709989",
         "x": [
          0,
          38000
         ],
         "y": [
          37,
          37
         ]
        },
        {
         "mode": "text",
         "text": [
          "Bernie Sanders<br>$5,925,771",
          "Beto O'Rourke<br>$6,136,736",
          "Kamala Harris<br>$1.5 M"
         ],
         "textposition": "top right",
         "type": "scatter",
         "uid": "dac516ed-553d-4a85-8c2b-03c3685b6739",
         "x": [
          223047,
          112000,
          38000
         ],
         "y": [
          27,
          48,
          37
         ]
        }
       ],
       "layout": {
        "showlegend": false,
        "title": {
         "text": "First Day Fundraising By Democratic Candidates"
        },
        "xaxis": {
         "range": [
          0,
          265000
         ],
         "showgrid": true,
         "tickangle": 0,
         "title": {
          "text": "Number of Donations"
         },
         "zeroline": false
        },
        "yaxis": {
         "range": [
          0,
          55
         ],
         "title": {
          "text": "Average Donation [$]"
         }
        }
       }
      },
      "text/html": [
       "<div id=\"c890f452-c379-4a55-a49a-5d36b12fc2e6\" style=\"height: 525px; width: 100%;\" class=\"plotly-graph-div\"></div><script type=\"text/javascript\">require([\"plotly\"], function(Plotly) { window.PLOTLYENV=window.PLOTLYENV || {};window.PLOTLYENV.BASE_URL=\"https://plot.ly\";\n",
       "if (document.getElementById(\"c890f452-c379-4a55-a49a-5d36b12fc2e6\")) {\n",
       "    Plotly.newPlot(\"c890f452-c379-4a55-a49a-5d36b12fc2e6\", [{\"fill\": \"tozeroy\", \"mode\": \"none\", \"x\": [0, 223047], \"y\": [27, 27], \"type\": \"scatter\", \"uid\": \"ee5e8a66-eb2e-4c83-bba7-0adab640218a\"}, {\"fill\": \"tozeroy\", \"mode\": \"none\", \"x\": [0, 112000], \"y\": [48, 48], \"type\": \"scatter\", \"uid\": \"5f96f63a-6ceb-4787-81b6-89ebbf6eee09\"}, {\"fill\": \"tozeroy\", \"mode\": \"none\", \"x\": [0, 38000], \"y\": [37, 37], \"type\": \"scatter\", \"uid\": \"04de2759-ad07-4f4d-801a-e0d9fd709989\"}, {\"mode\": \"text\", \"text\": [\"Bernie Sanders<br>$5,925,771\", \"Beto O'Rourke<br>$6,136,736\", \"Kamala Harris<br>$1.5 M\"], \"textposition\": \"top right\", \"x\": [223047, 112000, 38000], \"y\": [27, 48, 37], \"type\": \"scatter\", \"uid\": \"dac516ed-553d-4a85-8c2b-03c3685b6739\"}], {\"showlegend\": false, \"title\": {\"text\": \"First Day Fundraising By Democratic Candidates\"}, \"xaxis\": {\"range\": [0, 265000], \"showgrid\": true, \"tickangle\": 0, \"title\": {\"text\": \"Number of Donations\"}, \"zeroline\": false}, \"yaxis\": {\"range\": [0, 55], \"title\": {\"text\": \"Average Donation [$]\"}}}, {\"showLink\": false, \"linkText\": \"Export to plot.ly\", \"plotlyServerURL\": \"https://plot.ly\"}); \n",
       "}\n",
       "});</script><script type=\"text/javascript\">window.addEventListener(\"resize\", function(){if (document.getElementById(\"c890f452-c379-4a55-a49a-5d36b12fc2e6\")) {window._Plotly.Plots.resize(document.getElementById(\"c890f452-c379-4a55-a49a-5d36b12fc2e6\"));};})</script>"
      ],
      "text/vnd.plotly.v1+html": [
       "<div id=\"c890f452-c379-4a55-a49a-5d36b12fc2e6\" style=\"height: 525px; width: 100%;\" class=\"plotly-graph-div\"></div><script type=\"text/javascript\">require([\"plotly\"], function(Plotly) { window.PLOTLYENV=window.PLOTLYENV || {};window.PLOTLYENV.BASE_URL=\"https://plot.ly\";\n",
       "if (document.getElementById(\"c890f452-c379-4a55-a49a-5d36b12fc2e6\")) {\n",
       "    Plotly.newPlot(\"c890f452-c379-4a55-a49a-5d36b12fc2e6\", [{\"fill\": \"tozeroy\", \"mode\": \"none\", \"x\": [0, 223047], \"y\": [27, 27], \"type\": \"scatter\", \"uid\": \"ee5e8a66-eb2e-4c83-bba7-0adab640218a\"}, {\"fill\": \"tozeroy\", \"mode\": \"none\", \"x\": [0, 112000], \"y\": [48, 48], \"type\": \"scatter\", \"uid\": \"5f96f63a-6ceb-4787-81b6-89ebbf6eee09\"}, {\"fill\": \"tozeroy\", \"mode\": \"none\", \"x\": [0, 38000], \"y\": [37, 37], \"type\": \"scatter\", \"uid\": \"04de2759-ad07-4f4d-801a-e0d9fd709989\"}, {\"mode\": \"text\", \"text\": [\"Bernie Sanders<br>$5,925,771\", \"Beto O'Rourke<br>$6,136,736\", \"Kamala Harris<br>$1.5 M\"], \"textposition\": \"top right\", \"x\": [223047, 112000, 38000], \"y\": [27, 48, 37], \"type\": \"scatter\", \"uid\": \"dac516ed-553d-4a85-8c2b-03c3685b6739\"}], {\"showlegend\": false, \"title\": {\"text\": \"First Day Fundraising By Democratic Candidates\"}, \"xaxis\": {\"range\": [0, 265000], \"showgrid\": true, \"tickangle\": 0, \"title\": {\"text\": \"Number of Donations\"}, \"zeroline\": false}, \"yaxis\": {\"range\": [0, 55], \"title\": {\"text\": \"Average Donation [$]\"}}}, {\"showLink\": false, \"linkText\": \"Export to plot.ly\", \"plotlyServerURL\": \"https://plot.ly\"}); \n",
       "}\n",
       "});</script><script type=\"text/javascript\">window.addEventListener(\"resize\", function(){if (document.getElementById(\"c890f452-c379-4a55-a49a-5d36b12fc2e6\")) {window._Plotly.Plots.resize(document.getElementById(\"c890f452-c379-4a55-a49a-5d36b12fc2e6\"));};})</script>"
      ]
     },
     "metadata": {},
     "output_type": "display_data"
    }
   ],
   "source": [
    "bernie = go.Scatter(\n",
    "    x=[0, dem_dict['Bernie Sanders'][1]],\n",
    "    y=2*[dem_dict['Bernie Sanders'][2]],\n",
    "    mode='none',\n",
    "    fill='tozeroy'\n",
    ")\n",
    "\n",
    "kamala = go.Scatter(\n",
    "    x=[0, dem_dict['Kamala Harris'][1]],\n",
    "    y=2*[dem_dict['Kamala Harris'][2]],\n",
    "    mode='none',\n",
    "    fill='tozeroy'\n",
    ")\n",
    "\n",
    "beto = go.Scatter(\n",
    "    x=[0, dem_dict[\"Beto O'Rourke\"][1]],\n",
    "    y=2*[dem_dict[\"Beto O'Rourke\"][2]],\n",
    "    mode='none',\n",
    "    fill='tozeroy'\n",
    ")\n",
    "\n",
    "labels = go.Scatter(\n",
    "    x=[d[1] for d in dem_dict.values()],\n",
    "    y=[d[2] for d in dem_dict.values()],\n",
    "    mode='text',\n",
    "    text=[[d for d in dem_dict.keys()][n] + \n",
    "          '<br>' +\n",
    "          [d[3] for d in dem_dict.values()][n] for n in range(3)],\n",
    "    textposition='top right'\n",
    ")\n",
    "\n",
    "\n",
    "data = [bernie, beto, kamala, labels]\n",
    "\n",
    "layout = go.Layout(\n",
    "    title = \"First Day Fundraising By Democratic Candidates\",\n",
    "    showlegend = False,\n",
    "    xaxis=dict(\n",
    "        title='Number of Donations',\n",
    "        range=[0, 265000],\n",
    "        #tickmode='linear',\n",
    "        #tick0=congressYears[0]+(5-congressYears[0]%5),\n",
    "        #dtick=50000,\n",
    "        tickangle=0,\n",
    "        #showline=True,\n",
    "        showgrid=True,\n",
    "        zeroline=False\n",
    "    ),\n",
    "    yaxis=dict(\n",
    "        title='Average Donation [$]',\n",
    "        range=[0,55],\n",
    "#        tickmode='array',\n",
    "#        tickvals=range(30,101,5),\n",
    "#        ticktext=[str(n) if n%10==0 else ' ' for n in range(30,101,5)]\n",
    "    )\n",
    ")\n",
    "\n",
    "\n",
    "fig = go.Figure(data=data,layout=layout)\n",
    "plotly.offline.init_notebook_mode(connected=True)\n",
    "plotly.offline.iplot(fig)"
   ]
  },
  {
   "cell_type": "code",
   "execution_count": 637,
   "metadata": {},
   "outputs": [
    {
     "data": {
      "text/html": [
       "<script type=\"text/javascript\">window.PlotlyConfig = {MathJaxConfig: 'local'};</script><script type=\"text/javascript\">if (window.MathJax) {MathJax.Hub.Config({SVG: {font: \"STIX-Web\"}});}</script><script>requirejs.config({paths: { 'plotly': ['https://cdn.plot.ly/plotly-latest.min']},});if(!window._Plotly) {require(['plotly'],function(plotly) {window._Plotly=plotly;});}</script>"
      ],
      "text/vnd.plotly.v1+html": [
       "<script type=\"text/javascript\">window.PlotlyConfig = {MathJaxConfig: 'local'};</script><script type=\"text/javascript\">if (window.MathJax) {MathJax.Hub.Config({SVG: {font: \"STIX-Web\"}});}</script><script>requirejs.config({paths: { 'plotly': ['https://cdn.plot.ly/plotly-latest.min']},});if(!window._Plotly) {require(['plotly'],function(plotly) {window._Plotly=plotly;});}</script>"
      ]
     },
     "metadata": {},
     "output_type": "display_data"
    },
    {
     "data": {
      "application/vnd.plotly.v1+json": {
       "config": {
        "linkText": "Export to plot.ly",
        "plotlyServerURL": "https://plot.ly",
        "showLink": false
       },
       "data": [
        {
         "fill": "tozeroy",
         "mode": "none",
         "type": "scatter",
         "uid": "1e4e899b-78d4-4397-bd02-31e1b47d38db",
         "x": [
          0,
          26.56736472582012
         ],
         "y": [
          223047,
          223047
         ]
        },
        {
         "fill": "tozeroy",
         "mode": "none",
         "type": "scatter",
         "uid": "3ecb1411-2072-4f39-83f0-cf52583f6e69",
         "x": [
          0,
          54.79228571428571
         ],
         "y": [
          112000,
          112000
         ]
        },
        {
         "fill": "tozeroy",
         "mode": "none",
         "type": "scatter",
         "uid": "73e22a78-a758-4315-b1c5-e64c4dbb86e7",
         "x": [
          0,
          39.473684210526315
         ],
         "y": [
          38000,
          38000
         ]
        },
        {
         "mode": "text",
         "text": [
          "<b>Bernie Sanders</b><br>$5,925,771<br>223,047 donations<br>&#36;27 avg",
          "<b>Beto O'Rourke</b><br>$6,136,736<br>112,000 donations<br>&#36;48 avg",
          "<b>Kamala Harris</b><br>$1.5 M<br>38,000 donations<br>&#36;37 avg"
         ],
         "textfont": {
          "family": "verdana",
          "size": 10
         },
         "textposition": "top right",
         "type": "scatter",
         "uid": "144c0988-2ddb-48fd-b373-e8859fa238d3",
         "x": [
          27,
          48,
          37
         ],
         "y": [
          223047,
          112000,
          38000
         ]
        },
        {
         "mode": "text",
         "text": [
          "<i>&#36;26.57 avg<br>(calculated)</i>",
          "<i>&#36;54.79 avg<br>(calculated)</i>",
          "<i>&#36;39.47 avg<br>(calculated)</i>"
         ],
         "textfont": {
          "family": "verdana",
          "size": 10
         },
         "textposition": "top right",
         "type": "scatter",
         "uid": "d3ea5ce9-1e0f-4a4e-8ecd-01d514eb70f9",
         "x": [
          26.56736472582012,
          54.79228571428571,
          39.473684210526315
         ],
         "y": [
          0,
          0,
          0
         ]
        },
        {
         "line": {
          "color": "black",
          "dash": "dash",
          "width": 1
         },
         "mode": "lines",
         "type": "scatter",
         "uid": "8a13ef51-7c65-482f-8752-9cd4fbf115a8",
         "x": [
          27,
          27
         ],
         "y": [
          13000,
          223047
         ]
        },
        {
         "line": {
          "color": "black",
          "dash": "dash",
          "width": 1
         },
         "mode": "lines",
         "type": "scatter",
         "uid": "1179cdbb-1948-4866-9ab7-8ceda796f50d",
         "x": [
          48,
          48
         ],
         "y": [
          0,
          112000
         ]
        },
        {
         "line": {
          "color": "black",
          "dash": "dash",
          "width": 1
         },
         "mode": "lines",
         "type": "scatter",
         "uid": "079bb3e4-8c66-48c7-b980-5f5036e1fa28",
         "x": [
          37,
          37
         ],
         "y": [
          0,
          38000
         ]
        }
       ],
       "layout": {
        "autosize": false,
        "height": 700,
        "images": [
         {
          "sizex": 5,
          "sizey": 25000,
          "source": "https://i.imgur.com/t8YoO1f.png",
          "x": 26.7,
          "xanchor": "right",
          "xref": "x",
          "y": 223547,
          "yanchor": "bottom",
          "yref": "y"
         },
         {
          "sizex": 5,
          "sizey": 25000,
          "source": "https://i.imgur.com/qLNftOJ.png",
          "x": 47.7,
          "xanchor": "right",
          "xref": "x",
          "y": 112500,
          "yanchor": "bottom",
          "yref": "y"
         },
         {
          "sizex": 5,
          "sizey": 25000,
          "source": "https://i.imgur.com/oDU7p8k.png",
          "x": 36.7,
          "xanchor": "right",
          "xref": "x",
          "y": 38500,
          "yanchor": "bottom",
          "yref": "y"
         }
        ],
        "showlegend": false,
        "title": {
         "font": {
          "size": 20
         },
         "pad": {
          "b": 20
         },
         "text": "First Day Fundraising By Democratic Candidates",
         "xref": "paper",
         "y": 1,
         "yanchor": "bottom",
         "yref": "paper"
        },
        "width": 800,
        "xaxis": {
         "gridcolor": "#eeeeee",
         "range": [
          0,
          65
         ],
         "showgrid": true,
         "tickangle": 0,
         "tickfont": {
          "size": 11
         },
         "tickprefix": "$",
         "title": {
          "font": {
           "size": 12
          },
          "text": "<b>Average Donation</b>"
         },
         "zeroline": false
        },
        "yaxis": {
         "gridcolor": "#eeeeee",
         "range": [
          0,
          265000
         ],
         "showgrid": true,
         "tickfont": {
          "size": 11
         },
         "title": {
          "font": {
           "size": 12
          },
          "text": "<b>Number of Donations</b><br>&#8192;"
         }
        }
       }
      },
      "text/html": [
       "<div id=\"a5905261-774e-49ca-a3cd-2f59f035b48f\" style=\"height: 700px; width: 800px;\" class=\"plotly-graph-div\"></div><script type=\"text/javascript\">require([\"plotly\"], function(Plotly) { window.PLOTLYENV=window.PLOTLYENV || {};window.PLOTLYENV.BASE_URL=\"https://plot.ly\";\n",
       "if (document.getElementById(\"a5905261-774e-49ca-a3cd-2f59f035b48f\")) {\n",
       "    Plotly.newPlot(\"a5905261-774e-49ca-a3cd-2f59f035b48f\", [{\"fill\": \"tozeroy\", \"mode\": \"none\", \"x\": [0, 26.56736472582012], \"y\": [223047, 223047], \"type\": \"scatter\", \"uid\": \"1e4e899b-78d4-4397-bd02-31e1b47d38db\"}, {\"fill\": \"tozeroy\", \"mode\": \"none\", \"x\": [0, 54.79228571428571], \"y\": [112000, 112000], \"type\": \"scatter\", \"uid\": \"3ecb1411-2072-4f39-83f0-cf52583f6e69\"}, {\"fill\": \"tozeroy\", \"mode\": \"none\", \"x\": [0, 39.473684210526315], \"y\": [38000, 38000], \"type\": \"scatter\", \"uid\": \"73e22a78-a758-4315-b1c5-e64c4dbb86e7\"}, {\"mode\": \"text\", \"text\": [\"<b>Bernie Sanders</b><br>$5,925,771<br>223,047 donations<br>&#36;27 avg\", \"<b>Beto O'Rourke</b><br>$6,136,736<br>112,000 donations<br>&#36;48 avg\", \"<b>Kamala Harris</b><br>$1.5 M<br>38,000 donations<br>&#36;37 avg\"], \"textfont\": {\"family\": \"verdana\", \"size\": 10}, \"textposition\": \"top right\", \"x\": [27, 48, 37], \"y\": [223047, 112000, 38000], \"type\": \"scatter\", \"uid\": \"144c0988-2ddb-48fd-b373-e8859fa238d3\"}, {\"mode\": \"text\", \"text\": [\"<i>&#36;26.57 avg<br>(calculated)</i>\", \"<i>&#36;54.79 avg<br>(calculated)</i>\", \"<i>&#36;39.47 avg<br>(calculated)</i>\"], \"textfont\": {\"family\": \"verdana\", \"size\": 10}, \"textposition\": \"top right\", \"x\": [26.56736472582012, 54.79228571428571, 39.473684210526315], \"y\": [0, 0, 0], \"type\": \"scatter\", \"uid\": \"d3ea5ce9-1e0f-4a4e-8ecd-01d514eb70f9\"}, {\"line\": {\"color\": \"black\", \"dash\": \"dash\", \"width\": 1.0}, \"mode\": \"lines\", \"x\": [27, 27], \"y\": [13000, 223047], \"type\": \"scatter\", \"uid\": \"8a13ef51-7c65-482f-8752-9cd4fbf115a8\"}, {\"line\": {\"color\": \"black\", \"dash\": \"dash\", \"width\": 1.0}, \"mode\": \"lines\", \"x\": [48, 48], \"y\": [0, 112000], \"type\": \"scatter\", \"uid\": \"1179cdbb-1948-4866-9ab7-8ceda796f50d\"}, {\"line\": {\"color\": \"black\", \"dash\": \"dash\", \"width\": 1.0}, \"mode\": \"lines\", \"x\": [37, 37], \"y\": [0, 38000], \"type\": \"scatter\", \"uid\": \"079bb3e4-8c66-48c7-b980-5f5036e1fa28\"}], {\"autosize\": false, \"height\": 700, \"images\": [{\"sizex\": 5, \"sizey\": 25000, \"source\": \"https://i.imgur.com/t8YoO1f.png\", \"x\": 26.7, \"xanchor\": \"right\", \"xref\": \"x\", \"y\": 223547, \"yanchor\": \"bottom\", \"yref\": \"y\"}, {\"sizex\": 5, \"sizey\": 25000, \"source\": \"https://i.imgur.com/qLNftOJ.png\", \"x\": 47.7, \"xanchor\": \"right\", \"xref\": \"x\", \"y\": 112500, \"yanchor\": \"bottom\", \"yref\": \"y\"}, {\"sizex\": 5, \"sizey\": 25000, \"source\": \"https://i.imgur.com/oDU7p8k.png\", \"x\": 36.7, \"xanchor\": \"right\", \"xref\": \"x\", \"y\": 38500, \"yanchor\": \"bottom\", \"yref\": \"y\"}], \"showlegend\": false, \"title\": {\"font\": {\"size\": 20}, \"pad\": {\"b\": 20}, \"text\": \"First Day Fundraising By Democratic Candidates\", \"xref\": \"paper\", \"y\": 1.0, \"yanchor\": \"bottom\", \"yref\": \"paper\"}, \"width\": 800, \"xaxis\": {\"gridcolor\": \"#eeeeee\", \"range\": [0, 65], \"showgrid\": true, \"tickangle\": 0, \"tickfont\": {\"size\": 11}, \"tickprefix\": \"$\", \"title\": {\"font\": {\"size\": 12}, \"text\": \"<b>Average Donation</b>\"}, \"zeroline\": false}, \"yaxis\": {\"gridcolor\": \"#eeeeee\", \"range\": [0, 265000], \"showgrid\": true, \"tickfont\": {\"size\": 11}, \"title\": {\"font\": {\"size\": 12}, \"text\": \"<b>Number of Donations</b><br>&#8192;\"}}}, {\"showLink\": false, \"linkText\": \"Export to plot.ly\", \"plotlyServerURL\": \"https://plot.ly\"}); \n",
       "}\n",
       "});</script>"
      ],
      "text/vnd.plotly.v1+html": [
       "<div id=\"a5905261-774e-49ca-a3cd-2f59f035b48f\" style=\"height: 700px; width: 800px;\" class=\"plotly-graph-div\"></div><script type=\"text/javascript\">require([\"plotly\"], function(Plotly) { window.PLOTLYENV=window.PLOTLYENV || {};window.PLOTLYENV.BASE_URL=\"https://plot.ly\";\n",
       "if (document.getElementById(\"a5905261-774e-49ca-a3cd-2f59f035b48f\")) {\n",
       "    Plotly.newPlot(\"a5905261-774e-49ca-a3cd-2f59f035b48f\", [{\"fill\": \"tozeroy\", \"mode\": \"none\", \"x\": [0, 26.56736472582012], \"y\": [223047, 223047], \"type\": \"scatter\", \"uid\": \"1e4e899b-78d4-4397-bd02-31e1b47d38db\"}, {\"fill\": \"tozeroy\", \"mode\": \"none\", \"x\": [0, 54.79228571428571], \"y\": [112000, 112000], \"type\": \"scatter\", \"uid\": \"3ecb1411-2072-4f39-83f0-cf52583f6e69\"}, {\"fill\": \"tozeroy\", \"mode\": \"none\", \"x\": [0, 39.473684210526315], \"y\": [38000, 38000], \"type\": \"scatter\", \"uid\": \"73e22a78-a758-4315-b1c5-e64c4dbb86e7\"}, {\"mode\": \"text\", \"text\": [\"<b>Bernie Sanders</b><br>$5,925,771<br>223,047 donations<br>&#36;27 avg\", \"<b>Beto O'Rourke</b><br>$6,136,736<br>112,000 donations<br>&#36;48 avg\", \"<b>Kamala Harris</b><br>$1.5 M<br>38,000 donations<br>&#36;37 avg\"], \"textfont\": {\"family\": \"verdana\", \"size\": 10}, \"textposition\": \"top right\", \"x\": [27, 48, 37], \"y\": [223047, 112000, 38000], \"type\": \"scatter\", \"uid\": \"144c0988-2ddb-48fd-b373-e8859fa238d3\"}, {\"mode\": \"text\", \"text\": [\"<i>&#36;26.57 avg<br>(calculated)</i>\", \"<i>&#36;54.79 avg<br>(calculated)</i>\", \"<i>&#36;39.47 avg<br>(calculated)</i>\"], \"textfont\": {\"family\": \"verdana\", \"size\": 10}, \"textposition\": \"top right\", \"x\": [26.56736472582012, 54.79228571428571, 39.473684210526315], \"y\": [0, 0, 0], \"type\": \"scatter\", \"uid\": \"d3ea5ce9-1e0f-4a4e-8ecd-01d514eb70f9\"}, {\"line\": {\"color\": \"black\", \"dash\": \"dash\", \"width\": 1.0}, \"mode\": \"lines\", \"x\": [27, 27], \"y\": [13000, 223047], \"type\": \"scatter\", \"uid\": \"8a13ef51-7c65-482f-8752-9cd4fbf115a8\"}, {\"line\": {\"color\": \"black\", \"dash\": \"dash\", \"width\": 1.0}, \"mode\": \"lines\", \"x\": [48, 48], \"y\": [0, 112000], \"type\": \"scatter\", \"uid\": \"1179cdbb-1948-4866-9ab7-8ceda796f50d\"}, {\"line\": {\"color\": \"black\", \"dash\": \"dash\", \"width\": 1.0}, \"mode\": \"lines\", \"x\": [37, 37], \"y\": [0, 38000], \"type\": \"scatter\", \"uid\": \"079bb3e4-8c66-48c7-b980-5f5036e1fa28\"}], {\"autosize\": false, \"height\": 700, \"images\": [{\"sizex\": 5, \"sizey\": 25000, \"source\": \"https://i.imgur.com/t8YoO1f.png\", \"x\": 26.7, \"xanchor\": \"right\", \"xref\": \"x\", \"y\": 223547, \"yanchor\": \"bottom\", \"yref\": \"y\"}, {\"sizex\": 5, \"sizey\": 25000, \"source\": \"https://i.imgur.com/qLNftOJ.png\", \"x\": 47.7, \"xanchor\": \"right\", \"xref\": \"x\", \"y\": 112500, \"yanchor\": \"bottom\", \"yref\": \"y\"}, {\"sizex\": 5, \"sizey\": 25000, \"source\": \"https://i.imgur.com/oDU7p8k.png\", \"x\": 36.7, \"xanchor\": \"right\", \"xref\": \"x\", \"y\": 38500, \"yanchor\": \"bottom\", \"yref\": \"y\"}], \"showlegend\": false, \"title\": {\"font\": {\"size\": 20}, \"pad\": {\"b\": 20}, \"text\": \"First Day Fundraising By Democratic Candidates\", \"xref\": \"paper\", \"y\": 1.0, \"yanchor\": \"bottom\", \"yref\": \"paper\"}, \"width\": 800, \"xaxis\": {\"gridcolor\": \"#eeeeee\", \"range\": [0, 65], \"showgrid\": true, \"tickangle\": 0, \"tickfont\": {\"size\": 11}, \"tickprefix\": \"$\", \"title\": {\"font\": {\"size\": 12}, \"text\": \"<b>Average Donation</b>\"}, \"zeroline\": false}, \"yaxis\": {\"gridcolor\": \"#eeeeee\", \"range\": [0, 265000], \"showgrid\": true, \"tickfont\": {\"size\": 11}, \"title\": {\"font\": {\"size\": 12}, \"text\": \"<b>Number of Donations</b><br>&#8192;\"}}}, {\"showLink\": false, \"linkText\": \"Export to plot.ly\", \"plotlyServerURL\": \"https://plot.ly\"}); \n",
       "}\n",
       "});</script>"
      ]
     },
     "metadata": {},
     "output_type": "display_data"
    }
   ],
   "source": [
    "bernie = go.Scatter(\n",
    "    x=[0, float(dem_dict['Bernie Sanders'][0])/dem_dict['Bernie Sanders'][1]],\n",
    "    y=2*[dem_dict['Bernie Sanders'][1]],\n",
    "    mode='none',\n",
    "    fill='tozeroy'\n",
    ")\n",
    "\n",
    "kamala = go.Scatter(\n",
    "    x=[0, float(dem_dict['Kamala Harris'][0])/dem_dict['Kamala Harris'][1]],\n",
    "    y=2*[dem_dict['Kamala Harris'][1]],\n",
    "    mode='none',\n",
    "    fill='tozeroy'\n",
    ")\n",
    "\n",
    "beto = go.Scatter(\n",
    "    x=[0, float(dem_dict[\"Beto O'Rourke\"][0])/dem_dict[\"Beto O'Rourke\"][1]],\n",
    "    y=2*[dem_dict[\"Beto O'Rourke\"][1]],\n",
    "    mode='none',\n",
    "    fill='tozeroy'\n",
    ")\n",
    "\n",
    "\n",
    "labels = go.Scatter(\n",
    "    x=[d[2] for d in dem_dict.values()],\n",
    "    y=[d[1] for d in dem_dict.values()],\n",
    "    mode='text',\n",
    "    text=['<b>' + [d for d in dem_dict.keys()][n] + '</b>'\n",
    "          '<br>' +\n",
    "          [d[3] for d in dem_dict.values()][n] +\n",
    "          '<br>' +\n",
    "          '{:,}'.format([d[1] for d in dem_dict.values()][n]) + ' donations' + \n",
    "          '<br>' +\n",
    "          '&#36;' + str([d[2] for d in dem_dict.values()][n]) + ' avg'\n",
    "          for n in range(3)],\n",
    "    textposition='top right',\n",
    "    textfont=dict(\n",
    "        family='verdana',        \n",
    "        color=None,\n",
    "        size=10\n",
    "    )\n",
    ")\n",
    "\n",
    "error = []\n",
    "for d in dem_dict.values():\n",
    "    error.append(go.Scatter(\n",
    "        x=[d[2]] * 2,\n",
    "        y=[0, d[1]],\n",
    "        mode='lines',\n",
    "        line=dict(\n",
    "            color='black',\n",
    "            width=1.0,\n",
    "            dash='dash',\n",
    "        ),\n",
    "    ))\n",
    "    \n",
    "error[0].update(y = [13000, dem_dict['Bernie Sanders'][1]])\n",
    "    \n",
    "error_labels = go.Scatter(\n",
    "    x=[float(d[0])/d[1] for d in dem_dict.values()],\n",
    "    y=[0]*3,\n",
    "    mode='text',\n",
    "    #text=['{:2}'.format(float(dem_dict[n][0])/dem_dict[n][1]) for n in range(3)],\n",
    "    text=['<i>&#36;' + \n",
    "          '{:.2f}'.format(float(d[0])/d[1]) + ' avg' +\n",
    "          '<br>(calculated)</i>'\n",
    "          for d in dem_dict.values()],\n",
    "    textposition='top right',\n",
    "    textfont=dict(\n",
    "        family='verdana',        \n",
    "        color=None,\n",
    "        size=10\n",
    "    )\n",
    ")\n",
    "\n",
    "data = [bernie, beto, kamala, labels, error_labels] + error\n",
    "\n",
    "y_adj = 500\n",
    "x_adj = -0.3\n",
    "\n",
    "gray = '#eeeeee'\n",
    "\n",
    "layout = go.Layout(\n",
    "    font=dict(\n",
    "        family=None,\n",
    "    ),\n",
    "    title=dict(\n",
    "        text=\"First Day Fundraising By Democratic Candidates\",\n",
    "        font=dict(\n",
    "            family=None,\n",
    "            size=20,\n",
    "            color=None,\n",
    "        ),\n",
    "        xref='paper',\n",
    "        yref='paper',\n",
    "        y=1.0,\n",
    "        yanchor='bottom',\n",
    "        pad=dict( # unit: pixels\n",
    "            b=20,\n",
    "        ),\n",
    "    ),\n",
    "    autosize=False,\n",
    "    width=800,\n",
    "    height=700,\n",
    "    showlegend = False,\n",
    "    xaxis=dict(\n",
    "        title=dict(\n",
    "            text='<b>Average Donation</b>',\n",
    "            font=dict(\n",
    "                family=None,\n",
    "                size=12,\n",
    "                color=None,\n",
    "            )\n",
    "        ),\n",
    "        range=[0,65],\n",
    "        #tickmode='linear',\n",
    "        #tick0=congressYears[0]+(5-congressYears[0]%5),\n",
    "        #dtick=50000,\n",
    "        tickfont=dict(\n",
    "            family=None,\n",
    "            size=11,\n",
    "            color=None,\n",
    "        ),\n",
    "        tickprefix=\"$\",\n",
    "        tickangle=0,\n",
    "        #showline=True,\n",
    "        showgrid=True,\n",
    "        gridcolor=gray,\n",
    "        gridwidth=None,\n",
    "        zeroline=False\n",
    "    ),\n",
    "    yaxis=dict(\n",
    "        title=dict(\n",
    "            text='<b>Number of Donations</b><br>&#8192;', # whitespace\n",
    "            font=dict(\n",
    "                family=None,\n",
    "                size=12,\n",
    "                color=None,\n",
    "            )\n",
    "        ),\n",
    "        range=[0, 265000],\n",
    "#        tickmode='array',\n",
    "#        tickvals=range(30,101,5),\n",
    "#        ticktext=[str(n) if n%10==0 else ' ' for n in range(30,101,5)]\n",
    "        tickfont=dict(\n",
    "            family=None,\n",
    "            size=11,\n",
    "            color=None,\n",
    "        ),\n",
    "        showgrid=True,\n",
    "        gridcolor=gray,\n",
    "        gridwidth=None,\n",
    "    ),\n",
    "    # images @ https://imgur.com/a/gwU2Hv7\n",
    "    images=[dict(\n",
    "        #source=\"http://localhost:8889/view/images/bw-bernie.png\",\n",
    "        source=\"https://i.imgur.com/t8YoO1f.png\",\n",
    "        xref='x',\n",
    "        yref='y',\n",
    "        x=dem_dict['Bernie Sanders'][2] + x_adj,\n",
    "        y=dem_dict['Bernie Sanders'][1] + y_adj,\n",
    "        sizex= 5,\n",
    "        sizey= 25000,\n",
    "        xanchor= \"right\",\n",
    "        yanchor= \"bottom\"\n",
    "        ),\n",
    "        dict(\n",
    "        #source=\"http://localhost:8889/view/images/bw-beto.png\",\n",
    "        source=\"https://i.imgur.com/qLNftOJ.png\",\n",
    "        xref='x',\n",
    "        yref='y',\n",
    "        x=dem_dict[\"Beto O'Rourke\"][2] + x_adj,\n",
    "        y=dem_dict[\"Beto O'Rourke\"][1] + y_adj,\n",
    "        sizex= 5,\n",
    "        sizey= 25000,\n",
    "        xanchor= \"right\",\n",
    "        yanchor= \"bottom\"\n",
    "        ),\n",
    "        dict(\n",
    "        #source=\"http://localhost:8889/view/images/bw-kamala.png\",\n",
    "        source=\"https://i.imgur.com/oDU7p8k.png\",\n",
    "        xref='x',\n",
    "        yref='y',\n",
    "        x=dem_dict['Kamala Harris'][2] + x_adj,\n",
    "        y=dem_dict['Kamala Harris'][1] + y_adj,\n",
    "        sizex= 5,\n",
    "        sizey= 25000,\n",
    "        xanchor= \"right\",\n",
    "        yanchor= \"bottom\"\n",
    "        )\n",
    "    ]\n",
    ")\n",
    "\n",
    "\n",
    "fig = go.Figure(data=data,layout=layout)\n",
    "plotly.offline.init_notebook_mode(connected=True)\n",
    "plotly.offline.iplot(fig)#, filename=‘whatever’, image=‘png’)"
   ]
  },
  {
   "cell_type": "code",
   "execution_count": 638,
   "metadata": {},
   "outputs": [],
   "source": [
    "# Checked source at\n",
    "# https://github.com/plotly/plotly.py/blob/master/plotly/io/_orca.py\n",
    "pio.write_image(fig, 'images/fig6.png', format='png', scale=3.0, width=800, height=700)"
   ]
  },
  {
   "cell_type": "code",
   "execution_count": 825,
   "metadata": {},
   "outputs": [
    {
     "data": {
      "text/html": [
       "<script type=\"text/javascript\">window.PlotlyConfig = {MathJaxConfig: 'local'};</script><script type=\"text/javascript\">if (window.MathJax) {MathJax.Hub.Config({SVG: {font: \"STIX-Web\"}});}</script><script>requirejs.config({paths: { 'plotly': ['https://cdn.plot.ly/plotly-latest.min']},});if(!window._Plotly) {require(['plotly'],function(plotly) {window._Plotly=plotly;});}</script>"
      ],
      "text/vnd.plotly.v1+html": [
       "<script type=\"text/javascript\">window.PlotlyConfig = {MathJaxConfig: 'local'};</script><script type=\"text/javascript\">if (window.MathJax) {MathJax.Hub.Config({SVG: {font: \"STIX-Web\"}});}</script><script>requirejs.config({paths: { 'plotly': ['https://cdn.plot.ly/plotly-latest.min']},});if(!window._Plotly) {require(['plotly'],function(plotly) {window._Plotly=plotly;});}</script>"
      ]
     },
     "metadata": {},
     "output_type": "display_data"
    },
    {
     "data": {
      "application/vnd.plotly.v1+json": {
       "config": {
        "linkText": "Export to plot.ly",
        "plotlyServerURL": "https://plot.ly",
        "showLink": false
       },
       "data": [
        {
         "fill": "tozeroy",
         "line": {
          "color": "#092B49",
          "width": 0
         },
         "mode": "lines",
         "type": "scatter",
         "uid": "008ecb3c-6084-4023-8f91-7e223ab230a7",
         "x": [
          0,
          26.56736472582012
         ],
         "y": [
          223047,
          223047
         ]
        },
        {
         "fill": "tozeroy",
         "line": {
          "color": "#0E7C7B",
          "width": 0
         },
         "mode": "lines",
         "type": "scatter",
         "uid": "1e6700d0-1c91-4fb7-acda-96b0655654bf",
         "x": [
          0,
          54.79228571428571
         ],
         "y": [
          112000,
          112000
         ]
        },
        {
         "fill": "tozeroy",
         "line": {
          "color": "#F18F01",
          "width": 0
         },
         "mode": "lines",
         "type": "scatter",
         "uid": "2c42d43e-ab52-4654-882b-2a525d1406cd",
         "x": [
          0,
          39.473684210526315
         ],
         "y": [
          38000,
          38000
         ]
        },
        {
         "mode": "text",
         "text": [
          "<b>Bernie Sanders</b><br>$5,925,771<br>223,047 donors<br>&#36;27 avg",
          "<b>Beto O'Rourke</b><br>$6,136,736<br>112,000 donors<br>&#36;48 avg",
          "<b>Kamala Harris</b><br>$1,500,000<br>38,000 donors<br>&#36;37 avg"
         ],
         "textfont": {
          "family": "verdana",
          "size": 10
         },
         "textposition": "top right",
         "type": "scatter",
         "uid": "61df4cee-9728-4e3b-b561-f6d7f661a344",
         "x": [
          27,
          48,
          37
         ],
         "y": [
          223047,
          112000,
          38000
         ]
        },
        {
         "line": {
          "color": "black",
          "dash": "solid",
          "width": 1
         },
         "mode": "lines",
         "type": "scatter",
         "uid": "756bcc0a-c81d-4ea8-abde-b924784554da",
         "x": [
          27,
          27
         ],
         "y": [
          0,
          223047
         ]
        },
        {
         "line": {
          "color": "black",
          "dash": "solid",
          "width": 1
         },
         "mode": "lines",
         "type": "scatter",
         "uid": "6fe19c1f-a91a-4d5e-8bf1-2665b54b4c49",
         "x": [
          48,
          48
         ],
         "y": [
          0,
          112000
         ]
        },
        {
         "line": {
          "color": "black",
          "dash": "solid",
          "width": 1
         },
         "mode": "lines",
         "type": "scatter",
         "uid": "3401be9e-8695-4c7c-b5d2-c008e2520fcf",
         "x": [
          37,
          37
         ],
         "y": [
          0,
          38000
         ]
        }
       ],
       "layout": {
        "annotations": [
         {
          "font": {
           "color": "white",
           "size": 10
          },
          "showarrow": false,
          "text": "<i>&#36;26.57 actual</i>",
          "textangle": -90,
          "x": 26.56736472582012,
          "xanchor": "right",
          "xref": "x",
          "y": 0,
          "yanchor": "bottom",
          "yref": "y"
         },
         {
          "font": {
           "color": "white",
           "size": 10
          },
          "showarrow": false,
          "text": "<i>&#36;54.79 actual</i>",
          "textangle": -90,
          "x": 54.79228571428571,
          "xanchor": "right",
          "xref": "x",
          "y": 0,
          "yanchor": "bottom",
          "yref": "y"
         },
         {
          "font": {
           "color": "white",
           "size": 10
          },
          "showarrow": false,
          "text": "<i>&#36;39.47 actual</i>",
          "textangle": -90,
          "x": 39.473684210526315,
          "xanchor": "right",
          "xref": "x",
          "y": 0,
          "yanchor": "bottom",
          "yref": "y"
         },
         {
          "align": "left",
          "arrowcolor": "gray",
          "arrowhead": 5,
          "arrowsize": 1,
          "arrowwidth": 1.2,
          "ax": 45,
          "axref": "x",
          "ay": 233000,
          "ayref": "y",
          "font": {
           "color": "gray",
           "size": 10
          },
          "showarrow": true,
          "startstandoff": 3,
          "text": "<i>Figures released by<br>each campaign*</i>",
          "x": 36,
          "xanchor": "left",
          "xref": "x",
          "xshift": 5,
          "y": 233000,
          "yanchor": "middle",
          "yref": "y"
         },
         {
          "align": "left",
          "font": {
           "color": "white",
           "size": 10
          },
          "showarrow": false,
          "text": "<i>\"actual\" averages<br>are calculated from<br>released figures</i>",
          "x": 10,
          "xanchor": "left",
          "xref": "x",
          "y": 32000,
          "yanchor": "top",
          "yref": "y"
         },
         {
          "align": "right",
          "font": {
           "color": "lightgray",
           "family": "Andale Mono",
           "size": 10
          },
          "showarrow": false,
          "text": "03/23/2019<br>@jeremy_m_joseph",
          "x": 1,
          "xanchor": "right",
          "xref": "paper",
          "y": -0.1,
          "yanchor": "bottom",
          "yref": "paper"
         },
         {
          "align": "left",
          "font": {
           "color": "gray",
           "family": "verdana",
           "size": 10
          },
          "showarrow": false,
          "text": "<i>*No other campaigns have released first day figures to date</i>",
          "x": -0.05,
          "xanchor": "left",
          "xref": "paper",
          "y": -0.1,
          "yanchor": "top",
          "yref": "paper"
         }
        ],
        "autosize": false,
        "height": 700,
        "images": [
         {
          "sizex": 5,
          "sizey": 25000,
          "source": "https://i.imgur.com/t8YoO1f.png",
          "x": 26.7,
          "xanchor": "right",
          "xref": "x",
          "y": 223547,
          "yanchor": "bottom",
          "yref": "y"
         },
         {
          "sizex": 5,
          "sizey": 25000,
          "source": "https://i.imgur.com/qLNftOJ.png",
          "x": 47.7,
          "xanchor": "right",
          "xref": "x",
          "y": 112500,
          "yanchor": "bottom",
          "yref": "y"
         },
         {
          "sizex": 5,
          "sizey": 25000,
          "source": "https://i.imgur.com/oDU7p8k.png",
          "x": 36.7,
          "xanchor": "right",
          "xref": "x",
          "y": 38500,
          "yanchor": "bottom",
          "yref": "y"
         }
        ],
        "margin": {
         "autoexpand": false,
         "pad": 2,
         "r": 40
        },
        "showlegend": false,
        "title": {
         "font": {
          "family": "verdana",
          "size": 20
         },
         "pad": {
          "b": 20
         },
         "text": "First Day Fundraising By 2020 Democratic Candidates",
         "xref": "paper",
         "y": 1,
         "yanchor": "bottom",
         "yref": "paper"
        },
        "width": 800,
        "xaxis": {
         "gridcolor": "#eeeeee",
         "range": [
          0,
          65
         ],
         "showgrid": true,
         "tickangle": 0,
         "tickfont": {
          "size": 11
         },
         "tickprefix": "$",
         "title": {
          "font": {
           "size": 12
          },
          "text": "<b>Average Donation</b>"
         },
         "zeroline": false
        },
        "yaxis": {
         "gridcolor": "#eeeeee",
         "range": [
          0,
          265000
         ],
         "showgrid": true,
         "tickfont": {
          "size": 11
         },
         "title": {
          "font": {
           "size": 12
          },
          "text": "<b>Individual Donors</b><br>&#8192;"
         }
        }
       }
      },
      "text/html": [
       "<div id=\"f99f4e06-7421-4433-914b-1132fbd6e9ab\" style=\"height: 700px; width: 800px;\" class=\"plotly-graph-div\"></div><script type=\"text/javascript\">require([\"plotly\"], function(Plotly) { window.PLOTLYENV=window.PLOTLYENV || {};window.PLOTLYENV.BASE_URL=\"https://plot.ly\";\n",
       "if (document.getElementById(\"f99f4e06-7421-4433-914b-1132fbd6e9ab\")) {\n",
       "    Plotly.newPlot(\"f99f4e06-7421-4433-914b-1132fbd6e9ab\", [{\"fill\": \"tozeroy\", \"line\": {\"color\": \"#092B49\", \"width\": 0}, \"mode\": \"lines\", \"x\": [0, 26.56736472582012], \"y\": [223047, 223047], \"type\": \"scatter\", \"uid\": \"008ecb3c-6084-4023-8f91-7e223ab230a7\"}, {\"fill\": \"tozeroy\", \"line\": {\"color\": \"#0E7C7B\", \"width\": 0}, \"mode\": \"lines\", \"x\": [0, 54.79228571428571], \"y\": [112000, 112000], \"type\": \"scatter\", \"uid\": \"1e6700d0-1c91-4fb7-acda-96b0655654bf\"}, {\"fill\": \"tozeroy\", \"line\": {\"color\": \"#F18F01\", \"width\": 0}, \"mode\": \"lines\", \"x\": [0, 39.473684210526315], \"y\": [38000, 38000], \"type\": \"scatter\", \"uid\": \"2c42d43e-ab52-4654-882b-2a525d1406cd\"}, {\"mode\": \"text\", \"text\": [\"<b>Bernie Sanders</b><br>$5,925,771<br>223,047 donors<br>&#36;27 avg\", \"<b>Beto O'Rourke</b><br>$6,136,736<br>112,000 donors<br>&#36;48 avg\", \"<b>Kamala Harris</b><br>$1,500,000<br>38,000 donors<br>&#36;37 avg\"], \"textfont\": {\"family\": \"verdana\", \"size\": 10}, \"textposition\": \"top right\", \"x\": [27, 48, 37], \"y\": [223047, 112000, 38000], \"type\": \"scatter\", \"uid\": \"61df4cee-9728-4e3b-b561-f6d7f661a344\"}, {\"line\": {\"color\": \"black\", \"dash\": \"solid\", \"width\": 1.0}, \"mode\": \"lines\", \"x\": [27, 27], \"y\": [0, 223047], \"type\": \"scatter\", \"uid\": \"756bcc0a-c81d-4ea8-abde-b924784554da\"}, {\"line\": {\"color\": \"black\", \"dash\": \"solid\", \"width\": 1.0}, \"mode\": \"lines\", \"x\": [48, 48], \"y\": [0, 112000], \"type\": \"scatter\", \"uid\": \"6fe19c1f-a91a-4d5e-8bf1-2665b54b4c49\"}, {\"line\": {\"color\": \"black\", \"dash\": \"solid\", \"width\": 1.0}, \"mode\": \"lines\", \"x\": [37, 37], \"y\": [0, 38000], \"type\": \"scatter\", \"uid\": \"3401be9e-8695-4c7c-b5d2-c008e2520fcf\"}], {\"annotations\": [{\"font\": {\"color\": \"white\", \"size\": 10}, \"showarrow\": false, \"text\": \"<i>&#36;26.57 actual</i>\", \"textangle\": -90, \"x\": 26.56736472582012, \"xanchor\": \"right\", \"xref\": \"x\", \"y\": 0, \"yanchor\": \"bottom\", \"yref\": \"y\"}, {\"font\": {\"color\": \"white\", \"size\": 10}, \"showarrow\": false, \"text\": \"<i>&#36;54.79 actual</i>\", \"textangle\": -90, \"x\": 54.79228571428571, \"xanchor\": \"right\", \"xref\": \"x\", \"y\": 0, \"yanchor\": \"bottom\", \"yref\": \"y\"}, {\"font\": {\"color\": \"white\", \"size\": 10}, \"showarrow\": false, \"text\": \"<i>&#36;39.47 actual</i>\", \"textangle\": -90, \"x\": 39.473684210526315, \"xanchor\": \"right\", \"xref\": \"x\", \"y\": 0, \"yanchor\": \"bottom\", \"yref\": \"y\"}, {\"align\": \"left\", \"arrowcolor\": \"gray\", \"arrowhead\": 5, \"arrowsize\": 1, \"arrowwidth\": 1.2, \"ax\": 45, \"axref\": \"x\", \"ay\": 233000, \"ayref\": \"y\", \"font\": {\"color\": \"gray\", \"size\": 10}, \"showarrow\": true, \"startstandoff\": 3, \"text\": \"<i>Figures released by<br>each campaign*</i>\", \"x\": 36, \"xanchor\": \"left\", \"xref\": \"x\", \"xshift\": 5, \"y\": 233000, \"yanchor\": \"middle\", \"yref\": \"y\"}, {\"align\": \"left\", \"font\": {\"color\": \"white\", \"size\": 10}, \"showarrow\": false, \"text\": \"<i>\\\"actual\\\" averages<br>are calculated from<br>released figures</i>\", \"x\": 10, \"xanchor\": \"left\", \"xref\": \"x\", \"y\": 32000, \"yanchor\": \"top\", \"yref\": \"y\"}, {\"align\": \"right\", \"font\": {\"color\": \"lightgray\", \"family\": \"Andale Mono\", \"size\": 10}, \"showarrow\": false, \"text\": \"03/23/2019<br>@jeremy_m_joseph\", \"x\": 1, \"xanchor\": \"right\", \"xref\": \"paper\", \"y\": -0.1, \"yanchor\": \"bottom\", \"yref\": \"paper\"}, {\"align\": \"left\", \"font\": {\"color\": \"gray\", \"family\": \"verdana\", \"size\": 10}, \"showarrow\": false, \"text\": \"<i>*No other campaigns have released first day figures to date</i>\", \"x\": -0.05, \"xanchor\": \"left\", \"xref\": \"paper\", \"y\": -0.1, \"yanchor\": \"top\", \"yref\": \"paper\"}], \"autosize\": false, \"height\": 700, \"images\": [{\"sizex\": 5, \"sizey\": 25000, \"source\": \"https://i.imgur.com/t8YoO1f.png\", \"x\": 26.7, \"xanchor\": \"right\", \"xref\": \"x\", \"y\": 223547, \"yanchor\": \"bottom\", \"yref\": \"y\"}, {\"sizex\": 5, \"sizey\": 25000, \"source\": \"https://i.imgur.com/qLNftOJ.png\", \"x\": 47.7, \"xanchor\": \"right\", \"xref\": \"x\", \"y\": 112500, \"yanchor\": \"bottom\", \"yref\": \"y\"}, {\"sizex\": 5, \"sizey\": 25000, \"source\": \"https://i.imgur.com/oDU7p8k.png\", \"x\": 36.7, \"xanchor\": \"right\", \"xref\": \"x\", \"y\": 38500, \"yanchor\": \"bottom\", \"yref\": \"y\"}], \"margin\": {\"autoexpand\": false, \"pad\": 2, \"r\": 40}, \"showlegend\": false, \"title\": {\"font\": {\"family\": \"verdana\", \"size\": 20}, \"pad\": {\"b\": 20}, \"text\": \"First Day Fundraising By 2020 Democratic Candidates\", \"xref\": \"paper\", \"y\": 1.0, \"yanchor\": \"bottom\", \"yref\": \"paper\"}, \"width\": 800, \"xaxis\": {\"gridcolor\": \"#eeeeee\", \"range\": [0, 65], \"showgrid\": true, \"tickangle\": 0, \"tickfont\": {\"size\": 11}, \"tickprefix\": \"$\", \"title\": {\"font\": {\"size\": 12}, \"text\": \"<b>Average Donation</b>\"}, \"zeroline\": false}, \"yaxis\": {\"gridcolor\": \"#eeeeee\", \"range\": [0, 265000], \"showgrid\": true, \"tickfont\": {\"size\": 11}, \"title\": {\"font\": {\"size\": 12}, \"text\": \"<b>Individual Donors</b><br>&#8192;\"}}}, {\"showLink\": false, \"linkText\": \"Export to plot.ly\", \"plotlyServerURL\": \"https://plot.ly\"}); \n",
       "}\n",
       "});</script>"
      ],
      "text/vnd.plotly.v1+html": [
       "<div id=\"f99f4e06-7421-4433-914b-1132fbd6e9ab\" style=\"height: 700px; width: 800px;\" class=\"plotly-graph-div\"></div><script type=\"text/javascript\">require([\"plotly\"], function(Plotly) { window.PLOTLYENV=window.PLOTLYENV || {};window.PLOTLYENV.BASE_URL=\"https://plot.ly\";\n",
       "if (document.getElementById(\"f99f4e06-7421-4433-914b-1132fbd6e9ab\")) {\n",
       "    Plotly.newPlot(\"f99f4e06-7421-4433-914b-1132fbd6e9ab\", [{\"fill\": \"tozeroy\", \"line\": {\"color\": \"#092B49\", \"width\": 0}, \"mode\": \"lines\", \"x\": [0, 26.56736472582012], \"y\": [223047, 223047], \"type\": \"scatter\", \"uid\": \"008ecb3c-6084-4023-8f91-7e223ab230a7\"}, {\"fill\": \"tozeroy\", \"line\": {\"color\": \"#0E7C7B\", \"width\": 0}, \"mode\": \"lines\", \"x\": [0, 54.79228571428571], \"y\": [112000, 112000], \"type\": \"scatter\", \"uid\": \"1e6700d0-1c91-4fb7-acda-96b0655654bf\"}, {\"fill\": \"tozeroy\", \"line\": {\"color\": \"#F18F01\", \"width\": 0}, \"mode\": \"lines\", \"x\": [0, 39.473684210526315], \"y\": [38000, 38000], \"type\": \"scatter\", \"uid\": \"2c42d43e-ab52-4654-882b-2a525d1406cd\"}, {\"mode\": \"text\", \"text\": [\"<b>Bernie Sanders</b><br>$5,925,771<br>223,047 donors<br>&#36;27 avg\", \"<b>Beto O'Rourke</b><br>$6,136,736<br>112,000 donors<br>&#36;48 avg\", \"<b>Kamala Harris</b><br>$1,500,000<br>38,000 donors<br>&#36;37 avg\"], \"textfont\": {\"family\": \"verdana\", \"size\": 10}, \"textposition\": \"top right\", \"x\": [27, 48, 37], \"y\": [223047, 112000, 38000], \"type\": \"scatter\", \"uid\": \"61df4cee-9728-4e3b-b561-f6d7f661a344\"}, {\"line\": {\"color\": \"black\", \"dash\": \"solid\", \"width\": 1.0}, \"mode\": \"lines\", \"x\": [27, 27], \"y\": [0, 223047], \"type\": \"scatter\", \"uid\": \"756bcc0a-c81d-4ea8-abde-b924784554da\"}, {\"line\": {\"color\": \"black\", \"dash\": \"solid\", \"width\": 1.0}, \"mode\": \"lines\", \"x\": [48, 48], \"y\": [0, 112000], \"type\": \"scatter\", \"uid\": \"6fe19c1f-a91a-4d5e-8bf1-2665b54b4c49\"}, {\"line\": {\"color\": \"black\", \"dash\": \"solid\", \"width\": 1.0}, \"mode\": \"lines\", \"x\": [37, 37], \"y\": [0, 38000], \"type\": \"scatter\", \"uid\": \"3401be9e-8695-4c7c-b5d2-c008e2520fcf\"}], {\"annotations\": [{\"font\": {\"color\": \"white\", \"size\": 10}, \"showarrow\": false, \"text\": \"<i>&#36;26.57 actual</i>\", \"textangle\": -90, \"x\": 26.56736472582012, \"xanchor\": \"right\", \"xref\": \"x\", \"y\": 0, \"yanchor\": \"bottom\", \"yref\": \"y\"}, {\"font\": {\"color\": \"white\", \"size\": 10}, \"showarrow\": false, \"text\": \"<i>&#36;54.79 actual</i>\", \"textangle\": -90, \"x\": 54.79228571428571, \"xanchor\": \"right\", \"xref\": \"x\", \"y\": 0, \"yanchor\": \"bottom\", \"yref\": \"y\"}, {\"font\": {\"color\": \"white\", \"size\": 10}, \"showarrow\": false, \"text\": \"<i>&#36;39.47 actual</i>\", \"textangle\": -90, \"x\": 39.473684210526315, \"xanchor\": \"right\", \"xref\": \"x\", \"y\": 0, \"yanchor\": \"bottom\", \"yref\": \"y\"}, {\"align\": \"left\", \"arrowcolor\": \"gray\", \"arrowhead\": 5, \"arrowsize\": 1, \"arrowwidth\": 1.2, \"ax\": 45, \"axref\": \"x\", \"ay\": 233000, \"ayref\": \"y\", \"font\": {\"color\": \"gray\", \"size\": 10}, \"showarrow\": true, \"startstandoff\": 3, \"text\": \"<i>Figures released by<br>each campaign*</i>\", \"x\": 36, \"xanchor\": \"left\", \"xref\": \"x\", \"xshift\": 5, \"y\": 233000, \"yanchor\": \"middle\", \"yref\": \"y\"}, {\"align\": \"left\", \"font\": {\"color\": \"white\", \"size\": 10}, \"showarrow\": false, \"text\": \"<i>\\\"actual\\\" averages<br>are calculated from<br>released figures</i>\", \"x\": 10, \"xanchor\": \"left\", \"xref\": \"x\", \"y\": 32000, \"yanchor\": \"top\", \"yref\": \"y\"}, {\"align\": \"right\", \"font\": {\"color\": \"lightgray\", \"family\": \"Andale Mono\", \"size\": 10}, \"showarrow\": false, \"text\": \"03/23/2019<br>@jeremy_m_joseph\", \"x\": 1, \"xanchor\": \"right\", \"xref\": \"paper\", \"y\": -0.1, \"yanchor\": \"bottom\", \"yref\": \"paper\"}, {\"align\": \"left\", \"font\": {\"color\": \"gray\", \"family\": \"verdana\", \"size\": 10}, \"showarrow\": false, \"text\": \"<i>*No other campaigns have released first day figures to date</i>\", \"x\": -0.05, \"xanchor\": \"left\", \"xref\": \"paper\", \"y\": -0.1, \"yanchor\": \"top\", \"yref\": \"paper\"}], \"autosize\": false, \"height\": 700, \"images\": [{\"sizex\": 5, \"sizey\": 25000, \"source\": \"https://i.imgur.com/t8YoO1f.png\", \"x\": 26.7, \"xanchor\": \"right\", \"xref\": \"x\", \"y\": 223547, \"yanchor\": \"bottom\", \"yref\": \"y\"}, {\"sizex\": 5, \"sizey\": 25000, \"source\": \"https://i.imgur.com/qLNftOJ.png\", \"x\": 47.7, \"xanchor\": \"right\", \"xref\": \"x\", \"y\": 112500, \"yanchor\": \"bottom\", \"yref\": \"y\"}, {\"sizex\": 5, \"sizey\": 25000, \"source\": \"https://i.imgur.com/oDU7p8k.png\", \"x\": 36.7, \"xanchor\": \"right\", \"xref\": \"x\", \"y\": 38500, \"yanchor\": \"bottom\", \"yref\": \"y\"}], \"margin\": {\"autoexpand\": false, \"pad\": 2, \"r\": 40}, \"showlegend\": false, \"title\": {\"font\": {\"family\": \"verdana\", \"size\": 20}, \"pad\": {\"b\": 20}, \"text\": \"First Day Fundraising By 2020 Democratic Candidates\", \"xref\": \"paper\", \"y\": 1.0, \"yanchor\": \"bottom\", \"yref\": \"paper\"}, \"width\": 800, \"xaxis\": {\"gridcolor\": \"#eeeeee\", \"range\": [0, 65], \"showgrid\": true, \"tickangle\": 0, \"tickfont\": {\"size\": 11}, \"tickprefix\": \"$\", \"title\": {\"font\": {\"size\": 12}, \"text\": \"<b>Average Donation</b>\"}, \"zeroline\": false}, \"yaxis\": {\"gridcolor\": \"#eeeeee\", \"range\": [0, 265000], \"showgrid\": true, \"tickfont\": {\"size\": 11}, \"title\": {\"font\": {\"size\": 12}, \"text\": \"<b>Individual Donors</b><br>&#8192;\"}}}, {\"showLink\": false, \"linkText\": \"Export to plot.ly\", \"plotlyServerURL\": \"https://plot.ly\"}); \n",
       "}\n",
       "});</script>"
      ]
     },
     "metadata": {},
     "output_type": "display_data"
    }
   ],
   "source": [
    "bernie = go.Scatter(\n",
    "    x=[0, float(dem_dict['Bernie Sanders'][0])/dem_dict['Bernie Sanders'][1]],\n",
    "    y=2*[dem_dict['Bernie Sanders'][1]],\n",
    "    mode='lines',\n",
    "    line=dict(\n",
    "        width=0,\n",
    "        #color='rgb(17,114,201)',\n",
    "        color='#092B49',\n",
    "        #color='#34365F'\n",
    "    ),\n",
    "    fill='tozeroy',\n",
    "    #fillcolor='#17becf',\n",
    ")\n",
    "\n",
    "kamala = go.Scatter(\n",
    "    x=[0, float(dem_dict['Kamala Harris'][0])/dem_dict['Kamala Harris'][1]],\n",
    "    y=2*[dem_dict['Kamala Harris'][1]],\n",
    "    mode='lines',\n",
    "    line=dict(\n",
    "        width=0,\n",
    "        #color='rgb(64,51,147)',\n",
    "        color='#F18F01',\n",
    "        #color='#F79406'\n",
    "    ),\n",
    "    fill='tozeroy'\n",
    ")\n",
    "\n",
    "beto = go.Scatter(\n",
    "    x=[0, float(dem_dict[\"Beto O'Rourke\"][0])/dem_dict[\"Beto O'Rourke\"][1]],\n",
    "    y=2*[dem_dict[\"Beto O'Rourke\"][1]],\n",
    "    mode='lines',\n",
    "    line=dict(\n",
    "        width=0,\n",
    "        #color='rgb(0,0,0)',\n",
    "        color='#0E7C7B',\n",
    "        #color='#F7E64F'\n",
    "    ),\n",
    "    fill='tozeroy'\n",
    ")\n",
    "\n",
    "\n",
    "labels = go.Scatter(\n",
    "    x=[d[2] for d in dem_dict.values()],\n",
    "    y=[d[1] for d in dem_dict.values()],\n",
    "    mode='text',\n",
    "    text=['<b>' + [d for d in dem_dict.keys()][n] + '</b>'\n",
    "          '<br>' +\n",
    "          [d[3] for d in dem_dict.values()][n] +\n",
    "          '<br>' +\n",
    "          '{:,}'.format([d[1] for d in dem_dict.values()][n]) + ' donors' + \n",
    "          '<br>' +\n",
    "          '&#36;' + str([d[2] for d in dem_dict.values()][n]) + ' avg'\n",
    "          for n in range(3)],\n",
    "    textposition='top right',\n",
    "    textfont=dict(\n",
    "        family='verdana',        \n",
    "        color=None,\n",
    "        size=10\n",
    "    )\n",
    ")\n",
    "\n",
    "error = []\n",
    "for d in dem_dict.values():\n",
    "    error.append(go.Scatter(\n",
    "        x=[d[2]] * 2,\n",
    "        y=[0, d[1]],\n",
    "        mode='lines',\n",
    "        line=dict(\n",
    "            color='black',\n",
    "            width=1.0,\n",
    "            dash='solid',\n",
    "        ),\n",
    "    ))\n",
    "    \n",
    "#error[2].update(y = [13000, dem_dict['Kamala Harris'][1]])\n",
    "# error[0]['line'].update(color='#092B49')\n",
    "# error[1]['line'].update(color='#0E7C7B')\n",
    "# error[2]['line'].update(color='#F18F01')\n",
    "\n",
    "data = [bernie, beto, kamala, labels] + error\n",
    "\n",
    "y_adj = 500\n",
    "x_adj = -0.3\n",
    "\n",
    "gray = '#eeeeee'\n",
    "\n",
    "layout = go.Layout(\n",
    "    font=dict(\n",
    "        family=None,\n",
    "    ),\n",
    "    title=dict(\n",
    "        text=\"First Day Fundraising By 2020 Democratic Candidates\",\n",
    "        font=dict(\n",
    "            family='verdana',\n",
    "            size=20,\n",
    "            color=None,\n",
    "        ),\n",
    "        xref='paper',\n",
    "        yref='paper',\n",
    "        y=1.0,\n",
    "        yanchor='bottom',\n",
    "        pad=dict( # unit: pixels\n",
    "            b=20,\n",
    "        ),\n",
    "    ),\n",
    "    autosize=False,\n",
    "    width=800,\n",
    "    height=700,\n",
    "    showlegend = False,\n",
    "    xaxis=dict(\n",
    "        title=dict(\n",
    "            text='<b>Average Donation</b>',\n",
    "            font=dict(\n",
    "                family=None,\n",
    "                size=12,\n",
    "                color=None,\n",
    "            )\n",
    "        ),\n",
    "        range=[0,65],\n",
    "        #tickmode='linear',\n",
    "        #tick0=congressYears[0]+(5-congressYears[0]%5),\n",
    "        #dtick=50000,\n",
    "        tickfont=dict(\n",
    "            family=None,\n",
    "            size=11,\n",
    "            color=None,\n",
    "        ),\n",
    "        tickprefix=\"$\",\n",
    "        tickangle=0,\n",
    "        #showline=True,\n",
    "        showgrid=True,\n",
    "        gridcolor=gray,\n",
    "        gridwidth=None,\n",
    "        zeroline=False\n",
    "    ),\n",
    "    yaxis=dict(\n",
    "        title=dict(\n",
    "            text='<b>Individual Donors</b><br>&#8192;', # whitespace\n",
    "            font=dict(\n",
    "                family=None,\n",
    "                size=12,\n",
    "                color=None,\n",
    "            )\n",
    "        ),\n",
    "        range=[0, 265000],\n",
    "#        tickmode='array',\n",
    "#        tickvals=range(30,101,5),\n",
    "#        ticktext=[str(n) if n%10==0 else ' ' for n in range(30,101,5)]\n",
    "        tickfont=dict(\n",
    "            family=None,\n",
    "            size=11,\n",
    "            color=None,\n",
    "        ),\n",
    "        showgrid=True,\n",
    "        gridcolor=gray,\n",
    "        gridwidth=None,\n",
    "    ),\n",
    "    # images @ https://imgur.com/a/gwU2Hv7\n",
    "    images=[dict(\n",
    "        #source=\"http://localhost:8889/view/images/bw-bernie.png\",\n",
    "        source=\"https://i.imgur.com/t8YoO1f.png\",\n",
    "        xref='x',\n",
    "        yref='y',\n",
    "        x=dem_dict['Bernie Sanders'][2] + x_adj,\n",
    "        y=dem_dict['Bernie Sanders'][1] + y_adj,\n",
    "        sizex= 5,\n",
    "        sizey= 25000,\n",
    "        xanchor= \"right\",\n",
    "        yanchor= \"bottom\"\n",
    "        ),\n",
    "        dict(\n",
    "        #source=\"http://localhost:8889/view/images/bw-beto.png\",\n",
    "        source=\"https://i.imgur.com/qLNftOJ.png\",\n",
    "        xref='x',\n",
    "        yref='y',\n",
    "        x=dem_dict[\"Beto O'Rourke\"][2] + x_adj,\n",
    "        y=dem_dict[\"Beto O'Rourke\"][1] + y_adj,\n",
    "        sizex= 5,\n",
    "        sizey= 25000,\n",
    "        xanchor= \"right\",\n",
    "        yanchor= \"bottom\"\n",
    "        ),\n",
    "        dict(\n",
    "        #source=\"http://localhost:8889/view/images/bw-kamala.png\",\n",
    "        source=\"https://i.imgur.com/oDU7p8k.png\",\n",
    "        xref='x',\n",
    "        yref='y',\n",
    "        x=dem_dict['Kamala Harris'][2] + x_adj,\n",
    "        y=dem_dict['Kamala Harris'][1] + y_adj,\n",
    "        sizex= 5,\n",
    "        sizey= 25000,\n",
    "        xanchor= \"right\",\n",
    "        yanchor= \"bottom\"\n",
    "        )\n",
    "    ],\n",
    "    margin=go.layout.Margin(\n",
    "        pad=2,\n",
    "        r=40,\n",
    "        #t=40,\n",
    "        autoexpand=False,\n",
    "        ),\n",
    ")\n",
    " \n",
    "\n",
    "notes = []\n",
    "for d in dem_dict.values():\n",
    "    notes.append(dict(\n",
    "        text='<i>&#36;{:.2f}'.format(float(d[0])/d[1]) + ' actual</i>',\n",
    "        textangle=-90,\n",
    "        font=dict(\n",
    "            family=None,\n",
    "            size=10,\n",
    "            color='white',\n",
    "        ),\n",
    "        x=float(d[0])/d[1],\n",
    "        y=0,\n",
    "        xref='x',\n",
    "        yref='y',\n",
    "        xanchor='right',\n",
    "        yanchor='bottom',\n",
    "        showarrow=False,\n",
    "    ))\n",
    "    \n",
    "notes += [dict(\n",
    "    text='<i>Figures released by<br>' +\\\n",
    "         'each campaign*</i>',\n",
    "    font=dict(\n",
    "        family=None,\n",
    "        size=10,\n",
    "        color='gray',\n",
    "    ),\n",
    "    x=36,\n",
    "    y=233000,\n",
    "    xref='x',\n",
    "    yref='y',\n",
    "    align='left',\n",
    "    xanchor='left',\n",
    "    yanchor='middle',\n",
    "    showarrow=True,\n",
    "    arrowcolor='gray',\n",
    "    arrowwidth=1.2,\n",
    "    arrowhead=5,\n",
    "    arrowsize=1,\n",
    "    startstandoff=3,\n",
    "    axref='x',\n",
    "    ayref='y',\n",
    "    ax=45,\n",
    "    ay=233000,\n",
    "    xshift=5,\n",
    "),\n",
    "    dict(\n",
    "    text='<i>\"actual\" averages<br>are ' +\\\n",
    "         'calculated from<br>' +\\\n",
    "         'released figures</i>',\n",
    "    font=dict(\n",
    "        family=None,\n",
    "        size=10,\n",
    "        color='white',\n",
    "    ),\n",
    "    x=10,\n",
    "    y=32000,\n",
    "    xref='x',\n",
    "    yref='y',\n",
    "    align='left',\n",
    "    xanchor='left',\n",
    "    yanchor='top',\n",
    "    showarrow=False,\n",
    "),\n",
    "    dict(\n",
    "    text='03/23/2019<br>@jeremy_m_joseph',\n",
    "    font=dict(\n",
    "        family='Andale Mono',\n",
    "        size=10,\n",
    "        color='lightgray',\n",
    "    ),\n",
    "    x=1,\n",
    "    y=-0.1,\n",
    "    xref='paper',\n",
    "    yref='paper',\n",
    "    align='right',\n",
    "    xanchor='right',\n",
    "    yanchor='bottom',\n",
    "    showarrow=False,\n",
    "),\n",
    "    dict(\n",
    "    text='<i>*No other campaigns have released first day figures to date</i>',\n",
    "    font=dict(\n",
    "        family='verdana',\n",
    "        size=10,\n",
    "        color='gray',\n",
    "    ),\n",
    "    x=-0.05,\n",
    "    y=-0.1,\n",
    "    xref='paper',\n",
    "    yref='paper',\n",
    "    align='left',\n",
    "    xanchor='left',\n",
    "    yanchor='top',\n",
    "    showarrow=False,\n",
    ")]\n",
    "\n",
    "layout.update(annotations=notes)\n",
    "\n",
    "\n",
    "fig = go.Figure(data=data,layout=layout)\n",
    "plotly.offline.init_notebook_mode(connected=True)\n",
    "plotly.offline.iplot(fig)#, filename=‘whatever’, image=‘png’)"
   ]
  },
  {
   "cell_type": "code",
   "execution_count": 826,
   "metadata": {},
   "outputs": [],
   "source": [
    "# Checked source at\n",
    "# https://github.com/plotly/plotly.py/blob/master/plotly/io/_orca.py\n",
    "pio.write_image(fig, 'images/auto-truerr.png', format='png', scale=3.0, width=800-40, height=700)"
   ]
  },
  {
   "cell_type": "code",
   "execution_count": 834,
   "metadata": {},
   "outputs": [
    {
     "name": "stdout",
     "output_type": "stream",
     "text": [
      "This is the format of your plot grid:\n",
      "[ (1,1) x1,y1 ]  [ (1,2) x2,y2 ]\n",
      "\n"
     ]
    },
    {
     "data": {
      "text/html": [
       "<script type=\"text/javascript\">window.PlotlyConfig = {MathJaxConfig: 'local'};</script><script type=\"text/javascript\">if (window.MathJax) {MathJax.Hub.Config({SVG: {font: \"STIX-Web\"}});}</script><script>requirejs.config({paths: { 'plotly': ['https://cdn.plot.ly/plotly-latest.min']},});if(!window._Plotly) {require(['plotly'],function(plotly) {window._Plotly=plotly;});}</script>"
      ],
      "text/vnd.plotly.v1+html": [
       "<script type=\"text/javascript\">window.PlotlyConfig = {MathJaxConfig: 'local'};</script><script type=\"text/javascript\">if (window.MathJax) {MathJax.Hub.Config({SVG: {font: \"STIX-Web\"}});}</script><script>requirejs.config({paths: { 'plotly': ['https://cdn.plot.ly/plotly-latest.min']},});if(!window._Plotly) {require(['plotly'],function(plotly) {window._Plotly=plotly;});}</script>"
      ]
     },
     "metadata": {},
     "output_type": "display_data"
    },
    {
     "data": {
      "application/vnd.plotly.v1+json": {
       "config": {
        "linkText": "Export to plot.ly",
        "plotlyServerURL": "https://plot.ly",
        "showLink": false
       },
       "data": [
        {
         "marker": {
          "color": "#4C753B",
          "line": {
           "width": 1.5
          }
         },
         "opacity": 0.8,
         "text": [
          "$1,500,000",
          "$6,136,736",
          "$5,925,771"
         ],
         "textposition": "outside",
         "type": "bar",
         "uid": "4c20df11-afdd-49bb-bc4d-16dd0f1e9503",
         "x": [
          "Kamala Harris",
          "Beto O'Rourke",
          "Bernie Sanders"
         ],
         "xaxis": "x",
         "y": [
          1500000,
          6136736,
          5925771
         ],
         "yaxis": "y"
        },
        {
         "marker": {
          "color": "#761A56",
          "line": {
           "width": 1.5
          }
         },
         "opacity": 0.8,
         "text": [
          "38,000",
          "112,000",
          "223,047"
         ],
         "textposition": "outside",
         "type": "bar",
         "uid": "25319254-f815-45a1-bcdf-b60f78f98620",
         "x": [
          "Kamala Harris",
          "Beto O'Rourke",
          "Bernie Sanders"
         ],
         "xaxis": "x2",
         "y": [
          38000,
          112000,
          223047
         ],
         "yaxis": "y2"
        }
       ],
       "layout": {
        "annotations": [
         {
          "font": {
           "size": 11
          },
          "showarrow": false,
          "text": "Total Money Raised",
          "x": 0.225,
          "xanchor": "center",
          "xref": "paper",
          "y": 1,
          "yanchor": "bottom",
          "yref": "paper",
          "yshift": -5
         },
         {
          "font": {
           "size": 11
          },
          "showarrow": false,
          "text": "Individual Donors",
          "x": 0.775,
          "xanchor": "center",
          "xref": "paper",
          "y": 1,
          "yanchor": "bottom",
          "yref": "paper",
          "yshift": -5
         },
         {
          "align": "right",
          "font": {
           "color": "lightgray",
           "family": "Andale Mono",
           "size": 10
          },
          "showarrow": false,
          "text": "03/23/2019<br>@jeremy_m_joseph",
          "x": 1,
          "xanchor": "right",
          "xref": "paper",
          "y": -0.18,
          "yanchor": "bottom",
          "yref": "paper"
         }
        ],
        "height": 500,
        "margin": {
         "autoexpand": false,
         "l": 40,
         "r": 40
        },
        "showlegend": false,
        "title": {
         "font": {
          "family": "verdana",
          "size": 18
         },
         "pad": {
          "b": 30
         },
         "text": "First Day Fundraising: Money or People",
         "xref": "paper",
         "y": 1,
         "yanchor": "bottom",
         "yref": "paper"
        },
        "width": 800,
        "xaxis": {
         "anchor": "y",
         "domain": [
          0,
          0.45
         ],
         "tickfont": {
          "size": 11
         }
        },
        "xaxis2": {
         "anchor": "y2",
         "domain": [
          0.55,
          1
         ],
         "tickfont": {
          "size": 11
         }
        },
        "yaxis": {
         "anchor": "x",
         "domain": [
          0,
          1
         ],
         "range": [
          0,
          7219689.4117647065
         ],
         "tickfont": {
          "size": 11
         },
         "tickprefix": "$",
         "title": {
          "text": ""
         }
        },
        "yaxis2": {
         "anchor": "x2",
         "domain": [
          0,
          1
         ],
         "range": [
          0,
          262408.23529411765
         ],
         "tickfont": {
          "size": 11
         },
         "title": {
          "text": ""
         }
        }
       }
      },
      "text/html": [
       "<div id=\"ca806ece-1996-496a-bddd-467b05d5419e\" style=\"height: 500px; width: 800px;\" class=\"plotly-graph-div\"></div><script type=\"text/javascript\">require([\"plotly\"], function(Plotly) { window.PLOTLYENV=window.PLOTLYENV || {};window.PLOTLYENV.BASE_URL=\"https://plot.ly\";\n",
       "if (document.getElementById(\"ca806ece-1996-496a-bddd-467b05d5419e\")) {\n",
       "    Plotly.newPlot(\"ca806ece-1996-496a-bddd-467b05d5419e\", [{\"marker\": {\"color\": \"#4C753B\", \"line\": {\"width\": 1.5}}, \"opacity\": 0.8, \"text\": [\"$1,500,000\", \"$6,136,736\", \"$5,925,771\"], \"textposition\": \"outside\", \"x\": [\"Kamala Harris\", \"Beto O'Rourke\", \"Bernie Sanders\"], \"y\": [1500000, 6136736, 5925771], \"type\": \"bar\", \"uid\": \"4c20df11-afdd-49bb-bc4d-16dd0f1e9503\", \"xaxis\": \"x\", \"yaxis\": \"y\"}, {\"marker\": {\"color\": \"#761A56\", \"line\": {\"width\": 1.5}}, \"opacity\": 0.8, \"text\": [\"38,000\", \"112,000\", \"223,047\"], \"textposition\": \"outside\", \"x\": [\"Kamala Harris\", \"Beto O'Rourke\", \"Bernie Sanders\"], \"y\": [38000, 112000, 223047], \"type\": \"bar\", \"uid\": \"25319254-f815-45a1-bcdf-b60f78f98620\", \"xaxis\": \"x2\", \"yaxis\": \"y2\"}], {\"annotations\": [{\"font\": {\"size\": 11}, \"showarrow\": false, \"text\": \"Total Money Raised\", \"x\": 0.225, \"xanchor\": \"center\", \"xref\": \"paper\", \"y\": 1.0, \"yanchor\": \"bottom\", \"yref\": \"paper\", \"yshift\": -5}, {\"font\": {\"size\": 11}, \"showarrow\": false, \"text\": \"Individual Donors\", \"x\": 0.775, \"xanchor\": \"center\", \"xref\": \"paper\", \"y\": 1.0, \"yanchor\": \"bottom\", \"yref\": \"paper\", \"yshift\": -5}, {\"align\": \"right\", \"font\": {\"color\": \"lightgray\", \"family\": \"Andale Mono\", \"size\": 10}, \"showarrow\": false, \"text\": \"03/23/2019<br>@jeremy_m_joseph\", \"x\": 1, \"xanchor\": \"right\", \"xref\": \"paper\", \"y\": -0.18, \"yanchor\": \"bottom\", \"yref\": \"paper\"}], \"xaxis\": {\"anchor\": \"y\", \"domain\": [0.0, 0.45], \"tickfont\": {\"size\": 11}}, \"yaxis\": {\"anchor\": \"x\", \"domain\": [0.0, 1.0], \"tickfont\": {\"size\": 11}, \"title\": {\"text\": \"\"}, \"tickprefix\": \"$\", \"range\": [0, 7219689.4117647065]}, \"xaxis2\": {\"anchor\": \"y2\", \"domain\": [0.55, 1.0], \"tickfont\": {\"size\": 11}}, \"yaxis2\": {\"anchor\": \"x2\", \"domain\": [0.0, 1.0], \"tickfont\": {\"size\": 11}, \"title\": {\"text\": \"\"}, \"range\": [0, 262408.23529411765]}, \"title\": {\"font\": {\"family\": \"verdana\", \"size\": 18}, \"pad\": {\"b\": 30}, \"text\": \"First Day Fundraising: Money or People\", \"xref\": \"paper\", \"yref\": \"paper\", \"y\": 1.0, \"yanchor\": \"bottom\"}, \"width\": 800, \"height\": 500, \"showlegend\": false, \"margin\": {\"autoexpand\": false, \"l\": 40, \"r\": 40}}, {\"showLink\": false, \"linkText\": \"Export to plot.ly\", \"plotlyServerURL\": \"https://plot.ly\"}); \n",
       "}\n",
       "});</script>"
      ],
      "text/vnd.plotly.v1+html": [
       "<div id=\"ca806ece-1996-496a-bddd-467b05d5419e\" style=\"height: 500px; width: 800px;\" class=\"plotly-graph-div\"></div><script type=\"text/javascript\">require([\"plotly\"], function(Plotly) { window.PLOTLYENV=window.PLOTLYENV || {};window.PLOTLYENV.BASE_URL=\"https://plot.ly\";\n",
       "if (document.getElementById(\"ca806ece-1996-496a-bddd-467b05d5419e\")) {\n",
       "    Plotly.newPlot(\"ca806ece-1996-496a-bddd-467b05d5419e\", [{\"marker\": {\"color\": \"#4C753B\", \"line\": {\"width\": 1.5}}, \"opacity\": 0.8, \"text\": [\"$1,500,000\", \"$6,136,736\", \"$5,925,771\"], \"textposition\": \"outside\", \"x\": [\"Kamala Harris\", \"Beto O'Rourke\", \"Bernie Sanders\"], \"y\": [1500000, 6136736, 5925771], \"type\": \"bar\", \"uid\": \"4c20df11-afdd-49bb-bc4d-16dd0f1e9503\", \"xaxis\": \"x\", \"yaxis\": \"y\"}, {\"marker\": {\"color\": \"#761A56\", \"line\": {\"width\": 1.5}}, \"opacity\": 0.8, \"text\": [\"38,000\", \"112,000\", \"223,047\"], \"textposition\": \"outside\", \"x\": [\"Kamala Harris\", \"Beto O'Rourke\", \"Bernie Sanders\"], \"y\": [38000, 112000, 223047], \"type\": \"bar\", \"uid\": \"25319254-f815-45a1-bcdf-b60f78f98620\", \"xaxis\": \"x2\", \"yaxis\": \"y2\"}], {\"annotations\": [{\"font\": {\"size\": 11}, \"showarrow\": false, \"text\": \"Total Money Raised\", \"x\": 0.225, \"xanchor\": \"center\", \"xref\": \"paper\", \"y\": 1.0, \"yanchor\": \"bottom\", \"yref\": \"paper\", \"yshift\": -5}, {\"font\": {\"size\": 11}, \"showarrow\": false, \"text\": \"Individual Donors\", \"x\": 0.775, \"xanchor\": \"center\", \"xref\": \"paper\", \"y\": 1.0, \"yanchor\": \"bottom\", \"yref\": \"paper\", \"yshift\": -5}, {\"align\": \"right\", \"font\": {\"color\": \"lightgray\", \"family\": \"Andale Mono\", \"size\": 10}, \"showarrow\": false, \"text\": \"03/23/2019<br>@jeremy_m_joseph\", \"x\": 1, \"xanchor\": \"right\", \"xref\": \"paper\", \"y\": -0.18, \"yanchor\": \"bottom\", \"yref\": \"paper\"}], \"xaxis\": {\"anchor\": \"y\", \"domain\": [0.0, 0.45], \"tickfont\": {\"size\": 11}}, \"yaxis\": {\"anchor\": \"x\", \"domain\": [0.0, 1.0], \"tickfont\": {\"size\": 11}, \"title\": {\"text\": \"\"}, \"tickprefix\": \"$\", \"range\": [0, 7219689.4117647065]}, \"xaxis2\": {\"anchor\": \"y2\", \"domain\": [0.55, 1.0], \"tickfont\": {\"size\": 11}}, \"yaxis2\": {\"anchor\": \"x2\", \"domain\": [0.0, 1.0], \"tickfont\": {\"size\": 11}, \"title\": {\"text\": \"\"}, \"range\": [0, 262408.23529411765]}, \"title\": {\"font\": {\"family\": \"verdana\", \"size\": 18}, \"pad\": {\"b\": 30}, \"text\": \"First Day Fundraising: Money or People\", \"xref\": \"paper\", \"yref\": \"paper\", \"y\": 1.0, \"yanchor\": \"bottom\"}, \"width\": 800, \"height\": 500, \"showlegend\": false, \"margin\": {\"autoexpand\": false, \"l\": 40, \"r\": 40}}, {\"showLink\": false, \"linkText\": \"Export to plot.ly\", \"plotlyServerURL\": \"https://plot.ly\"}); \n",
       "}\n",
       "});</script>"
      ]
     },
     "metadata": {},
     "output_type": "display_data"
    }
   ],
   "source": [
    "names = ['Kamala Harris', \"Beto O'Rourke\", 'Bernie Sanders']\n",
    "money_bars = go.Bar(\n",
    "    x=names,\n",
    "    y=[dem_dict[n][0] for n in names],\n",
    "    #width=25000,\n",
    "    text=[dem_dict[n][3] for n in names],\n",
    "    textposition = 'outside',\n",
    "#     textfont=dict(\n",
    "#         size=10\n",
    "#     ),\n",
    "    marker=dict(\n",
    "        #color='#5DCF9A',\n",
    "        color='#4C753B',\n",
    "        line=dict(\n",
    "            #color='rgb(8,48,107)',\n",
    "            width=1.5\n",
    "        ),\n",
    "    ),\n",
    "    opacity=0.8\n",
    ")\n",
    "\n",
    "donation_bars = go.Bar(\n",
    "    x=names,\n",
    "    y=[dem_dict[n][1] for n in names],\n",
    "    #width=25000,\n",
    "    text=[\"{:,}\".format(dem_dict[n][1]) for n in names],\n",
    "    textposition = 'outside',\n",
    "    marker=dict(\n",
    "        #color='#6184CF',\n",
    "        color='#761A56',\n",
    "        line=dict(\n",
    "            #color='rgb(8,48,107)',\n",
    "            width=1.5,\n",
    "        ),\n",
    "    ),\n",
    "    opacity=0.8\n",
    "    \n",
    ")\n",
    "\n",
    "\n",
    "fig = plotly.tools.make_subplots(rows=1, cols=2, subplot_titles=('Total Money Raised', 'Individual Donors'))\n",
    "for i in fig['layout']['annotations']:\n",
    "    i['font'] = dict(size=11)\n",
    "    i['yshift'] = -5\n",
    "\n",
    "fig.append_trace(money_bars, 1, 1)\n",
    "fig.append_trace(donation_bars, 1, 2)\n",
    "\n",
    "# Set max height of tallest bar equal across plots\n",
    "ratio = .85\n",
    "fig['layout']['xaxis1'].update(tickfont=dict(size=11))\n",
    "fig['layout']['xaxis2'].update(tickfont=dict(size=11))\n",
    "\n",
    "fig['layout']['yaxis1'].update(title='',\n",
    "                               tickprefix=\"$\",\n",
    "                               tickfont=dict(size=11),\n",
    "                               range=[0,dem_dict[\"Beto O'Rourke\"][0]/float(ratio)])\n",
    "\n",
    "fig['layout']['yaxis2'].update(title='',\n",
    "                               tickfont=dict(size=11),\n",
    "                               range=[0, dem_dict['Bernie Sanders'][1]/float(ratio)])\n",
    "\n",
    "fig['layout'].update(#font=dict(size=6),\n",
    "                     title=dict(\n",
    "                         text='First Day Fundraising: Money or People',\n",
    "                         font=dict(\n",
    "                             family='verdana',\n",
    "                             size=18,\n",
    "                             color=None,\n",
    "                         ),\n",
    "                         xref='paper',\n",
    "                         yref='paper',\n",
    "                         y=1.0,\n",
    "                         yanchor='bottom',\n",
    "                         pad=dict( # unit: pixels\n",
    "                             b=30,\n",
    "                         ),\n",
    "                     ),\n",
    "                     width=800,\n",
    "                     height=500,\n",
    "                     showlegend=False,\n",
    "                     margin=go.layout.Margin(\n",
    "                         #pad=2,\n",
    "                         l=40,\n",
    "                         r=40,\n",
    "                         #t=40,\n",
    "                         autoexpand=False,\n",
    "                         ),\n",
    ")\n",
    "\n",
    "fig['layout']['annotations'] += (dict(\n",
    "    text='03/23/2019<br>@jeremy_m_joseph',\n",
    "    font=dict(\n",
    "        family='Andale Mono',\n",
    "        size=10,\n",
    "        color='lightgray',\n",
    "    ),\n",
    "    x=1,\n",
    "    y=-.18,\n",
    "    xref='paper',\n",
    "    yref='paper',\n",
    "    align='right',\n",
    "    xanchor='right',\n",
    "    yanchor='bottom',\n",
    "    showarrow=False,\n",
    "),)\n",
    "\n",
    "plotly.offline.init_notebook_mode(connected=True)\n",
    "plotly.offline.iplot(fig)"
   ]
  },
  {
   "cell_type": "code",
   "execution_count": 835,
   "metadata": {},
   "outputs": [],
   "source": [
    "pio.write_image(fig, 'images/bars2.png', format='png', scale=3.0, width=800-80, height=500)"
   ]
  },
  {
   "cell_type": "code",
   "execution_count": 840,
   "metadata": {},
   "outputs": [
    {
     "name": "stdout",
     "output_type": "stream",
     "text": [
      "This is the format of your plot grid:\n",
      "[ (1,1) x1,y1 ]\n",
      "[ (2,1) x2,y2 ]\n",
      "[ (3,1) x3,y3 ]\n",
      "\n"
     ]
    },
    {
     "data": {
      "text/html": [
       "<script type=\"text/javascript\">window.PlotlyConfig = {MathJaxConfig: 'local'};</script><script type=\"text/javascript\">if (window.MathJax) {MathJax.Hub.Config({SVG: {font: \"STIX-Web\"}});}</script><script>requirejs.config({paths: { 'plotly': ['https://cdn.plot.ly/plotly-latest.min']},});if(!window._Plotly) {require(['plotly'],function(plotly) {window._Plotly=plotly;});}</script>"
      ],
      "text/vnd.plotly.v1+html": [
       "<script type=\"text/javascript\">window.PlotlyConfig = {MathJaxConfig: 'local'};</script><script type=\"text/javascript\">if (window.MathJax) {MathJax.Hub.Config({SVG: {font: \"STIX-Web\"}});}</script><script>requirejs.config({paths: { 'plotly': ['https://cdn.plot.ly/plotly-latest.min']},});if(!window._Plotly) {require(['plotly'],function(plotly) {window._Plotly=plotly;});}</script>"
      ]
     },
     "metadata": {},
     "output_type": "display_data"
    },
    {
     "data": {
      "application/vnd.plotly.v1+json": {
       "config": {
        "linkText": "Export to plot.ly",
        "plotlyServerURL": "https://plot.ly",
        "showLink": false
       },
       "data": [
        {
         "fill": "toself",
         "line": {
          "color": "gray",
          "width": 0
         },
         "mode": "lines",
         "type": "scatter",
         "uid": "1bf158b9-12b7-4d91-a8ec-4530eb178373",
         "x": [
          37.66233766233766,
          40.25974025974026,
          41.333333333333336,
          38.666666666666664
         ],
         "xaxis": "x",
         "y": [
          38500,
          38500,
          37500,
          37500
         ],
         "yaxis": "y"
        },
        {
         "fill": "toself",
         "line": {
          "color": "gray",
          "width": 0
         },
         "mode": "lines",
         "type": "scatter",
         "uid": "40036ad2-6bb3-47c7-968a-91fb0603686a",
         "x": [
          54.44876444444444,
          54.648764444444446,
          55.137991031390136,
          54.93799103139013
         ],
         "xaxis": "x2",
         "y": [
          112500,
          112500,
          111500,
          111500
         ],
         "yaxis": "y2"
        },
        {
         "fill": "toself",
         "line": {
          "color": "#17becf",
          "width": 0
         },
         "mode": "lines",
         "type": "scatter",
         "uid": "a854a998-f337-43e4-809b-eb86419a9d3d",
         "x": [
          36.5,
          37.5,
          37.5,
          36.5
         ],
         "xaxis": "x",
         "y": [
          38500,
          38500,
          37500,
          37500
         ],
         "yaxis": "y"
        },
        {
         "marker": {
          "color": "black"
         },
         "mode": "markers+text",
         "text": "<b>&#36;37</b>",
         "textfont": {
          "family": "verdana",
          "size": 10
         },
         "textposition": "top center",
         "type": "scatter",
         "uid": "4d5973b1-81df-49ee-b6aa-9aa297c28d57",
         "x": [
          37
         ],
         "xaxis": "x",
         "y": [
          38000
         ],
         "yaxis": "y"
        },
        {
         "fill": "toself",
         "line": {
          "color": "#17becf",
          "width": 0
         },
         "mode": "lines",
         "type": "scatter",
         "uid": "083d14c0-bd2a-4822-b44a-0fcdc0ca24ed",
         "x": [
          47.5,
          48.5,
          48.5,
          47.5
         ],
         "xaxis": "x2",
         "y": [
          112500,
          112500,
          111500,
          111500
         ],
         "yaxis": "y2"
        },
        {
         "marker": {
          "color": "black"
         },
         "mode": "markers+text",
         "text": "<b>&#36;48</b>",
         "textfont": {
          "family": "verdana",
          "size": 10
         },
         "textposition": "top center",
         "type": "scatter",
         "uid": "15c49bd5-7cfb-40fd-8cd4-0bddfb57b60f",
         "x": [
          48
         ],
         "xaxis": "x2",
         "y": [
          112000
         ],
         "yaxis": "y2"
        },
        {
         "fill": "toself",
         "line": {
          "color": "#17becf",
          "width": 0
         },
         "mode": "lines",
         "type": "scatter",
         "uid": "fe4bb676-1a29-4164-a719-c1ae0af8e202",
         "x": [
          26.5,
          27.5,
          27.5,
          26.5
         ],
         "xaxis": "x3",
         "y": [
          223547,
          223547,
          222547,
          222547
         ],
         "yaxis": "y3"
        },
        {
         "marker": {
          "color": "black"
         },
         "mode": "markers+text",
         "text": "<b>&#36;27</b>",
         "textfont": {
          "family": "verdana",
          "size": 10
         },
         "textposition": "top center",
         "type": "scatter",
         "uid": "415152f4-0c16-4baf-9d3f-7003ce054228",
         "x": [
          27
         ],
         "xaxis": "x3",
         "y": [
          223047
         ],
         "yaxis": "y3"
        },
        {
         "marker": {
          "color": "gray",
          "symbol": "square"
         },
         "mode": "markers",
         "opacity": 0.9,
         "type": "scatter",
         "uid": "fae4cdfd-7855-46f7-b276-993ceedec6f1",
         "x": [
          26.56736472582012
         ],
         "xaxis": "x3",
         "y": [
          223047
         ],
         "yaxis": "y3"
        }
       ],
       "layout": {
        "annotations": [
         {
          "align": "right",
          "font": {
           "color": "lightgray",
           "family": "Andale Mono",
           "size": 10
          },
          "showarrow": false,
          "text": "03/23/2019<br>@jeremy_m_joseph",
          "x": 1,
          "xanchor": "right",
          "xref": "paper",
          "y": -0.1,
          "yanchor": "bottom",
          "yref": "paper"
         },
         {
          "align": "right",
          "font": {
           "color": "black",
           "family": "verdana",
           "size": 11
          },
          "showarrow": false,
          "text": "<b>Individual<br>Donors</b>",
          "x": 0,
          "xanchor": "right",
          "xref": "paper",
          "y": 1.04,
          "yref": "paper"
         },
         {
          "align": "left",
          "font": {
           "color": "black",
           "family": "verdana",
           "size": 10
          },
          "showarrow": false,
          "text": "&#36;1,500,000<i> +/- $50,000</i><br>38,000<i> +/- 500</i>",
          "x": 0.62,
          "xanchor": "left",
          "xref": "paper",
          "y": 38000,
          "yref": "y"
         },
         {
          "align": "left",
          "font": {
           "color": "black",
           "family": "verdana",
           "size": 10
          },
          "showarrow": false,
          "text": "&#36;6,136,736<br>112,000<i> +/- 500</i>",
          "x": 0.62,
          "xanchor": "left",
          "xref": "paper",
          "y": 112000,
          "yref": "y2"
         },
         {
          "align": "left",
          "font": {
           "color": "black",
           "family": "verdana",
           "size": 10
          },
          "showarrow": false,
          "text": "$5,925,771<br>223,047",
          "x": 0.62,
          "xanchor": "left",
          "xref": "paper",
          "y": 223047,
          "yref": "y3"
         },
         {
          "align": "left",
          "font": {
           "color": "gray",
           "family": "verdana",
           "size": 10
          },
          "showarrow": false,
          "text": "<i>Avg donation figure<br>released by campaign.<br>If accurate, the blue<br>box should touch the<br>gray area.",
          "x": 31.8,
          "xanchor": "left",
          "xref": "x",
          "y": 38500,
          "yanchor": "top",
          "yref": "y"
         },
         {
          "align": "left",
          "font": {
           "color": "gray",
           "family": "verdana",
           "size": 10
          },
          "showarrow": false,
          "text": "<i>Gray area represents all possible <br>results for avg donation based on<br>approx. figures from campaign</i>",
          "x": 41,
          "xanchor": "left",
          "xref": "x",
          "y": 38600,
          "yref": "y"
         },
         {
          "align": "right",
          "arrowcolor": "gray",
          "arrowhead": 5,
          "arrowsize": 1,
          "arrowwidth": 1.2,
          "ax": 24,
          "axref": "x3",
          "ay": 223047,
          "ayref": "y3",
          "font": {
           "color": "gray",
           "size": 10
          },
          "showarrow": true,
          "startstandoff": 3,
          "text": "<i>Exact figures released<br>by campaign</i>",
          "x": 26.56736472582012,
          "xanchor": "right",
          "xref": "x3",
          "xshift": -10,
          "y": 223047,
          "yanchor": "middle",
          "yref": "y3"
         },
         {
          "align": "center",
          "font": {
           "color": "black",
           "family": "verdana",
           "size": 10
          },
          "showarrow": false,
          "text": "Kamala<br>Harris",
          "x": -0.17,
          "xanchor": "center",
          "xref": "paper",
          "y": 38090,
          "yref": "y",
          "yshift": -35
         },
         {
          "align": "center",
          "font": {
           "color": "black",
           "family": "verdana",
           "size": 10
          },
          "showarrow": false,
          "text": "Beto<br>O'Rourke",
          "x": -0.17,
          "xanchor": "center",
          "xref": "paper",
          "y": 112090,
          "yref": "y2",
          "yshift": -35
         },
         {
          "align": "center",
          "font": {
           "color": "black",
           "family": "verdana",
           "size": 10
          },
          "showarrow": false,
          "text": "Bernie<br>Sanders",
          "x": -0.17,
          "xanchor": "center",
          "xref": "paper",
          "y": 223137,
          "yref": "y3",
          "yshift": -35
         }
        ],
        "font": {
         "family": "verdana",
         "size": 11
        },
        "height": 700,
        "images": [
         {
          "sizex": 0.1,
          "sizey": 1000,
          "source": "https://i.imgur.com/oDU7p8k.png",
          "x": -0.17,
          "xanchor": "center",
          "xref": "paper",
          "y": 38090,
          "yanchor": "middle",
          "yref": "y"
         },
         {
          "sizex": 0.1,
          "sizey": 1000,
          "source": "https://i.imgur.com/qLNftOJ.png",
          "x": -0.17,
          "xanchor": "center",
          "xref": "paper",
          "y": 112090,
          "yanchor": "middle",
          "yref": "y2"
         },
         {
          "sizex": 0.1,
          "sizey": 1000,
          "source": "https://i.imgur.com/t8YoO1f.png",
          "x": -0.17,
          "xanchor": "center",
          "xref": "paper",
          "y": 223137,
          "yanchor": "middle",
          "yref": "y3"
         }
        ],
        "margin": {
         "autoexpand": false,
         "l": 120,
         "pad": 2,
         "r": 60
        },
        "showlegend": false,
        "title": {
         "font": {
          "family": "verdana",
          "size": 16
         },
         "pad": {
          "b": 50
         },
         "text": "How accurate are first day donation averages?",
         "y": 1,
         "yanchor": "bottom",
         "yref": "paper"
        },
        "width": 580,
        "xaxis": {
         "anchor": "y",
         "domain": [
          0,
          1
         ],
         "dtick": 1,
         "range": [
          31.704457759918206,
          47.291213235752785
         ],
         "showtickprefix": "first",
         "tickmode": "linear",
         "tickprefix": "$"
        },
        "xaxis2": {
         "anchor": "y2",
         "domain": [
          0,
          1
         ],
         "dtick": 1,
         "range": [
          47,
          62.58675547583458
         ],
         "scaleanchor": "x",
         "showtickprefix": "first",
         "tickprefix": "$"
        },
        "xaxis3": {
         "anchor": "y3",
         "domain": [
          0,
          1
         ],
         "dtick": 1,
         "range": [
          18.77398698790283,
          34.36074246373741
         ],
         "scaleanchor": "x",
         "showtickprefix": "first",
         "tickprefix": "$",
         "title": {
          "font": {
           "size": 11
          },
          "text": "<b>Average Donation</b>"
         }
        },
        "yaxis": {
         "anchor": "x",
         "domain": [
          0.7333333333333333,
          1
         ],
         "range": [
          37250,
          38750
         ]
        },
        "yaxis2": {
         "anchor": "x2",
         "domain": [
          0.36666666666666664,
          0.6333333333333333
         ],
         "scaleanchor": "y"
        },
        "yaxis3": {
         "anchor": "x3",
         "domain": [
          0,
          0.26666666666666666
         ],
         "scaleanchor": "y"
        }
       }
      },
      "text/html": [
       "<div id=\"b4687bd2-44e9-4c5e-bab4-3ea235cf7804\" style=\"height: 700px; width: 580px;\" class=\"plotly-graph-div\"></div><script type=\"text/javascript\">require([\"plotly\"], function(Plotly) { window.PLOTLYENV=window.PLOTLYENV || {};window.PLOTLYENV.BASE_URL=\"https://plot.ly\";\n",
       "if (document.getElementById(\"b4687bd2-44e9-4c5e-bab4-3ea235cf7804\")) {\n",
       "    Plotly.newPlot(\"b4687bd2-44e9-4c5e-bab4-3ea235cf7804\", [{\"fill\": \"toself\", \"line\": {\"color\": \"gray\", \"width\": 0}, \"mode\": \"lines\", \"x\": [37.66233766233766, 40.25974025974026, 41.333333333333336, 38.666666666666664], \"y\": [38500, 38500, 37500, 37500], \"type\": \"scatter\", \"uid\": \"1bf158b9-12b7-4d91-a8ec-4530eb178373\", \"xaxis\": \"x\", \"yaxis\": \"y\"}, {\"fill\": \"toself\", \"line\": {\"color\": \"gray\", \"width\": 0}, \"mode\": \"lines\", \"x\": [54.44876444444444, 54.648764444444446, 55.137991031390136, 54.93799103139013], \"y\": [112500, 112500, 111500, 111500], \"type\": \"scatter\", \"uid\": \"40036ad2-6bb3-47c7-968a-91fb0603686a\", \"xaxis\": \"x2\", \"yaxis\": \"y2\"}, {\"fill\": \"toself\", \"line\": {\"color\": \"#17becf\", \"width\": 0}, \"mode\": \"lines\", \"x\": [36.5, 37.5, 37.5, 36.5], \"y\": [38500, 38500, 37500, 37500], \"type\": \"scatter\", \"uid\": \"a854a998-f337-43e4-809b-eb86419a9d3d\", \"xaxis\": \"x\", \"yaxis\": \"y\"}, {\"marker\": {\"color\": \"black\"}, \"mode\": \"markers+text\", \"text\": \"<b>&#36;37</b>\", \"textfont\": {\"family\": \"verdana\", \"size\": 10}, \"textposition\": \"top center\", \"x\": [37], \"y\": [38000], \"type\": \"scatter\", \"uid\": \"4d5973b1-81df-49ee-b6aa-9aa297c28d57\", \"xaxis\": \"x\", \"yaxis\": \"y\"}, {\"fill\": \"toself\", \"line\": {\"color\": \"#17becf\", \"width\": 0}, \"mode\": \"lines\", \"x\": [47.5, 48.5, 48.5, 47.5], \"y\": [112500, 112500, 111500, 111500], \"type\": \"scatter\", \"uid\": \"083d14c0-bd2a-4822-b44a-0fcdc0ca24ed\", \"xaxis\": \"x2\", \"yaxis\": \"y2\"}, {\"marker\": {\"color\": \"black\"}, \"mode\": \"markers+text\", \"text\": \"<b>&#36;48</b>\", \"textfont\": {\"family\": \"verdana\", \"size\": 10}, \"textposition\": \"top center\", \"x\": [48], \"y\": [112000], \"type\": \"scatter\", \"uid\": \"15c49bd5-7cfb-40fd-8cd4-0bddfb57b60f\", \"xaxis\": \"x2\", \"yaxis\": \"y2\"}, {\"fill\": \"toself\", \"line\": {\"color\": \"#17becf\", \"width\": 0}, \"mode\": \"lines\", \"x\": [26.5, 27.5, 27.5, 26.5], \"y\": [223547, 223547, 222547, 222547], \"type\": \"scatter\", \"uid\": \"fe4bb676-1a29-4164-a719-c1ae0af8e202\", \"xaxis\": \"x3\", \"yaxis\": \"y3\"}, {\"marker\": {\"color\": \"black\"}, \"mode\": \"markers+text\", \"text\": \"<b>&#36;27</b>\", \"textfont\": {\"family\": \"verdana\", \"size\": 10}, \"textposition\": \"top center\", \"x\": [27], \"y\": [223047], \"type\": \"scatter\", \"uid\": \"415152f4-0c16-4baf-9d3f-7003ce054228\", \"xaxis\": \"x3\", \"yaxis\": \"y3\"}, {\"marker\": {\"color\": \"gray\", \"symbol\": \"square\"}, \"mode\": \"markers\", \"opacity\": 0.9, \"x\": [26.56736472582012], \"y\": [223047], \"type\": \"scatter\", \"uid\": \"fae4cdfd-7855-46f7-b276-993ceedec6f1\", \"xaxis\": \"x3\", \"yaxis\": \"y3\"}], {\"xaxis\": {\"anchor\": \"y\", \"domain\": [0.0, 1.0], \"range\": [31.704457759918206, 47.291213235752785], \"tickmode\": \"linear\", \"dtick\": 1, \"tickprefix\": \"$\", \"showtickprefix\": \"first\"}, \"yaxis\": {\"anchor\": \"x\", \"domain\": [0.7333333333333333, 1.0], \"range\": [37250, 38750]}, \"xaxis2\": {\"anchor\": \"y2\", \"domain\": [0.0, 1.0], \"range\": [47.0, 62.58675547583458], \"scaleanchor\": \"x\", \"dtick\": 1, \"tickprefix\": \"$\", \"showtickprefix\": \"first\"}, \"yaxis2\": {\"anchor\": \"x2\", \"domain\": [0.36666666666666664, 0.6333333333333333], \"scaleanchor\": \"y\"}, \"xaxis3\": {\"anchor\": \"y3\", \"domain\": [0.0, 1.0], \"title\": {\"font\": {\"size\": 11}, \"text\": \"<b>Average Donation</b>\"}, \"range\": [18.77398698790283, 34.36074246373741], \"scaleanchor\": \"x\", \"dtick\": 1, \"tickprefix\": \"$\", \"showtickprefix\": \"first\"}, \"yaxis3\": {\"anchor\": \"x3\", \"domain\": [0.0, 0.26666666666666666], \"scaleanchor\": \"y\"}, \"font\": {\"family\": \"verdana\", \"size\": 11}, \"title\": {\"font\": {\"family\": \"verdana\", \"size\": 16}, \"pad\": {\"b\": 50}, \"text\": \"How accurate are first day donation averages?\", \"yref\": \"paper\", \"y\": 1.0, \"yanchor\": \"bottom\"}, \"width\": 580, \"height\": 700, \"showlegend\": false, \"images\": [{\"sizex\": 0.1, \"sizey\": 1000, \"source\": \"https://i.imgur.com/oDU7p8k.png\", \"x\": -0.17, \"xanchor\": \"center\", \"xref\": \"paper\", \"y\": 38090, \"yanchor\": \"middle\", \"yref\": \"y\"}, {\"sizex\": 0.1, \"sizey\": 1000, \"source\": \"https://i.imgur.com/qLNftOJ.png\", \"x\": -0.17, \"xanchor\": \"center\", \"xref\": \"paper\", \"y\": 112090, \"yanchor\": \"middle\", \"yref\": \"y2\"}, {\"sizex\": 0.1, \"sizey\": 1000, \"source\": \"https://i.imgur.com/t8YoO1f.png\", \"x\": -0.17, \"xanchor\": \"center\", \"xref\": \"paper\", \"y\": 223137, \"yanchor\": \"middle\", \"yref\": \"y3\"}], \"margin\": {\"autoexpand\": false, \"l\": 120, \"pad\": 2, \"r\": 60}, \"annotations\": [{\"align\": \"right\", \"font\": {\"color\": \"lightgray\", \"family\": \"Andale Mono\", \"size\": 10}, \"showarrow\": false, \"text\": \"03/23/2019<br>@jeremy_m_joseph\", \"x\": 1, \"xanchor\": \"right\", \"xref\": \"paper\", \"y\": -0.1, \"yanchor\": \"bottom\", \"yref\": \"paper\"}, {\"align\": \"right\", \"font\": {\"color\": \"black\", \"family\": \"verdana\", \"size\": 11}, \"showarrow\": false, \"text\": \"<b>Individual<br>Donors</b>\", \"x\": 0, \"xanchor\": \"right\", \"xref\": \"paper\", \"y\": 1.04, \"yref\": \"paper\"}, {\"align\": \"left\", \"font\": {\"color\": \"black\", \"family\": \"verdana\", \"size\": 10}, \"showarrow\": false, \"text\": \"&#36;1,500,000<i> +/- $50,000</i><br>38,000<i> +/- 500</i>\", \"x\": 0.62, \"xanchor\": \"left\", \"xref\": \"paper\", \"y\": 38000, \"yref\": \"y\"}, {\"align\": \"left\", \"font\": {\"color\": \"black\", \"family\": \"verdana\", \"size\": 10}, \"showarrow\": false, \"text\": \"&#36;6,136,736<br>112,000<i> +/- 500</i>\", \"x\": 0.62, \"xanchor\": \"left\", \"xref\": \"paper\", \"y\": 112000, \"yref\": \"y2\"}, {\"align\": \"left\", \"font\": {\"color\": \"black\", \"family\": \"verdana\", \"size\": 10}, \"showarrow\": false, \"text\": \"$5,925,771<br>223,047\", \"x\": 0.62, \"xanchor\": \"left\", \"xref\": \"paper\", \"y\": 223047, \"yref\": \"y3\"}, {\"align\": \"left\", \"font\": {\"color\": \"gray\", \"family\": \"verdana\", \"size\": 10}, \"showarrow\": false, \"text\": \"<i>Avg donation figure<br>released by campaign.<br>If accurate, the blue<br>box should touch the<br>gray area.\", \"x\": 31.8, \"xanchor\": \"left\", \"xref\": \"x\", \"y\": 38500, \"yanchor\": \"top\", \"yref\": \"y\"}, {\"align\": \"left\", \"font\": {\"color\": \"gray\", \"family\": \"verdana\", \"size\": 10}, \"showarrow\": false, \"text\": \"<i>Gray area represents all possible <br>results for avg donation based on<br>approx. figures from campaign</i>\", \"x\": 41, \"xanchor\": \"left\", \"xref\": \"x\", \"y\": 38600, \"yref\": \"y\"}, {\"align\": \"right\", \"arrowcolor\": \"gray\", \"arrowhead\": 5, \"arrowsize\": 1, \"arrowwidth\": 1.2, \"ax\": 24, \"axref\": \"x3\", \"ay\": 223047, \"ayref\": \"y3\", \"font\": {\"color\": \"gray\", \"size\": 10}, \"showarrow\": true, \"startstandoff\": 3, \"text\": \"<i>Exact figures released<br>by campaign</i>\", \"x\": 26.56736472582012, \"xanchor\": \"right\", \"xref\": \"x3\", \"xshift\": -10, \"y\": 223047, \"yanchor\": \"middle\", \"yref\": \"y3\"}, {\"align\": \"center\", \"font\": {\"color\": \"black\", \"family\": \"verdana\", \"size\": 10}, \"showarrow\": false, \"text\": \"Kamala<br>Harris\", \"x\": -0.17, \"xanchor\": \"center\", \"xref\": \"paper\", \"y\": 38090, \"yref\": \"y\", \"yshift\": -35}, {\"align\": \"center\", \"font\": {\"color\": \"black\", \"family\": \"verdana\", \"size\": 10}, \"showarrow\": false, \"text\": \"Beto<br>O'Rourke\", \"x\": -0.17, \"xanchor\": \"center\", \"xref\": \"paper\", \"y\": 112090, \"yref\": \"y2\", \"yshift\": -35}, {\"align\": \"center\", \"font\": {\"color\": \"black\", \"family\": \"verdana\", \"size\": 10}, \"showarrow\": false, \"text\": \"Bernie<br>Sanders\", \"x\": -0.17, \"xanchor\": \"center\", \"xref\": \"paper\", \"y\": 223137, \"yref\": \"y3\", \"yshift\": -35}]}, {\"showLink\": false, \"linkText\": \"Export to plot.ly\", \"plotlyServerURL\": \"https://plot.ly\"}); \n",
       "}\n",
       "});</script>"
      ],
      "text/vnd.plotly.v1+html": [
       "<div id=\"b4687bd2-44e9-4c5e-bab4-3ea235cf7804\" style=\"height: 700px; width: 580px;\" class=\"plotly-graph-div\"></div><script type=\"text/javascript\">require([\"plotly\"], function(Plotly) { window.PLOTLYENV=window.PLOTLYENV || {};window.PLOTLYENV.BASE_URL=\"https://plot.ly\";\n",
       "if (document.getElementById(\"b4687bd2-44e9-4c5e-bab4-3ea235cf7804\")) {\n",
       "    Plotly.newPlot(\"b4687bd2-44e9-4c5e-bab4-3ea235cf7804\", [{\"fill\": \"toself\", \"line\": {\"color\": \"gray\", \"width\": 0}, \"mode\": \"lines\", \"x\": [37.66233766233766, 40.25974025974026, 41.333333333333336, 38.666666666666664], \"y\": [38500, 38500, 37500, 37500], \"type\": \"scatter\", \"uid\": \"1bf158b9-12b7-4d91-a8ec-4530eb178373\", \"xaxis\": \"x\", \"yaxis\": \"y\"}, {\"fill\": \"toself\", \"line\": {\"color\": \"gray\", \"width\": 0}, \"mode\": \"lines\", \"x\": [54.44876444444444, 54.648764444444446, 55.137991031390136, 54.93799103139013], \"y\": [112500, 112500, 111500, 111500], \"type\": \"scatter\", \"uid\": \"40036ad2-6bb3-47c7-968a-91fb0603686a\", \"xaxis\": \"x2\", \"yaxis\": \"y2\"}, {\"fill\": \"toself\", \"line\": {\"color\": \"#17becf\", \"width\": 0}, \"mode\": \"lines\", \"x\": [36.5, 37.5, 37.5, 36.5], \"y\": [38500, 38500, 37500, 37500], \"type\": \"scatter\", \"uid\": \"a854a998-f337-43e4-809b-eb86419a9d3d\", \"xaxis\": \"x\", \"yaxis\": \"y\"}, {\"marker\": {\"color\": \"black\"}, \"mode\": \"markers+text\", \"text\": \"<b>&#36;37</b>\", \"textfont\": {\"family\": \"verdana\", \"size\": 10}, \"textposition\": \"top center\", \"x\": [37], \"y\": [38000], \"type\": \"scatter\", \"uid\": \"4d5973b1-81df-49ee-b6aa-9aa297c28d57\", \"xaxis\": \"x\", \"yaxis\": \"y\"}, {\"fill\": \"toself\", \"line\": {\"color\": \"#17becf\", \"width\": 0}, \"mode\": \"lines\", \"x\": [47.5, 48.5, 48.5, 47.5], \"y\": [112500, 112500, 111500, 111500], \"type\": \"scatter\", \"uid\": \"083d14c0-bd2a-4822-b44a-0fcdc0ca24ed\", \"xaxis\": \"x2\", \"yaxis\": \"y2\"}, {\"marker\": {\"color\": \"black\"}, \"mode\": \"markers+text\", \"text\": \"<b>&#36;48</b>\", \"textfont\": {\"family\": \"verdana\", \"size\": 10}, \"textposition\": \"top center\", \"x\": [48], \"y\": [112000], \"type\": \"scatter\", \"uid\": \"15c49bd5-7cfb-40fd-8cd4-0bddfb57b60f\", \"xaxis\": \"x2\", \"yaxis\": \"y2\"}, {\"fill\": \"toself\", \"line\": {\"color\": \"#17becf\", \"width\": 0}, \"mode\": \"lines\", \"x\": [26.5, 27.5, 27.5, 26.5], \"y\": [223547, 223547, 222547, 222547], \"type\": \"scatter\", \"uid\": \"fe4bb676-1a29-4164-a719-c1ae0af8e202\", \"xaxis\": \"x3\", \"yaxis\": \"y3\"}, {\"marker\": {\"color\": \"black\"}, \"mode\": \"markers+text\", \"text\": \"<b>&#36;27</b>\", \"textfont\": {\"family\": \"verdana\", \"size\": 10}, \"textposition\": \"top center\", \"x\": [27], \"y\": [223047], \"type\": \"scatter\", \"uid\": \"415152f4-0c16-4baf-9d3f-7003ce054228\", \"xaxis\": \"x3\", \"yaxis\": \"y3\"}, {\"marker\": {\"color\": \"gray\", \"symbol\": \"square\"}, \"mode\": \"markers\", \"opacity\": 0.9, \"x\": [26.56736472582012], \"y\": [223047], \"type\": \"scatter\", \"uid\": \"fae4cdfd-7855-46f7-b276-993ceedec6f1\", \"xaxis\": \"x3\", \"yaxis\": \"y3\"}], {\"xaxis\": {\"anchor\": \"y\", \"domain\": [0.0, 1.0], \"range\": [31.704457759918206, 47.291213235752785], \"tickmode\": \"linear\", \"dtick\": 1, \"tickprefix\": \"$\", \"showtickprefix\": \"first\"}, \"yaxis\": {\"anchor\": \"x\", \"domain\": [0.7333333333333333, 1.0], \"range\": [37250, 38750]}, \"xaxis2\": {\"anchor\": \"y2\", \"domain\": [0.0, 1.0], \"range\": [47.0, 62.58675547583458], \"scaleanchor\": \"x\", \"dtick\": 1, \"tickprefix\": \"$\", \"showtickprefix\": \"first\"}, \"yaxis2\": {\"anchor\": \"x2\", \"domain\": [0.36666666666666664, 0.6333333333333333], \"scaleanchor\": \"y\"}, \"xaxis3\": {\"anchor\": \"y3\", \"domain\": [0.0, 1.0], \"title\": {\"font\": {\"size\": 11}, \"text\": \"<b>Average Donation</b>\"}, \"range\": [18.77398698790283, 34.36074246373741], \"scaleanchor\": \"x\", \"dtick\": 1, \"tickprefix\": \"$\", \"showtickprefix\": \"first\"}, \"yaxis3\": {\"anchor\": \"x3\", \"domain\": [0.0, 0.26666666666666666], \"scaleanchor\": \"y\"}, \"font\": {\"family\": \"verdana\", \"size\": 11}, \"title\": {\"font\": {\"family\": \"verdana\", \"size\": 16}, \"pad\": {\"b\": 50}, \"text\": \"How accurate are first day donation averages?\", \"yref\": \"paper\", \"y\": 1.0, \"yanchor\": \"bottom\"}, \"width\": 580, \"height\": 700, \"showlegend\": false, \"images\": [{\"sizex\": 0.1, \"sizey\": 1000, \"source\": \"https://i.imgur.com/oDU7p8k.png\", \"x\": -0.17, \"xanchor\": \"center\", \"xref\": \"paper\", \"y\": 38090, \"yanchor\": \"middle\", \"yref\": \"y\"}, {\"sizex\": 0.1, \"sizey\": 1000, \"source\": \"https://i.imgur.com/qLNftOJ.png\", \"x\": -0.17, \"xanchor\": \"center\", \"xref\": \"paper\", \"y\": 112090, \"yanchor\": \"middle\", \"yref\": \"y2\"}, {\"sizex\": 0.1, \"sizey\": 1000, \"source\": \"https://i.imgur.com/t8YoO1f.png\", \"x\": -0.17, \"xanchor\": \"center\", \"xref\": \"paper\", \"y\": 223137, \"yanchor\": \"middle\", \"yref\": \"y3\"}], \"margin\": {\"autoexpand\": false, \"l\": 120, \"pad\": 2, \"r\": 60}, \"annotations\": [{\"align\": \"right\", \"font\": {\"color\": \"lightgray\", \"family\": \"Andale Mono\", \"size\": 10}, \"showarrow\": false, \"text\": \"03/23/2019<br>@jeremy_m_joseph\", \"x\": 1, \"xanchor\": \"right\", \"xref\": \"paper\", \"y\": -0.1, \"yanchor\": \"bottom\", \"yref\": \"paper\"}, {\"align\": \"right\", \"font\": {\"color\": \"black\", \"family\": \"verdana\", \"size\": 11}, \"showarrow\": false, \"text\": \"<b>Individual<br>Donors</b>\", \"x\": 0, \"xanchor\": \"right\", \"xref\": \"paper\", \"y\": 1.04, \"yref\": \"paper\"}, {\"align\": \"left\", \"font\": {\"color\": \"black\", \"family\": \"verdana\", \"size\": 10}, \"showarrow\": false, \"text\": \"&#36;1,500,000<i> +/- $50,000</i><br>38,000<i> +/- 500</i>\", \"x\": 0.62, \"xanchor\": \"left\", \"xref\": \"paper\", \"y\": 38000, \"yref\": \"y\"}, {\"align\": \"left\", \"font\": {\"color\": \"black\", \"family\": \"verdana\", \"size\": 10}, \"showarrow\": false, \"text\": \"&#36;6,136,736<br>112,000<i> +/- 500</i>\", \"x\": 0.62, \"xanchor\": \"left\", \"xref\": \"paper\", \"y\": 112000, \"yref\": \"y2\"}, {\"align\": \"left\", \"font\": {\"color\": \"black\", \"family\": \"verdana\", \"size\": 10}, \"showarrow\": false, \"text\": \"$5,925,771<br>223,047\", \"x\": 0.62, \"xanchor\": \"left\", \"xref\": \"paper\", \"y\": 223047, \"yref\": \"y3\"}, {\"align\": \"left\", \"font\": {\"color\": \"gray\", \"family\": \"verdana\", \"size\": 10}, \"showarrow\": false, \"text\": \"<i>Avg donation figure<br>released by campaign.<br>If accurate, the blue<br>box should touch the<br>gray area.\", \"x\": 31.8, \"xanchor\": \"left\", \"xref\": \"x\", \"y\": 38500, \"yanchor\": \"top\", \"yref\": \"y\"}, {\"align\": \"left\", \"font\": {\"color\": \"gray\", \"family\": \"verdana\", \"size\": 10}, \"showarrow\": false, \"text\": \"<i>Gray area represents all possible <br>results for avg donation based on<br>approx. figures from campaign</i>\", \"x\": 41, \"xanchor\": \"left\", \"xref\": \"x\", \"y\": 38600, \"yref\": \"y\"}, {\"align\": \"right\", \"arrowcolor\": \"gray\", \"arrowhead\": 5, \"arrowsize\": 1, \"arrowwidth\": 1.2, \"ax\": 24, \"axref\": \"x3\", \"ay\": 223047, \"ayref\": \"y3\", \"font\": {\"color\": \"gray\", \"size\": 10}, \"showarrow\": true, \"startstandoff\": 3, \"text\": \"<i>Exact figures released<br>by campaign</i>\", \"x\": 26.56736472582012, \"xanchor\": \"right\", \"xref\": \"x3\", \"xshift\": -10, \"y\": 223047, \"yanchor\": \"middle\", \"yref\": \"y3\"}, {\"align\": \"center\", \"font\": {\"color\": \"black\", \"family\": \"verdana\", \"size\": 10}, \"showarrow\": false, \"text\": \"Kamala<br>Harris\", \"x\": -0.17, \"xanchor\": \"center\", \"xref\": \"paper\", \"y\": 38090, \"yref\": \"y\", \"yshift\": -35}, {\"align\": \"center\", \"font\": {\"color\": \"black\", \"family\": \"verdana\", \"size\": 10}, \"showarrow\": false, \"text\": \"Beto<br>O'Rourke\", \"x\": -0.17, \"xanchor\": \"center\", \"xref\": \"paper\", \"y\": 112090, \"yref\": \"y2\", \"yshift\": -35}, {\"align\": \"center\", \"font\": {\"color\": \"black\", \"family\": \"verdana\", \"size\": 10}, \"showarrow\": false, \"text\": \"Bernie<br>Sanders\", \"x\": -0.17, \"xanchor\": \"center\", \"xref\": \"paper\", \"y\": 223137, \"yref\": \"y3\", \"yshift\": -35}]}, {\"showLink\": false, \"linkText\": \"Export to plot.ly\", \"plotlyServerURL\": \"https://plot.ly\"}); \n",
       "}\n",
       "});</script>"
      ]
     },
     "metadata": {},
     "output_type": "display_data"
    }
   ],
   "source": [
    "fig = plotly.tools.make_subplots(rows=3, cols=1)\n",
    "\n",
    "k_ymax = dem_dict['Kamala Harris'][1] + 500\n",
    "k_ymin = dem_dict['Kamala Harris'][1] - 500\n",
    "k_xmax = float(dem_dict['Kamala Harris'][0] + 50000)/k_ymin\n",
    "k_xmin = float(dem_dict['Kamala Harris'][0] - 50000)/k_ymax\n",
    "k_xbot = float(dem_dict['Kamala Harris'][0] - 50000)/k_ymin\n",
    "k_xtop = float(dem_dict['Kamala Harris'][0] + 50000)/k_ymax\n",
    "\n",
    "area = 'gray'\n",
    "box_kamala = go.Scatter(\n",
    "    x=[k_xmin, k_xtop, k_xmax, k_xbot],\n",
    "    y=[k_ymax, k_ymax, k_ymin, k_ymin],\n",
    "    mode='lines',\n",
    "    line=dict(\n",
    "        width=0,\n",
    "        color=area,\n",
    "    ),\n",
    "    #opacity=0.5,\n",
    "    fill='toself',\n",
    "    #fillcolor='#17becf',\n",
    ")\n",
    "\n",
    "fig.append_trace(box_kamala, 1, 1)\n",
    "\n",
    "\n",
    "b_ymax = dem_dict[\"Beto O'Rourke\"][1] + 500\n",
    "b_ymin = dem_dict[\"Beto O'Rourke\"][1] - 500\n",
    "b_xmax = float(dem_dict[\"Beto O'Rourke\"][0])/b_ymin\n",
    "b_xmin = float(dem_dict[\"Beto O'Rourke\"][0])/b_ymax\n",
    "\n",
    "w=.1\n",
    "box_beto = go.Scatter(\n",
    "    x=[b_xmin-w, b_xmin+w, b_xmax+w, b_xmax-w],\n",
    "    y=[b_ymax, b_ymax, b_ymin, b_ymin],\n",
    "    mode='lines',\n",
    "    line=dict(\n",
    "        width=0,\n",
    "        color=area,\n",
    "    ),\n",
    "    #opacity=0.5,\n",
    "    fill='toself',\n",
    "    #fillcolor='#17becf',\n",
    ")\n",
    "\n",
    "fig.append_trace(box_beto, 2, 1)\n",
    "\n",
    "bo_xmax = float(dem_dict[\"Beto O'Rourke\"][0])/127500\n",
    "bo_xmin = float(dem_dict[\"Beto O'Rourke\"][0])/128500\n",
    "# badbox_beto = go.Scatter(\n",
    "#     x=[bo_xmin-w, bo_xmin+w, bo_xmax+w, bo_xmax-w],\n",
    "#     y=[b_ymax, b_ymax, b_ymin, b_ymin],\n",
    "#     mode='lines',\n",
    "#     line=dict(\n",
    "#         width=0,\n",
    "#         color='gray',\n",
    "#     ),\n",
    "#     opacity=1,\n",
    "#     fill='toself',\n",
    "#     #fillcolor='#17becf',\n",
    "# )\n",
    "\n",
    "# fig.append_trace(badbox_beto, 2, 1)\n",
    "\n",
    "bernie_exact = float(dem_dict['Bernie Sanders'][0])/dem_dict['Bernie Sanders'][1]\n",
    "box_bernie = go.Scatter(\n",
    "    x=[bernie_exact],\n",
    "    y=[dem_dict['Bernie Sanders'][1]],\n",
    "    mode='markers',\n",
    "    marker=dict(\n",
    "        symbol='square',\n",
    "        color=area,\n",
    "    ),\n",
    "    opacity=0.9,\n",
    "    #fill='toself',\n",
    "    #fillcolor='#17becf',\n",
    ")\n",
    "\n",
    "\n",
    "for x in range(3):\n",
    "    pt = go.Scatter(\n",
    "        x=[dem_dict[names[x]][2]],\n",
    "        y=[dem_dict[names[x]][1]],\n",
    "        mode='markers+text',\n",
    "        marker=dict(color='black'),\n",
    "        text='<b>&#36;' + str(dem_dict[names[x]][2]) + '</b>',\n",
    "        textposition='top center',\n",
    "        textfont=dict(\n",
    "            family='verdana',\n",
    "            color=None,\n",
    "            size=10\n",
    "        )\n",
    "    )\n",
    "    \n",
    "    span = go.Scatter(\n",
    "        x=[dem_dict[names[x]][2]-.5, dem_dict[names[x]][2]+.5,\n",
    "           dem_dict[names[x]][2]+.5, dem_dict[names[x]][2]-.5],\n",
    "        y=[dem_dict[names[x]][1]+500]*2 + [dem_dict[names[x]][1]-500]*2,\n",
    "        mode='lines',\n",
    "        #marker=dict(size=0, color='#17becf'),\n",
    "        line=dict(width=0, color='#17becf'),\n",
    "        fill='toself',\n",
    "        #opacity=0.5\n",
    "    )\n",
    "    \n",
    "    fig.append_trace(span, x+1, 1)\n",
    "    fig.append_trace(pt, x+1, 1)\n",
    "    \n",
    "\n",
    "fig.append_trace(box_bernie, 3, 1)\n",
    "\n",
    "pics = []\n",
    "pnames = []\n",
    "p_xpos = -.17\n",
    "p_ypos = 90\n",
    "for i, n in enumerate(names):\n",
    "    pics.append(dict(\n",
    "        source=dem_dict[n][4],\n",
    "        xref='paper',\n",
    "        yref='y' + str(i+1),\n",
    "        x=p_xpos,\n",
    "        y=dem_dict[n][1] + p_ypos,\n",
    "        sizex= .1, # overridden by smaller dimension\n",
    "        sizey= 1000,\n",
    "        xanchor= \"center\",\n",
    "        yanchor= \"middle\"\n",
    "        ))\n",
    "    pnames.append(dict(\n",
    "        text=n.replace(' ', '<br>'),\n",
    "        font=dict(\n",
    "            family='verdana',\n",
    "            size=10,\n",
    "            color='black',\n",
    "        ),\n",
    "        x=p_xpos,\n",
    "        y=dem_dict[n][1] + p_ypos,\n",
    "        xref='paper',\n",
    "        yref='y' + str(i+1),\n",
    "        yshift=-35,\n",
    "        align='center',\n",
    "        xanchor='center',\n",
    "        showarrow=False,\n",
    "        ))\n",
    "\n",
    "fig['layout'].update(font=dict(\n",
    "                         family='verdana',\n",
    "                         size=11,\n",
    "                     ),\n",
    "                     title=dict(\n",
    "                         text='How accurate are first day donation averages?',\n",
    "                         font=dict(\n",
    "                             family='verdana',\n",
    "                             size=16,\n",
    "                             color=None,\n",
    "                         ),\n",
    "                         #xref='paper',\n",
    "                         yref='paper',\n",
    "                         y=1.0,\n",
    "                         yanchor='bottom',\n",
    "                         #xanchor='right',\n",
    "                         pad=dict( # unit: pixels\n",
    "                             b=50,\n",
    "                         ),\n",
    "                     ),\n",
    "                     width=600-20,\n",
    "                     height=700,\n",
    "                     showlegend=False,\n",
    "                     images=pics,\n",
    "                    )\n",
    "\n",
    "k_mid = (k_xmin + k_xmax) / 2.0\n",
    "b_mid = (b_xmin + b_xmax) / 2.0\n",
    "b_width = b_mid - dem_dict[\"Beto O'Rourke\"][2] + 1\n",
    "\n",
    "fig['layout']['xaxis1'].update(range=[k_mid-b_width, k_mid+b_width],\n",
    "                               tickmode='linear',\n",
    "                               dtick=1,\n",
    "                               tickprefix='$',\n",
    "                               showtickprefix='first')\n",
    "\n",
    "fig['layout']['xaxis2'].update(range=[b_mid-b_width, b_mid+b_width],\n",
    "                               scaleanchor='x',\n",
    "                               dtick=1,\n",
    "                               tickprefix='$',\n",
    "                               showtickprefix='first')\n",
    "\n",
    "fig['layout']['xaxis3'].update(range=[bernie_exact-b_width, bernie_exact+b_width],\n",
    "                               scaleanchor='x',\n",
    "                               dtick=1,\n",
    "                               tickprefix='$',\n",
    "                               showtickprefix='first',\n",
    "                               title=dict(\n",
    "                                   text='<b>Average Donation</b>',\n",
    "                                   font=dict(\n",
    "                                       family=None,\n",
    "                                       size=11,\n",
    "                                       color=None,\n",
    "                                   )\n",
    "                               ))\n",
    "\n",
    "fig['layout']['yaxis1'].update(range=[k_ymin-250, k_ymax+250],\n",
    "                              )#dtick=1000)\n",
    "fig['layout']['yaxis2'].update(scaleanchor='y',\n",
    "                              )#dtick=1)\n",
    "fig['layout']['yaxis3'].update(scaleanchor='y',\n",
    "                              )#dtick=1)\n",
    "\n",
    "fig['layout'].update(margin=go.layout.Margin(\n",
    "                         l=120,\n",
    "                         r=60,\n",
    "                         pad=2,\n",
    "                         autoexpand=False,\n",
    "                     ),\n",
    "                    )\n",
    "\n",
    "num_xpos = 0.62\n",
    "fig['layout'].update(annotations=[dict(\n",
    "    text='03/23/2019<br>@jeremy_m_joseph',\n",
    "    font=dict(\n",
    "        family='Andale Mono',\n",
    "        size=10,\n",
    "        color='lightgray',\n",
    "    ),\n",
    "    x=1,\n",
    "    y=-.1,\n",
    "    xref='paper',\n",
    "    yref='paper',\n",
    "    align='right',\n",
    "    xanchor='right',\n",
    "    yanchor='bottom',\n",
    "    showarrow=False,\n",
    "),\n",
    "    dict(\n",
    "    text='<b>Individual<br>Donors</b>',\n",
    "    font=dict(\n",
    "        family='verdana',\n",
    "        size=11,\n",
    "        color='black',\n",
    "    ),\n",
    "    x=0,\n",
    "    y=1.04,\n",
    "    xref='paper',\n",
    "    yref='paper',\n",
    "    align='right',\n",
    "    xanchor='right',\n",
    "    showarrow=False,\n",
    "),\n",
    "    dict(\n",
    "    text='&#36;' + '{:,}'.format(dem_dict[names[0]][0]) + \\\n",
    "         '<i> +/- ' + u\"\\u0024\" + '50,000</i><br>' + \\\n",
    "         '{:,}'.format(dem_dict[names[0]][1]) + '<i> +/- 500</i>',\n",
    "    font=dict(\n",
    "        family='verdana',\n",
    "        size=10,\n",
    "        color='black',\n",
    "    ),\n",
    "    x=num_xpos,\n",
    "    y=dem_dict[names[0]][1],\n",
    "    xref='paper',\n",
    "    yref='y1',\n",
    "    align='left',\n",
    "    xanchor='left',\n",
    "    showarrow=False,\n",
    "),\n",
    "    dict(\n",
    "    text='&#36;' + '{:,}'.format(dem_dict[names[1]][0]) + '<br>' + \\\n",
    "         '{:,}'.format(dem_dict[names[1]][1]) + '<i> +/- 500</i>',\n",
    "    font=dict(\n",
    "        family='verdana',\n",
    "        size=10,\n",
    "        color='black',\n",
    "    ),\n",
    "    x=num_xpos,\n",
    "    y=dem_dict[names[1]][1],\n",
    "    xref='paper',\n",
    "    yref='y2',\n",
    "    align='left',\n",
    "    xanchor='left',\n",
    "    showarrow=False,\n",
    "),\n",
    "    dict(\n",
    "    text=u\"\\u0024\" + '{:,}'.format(dem_dict[names[2]][0]) + '<br>' + \\\n",
    "         '{:,}'.format(dem_dict[names[2]][1]),\n",
    "    font=dict(\n",
    "        family='verdana',\n",
    "        size=10,\n",
    "        color='black',\n",
    "    ),\n",
    "    x=num_xpos,\n",
    "    y=dem_dict[names[2]][1],\n",
    "    xref='paper',\n",
    "    yref='y3',\n",
    "    align='left',\n",
    "    xanchor='left',\n",
    "    showarrow=False,\n",
    "),\n",
    "    dict(\n",
    "    text='<i>Avg donation figure<br>' + \\\n",
    "         'released by campaign.<br>' + \\\n",
    "         'If accurate, the blue<br>' + \\\n",
    "         'box should touch the<br>' + 'gray area.',\n",
    "    font=dict(\n",
    "        family='verdana',\n",
    "        size=10,\n",
    "        color='gray',\n",
    "    ),\n",
    "    x=31.8,\n",
    "    y=38500,\n",
    "    xref='x1',\n",
    "    yref='y1',\n",
    "    align='left',\n",
    "    xanchor='left',\n",
    "    yanchor='top',\n",
    "    showarrow=False,\n",
    "#     axref='x1',\n",
    "#     ayref='y1',\n",
    "#     ax=34.5,\n",
    "#     ay=37700,\n",
    "),\n",
    "    dict(\n",
    "    text='<i>Gray area represents all possible <br>' + \\\n",
    "         'results for avg donation based on<br>' + \\\n",
    "         'approx. figures from campaign</i>',\n",
    "    font=dict(\n",
    "        family='verdana',\n",
    "        size=10,\n",
    "        color='gray',\n",
    "    ),\n",
    "    x=41,\n",
    "    y=38600,\n",
    "    xref='x1',\n",
    "    yref='y1',\n",
    "    align='left',\n",
    "    xanchor='left',\n",
    "    showarrow=False,\n",
    "#     axref='x1',\n",
    "#     ayref='y1',\n",
    "#     ax=34.5,\n",
    "#     ay=37700,\n",
    "),\n",
    "#     dict(\n",
    "#     text='<i>Light gray area<br>represents initial<br>' + \\\n",
    "#          'figure of 128,000<br>donations, not donors',\n",
    "#     font=dict(\n",
    "#         family='verdana',\n",
    "#         size=10,\n",
    "#         color='gray',\n",
    "#     ),\n",
    "#     x=48.95,\n",
    "#     y=112500,\n",
    "#     xref='x2',\n",
    "#     yref='y2',\n",
    "#     align='left',\n",
    "#     xanchor='left',\n",
    "#     yanchor='top',\n",
    "#     showarrow=False,\n",
    "# #     axref='x1',\n",
    "# #     ayref='y1',\n",
    "# #     ax=34.5,\n",
    "# #     ay=37700,\n",
    "# )\n",
    "    dict(\n",
    "    text='<i>Exact figures released<br>by campaign</i>',\n",
    "    font=dict(\n",
    "        family=None,\n",
    "        size=10,\n",
    "        color='gray',\n",
    "    ),\n",
    "    x=bernie_exact,\n",
    "    y=dem_dict['Bernie Sanders'][1],\n",
    "    xref='x3',\n",
    "    yref='y3',\n",
    "    align='right',\n",
    "    xanchor='right',\n",
    "    yanchor='middle',\n",
    "    showarrow=True,\n",
    "    arrowcolor='gray',\n",
    "    arrowwidth=1.2,\n",
    "    arrowhead=5,\n",
    "    arrowsize=1,\n",
    "    startstandoff=3,\n",
    "    axref='x3',\n",
    "    ayref='y3',\n",
    "    ax=24,\n",
    "    ay=dem_dict['Bernie Sanders'][1],\n",
    "    xshift=-10,\n",
    "),\n",
    "] + pnames)\n",
    "\n",
    "#fig['layout']['annotations'].append(pnames)\n",
    "\n",
    "plotly.offline.init_notebook_mode(connected=True)\n",
    "plotly.offline.iplot(fig)"
   ]
  },
  {
   "cell_type": "code",
   "execution_count": 841,
   "metadata": {},
   "outputs": [],
   "source": [
    "pio.write_image(fig, 'images/round4.png', format='png', scale=3.0)#, width=800-20, height=500)"
   ]
  },
  {
   "cell_type": "code",
   "execution_count": 645,
   "metadata": {},
   "outputs": [
    {
     "data": {
      "text/plain": [
       "[{'source': 'https://i.imgur.com/oDU7p8k.png',\n",
       "  'xref': 'paper',\n",
       "  'yref': 'y1',\n",
       "  'x': -0.17,\n",
       "  'y': 38090,\n",
       "  'sizex': 0.1,\n",
       "  'sizey': 1000,\n",
       "  'xanchor': 'center',\n",
       "  'yanchor': 'middle'},\n",
       " {'source': 'https://i.imgur.com/qLNftOJ.png',\n",
       "  'xref': 'paper',\n",
       "  'yref': 'y2',\n",
       "  'x': -0.17,\n",
       "  'y': 112090,\n",
       "  'sizex': 0.1,\n",
       "  'sizey': 1000,\n",
       "  'xanchor': 'center',\n",
       "  'yanchor': 'middle'},\n",
       " {'source': 'https://i.imgur.com/t8YoO1f.png',\n",
       "  'xref': 'paper',\n",
       "  'yref': 'y3',\n",
       "  'x': -0.17,\n",
       "  'y': 223137,\n",
       "  'sizex': 0.1,\n",
       "  'sizey': 1000,\n",
       "  'xanchor': 'center',\n",
       "  'yanchor': 'middle'}]"
      ]
     },
     "execution_count": 645,
     "metadata": {},
     "output_type": "execute_result"
    }
   ],
   "source": [
    "pics"
   ]
  },
  {
   "cell_type": "code",
   "execution_count": 646,
   "metadata": {},
   "outputs": [
    {
     "data": {
      "text/plain": [
       "2.5"
      ]
     },
     "execution_count": 646,
     "metadata": {},
     "output_type": "execute_result"
    }
   ],
   "source": [
    "5/2.0"
   ]
  },
  {
   "cell_type": "code",
   "execution_count": 742,
   "metadata": {},
   "outputs": [
    {
     "data": {
      "text/plain": [
       "[3, 3, 4, 4, 4, 4]"
      ]
     },
     "execution_count": 742,
     "metadata": {},
     "output_type": "execute_result"
    }
   ],
   "source": [
    "[3]*2 + [4]*4"
   ]
  },
  {
   "cell_type": "code",
   "execution_count": null,
   "metadata": {},
   "outputs": [],
   "source": []
  }
 ],
 "metadata": {
  "kernelspec": {
   "display_name": "Python 3",
   "language": "python",
   "name": "python3"
  },
  "language_info": {
   "codemirror_mode": {
    "name": "ipython",
    "version": 3
   },
   "file_extension": ".py",
   "mimetype": "text/x-python",
   "name": "python",
   "nbconvert_exporter": "python",
   "pygments_lexer": "ipython3",
   "version": "3.6.8"
  }
 },
 "nbformat": 4,
 "nbformat_minor": 2
}
