{
 "cells": [
  {
   "cell_type": "code",
   "execution_count": 2,
   "metadata": {},
   "outputs": [],
   "source": [
    "import plotly\n",
    "import plotly.graph_objs as go\n",
    "import plotly.io as pio"
   ]
  },
  {
   "cell_type": "code",
   "execution_count": 3,
   "metadata": {},
   "outputs": [],
   "source": [
    "# (CANDIDATE, TOTAL FUNDS, NUMBER OF DONATIONS, AVG DONATION)\n",
    "dem_dict = {'Kamala Harris' : (1500000, 38000, 37, '$1.5 M'),\n",
    "            'Beto O\\'Rourke' : (6136736, 112000, 47, '$6,136,736'), # formerly 128000\n",
    "            'Bernie Sanders' : (5925771, 223047, 27, '$5,925,771'),\n",
    "           }"
   ]
  },
  {
   "cell_type": "code",
   "execution_count": 4,
   "metadata": {},
   "outputs": [
    {
     "data": {
      "text/plain": [
       "['Kamala Harris<br>$1.5 M',\n",
       " \"Beto O'Rourke<br>$6,136,736\",\n",
       " 'Bernie Sanders<br>$5,925,771']"
      ]
     },
     "execution_count": 4,
     "metadata": {},
     "output_type": "execute_result"
    }
   ],
   "source": [
    "[[d for d in dem_dict.keys()][n] + \n",
    "          '<br>' +\n",
    "          ['$1.5 M', '$6,136,736', '$5,925,771'][n] for n in range(3)]"
   ]
  },
  {
   "cell_type": "code",
   "execution_count": 5,
   "metadata": {},
   "outputs": [
    {
     "data": {
      "text/html": [
       "<script type=\"text/javascript\">window.PlotlyConfig = {MathJaxConfig: 'local'};</script><script type=\"text/javascript\">if (window.MathJax) {MathJax.Hub.Config({SVG: {font: \"STIX-Web\"}});}</script><script>requirejs.config({paths: { 'plotly': ['https://cdn.plot.ly/plotly-latest.min']},});if(!window._Plotly) {require(['plotly'],function(plotly) {window._Plotly=plotly;});}</script>"
      ],
      "text/vnd.plotly.v1+html": [
       "<script type=\"text/javascript\">window.PlotlyConfig = {MathJaxConfig: 'local'};</script><script type=\"text/javascript\">if (window.MathJax) {MathJax.Hub.Config({SVG: {font: \"STIX-Web\"}});}</script><script>requirejs.config({paths: { 'plotly': ['https://cdn.plot.ly/plotly-latest.min']},});if(!window._Plotly) {require(['plotly'],function(plotly) {window._Plotly=plotly;});}</script>"
      ]
     },
     "metadata": {},
     "output_type": "display_data"
    },
    {
     "data": {
      "application/vnd.plotly.v1+json": {
       "config": {
        "linkText": "Export to plot.ly",
        "plotlyServerURL": "https://plot.ly",
        "showLink": false
       },
       "data": [
        {
         "marker": {
          "cmax": 50,
          "cmin": 25,
          "color": [
           37,
           47,
           27
          ],
          "colorbar": {
           "tickmode": "auto",
           "tickprefix": "$",
           "title": {
            "side": "right",
            "text": "Average Donation Amount"
           }
          },
          "colorscale": "Blues",
          "line": {
           "color": "rgb(8,48,107)",
           "width": 1.5
          }
         },
         "opacity": 0.8,
         "text": [
          "Kamala Harris<br>$1.5 M",
          "Beto O'Rourke<br>$6,136,736",
          "Bernie Sanders<br>$5,925,771"
         ],
         "textposition": "outside",
         "type": "bar",
         "uid": "3ff6be83-d054-4921-ad87-3e7712115588",
         "width": 25000,
         "x": [
          38000,
          128000,
          223047
         ],
         "y": [
          1500000,
          6136736,
          5925771
         ]
        }
       ],
       "layout": {
        "showlegend": false,
        "title": {
         "text": "First Day Fundraising By Democratic Candidates"
        },
        "xaxis": {
         "showgrid": true,
         "tickangle": 0,
         "title": {
          "text": "Number of Donations"
         },
         "zeroline": false
        },
        "yaxis": {
         "range": [
          0,
          7000000
         ],
         "title": {
          "text": "Money Raised [$]"
         }
        }
       }
      },
      "text/html": [
       "<div id=\"4030edd4-70e0-462e-87fd-9465254e5db8\" style=\"height: 525px; width: 100%;\" class=\"plotly-graph-div\"></div><script type=\"text/javascript\">require([\"plotly\"], function(Plotly) { window.PLOTLYENV=window.PLOTLYENV || {};window.PLOTLYENV.BASE_URL=\"https://plot.ly\";\n",
       "if (document.getElementById(\"4030edd4-70e0-462e-87fd-9465254e5db8\")) {\n",
       "    Plotly.newPlot(\"4030edd4-70e0-462e-87fd-9465254e5db8\", [{\"marker\": {\"cmax\": 50, \"cmin\": 25, \"color\": [37, 47, 27], \"colorbar\": {\"tickmode\": \"auto\", \"tickprefix\": \"$\", \"title\": {\"side\": \"right\", \"text\": \"Average Donation Amount\"}}, \"colorscale\": \"Blues\", \"line\": {\"color\": \"rgb(8,48,107)\", \"width\": 1.5}}, \"opacity\": 0.8, \"text\": [\"Kamala Harris<br>$1.5 M\", \"Beto O'Rourke<br>$6,136,736\", \"Bernie Sanders<br>$5,925,771\"], \"textposition\": \"outside\", \"width\": 25000, \"x\": [38000, 128000, 223047], \"y\": [1500000, 6136736, 5925771], \"type\": \"bar\", \"uid\": \"3ff6be83-d054-4921-ad87-3e7712115588\"}], {\"showlegend\": false, \"title\": {\"text\": \"First Day Fundraising By Democratic Candidates\"}, \"xaxis\": {\"showgrid\": true, \"tickangle\": 0, \"title\": {\"text\": \"Number of Donations\"}, \"zeroline\": false}, \"yaxis\": {\"range\": [0, 7000000], \"title\": {\"text\": \"Money Raised [$]\"}}}, {\"showLink\": false, \"linkText\": \"Export to plot.ly\", \"plotlyServerURL\": \"https://plot.ly\"}); \n",
       "}\n",
       "});</script><script type=\"text/javascript\">window.addEventListener(\"resize\", function(){if (document.getElementById(\"4030edd4-70e0-462e-87fd-9465254e5db8\")) {window._Plotly.Plots.resize(document.getElementById(\"4030edd4-70e0-462e-87fd-9465254e5db8\"));};})</script>"
      ],
      "text/vnd.plotly.v1+html": [
       "<div id=\"4030edd4-70e0-462e-87fd-9465254e5db8\" style=\"height: 525px; width: 100%;\" class=\"plotly-graph-div\"></div><script type=\"text/javascript\">require([\"plotly\"], function(Plotly) { window.PLOTLYENV=window.PLOTLYENV || {};window.PLOTLYENV.BASE_URL=\"https://plot.ly\";\n",
       "if (document.getElementById(\"4030edd4-70e0-462e-87fd-9465254e5db8\")) {\n",
       "    Plotly.newPlot(\"4030edd4-70e0-462e-87fd-9465254e5db8\", [{\"marker\": {\"cmax\": 50, \"cmin\": 25, \"color\": [37, 47, 27], \"colorbar\": {\"tickmode\": \"auto\", \"tickprefix\": \"$\", \"title\": {\"side\": \"right\", \"text\": \"Average Donation Amount\"}}, \"colorscale\": \"Blues\", \"line\": {\"color\": \"rgb(8,48,107)\", \"width\": 1.5}}, \"opacity\": 0.8, \"text\": [\"Kamala Harris<br>$1.5 M\", \"Beto O'Rourke<br>$6,136,736\", \"Bernie Sanders<br>$5,925,771\"], \"textposition\": \"outside\", \"width\": 25000, \"x\": [38000, 128000, 223047], \"y\": [1500000, 6136736, 5925771], \"type\": \"bar\", \"uid\": \"3ff6be83-d054-4921-ad87-3e7712115588\"}], {\"showlegend\": false, \"title\": {\"text\": \"First Day Fundraising By Democratic Candidates\"}, \"xaxis\": {\"showgrid\": true, \"tickangle\": 0, \"title\": {\"text\": \"Number of Donations\"}, \"zeroline\": false}, \"yaxis\": {\"range\": [0, 7000000], \"title\": {\"text\": \"Money Raised [$]\"}}}, {\"showLink\": false, \"linkText\": \"Export to plot.ly\", \"plotlyServerURL\": \"https://plot.ly\"}); \n",
       "}\n",
       "});</script><script type=\"text/javascript\">window.addEventListener(\"resize\", function(){if (document.getElementById(\"4030edd4-70e0-462e-87fd-9465254e5db8\")) {window._Plotly.Plots.resize(document.getElementById(\"4030edd4-70e0-462e-87fd-9465254e5db8\"));};})</script>"
      ]
     },
     "metadata": {},
     "output_type": "display_data"
    }
   ],
   "source": [
    "bars = go.Bar(\n",
    "    x=[d[1] for d in dem_dict.values()],\n",
    "    y=[d[0] for d in dem_dict.values()],\n",
    "    width=25000,\n",
    "    text=[[d for d in dem_dict.keys()][n] + \n",
    "          '<br>' +\n",
    "          [d[3] for d in dem_dict.values()][n] for n in range(3)],\n",
    "    textposition = 'outside',\n",
    "    marker=dict(\n",
    "        color=[d[2] for d in dem_dict.values()],#'rgb(158,202,225)',\n",
    "        cmin=25,\n",
    "        cmax=50,\n",
    "        colorscale='Blues',\n",
    "        line=dict(\n",
    "            color='rgb(8,48,107)',\n",
    "            width=1.5\n",
    "        ),\n",
    "        colorbar=dict(\n",
    "            title=dict(\n",
    "                text='Average Donation Amount',\n",
    "                side='right'\n",
    "            ),\n",
    "            tickmode = 'auto',\n",
    "            #tickvals = [2,50,100],\n",
    "            #ticktext = ['Hot','Mild','Cool'],\n",
    "            tickprefix = '$',\n",
    "        )\n",
    "    ),\n",
    "    opacity=0.8\n",
    ")\n",
    "\n",
    "data = [bars]\n",
    "\n",
    "layout = go.Layout(\n",
    "    title = \"First Day Fundraising By Democratic Candidates\",\n",
    "    showlegend = False,\n",
    "    xaxis=dict(\n",
    "        title='Number of Donations',\n",
    "        #range=[congressYears[0]-1, congressYears[-1]+1],\n",
    "        #tickmode='linear',\n",
    "        #tick0=congressYears[0]+(5-congressYears[0]%5),\n",
    "        #dtick=50000,\n",
    "        tickangle=0,\n",
    "        #showline=True,\n",
    "        showgrid=True,\n",
    "        zeroline=False\n",
    "    ),\n",
    "    yaxis=dict(\n",
    "        title='Money Raised [$]',\n",
    "        range=[0,7000000],\n",
    "#        tickmode='array',\n",
    "#        tickvals=range(30,101,5),\n",
    "#        ticktext=[str(n) if n%10==0 else ' ' for n in range(30,101,5)]\n",
    "    )\n",
    ")\n",
    "\n",
    "\n",
    "fig = go.Figure(data=data,layout=layout)\n",
    "plotly.offline.init_notebook_mode(connected=True)\n",
    "plotly.offline.iplot(fig)"
   ]
  },
  {
   "cell_type": "code",
   "execution_count": 401,
   "metadata": {},
   "outputs": [
    {
     "data": {
      "text/html": [
       "<script type=\"text/javascript\">window.PlotlyConfig = {MathJaxConfig: 'local'};</script><script type=\"text/javascript\">if (window.MathJax) {MathJax.Hub.Config({SVG: {font: \"STIX-Web\"}});}</script><script>requirejs.config({paths: { 'plotly': ['https://cdn.plot.ly/plotly-latest.min']},});if(!window._Plotly) {require(['plotly'],function(plotly) {window._Plotly=plotly;});}</script>"
      ],
      "text/vnd.plotly.v1+html": [
       "<script type=\"text/javascript\">window.PlotlyConfig = {MathJaxConfig: 'local'};</script><script type=\"text/javascript\">if (window.MathJax) {MathJax.Hub.Config({SVG: {font: \"STIX-Web\"}});}</script><script>requirejs.config({paths: { 'plotly': ['https://cdn.plot.ly/plotly-latest.min']},});if(!window._Plotly) {require(['plotly'],function(plotly) {window._Plotly=plotly;});}</script>"
      ]
     },
     "metadata": {},
     "output_type": "display_data"
    },
    {
     "data": {
      "application/vnd.plotly.v1+json": {
       "config": {
        "linkText": "Export to plot.ly",
        "plotlyServerURL": "https://plot.ly",
        "showLink": false
       },
       "data": [
        {
         "marker": {
          "cmax": 50,
          "cmin": 25,
          "color": [
           27,
           47,
           37
          ],
          "colorbar": {
           "tickmode": "auto",
           "title": {
            "side": "right",
            "text": "Average Donation Amount [$]"
           }
          },
          "colorscale": "Blues",
          "line": {
           "color": "rgb(8,48,107)",
           "width": 1.5
          }
         },
         "opacity": 0.8,
         "type": "bar",
         "uid": "322d48d1-b7fe-4580-b99f-e18aded682d5",
         "width": [
          223047,
          112000,
          38000
         ],
         "x": [
          111523.5,
          56000,
          19000
         ],
         "y": [
          5925771,
          6136736,
          1500000
         ]
        },
        {
         "mode": "text",
         "text": [
          "Bernie Sanders<br>$5,925,771",
          "Beto O'Rourke<br>$6,136,736",
          "Kamala Harris<br>$1.5 M"
         ],
         "textposition": "top right",
         "type": "scatter",
         "uid": "9246d4ea-e890-4e9e-84dd-df33e7804fe2",
         "x": [
          223047,
          112000,
          38000
         ],
         "y": [
          5925771,
          6136736,
          1500000
         ]
        }
       ],
       "layout": {
        "showlegend": false,
        "title": {
         "text": "First Day Fundraising By Democratic Candidates"
        },
        "xaxis": {
         "range": [
          0,
          265000
         ],
         "showgrid": true,
         "tickangle": 0,
         "title": {
          "text": "Number of Donations"
         },
         "zeroline": false
        },
        "yaxis": {
         "range": [
          0,
          7000000
         ],
         "title": {
          "text": "Money Raised [$]"
         }
        }
       }
      },
      "text/html": [
       "<div id=\"7f637669-fd25-46b5-b86a-22e20846f3ff\" style=\"height: 525px; width: 100%;\" class=\"plotly-graph-div\"></div><script type=\"text/javascript\">require([\"plotly\"], function(Plotly) { window.PLOTLYENV=window.PLOTLYENV || {};window.PLOTLYENV.BASE_URL=\"https://plot.ly\";\n",
       "if (document.getElementById(\"7f637669-fd25-46b5-b86a-22e20846f3ff\")) {\n",
       "    Plotly.newPlot(\"7f637669-fd25-46b5-b86a-22e20846f3ff\", [{\"marker\": {\"cmax\": 50, \"cmin\": 25, \"color\": [27, 47, 37], \"colorbar\": {\"tickmode\": \"auto\", \"title\": {\"side\": \"right\", \"text\": \"Average Donation Amount [$]\"}}, \"colorscale\": \"Blues\", \"line\": {\"color\": \"rgb(8,48,107)\", \"width\": 1.5}}, \"opacity\": 0.8, \"width\": [223047, 112000, 38000], \"x\": [111523.5, 56000.0, 19000.0], \"y\": [5925771, 6136736, 1500000], \"type\": \"bar\", \"uid\": \"322d48d1-b7fe-4580-b99f-e18aded682d5\"}, {\"mode\": \"text\", \"text\": [\"Bernie Sanders<br>$5,925,771\", \"Beto O'Rourke<br>$6,136,736\", \"Kamala Harris<br>$1.5 M\"], \"textposition\": \"top right\", \"x\": [223047, 112000, 38000], \"y\": [5925771, 6136736, 1500000], \"type\": \"scatter\", \"uid\": \"9246d4ea-e890-4e9e-84dd-df33e7804fe2\"}], {\"showlegend\": false, \"title\": {\"text\": \"First Day Fundraising By Democratic Candidates\"}, \"xaxis\": {\"range\": [0, 265000], \"showgrid\": true, \"tickangle\": 0, \"title\": {\"text\": \"Number of Donations\"}, \"zeroline\": false}, \"yaxis\": {\"range\": [0, 7000000], \"title\": {\"text\": \"Money Raised [$]\"}}}, {\"showLink\": false, \"linkText\": \"Export to plot.ly\", \"plotlyServerURL\": \"https://plot.ly\"}); \n",
       "}\n",
       "});</script><script type=\"text/javascript\">window.addEventListener(\"resize\", function(){if (document.getElementById(\"7f637669-fd25-46b5-b86a-22e20846f3ff\")) {window._Plotly.Plots.resize(document.getElementById(\"7f637669-fd25-46b5-b86a-22e20846f3ff\"));};})</script>"
      ],
      "text/vnd.plotly.v1+html": [
       "<div id=\"7f637669-fd25-46b5-b86a-22e20846f3ff\" style=\"height: 525px; width: 100%;\" class=\"plotly-graph-div\"></div><script type=\"text/javascript\">require([\"plotly\"], function(Plotly) { window.PLOTLYENV=window.PLOTLYENV || {};window.PLOTLYENV.BASE_URL=\"https://plot.ly\";\n",
       "if (document.getElementById(\"7f637669-fd25-46b5-b86a-22e20846f3ff\")) {\n",
       "    Plotly.newPlot(\"7f637669-fd25-46b5-b86a-22e20846f3ff\", [{\"marker\": {\"cmax\": 50, \"cmin\": 25, \"color\": [27, 47, 37], \"colorbar\": {\"tickmode\": \"auto\", \"title\": {\"side\": \"right\", \"text\": \"Average Donation Amount [$]\"}}, \"colorscale\": \"Blues\", \"line\": {\"color\": \"rgb(8,48,107)\", \"width\": 1.5}}, \"opacity\": 0.8, \"width\": [223047, 112000, 38000], \"x\": [111523.5, 56000.0, 19000.0], \"y\": [5925771, 6136736, 1500000], \"type\": \"bar\", \"uid\": \"322d48d1-b7fe-4580-b99f-e18aded682d5\"}, {\"mode\": \"text\", \"text\": [\"Bernie Sanders<br>$5,925,771\", \"Beto O'Rourke<br>$6,136,736\", \"Kamala Harris<br>$1.5 M\"], \"textposition\": \"top right\", \"x\": [223047, 112000, 38000], \"y\": [5925771, 6136736, 1500000], \"type\": \"scatter\", \"uid\": \"9246d4ea-e890-4e9e-84dd-df33e7804fe2\"}], {\"showlegend\": false, \"title\": {\"text\": \"First Day Fundraising By Democratic Candidates\"}, \"xaxis\": {\"range\": [0, 265000], \"showgrid\": true, \"tickangle\": 0, \"title\": {\"text\": \"Number of Donations\"}, \"zeroline\": false}, \"yaxis\": {\"range\": [0, 7000000], \"title\": {\"text\": \"Money Raised [$]\"}}}, {\"showLink\": false, \"linkText\": \"Export to plot.ly\", \"plotlyServerURL\": \"https://plot.ly\"}); \n",
       "}\n",
       "});</script><script type=\"text/javascript\">window.addEventListener(\"resize\", function(){if (document.getElementById(\"7f637669-fd25-46b5-b86a-22e20846f3ff\")) {window._Plotly.Plots.resize(document.getElementById(\"7f637669-fd25-46b5-b86a-22e20846f3ff\"));};})</script>"
      ]
     },
     "metadata": {},
     "output_type": "display_data"
    }
   ],
   "source": [
    "# (CANDIDATE : TOTAL $, NUMBER OF DONATIONS, AVG DONATION, TOTAL TXT, IMG URL)\n",
    "dem_dict = {'Bernie Sanders' : (5925771, 223047, 27, '$5,925,771', 'https://i.imgur.com/t8YoO1f.png'),\n",
    "            'Beto O\\'Rourke' : (6136736, 112000, 47, '$6,136,736', 'https://i.imgur.com/qLNftOJ.png'),\n",
    "            'Kamala Harris' : (1500000, 38000, 37, '$1.5 M', 'https://i.imgur.com/oDU7p8k.png'),\n",
    "           }\n",
    "\n",
    "bars = go.Bar(\n",
    "    x=[d[1]/2.0 for d in dem_dict.values()],\n",
    "    y=[d[0] for d in dem_dict.values()],\n",
    "    width=[d[1] for d in dem_dict.values()],\n",
    "#     text=[[d for d in dem_dict.keys()][n] + \n",
    "#           '<br>' +\n",
    "#           [d[3] for d in dem_dict.values()][n] for n in range(3)],\n",
    "#     textposition = 'outside',\n",
    "    marker=dict(\n",
    "        color=[d[2] for d in dem_dict.values()],#'rgb(158,202,225)',\n",
    "        cmin=25,\n",
    "        cmax=50,\n",
    "        colorscale='Blues',\n",
    "        line=dict(\n",
    "            color='rgb(8,48,107)',\n",
    "            width=1.5\n",
    "        ),\n",
    "        colorbar=dict(\n",
    "            title=dict(\n",
    "                text='Average Donation Amount [$]',\n",
    "                side='right'\n",
    "            ),\n",
    "            tickmode = 'auto',\n",
    "            #tickvals = [2,50,100],\n",
    "            #ticktext = ['Hot','Mild','Cool'],\n",
    "        )\n",
    "    ),\n",
    "    opacity=0.8\n",
    ")\n",
    "\n",
    "labels = go.Scatter(\n",
    "    x=[d[1] for d in dem_dict.values()],\n",
    "    y=[d[0] for d in dem_dict.values()],\n",
    "    mode='text',\n",
    "    text=[[d for d in dem_dict.keys()][n] + \n",
    "          '<br>' +\n",
    "          [d[3] for d in dem_dict.values()][n] for n in range(3)],\n",
    "    textposition='top right'\n",
    ")\n",
    "\n",
    "data = [bars, labels]\n",
    "\n",
    "layout = go.Layout(\n",
    "    title = \"First Day Fundraising By Democratic Candidates\",\n",
    "    showlegend = False,\n",
    "    xaxis=dict(\n",
    "        title='Number of Donations',\n",
    "        range=[0, 265000],\n",
    "        #tickmode='linear',\n",
    "        #tick0=congressYears[0]+(5-congressYears[0]%5),\n",
    "        #dtick=50000,\n",
    "        tickangle=0,\n",
    "        #showline=True,\n",
    "        showgrid=True,\n",
    "        zeroline=False\n",
    "    ),\n",
    "    yaxis=dict(\n",
    "        title='Money Raised [$]',\n",
    "        range=[0,7000000],\n",
    "#        tickmode='array',\n",
    "#        tickvals=range(30,101,5),\n",
    "#        ticktext=[str(n) if n%10==0 else ' ' for n in range(30,101,5)]\n",
    "    )\n",
    ")\n",
    "\n",
    "\n",
    "fig = go.Figure(data=data,layout=layout)\n",
    "plotly.offline.init_notebook_mode(connected=True)\n",
    "plotly.offline.iplot(fig)"
   ]
  },
  {
   "cell_type": "code",
   "execution_count": 202,
   "metadata": {},
   "outputs": [
    {
     "data": {
      "text/html": [
       "<script type=\"text/javascript\">window.PlotlyConfig = {MathJaxConfig: 'local'};</script><script type=\"text/javascript\">if (window.MathJax) {MathJax.Hub.Config({SVG: {font: \"STIX-Web\"}});}</script><script>requirejs.config({paths: { 'plotly': ['https://cdn.plot.ly/plotly-latest.min']},});if(!window._Plotly) {require(['plotly'],function(plotly) {window._Plotly=plotly;});}</script>"
      ],
      "text/vnd.plotly.v1+html": [
       "<script type=\"text/javascript\">window.PlotlyConfig = {MathJaxConfig: 'local'};</script><script type=\"text/javascript\">if (window.MathJax) {MathJax.Hub.Config({SVG: {font: \"STIX-Web\"}});}</script><script>requirejs.config({paths: { 'plotly': ['https://cdn.plot.ly/plotly-latest.min']},});if(!window._Plotly) {require(['plotly'],function(plotly) {window._Plotly=plotly;});}</script>"
      ]
     },
     "metadata": {},
     "output_type": "display_data"
    },
    {
     "data": {
      "application/vnd.plotly.v1+json": {
       "config": {
        "linkText": "Export to plot.ly",
        "plotlyServerURL": "https://plot.ly",
        "showLink": false
       },
       "data": [
        {
         "fill": "tozeroy",
         "mode": "none",
         "type": "scatter",
         "uid": "56301d62-3074-435b-b8fe-b30f662ac523",
         "x": [
          0,
          223047
         ],
         "y": [
          27,
          27
         ]
        },
        {
         "fill": "tozeroy",
         "mode": "none",
         "type": "scatter",
         "uid": "7164e8a3-2d69-4628-8a00-a87c6d7ca6e4",
         "x": [
          0,
          112000
         ],
         "y": [
          47,
          47
         ]
        },
        {
         "fill": "tozeroy",
         "mode": "none",
         "type": "scatter",
         "uid": "a5910f0c-e5fb-4d60-ab37-3f55c1e52e1c",
         "x": [
          0,
          38000
         ],
         "y": [
          37,
          37
         ]
        },
        {
         "mode": "text",
         "text": [
          "Bernie Sanders<br>$5,925,771",
          "Beto O'Rourke<br>$6,136,736",
          "Kamala Harris<br>$1.5 M"
         ],
         "textposition": "top right",
         "type": "scatter",
         "uid": "43ee40d3-0623-406c-b91a-38385b310e9b",
         "x": [
          223047,
          112000,
          38000
         ],
         "y": [
          27,
          47,
          37
         ]
        }
       ],
       "layout": {
        "showlegend": false,
        "title": {
         "text": "First Day Fundraising By Democratic Candidates"
        },
        "xaxis": {
         "range": [
          0,
          265000
         ],
         "showgrid": true,
         "tickangle": 0,
         "title": {
          "text": "Number of Donations"
         },
         "zeroline": false
        },
        "yaxis": {
         "range": [
          0,
          55
         ],
         "title": {
          "text": "Average Donation [$]"
         }
        }
       }
      },
      "text/html": [
       "<div id=\"f2a095de-47fb-4fc1-8699-4817725ab463\" style=\"height: 525px; width: 100%;\" class=\"plotly-graph-div\"></div><script type=\"text/javascript\">require([\"plotly\"], function(Plotly) { window.PLOTLYENV=window.PLOTLYENV || {};window.PLOTLYENV.BASE_URL=\"https://plot.ly\";\n",
       "if (document.getElementById(\"f2a095de-47fb-4fc1-8699-4817725ab463\")) {\n",
       "    Plotly.newPlot(\"f2a095de-47fb-4fc1-8699-4817725ab463\", [{\"fill\": \"tozeroy\", \"mode\": \"none\", \"x\": [0, 223047], \"y\": [27, 27], \"type\": \"scatter\", \"uid\": \"56301d62-3074-435b-b8fe-b30f662ac523\"}, {\"fill\": \"tozeroy\", \"mode\": \"none\", \"x\": [0, 112000], \"y\": [47, 47], \"type\": \"scatter\", \"uid\": \"7164e8a3-2d69-4628-8a00-a87c6d7ca6e4\"}, {\"fill\": \"tozeroy\", \"mode\": \"none\", \"x\": [0, 38000], \"y\": [37, 37], \"type\": \"scatter\", \"uid\": \"a5910f0c-e5fb-4d60-ab37-3f55c1e52e1c\"}, {\"mode\": \"text\", \"text\": [\"Bernie Sanders<br>$5,925,771\", \"Beto O'Rourke<br>$6,136,736\", \"Kamala Harris<br>$1.5 M\"], \"textposition\": \"top right\", \"x\": [223047, 112000, 38000], \"y\": [27, 47, 37], \"type\": \"scatter\", \"uid\": \"43ee40d3-0623-406c-b91a-38385b310e9b\"}], {\"showlegend\": false, \"title\": {\"text\": \"First Day Fundraising By Democratic Candidates\"}, \"xaxis\": {\"range\": [0, 265000], \"showgrid\": true, \"tickangle\": 0, \"title\": {\"text\": \"Number of Donations\"}, \"zeroline\": false}, \"yaxis\": {\"range\": [0, 55], \"title\": {\"text\": \"Average Donation [$]\"}}}, {\"showLink\": false, \"linkText\": \"Export to plot.ly\", \"plotlyServerURL\": \"https://plot.ly\"}); \n",
       "}\n",
       "});</script><script type=\"text/javascript\">window.addEventListener(\"resize\", function(){if (document.getElementById(\"f2a095de-47fb-4fc1-8699-4817725ab463\")) {window._Plotly.Plots.resize(document.getElementById(\"f2a095de-47fb-4fc1-8699-4817725ab463\"));};})</script>"
      ],
      "text/vnd.plotly.v1+html": [
       "<div id=\"f2a095de-47fb-4fc1-8699-4817725ab463\" style=\"height: 525px; width: 100%;\" class=\"plotly-graph-div\"></div><script type=\"text/javascript\">require([\"plotly\"], function(Plotly) { window.PLOTLYENV=window.PLOTLYENV || {};window.PLOTLYENV.BASE_URL=\"https://plot.ly\";\n",
       "if (document.getElementById(\"f2a095de-47fb-4fc1-8699-4817725ab463\")) {\n",
       "    Plotly.newPlot(\"f2a095de-47fb-4fc1-8699-4817725ab463\", [{\"fill\": \"tozeroy\", \"mode\": \"none\", \"x\": [0, 223047], \"y\": [27, 27], \"type\": \"scatter\", \"uid\": \"56301d62-3074-435b-b8fe-b30f662ac523\"}, {\"fill\": \"tozeroy\", \"mode\": \"none\", \"x\": [0, 112000], \"y\": [47, 47], \"type\": \"scatter\", \"uid\": \"7164e8a3-2d69-4628-8a00-a87c6d7ca6e4\"}, {\"fill\": \"tozeroy\", \"mode\": \"none\", \"x\": [0, 38000], \"y\": [37, 37], \"type\": \"scatter\", \"uid\": \"a5910f0c-e5fb-4d60-ab37-3f55c1e52e1c\"}, {\"mode\": \"text\", \"text\": [\"Bernie Sanders<br>$5,925,771\", \"Beto O'Rourke<br>$6,136,736\", \"Kamala Harris<br>$1.5 M\"], \"textposition\": \"top right\", \"x\": [223047, 112000, 38000], \"y\": [27, 47, 37], \"type\": \"scatter\", \"uid\": \"43ee40d3-0623-406c-b91a-38385b310e9b\"}], {\"showlegend\": false, \"title\": {\"text\": \"First Day Fundraising By Democratic Candidates\"}, \"xaxis\": {\"range\": [0, 265000], \"showgrid\": true, \"tickangle\": 0, \"title\": {\"text\": \"Number of Donations\"}, \"zeroline\": false}, \"yaxis\": {\"range\": [0, 55], \"title\": {\"text\": \"Average Donation [$]\"}}}, {\"showLink\": false, \"linkText\": \"Export to plot.ly\", \"plotlyServerURL\": \"https://plot.ly\"}); \n",
       "}\n",
       "});</script><script type=\"text/javascript\">window.addEventListener(\"resize\", function(){if (document.getElementById(\"f2a095de-47fb-4fc1-8699-4817725ab463\")) {window._Plotly.Plots.resize(document.getElementById(\"f2a095de-47fb-4fc1-8699-4817725ab463\"));};})</script>"
      ]
     },
     "metadata": {},
     "output_type": "display_data"
    }
   ],
   "source": [
    "bernie = go.Scatter(\n",
    "    x=[0, dem_dict['Bernie Sanders'][1]],\n",
    "    y=2*[dem_dict['Bernie Sanders'][2]],\n",
    "    mode='none',\n",
    "    fill='tozeroy'\n",
    ")\n",
    "\n",
    "kamala = go.Scatter(\n",
    "    x=[0, dem_dict['Kamala Harris'][1]],\n",
    "    y=2*[dem_dict['Kamala Harris'][2]],\n",
    "    mode='none',\n",
    "    fill='tozeroy'\n",
    ")\n",
    "\n",
    "beto = go.Scatter(\n",
    "    x=[0, dem_dict[\"Beto O'Rourke\"][1]],\n",
    "    y=2*[dem_dict[\"Beto O'Rourke\"][2]],\n",
    "    mode='none',\n",
    "    fill='tozeroy'\n",
    ")\n",
    "\n",
    "labels = go.Scatter(\n",
    "    x=[d[1] for d in dem_dict.values()],\n",
    "    y=[d[2] for d in dem_dict.values()],\n",
    "    mode='text',\n",
    "    text=[[d for d in dem_dict.keys()][n] + \n",
    "          '<br>' +\n",
    "          [d[3] for d in dem_dict.values()][n] for n in range(3)],\n",
    "    textposition='top right'\n",
    ")\n",
    "\n",
    "\n",
    "data = [bernie, beto, kamala, labels]\n",
    "\n",
    "layout = go.Layout(\n",
    "    title = \"First Day Fundraising By Democratic Candidates\",\n",
    "    showlegend = False,\n",
    "    xaxis=dict(\n",
    "        title='Number of Donations',\n",
    "        range=[0, 265000],\n",
    "        #tickmode='linear',\n",
    "        #tick0=congressYears[0]+(5-congressYears[0]%5),\n",
    "        #dtick=50000,\n",
    "        tickangle=0,\n",
    "        #showline=True,\n",
    "        showgrid=True,\n",
    "        zeroline=False\n",
    "    ),\n",
    "    yaxis=dict(\n",
    "        title='Average Donation [$]',\n",
    "        range=[0,55],\n",
    "#        tickmode='array',\n",
    "#        tickvals=range(30,101,5),\n",
    "#        ticktext=[str(n) if n%10==0 else ' ' for n in range(30,101,5)]\n",
    "    )\n",
    ")\n",
    "\n",
    "\n",
    "fig = go.Figure(data=data,layout=layout)\n",
    "plotly.offline.init_notebook_mode(connected=True)\n",
    "plotly.offline.iplot(fig)"
   ]
  },
  {
   "cell_type": "code",
   "execution_count": 208,
   "metadata": {},
   "outputs": [
    {
     "data": {
      "text/html": [
       "<script type=\"text/javascript\">window.PlotlyConfig = {MathJaxConfig: 'local'};</script><script type=\"text/javascript\">if (window.MathJax) {MathJax.Hub.Config({SVG: {font: \"STIX-Web\"}});}</script><script>requirejs.config({paths: { 'plotly': ['https://cdn.plot.ly/plotly-latest.min']},});if(!window._Plotly) {require(['plotly'],function(plotly) {window._Plotly=plotly;});}</script>"
      ],
      "text/vnd.plotly.v1+html": [
       "<script type=\"text/javascript\">window.PlotlyConfig = {MathJaxConfig: 'local'};</script><script type=\"text/javascript\">if (window.MathJax) {MathJax.Hub.Config({SVG: {font: \"STIX-Web\"}});}</script><script>requirejs.config({paths: { 'plotly': ['https://cdn.plot.ly/plotly-latest.min']},});if(!window._Plotly) {require(['plotly'],function(plotly) {window._Plotly=plotly;});}</script>"
      ]
     },
     "metadata": {},
     "output_type": "display_data"
    },
    {
     "data": {
      "application/vnd.plotly.v1+json": {
       "config": {
        "linkText": "Export to plot.ly",
        "plotlyServerURL": "https://plot.ly",
        "showLink": false
       },
       "data": [
        {
         "fill": "tozeroy",
         "mode": "none",
         "type": "scatter",
         "uid": "5f080465-2041-4664-abd5-d01e32d1b24e",
         "x": [
          0,
          26.56736472582012
         ],
         "y": [
          223047,
          223047
         ]
        },
        {
         "fill": "tozeroy",
         "mode": "none",
         "type": "scatter",
         "uid": "412c25c0-dd12-42e0-975c-a9af9be86825",
         "x": [
          0,
          54.79228571428571
         ],
         "y": [
          112000,
          112000
         ]
        },
        {
         "fill": "tozeroy",
         "mode": "none",
         "type": "scatter",
         "uid": "fa514457-6a1d-4526-a31a-ea55e5c5d4a7",
         "x": [
          0,
          39.473684210526315
         ],
         "y": [
          38000,
          38000
         ]
        },
        {
         "mode": "text",
         "text": [
          "<b>Bernie Sanders</b><br>$5,925,771<br>223,047 donations<br>&#36;27 avg",
          "<b>Beto O'Rourke</b><br>$6,136,736<br>112,000 donations<br>&#36;47 avg",
          "<b>Kamala Harris</b><br>$1.5 M<br>38,000 donations<br>&#36;37 avg"
         ],
         "textfont": {
          "family": "verdana",
          "size": 10
         },
         "textposition": "top right",
         "type": "scatter",
         "uid": "32e22026-c5d4-4dc7-9aef-197f5b85b346",
         "x": [
          27,
          47,
          37
         ],
         "y": [
          223047,
          112000,
          38000
         ]
        },
        {
         "mode": "text",
         "text": [
          "<i>&#36;26.57 avg<br>(calculated)</i>",
          "<i>&#36;54.79 avg<br>(calculated)</i>",
          "<i>&#36;39.47 avg<br>(calculated)</i>"
         ],
         "textfont": {
          "family": "verdana",
          "size": 10
         },
         "textposition": "top right",
         "type": "scatter",
         "uid": "28f505cb-dce9-4a0d-aaee-dd15e938ab87",
         "x": [
          26.56736472582012,
          54.79228571428571,
          39.473684210526315
         ],
         "y": [
          0,
          0,
          0
         ]
        },
        {
         "line": {
          "color": "black",
          "dash": "dash",
          "width": 1
         },
         "mode": "lines",
         "type": "scatter",
         "uid": "4e1d2602-3b36-401c-8d9b-53873a9e570d",
         "x": [
          27,
          27
         ],
         "y": [
          13000,
          223047
         ]
        },
        {
         "line": {
          "color": "black",
          "dash": "dash",
          "width": 1
         },
         "mode": "lines",
         "type": "scatter",
         "uid": "62fedb55-2b3e-48ac-86d4-6804ba0d69fe",
         "x": [
          47,
          47
         ],
         "y": [
          0,
          112000
         ]
        },
        {
         "line": {
          "color": "black",
          "dash": "dash",
          "width": 1
         },
         "mode": "lines",
         "type": "scatter",
         "uid": "5691a639-2804-4b00-923a-28a8c6fefaf7",
         "x": [
          37,
          37
         ],
         "y": [
          0,
          38000
         ]
        }
       ],
       "layout": {
        "autosize": false,
        "height": 700,
        "images": [
         {
          "sizex": 5,
          "sizey": 25000,
          "source": "https://i.imgur.com/t8YoO1f.png",
          "x": 26.7,
          "xanchor": "right",
          "xref": "x",
          "y": 223547,
          "yanchor": "bottom",
          "yref": "y"
         },
         {
          "sizex": 5,
          "sizey": 25000,
          "source": "https://i.imgur.com/qLNftOJ.png",
          "x": 46.7,
          "xanchor": "right",
          "xref": "x",
          "y": 112500,
          "yanchor": "bottom",
          "yref": "y"
         },
         {
          "sizex": 5,
          "sizey": 25000,
          "source": "https://i.imgur.com/oDU7p8k.png",
          "x": 36.7,
          "xanchor": "right",
          "xref": "x",
          "y": 38500,
          "yanchor": "bottom",
          "yref": "y"
         }
        ],
        "showlegend": false,
        "title": {
         "font": {
          "size": 20
         },
         "pad": {
          "b": 20
         },
         "text": "First Day Fundraising By Democratic Candidates",
         "xref": "paper",
         "y": 1,
         "yanchor": "bottom",
         "yref": "paper"
        },
        "width": 800,
        "xaxis": {
         "gridcolor": "#eeeeee",
         "range": [
          0,
          65
         ],
         "showgrid": true,
         "tickangle": 0,
         "tickfont": {
          "size": 11
         },
         "tickprefix": "$",
         "title": {
          "font": {
           "size": 12
          },
          "text": "<b>Average Donation</b>"
         },
         "zeroline": false
        },
        "yaxis": {
         "gridcolor": "#eeeeee",
         "range": [
          0,
          265000
         ],
         "showgrid": true,
         "tickfont": {
          "size": 11
         },
         "title": {
          "font": {
           "size": 12
          },
          "text": "<b>Number of Donations</b><br>&#8192;"
         }
        }
       }
      },
      "text/html": [
       "<div id=\"6a49ccd4-2f47-403e-a266-0fd33fcb90a1\" style=\"height: 700px; width: 800px;\" class=\"plotly-graph-div\"></div><script type=\"text/javascript\">require([\"plotly\"], function(Plotly) { window.PLOTLYENV=window.PLOTLYENV || {};window.PLOTLYENV.BASE_URL=\"https://plot.ly\";\n",
       "if (document.getElementById(\"6a49ccd4-2f47-403e-a266-0fd33fcb90a1\")) {\n",
       "    Plotly.newPlot(\"6a49ccd4-2f47-403e-a266-0fd33fcb90a1\", [{\"fill\": \"tozeroy\", \"mode\": \"none\", \"x\": [0, 26.56736472582012], \"y\": [223047, 223047], \"type\": \"scatter\", \"uid\": \"5f080465-2041-4664-abd5-d01e32d1b24e\"}, {\"fill\": \"tozeroy\", \"mode\": \"none\", \"x\": [0, 54.79228571428571], \"y\": [112000, 112000], \"type\": \"scatter\", \"uid\": \"412c25c0-dd12-42e0-975c-a9af9be86825\"}, {\"fill\": \"tozeroy\", \"mode\": \"none\", \"x\": [0, 39.473684210526315], \"y\": [38000, 38000], \"type\": \"scatter\", \"uid\": \"fa514457-6a1d-4526-a31a-ea55e5c5d4a7\"}, {\"mode\": \"text\", \"text\": [\"<b>Bernie Sanders</b><br>$5,925,771<br>223,047 donations<br>&#36;27 avg\", \"<b>Beto O'Rourke</b><br>$6,136,736<br>112,000 donations<br>&#36;47 avg\", \"<b>Kamala Harris</b><br>$1.5 M<br>38,000 donations<br>&#36;37 avg\"], \"textfont\": {\"family\": \"verdana\", \"size\": 10}, \"textposition\": \"top right\", \"x\": [27, 47, 37], \"y\": [223047, 112000, 38000], \"type\": \"scatter\", \"uid\": \"32e22026-c5d4-4dc7-9aef-197f5b85b346\"}, {\"mode\": \"text\", \"text\": [\"<i>&#36;26.57 avg<br>(calculated)</i>\", \"<i>&#36;54.79 avg<br>(calculated)</i>\", \"<i>&#36;39.47 avg<br>(calculated)</i>\"], \"textfont\": {\"family\": \"verdana\", \"size\": 10}, \"textposition\": \"top right\", \"x\": [26.56736472582012, 54.79228571428571, 39.473684210526315], \"y\": [0, 0, 0], \"type\": \"scatter\", \"uid\": \"28f505cb-dce9-4a0d-aaee-dd15e938ab87\"}, {\"line\": {\"color\": \"black\", \"dash\": \"dash\", \"width\": 1.0}, \"mode\": \"lines\", \"x\": [27, 27], \"y\": [13000, 223047], \"type\": \"scatter\", \"uid\": \"4e1d2602-3b36-401c-8d9b-53873a9e570d\"}, {\"line\": {\"color\": \"black\", \"dash\": \"dash\", \"width\": 1.0}, \"mode\": \"lines\", \"x\": [47, 47], \"y\": [0, 112000], \"type\": \"scatter\", \"uid\": \"62fedb55-2b3e-48ac-86d4-6804ba0d69fe\"}, {\"line\": {\"color\": \"black\", \"dash\": \"dash\", \"width\": 1.0}, \"mode\": \"lines\", \"x\": [37, 37], \"y\": [0, 38000], \"type\": \"scatter\", \"uid\": \"5691a639-2804-4b00-923a-28a8c6fefaf7\"}], {\"autosize\": false, \"height\": 700, \"images\": [{\"sizex\": 5, \"sizey\": 25000, \"source\": \"https://i.imgur.com/t8YoO1f.png\", \"x\": 26.7, \"xanchor\": \"right\", \"xref\": \"x\", \"y\": 223547, \"yanchor\": \"bottom\", \"yref\": \"y\"}, {\"sizex\": 5, \"sizey\": 25000, \"source\": \"https://i.imgur.com/qLNftOJ.png\", \"x\": 46.7, \"xanchor\": \"right\", \"xref\": \"x\", \"y\": 112500, \"yanchor\": \"bottom\", \"yref\": \"y\"}, {\"sizex\": 5, \"sizey\": 25000, \"source\": \"https://i.imgur.com/oDU7p8k.png\", \"x\": 36.7, \"xanchor\": \"right\", \"xref\": \"x\", \"y\": 38500, \"yanchor\": \"bottom\", \"yref\": \"y\"}], \"showlegend\": false, \"title\": {\"font\": {\"size\": 20}, \"pad\": {\"b\": 20}, \"text\": \"First Day Fundraising By Democratic Candidates\", \"xref\": \"paper\", \"y\": 1.0, \"yanchor\": \"bottom\", \"yref\": \"paper\"}, \"width\": 800, \"xaxis\": {\"gridcolor\": \"#eeeeee\", \"range\": [0, 65], \"showgrid\": true, \"tickangle\": 0, \"tickfont\": {\"size\": 11}, \"tickprefix\": \"$\", \"title\": {\"font\": {\"size\": 12}, \"text\": \"<b>Average Donation</b>\"}, \"zeroline\": false}, \"yaxis\": {\"gridcolor\": \"#eeeeee\", \"range\": [0, 265000], \"showgrid\": true, \"tickfont\": {\"size\": 11}, \"title\": {\"font\": {\"size\": 12}, \"text\": \"<b>Number of Donations</b><br>&#8192;\"}}}, {\"showLink\": false, \"linkText\": \"Export to plot.ly\", \"plotlyServerURL\": \"https://plot.ly\"}); \n",
       "}\n",
       "});</script>"
      ],
      "text/vnd.plotly.v1+html": [
       "<div id=\"6a49ccd4-2f47-403e-a266-0fd33fcb90a1\" style=\"height: 700px; width: 800px;\" class=\"plotly-graph-div\"></div><script type=\"text/javascript\">require([\"plotly\"], function(Plotly) { window.PLOTLYENV=window.PLOTLYENV || {};window.PLOTLYENV.BASE_URL=\"https://plot.ly\";\n",
       "if (document.getElementById(\"6a49ccd4-2f47-403e-a266-0fd33fcb90a1\")) {\n",
       "    Plotly.newPlot(\"6a49ccd4-2f47-403e-a266-0fd33fcb90a1\", [{\"fill\": \"tozeroy\", \"mode\": \"none\", \"x\": [0, 26.56736472582012], \"y\": [223047, 223047], \"type\": \"scatter\", \"uid\": \"5f080465-2041-4664-abd5-d01e32d1b24e\"}, {\"fill\": \"tozeroy\", \"mode\": \"none\", \"x\": [0, 54.79228571428571], \"y\": [112000, 112000], \"type\": \"scatter\", \"uid\": \"412c25c0-dd12-42e0-975c-a9af9be86825\"}, {\"fill\": \"tozeroy\", \"mode\": \"none\", \"x\": [0, 39.473684210526315], \"y\": [38000, 38000], \"type\": \"scatter\", \"uid\": \"fa514457-6a1d-4526-a31a-ea55e5c5d4a7\"}, {\"mode\": \"text\", \"text\": [\"<b>Bernie Sanders</b><br>$5,925,771<br>223,047 donations<br>&#36;27 avg\", \"<b>Beto O'Rourke</b><br>$6,136,736<br>112,000 donations<br>&#36;47 avg\", \"<b>Kamala Harris</b><br>$1.5 M<br>38,000 donations<br>&#36;37 avg\"], \"textfont\": {\"family\": \"verdana\", \"size\": 10}, \"textposition\": \"top right\", \"x\": [27, 47, 37], \"y\": [223047, 112000, 38000], \"type\": \"scatter\", \"uid\": \"32e22026-c5d4-4dc7-9aef-197f5b85b346\"}, {\"mode\": \"text\", \"text\": [\"<i>&#36;26.57 avg<br>(calculated)</i>\", \"<i>&#36;54.79 avg<br>(calculated)</i>\", \"<i>&#36;39.47 avg<br>(calculated)</i>\"], \"textfont\": {\"family\": \"verdana\", \"size\": 10}, \"textposition\": \"top right\", \"x\": [26.56736472582012, 54.79228571428571, 39.473684210526315], \"y\": [0, 0, 0], \"type\": \"scatter\", \"uid\": \"28f505cb-dce9-4a0d-aaee-dd15e938ab87\"}, {\"line\": {\"color\": \"black\", \"dash\": \"dash\", \"width\": 1.0}, \"mode\": \"lines\", \"x\": [27, 27], \"y\": [13000, 223047], \"type\": \"scatter\", \"uid\": \"4e1d2602-3b36-401c-8d9b-53873a9e570d\"}, {\"line\": {\"color\": \"black\", \"dash\": \"dash\", \"width\": 1.0}, \"mode\": \"lines\", \"x\": [47, 47], \"y\": [0, 112000], \"type\": \"scatter\", \"uid\": \"62fedb55-2b3e-48ac-86d4-6804ba0d69fe\"}, {\"line\": {\"color\": \"black\", \"dash\": \"dash\", \"width\": 1.0}, \"mode\": \"lines\", \"x\": [37, 37], \"y\": [0, 38000], \"type\": \"scatter\", \"uid\": \"5691a639-2804-4b00-923a-28a8c6fefaf7\"}], {\"autosize\": false, \"height\": 700, \"images\": [{\"sizex\": 5, \"sizey\": 25000, \"source\": \"https://i.imgur.com/t8YoO1f.png\", \"x\": 26.7, \"xanchor\": \"right\", \"xref\": \"x\", \"y\": 223547, \"yanchor\": \"bottom\", \"yref\": \"y\"}, {\"sizex\": 5, \"sizey\": 25000, \"source\": \"https://i.imgur.com/qLNftOJ.png\", \"x\": 46.7, \"xanchor\": \"right\", \"xref\": \"x\", \"y\": 112500, \"yanchor\": \"bottom\", \"yref\": \"y\"}, {\"sizex\": 5, \"sizey\": 25000, \"source\": \"https://i.imgur.com/oDU7p8k.png\", \"x\": 36.7, \"xanchor\": \"right\", \"xref\": \"x\", \"y\": 38500, \"yanchor\": \"bottom\", \"yref\": \"y\"}], \"showlegend\": false, \"title\": {\"font\": {\"size\": 20}, \"pad\": {\"b\": 20}, \"text\": \"First Day Fundraising By Democratic Candidates\", \"xref\": \"paper\", \"y\": 1.0, \"yanchor\": \"bottom\", \"yref\": \"paper\"}, \"width\": 800, \"xaxis\": {\"gridcolor\": \"#eeeeee\", \"range\": [0, 65], \"showgrid\": true, \"tickangle\": 0, \"tickfont\": {\"size\": 11}, \"tickprefix\": \"$\", \"title\": {\"font\": {\"size\": 12}, \"text\": \"<b>Average Donation</b>\"}, \"zeroline\": false}, \"yaxis\": {\"gridcolor\": \"#eeeeee\", \"range\": [0, 265000], \"showgrid\": true, \"tickfont\": {\"size\": 11}, \"title\": {\"font\": {\"size\": 12}, \"text\": \"<b>Number of Donations</b><br>&#8192;\"}}}, {\"showLink\": false, \"linkText\": \"Export to plot.ly\", \"plotlyServerURL\": \"https://plot.ly\"}); \n",
       "}\n",
       "});</script>"
      ]
     },
     "metadata": {},
     "output_type": "display_data"
    }
   ],
   "source": [
    "bernie = go.Scatter(\n",
    "    x=[0, float(dem_dict['Bernie Sanders'][0])/dem_dict['Bernie Sanders'][1]],\n",
    "    y=2*[dem_dict['Bernie Sanders'][1]],\n",
    "    mode='none',\n",
    "    fill='tozeroy'\n",
    ")\n",
    "\n",
    "kamala = go.Scatter(\n",
    "    x=[0, float(dem_dict['Kamala Harris'][0])/dem_dict['Kamala Harris'][1]],\n",
    "    y=2*[dem_dict['Kamala Harris'][1]],\n",
    "    mode='none',\n",
    "    fill='tozeroy'\n",
    ")\n",
    "\n",
    "beto = go.Scatter(\n",
    "    x=[0, float(dem_dict[\"Beto O'Rourke\"][0])/dem_dict[\"Beto O'Rourke\"][1]],\n",
    "    y=2*[dem_dict[\"Beto O'Rourke\"][1]],\n",
    "    mode='none',\n",
    "    fill='tozeroy'\n",
    ")\n",
    "\n",
    "\n",
    "labels = go.Scatter(\n",
    "    x=[d[2] for d in dem_dict.values()],\n",
    "    y=[d[1] for d in dem_dict.values()],\n",
    "    mode='text',\n",
    "    text=['<b>' + [d for d in dem_dict.keys()][n] + '</b>'\n",
    "          '<br>' +\n",
    "          [d[3] for d in dem_dict.values()][n] +\n",
    "          '<br>' +\n",
    "          '{:,}'.format([d[1] for d in dem_dict.values()][n]) + ' donations' + \n",
    "          '<br>' +\n",
    "          '&#36;' + str([d[2] for d in dem_dict.values()][n]) + ' avg'\n",
    "          for n in range(3)],\n",
    "    textposition='top right',\n",
    "    textfont=dict(\n",
    "        family='verdana',        \n",
    "        color=None,\n",
    "        size=10\n",
    "    )\n",
    ")\n",
    "\n",
    "error = []\n",
    "for d in dem_dict.values():\n",
    "    error.append(go.Scatter(\n",
    "        x=[d[2]] * 2,\n",
    "        y=[0, d[1]],\n",
    "        mode='lines',\n",
    "        line=dict(\n",
    "            color='black',\n",
    "            width=1.0,\n",
    "            dash='dash',\n",
    "        ),\n",
    "    ))\n",
    "    \n",
    "error[0].update(y = [13000, dem_dict['Bernie Sanders'][1]])\n",
    "    \n",
    "error_labels = go.Scatter(\n",
    "    x=[float(d[0])/d[1] for d in dem_dict.values()],\n",
    "    y=[0]*3,\n",
    "    mode='text',\n",
    "    #text=['{:2}'.format(float(dem_dict[n][0])/dem_dict[n][1]) for n in range(3)],\n",
    "    text=['<i>&#36;' + \n",
    "          '{:.2f}'.format(float(d[0])/d[1]) + ' avg' +\n",
    "          '<br>(calculated)</i>'\n",
    "          for d in dem_dict.values()],\n",
    "    textposition='top right',\n",
    "    textfont=dict(\n",
    "        family='verdana',        \n",
    "        color=None,\n",
    "        size=10\n",
    "    )\n",
    ")\n",
    "\n",
    "data = [bernie, beto, kamala, labels, error_labels] + error\n",
    "\n",
    "y_adj = 500\n",
    "x_adj = -0.3\n",
    "\n",
    "gray = '#eeeeee'\n",
    "\n",
    "layout = go.Layout(\n",
    "    font=dict(\n",
    "        family=None,\n",
    "    ),\n",
    "    title=dict(\n",
    "        text=\"First Day Fundraising By Democratic Candidates\",\n",
    "        font=dict(\n",
    "            family=None,\n",
    "            size=20,\n",
    "            color=None,\n",
    "        ),\n",
    "        xref='paper',\n",
    "        yref='paper',\n",
    "        y=1.0,\n",
    "        yanchor='bottom',\n",
    "        pad=dict( # unit: pixels\n",
    "            b=20,\n",
    "        ),\n",
    "    ),\n",
    "    autosize=False,\n",
    "    width=800,\n",
    "    height=700,\n",
    "    showlegend = False,\n",
    "    xaxis=dict(\n",
    "        title=dict(\n",
    "            text='<b>Average Donation</b>',\n",
    "            font=dict(\n",
    "                family=None,\n",
    "                size=12,\n",
    "                color=None,\n",
    "            )\n",
    "        ),\n",
    "        range=[0,65],\n",
    "        #tickmode='linear',\n",
    "        #tick0=congressYears[0]+(5-congressYears[0]%5),\n",
    "        #dtick=50000,\n",
    "        tickfont=dict(\n",
    "            family=None,\n",
    "            size=11,\n",
    "            color=None,\n",
    "        ),\n",
    "        tickprefix=\"$\",\n",
    "        tickangle=0,\n",
    "        #showline=True,\n",
    "        showgrid=True,\n",
    "        gridcolor=gray,\n",
    "        gridwidth=None,\n",
    "        zeroline=False\n",
    "    ),\n",
    "    yaxis=dict(\n",
    "        title=dict(\n",
    "            text='<b>Number of Donations</b><br>&#8192;', # whitespace\n",
    "            font=dict(\n",
    "                family=None,\n",
    "                size=12,\n",
    "                color=None,\n",
    "            )\n",
    "        ),\n",
    "        range=[0, 265000],\n",
    "#        tickmode='array',\n",
    "#        tickvals=range(30,101,5),\n",
    "#        ticktext=[str(n) if n%10==0 else ' ' for n in range(30,101,5)]\n",
    "        tickfont=dict(\n",
    "            family=None,\n",
    "            size=11,\n",
    "            color=None,\n",
    "        ),\n",
    "        showgrid=True,\n",
    "        gridcolor=gray,\n",
    "        gridwidth=None,\n",
    "    ),\n",
    "    # images @ https://imgur.com/a/gwU2Hv7\n",
    "    images=[dict(\n",
    "        #source=\"http://localhost:8889/view/images/bw-bernie.png\",\n",
    "        source=\"https://i.imgur.com/t8YoO1f.png\",\n",
    "        xref='x',\n",
    "        yref='y',\n",
    "        x=dem_dict['Bernie Sanders'][2] + x_adj,\n",
    "        y=dem_dict['Bernie Sanders'][1] + y_adj,\n",
    "        sizex= 5,\n",
    "        sizey= 25000,\n",
    "        xanchor= \"right\",\n",
    "        yanchor= \"bottom\"\n",
    "        ),\n",
    "        dict(\n",
    "        #source=\"http://localhost:8889/view/images/bw-beto.png\",\n",
    "        source=\"https://i.imgur.com/qLNftOJ.png\",\n",
    "        xref='x',\n",
    "        yref='y',\n",
    "        x=dem_dict[\"Beto O'Rourke\"][2] + x_adj,\n",
    "        y=dem_dict[\"Beto O'Rourke\"][1] + y_adj,\n",
    "        sizex= 5,\n",
    "        sizey= 25000,\n",
    "        xanchor= \"right\",\n",
    "        yanchor= \"bottom\"\n",
    "        ),\n",
    "        dict(\n",
    "        #source=\"http://localhost:8889/view/images/bw-kamala.png\",\n",
    "        source=\"https://i.imgur.com/oDU7p8k.png\",\n",
    "        xref='x',\n",
    "        yref='y',\n",
    "        x=dem_dict['Kamala Harris'][2] + x_adj,\n",
    "        y=dem_dict['Kamala Harris'][1] + y_adj,\n",
    "        sizex= 5,\n",
    "        sizey= 25000,\n",
    "        xanchor= \"right\",\n",
    "        yanchor= \"bottom\"\n",
    "        )\n",
    "    ]\n",
    ")\n",
    "\n",
    "\n",
    "fig = go.Figure(data=data,layout=layout)\n",
    "plotly.offline.init_notebook_mode(connected=True)\n",
    "plotly.offline.iplot(fig)#, filename=‘whatever’, image=‘png’)"
   ]
  },
  {
   "cell_type": "code",
   "execution_count": 209,
   "metadata": {},
   "outputs": [],
   "source": [
    "# Checked source at\n",
    "# https://github.com/plotly/plotly.py/blob/master/plotly/io/_orca.py\n",
    "pio.write_image(fig, 'images/fig6.png', format='png', scale=3.0, width=800, height=700)"
   ]
  },
  {
   "cell_type": "code",
   "execution_count": 312,
   "metadata": {},
   "outputs": [
    {
     "data": {
      "text/html": [
       "<script type=\"text/javascript\">window.PlotlyConfig = {MathJaxConfig: 'local'};</script><script type=\"text/javascript\">if (window.MathJax) {MathJax.Hub.Config({SVG: {font: \"STIX-Web\"}});}</script><script>requirejs.config({paths: { 'plotly': ['https://cdn.plot.ly/plotly-latest.min']},});if(!window._Plotly) {require(['plotly'],function(plotly) {window._Plotly=plotly;});}</script>"
      ],
      "text/vnd.plotly.v1+html": [
       "<script type=\"text/javascript\">window.PlotlyConfig = {MathJaxConfig: 'local'};</script><script type=\"text/javascript\">if (window.MathJax) {MathJax.Hub.Config({SVG: {font: \"STIX-Web\"}});}</script><script>requirejs.config({paths: { 'plotly': ['https://cdn.plot.ly/plotly-latest.min']},});if(!window._Plotly) {require(['plotly'],function(plotly) {window._Plotly=plotly;});}</script>"
      ]
     },
     "metadata": {},
     "output_type": "display_data"
    },
    {
     "data": {
      "application/vnd.plotly.v1+json": {
       "config": {
        "linkText": "Export to plot.ly",
        "plotlyServerURL": "https://plot.ly",
        "showLink": false
       },
       "data": [
        {
         "fill": "tozeroy",
         "line": {
          "color": "#092B49",
          "width": 0
         },
         "mode": "lines",
         "type": "scatter",
         "uid": "6d3ceb0b-b218-4879-b714-77388a8fc9db",
         "x": [
          0,
          26.56736472582012
         ],
         "y": [
          223047,
          223047
         ]
        },
        {
         "fill": "tozeroy",
         "line": {
          "color": "#0E7C7B",
          "width": 0
         },
         "mode": "lines",
         "type": "scatter",
         "uid": "1374584a-cfcd-4dce-b127-ab74068e5e9e",
         "x": [
          0,
          54.79228571428571
         ],
         "y": [
          112000,
          112000
         ]
        },
        {
         "fill": "tozeroy",
         "line": {
          "color": "#F18F01",
          "width": 0
         },
         "mode": "lines",
         "type": "scatter",
         "uid": "0fd5c429-0a0c-4600-acaa-f4d5a75c7423",
         "x": [
          0,
          39.473684210526315
         ],
         "y": [
          38000,
          38000
         ]
        },
        {
         "mode": "text",
         "text": [
          "<b>Bernie Sanders</b><br>$5,925,771<br>223,047 donors<br>&#36;27 avg",
          "<b>Beto O'Rourke</b><br>$6,136,736<br>112,000 donors<br>&#36;47 avg",
          "<b>Kamala Harris</b><br>$1.5 M<br>38,000 donors<br>&#36;37 avg"
         ],
         "textfont": {
          "family": "verdana",
          "size": 10
         },
         "textposition": "top right",
         "type": "scatter",
         "uid": "e599bf82-b417-47fa-8c03-f02a06be7ceb",
         "x": [
          27,
          47,
          37
         ],
         "y": [
          223047,
          112000,
          38000
         ]
        },
        {
         "line": {
          "color": "black",
          "dash": "solid",
          "width": 1
         },
         "mode": "lines",
         "type": "scatter",
         "uid": "71dc135b-f2ed-4d4d-8dca-67a5b75e37e5",
         "x": [
          27,
          27
         ],
         "y": [
          0,
          223047
         ]
        },
        {
         "line": {
          "color": "black",
          "dash": "solid",
          "width": 1
         },
         "mode": "lines",
         "type": "scatter",
         "uid": "9fbf7e6e-25b3-4338-a733-2c39e15e22c8",
         "x": [
          47,
          47
         ],
         "y": [
          0,
          112000
         ]
        },
        {
         "line": {
          "color": "black",
          "dash": "solid",
          "width": 1
         },
         "mode": "lines",
         "type": "scatter",
         "uid": "3eec93c4-863f-4dd6-96c6-6bbb292843bf",
         "x": [
          37,
          37
         ],
         "y": [
          0,
          38000
         ]
        }
       ],
       "layout": {
        "annotations": [
         {
          "font": {
           "color": "white",
           "size": 10
          },
          "showarrow": false,
          "text": "<i>&#36;26.57 actual</i>",
          "textangle": -90,
          "x": 26.56736472582012,
          "xanchor": "right",
          "xref": "x",
          "y": 0,
          "yanchor": "bottom",
          "yref": "y"
         },
         {
          "font": {
           "color": "white",
           "size": 10
          },
          "showarrow": false,
          "text": "<i>&#36;54.79 actual</i>",
          "textangle": -90,
          "x": 54.79228571428571,
          "xanchor": "right",
          "xref": "x",
          "y": 0,
          "yanchor": "bottom",
          "yref": "y"
         },
         {
          "font": {
           "color": "white",
           "size": 10
          },
          "showarrow": false,
          "text": "<i>&#36;39.47 actual</i>",
          "textangle": -90,
          "x": 39.473684210526315,
          "xanchor": "right",
          "xref": "x",
          "y": 0,
          "yanchor": "bottom",
          "yref": "y"
         },
         {
          "align": "right",
          "font": {
           "color": "gray",
           "size": 10
          },
          "showarrow": false,
          "text": "<i>\"actual\" averages are<br>calculated from<br>figures released by<br>each campaign",
          "x": 60,
          "xanchor": "right",
          "xref": "x",
          "y": 200000,
          "yanchor": "bottom",
          "yref": "y"
         },
         {
          "align": "right",
          "font": {
           "color": "lightgray",
           "family": "Andale Mono",
           "size": 10
          },
          "showarrow": false,
          "text": "03/23/2019<br>@jeremy_m_joseph",
          "x": 1,
          "xanchor": "right",
          "xref": "paper",
          "y": -0.1,
          "yanchor": "bottom",
          "yref": "paper"
         }
        ],
        "autosize": false,
        "height": 700,
        "images": [
         {
          "sizex": 5,
          "sizey": 25000,
          "source": "https://i.imgur.com/t8YoO1f.png",
          "x": 26.7,
          "xanchor": "right",
          "xref": "x",
          "y": 223547,
          "yanchor": "bottom",
          "yref": "y"
         },
         {
          "sizex": 5,
          "sizey": 25000,
          "source": "https://i.imgur.com/qLNftOJ.png",
          "x": 46.7,
          "xanchor": "right",
          "xref": "x",
          "y": 112500,
          "yanchor": "bottom",
          "yref": "y"
         },
         {
          "sizex": 5,
          "sizey": 25000,
          "source": "https://i.imgur.com/oDU7p8k.png",
          "x": 36.7,
          "xanchor": "right",
          "xref": "x",
          "y": 38500,
          "yanchor": "bottom",
          "yref": "y"
         }
        ],
        "showlegend": false,
        "title": {
         "font": {
          "family": "verdana",
          "size": 20
         },
         "pad": {
          "b": 20
         },
         "text": "First Day Fundraising By Democratic Candidates",
         "xref": "paper",
         "y": 1,
         "yanchor": "bottom",
         "yref": "paper"
        },
        "width": 800,
        "xaxis": {
         "gridcolor": "#eeeeee",
         "range": [
          0,
          65
         ],
         "showgrid": true,
         "tickangle": 0,
         "tickfont": {
          "size": 11
         },
         "tickprefix": "$",
         "title": {
          "font": {
           "size": 12
          },
          "text": "<b>Average Donation</b>"
         },
         "zeroline": false
        },
        "yaxis": {
         "gridcolor": "#eeeeee",
         "range": [
          0,
          265000
         ],
         "showgrid": true,
         "tickfont": {
          "size": 11
         },
         "title": {
          "font": {
           "size": 12
          },
          "text": "<b>Individual Donors</b><br>&#8192;"
         }
        }
       }
      },
      "text/html": [
       "<div id=\"32a83b8e-06cf-426d-87a4-218b3d936699\" style=\"height: 700px; width: 800px;\" class=\"plotly-graph-div\"></div><script type=\"text/javascript\">require([\"plotly\"], function(Plotly) { window.PLOTLYENV=window.PLOTLYENV || {};window.PLOTLYENV.BASE_URL=\"https://plot.ly\";\n",
       "if (document.getElementById(\"32a83b8e-06cf-426d-87a4-218b3d936699\")) {\n",
       "    Plotly.newPlot(\"32a83b8e-06cf-426d-87a4-218b3d936699\", [{\"fill\": \"tozeroy\", \"line\": {\"color\": \"#092B49\", \"width\": 0}, \"mode\": \"lines\", \"x\": [0, 26.56736472582012], \"y\": [223047, 223047], \"type\": \"scatter\", \"uid\": \"6d3ceb0b-b218-4879-b714-77388a8fc9db\"}, {\"fill\": \"tozeroy\", \"line\": {\"color\": \"#0E7C7B\", \"width\": 0}, \"mode\": \"lines\", \"x\": [0, 54.79228571428571], \"y\": [112000, 112000], \"type\": \"scatter\", \"uid\": \"1374584a-cfcd-4dce-b127-ab74068e5e9e\"}, {\"fill\": \"tozeroy\", \"line\": {\"color\": \"#F18F01\", \"width\": 0}, \"mode\": \"lines\", \"x\": [0, 39.473684210526315], \"y\": [38000, 38000], \"type\": \"scatter\", \"uid\": \"0fd5c429-0a0c-4600-acaa-f4d5a75c7423\"}, {\"mode\": \"text\", \"text\": [\"<b>Bernie Sanders</b><br>$5,925,771<br>223,047 donors<br>&#36;27 avg\", \"<b>Beto O'Rourke</b><br>$6,136,736<br>112,000 donors<br>&#36;47 avg\", \"<b>Kamala Harris</b><br>$1.5 M<br>38,000 donors<br>&#36;37 avg\"], \"textfont\": {\"family\": \"verdana\", \"size\": 10}, \"textposition\": \"top right\", \"x\": [27, 47, 37], \"y\": [223047, 112000, 38000], \"type\": \"scatter\", \"uid\": \"e599bf82-b417-47fa-8c03-f02a06be7ceb\"}, {\"line\": {\"color\": \"black\", \"dash\": \"solid\", \"width\": 1.0}, \"mode\": \"lines\", \"x\": [27, 27], \"y\": [0, 223047], \"type\": \"scatter\", \"uid\": \"71dc135b-f2ed-4d4d-8dca-67a5b75e37e5\"}, {\"line\": {\"color\": \"black\", \"dash\": \"solid\", \"width\": 1.0}, \"mode\": \"lines\", \"x\": [47, 47], \"y\": [0, 112000], \"type\": \"scatter\", \"uid\": \"9fbf7e6e-25b3-4338-a733-2c39e15e22c8\"}, {\"line\": {\"color\": \"black\", \"dash\": \"solid\", \"width\": 1.0}, \"mode\": \"lines\", \"x\": [37, 37], \"y\": [0, 38000], \"type\": \"scatter\", \"uid\": \"3eec93c4-863f-4dd6-96c6-6bbb292843bf\"}], {\"annotations\": [{\"font\": {\"color\": \"white\", \"size\": 10}, \"showarrow\": false, \"text\": \"<i>&#36;26.57 actual</i>\", \"textangle\": -90, \"x\": 26.56736472582012, \"xanchor\": \"right\", \"xref\": \"x\", \"y\": 0, \"yanchor\": \"bottom\", \"yref\": \"y\"}, {\"font\": {\"color\": \"white\", \"size\": 10}, \"showarrow\": false, \"text\": \"<i>&#36;54.79 actual</i>\", \"textangle\": -90, \"x\": 54.79228571428571, \"xanchor\": \"right\", \"xref\": \"x\", \"y\": 0, \"yanchor\": \"bottom\", \"yref\": \"y\"}, {\"font\": {\"color\": \"white\", \"size\": 10}, \"showarrow\": false, \"text\": \"<i>&#36;39.47 actual</i>\", \"textangle\": -90, \"x\": 39.473684210526315, \"xanchor\": \"right\", \"xref\": \"x\", \"y\": 0, \"yanchor\": \"bottom\", \"yref\": \"y\"}, {\"align\": \"right\", \"font\": {\"color\": \"gray\", \"size\": 10}, \"showarrow\": false, \"text\": \"<i>\\\"actual\\\" averages are<br>calculated from<br>figures released by<br>each campaign\", \"x\": 60, \"xanchor\": \"right\", \"xref\": \"x\", \"y\": 200000, \"yanchor\": \"bottom\", \"yref\": \"y\"}, {\"align\": \"right\", \"font\": {\"color\": \"lightgray\", \"family\": \"Andale Mono\", \"size\": 10}, \"showarrow\": false, \"text\": \"03/23/2019<br>@jeremy_m_joseph\", \"x\": 1, \"xanchor\": \"right\", \"xref\": \"paper\", \"y\": -0.1, \"yanchor\": \"bottom\", \"yref\": \"paper\"}], \"autosize\": false, \"height\": 700, \"images\": [{\"sizex\": 5, \"sizey\": 25000, \"source\": \"https://i.imgur.com/t8YoO1f.png\", \"x\": 26.7, \"xanchor\": \"right\", \"xref\": \"x\", \"y\": 223547, \"yanchor\": \"bottom\", \"yref\": \"y\"}, {\"sizex\": 5, \"sizey\": 25000, \"source\": \"https://i.imgur.com/qLNftOJ.png\", \"x\": 46.7, \"xanchor\": \"right\", \"xref\": \"x\", \"y\": 112500, \"yanchor\": \"bottom\", \"yref\": \"y\"}, {\"sizex\": 5, \"sizey\": 25000, \"source\": \"https://i.imgur.com/oDU7p8k.png\", \"x\": 36.7, \"xanchor\": \"right\", \"xref\": \"x\", \"y\": 38500, \"yanchor\": \"bottom\", \"yref\": \"y\"}], \"showlegend\": false, \"title\": {\"font\": {\"family\": \"verdana\", \"size\": 20}, \"pad\": {\"b\": 20}, \"text\": \"First Day Fundraising By Democratic Candidates\", \"xref\": \"paper\", \"y\": 1.0, \"yanchor\": \"bottom\", \"yref\": \"paper\"}, \"width\": 800, \"xaxis\": {\"gridcolor\": \"#eeeeee\", \"range\": [0, 65], \"showgrid\": true, \"tickangle\": 0, \"tickfont\": {\"size\": 11}, \"tickprefix\": \"$\", \"title\": {\"font\": {\"size\": 12}, \"text\": \"<b>Average Donation</b>\"}, \"zeroline\": false}, \"yaxis\": {\"gridcolor\": \"#eeeeee\", \"range\": [0, 265000], \"showgrid\": true, \"tickfont\": {\"size\": 11}, \"title\": {\"font\": {\"size\": 12}, \"text\": \"<b>Individual Donors</b><br>&#8192;\"}}}, {\"showLink\": false, \"linkText\": \"Export to plot.ly\", \"plotlyServerURL\": \"https://plot.ly\"}); \n",
       "}\n",
       "});</script>"
      ],
      "text/vnd.plotly.v1+html": [
       "<div id=\"32a83b8e-06cf-426d-87a4-218b3d936699\" style=\"height: 700px; width: 800px;\" class=\"plotly-graph-div\"></div><script type=\"text/javascript\">require([\"plotly\"], function(Plotly) { window.PLOTLYENV=window.PLOTLYENV || {};window.PLOTLYENV.BASE_URL=\"https://plot.ly\";\n",
       "if (document.getElementById(\"32a83b8e-06cf-426d-87a4-218b3d936699\")) {\n",
       "    Plotly.newPlot(\"32a83b8e-06cf-426d-87a4-218b3d936699\", [{\"fill\": \"tozeroy\", \"line\": {\"color\": \"#092B49\", \"width\": 0}, \"mode\": \"lines\", \"x\": [0, 26.56736472582012], \"y\": [223047, 223047], \"type\": \"scatter\", \"uid\": \"6d3ceb0b-b218-4879-b714-77388a8fc9db\"}, {\"fill\": \"tozeroy\", \"line\": {\"color\": \"#0E7C7B\", \"width\": 0}, \"mode\": \"lines\", \"x\": [0, 54.79228571428571], \"y\": [112000, 112000], \"type\": \"scatter\", \"uid\": \"1374584a-cfcd-4dce-b127-ab74068e5e9e\"}, {\"fill\": \"tozeroy\", \"line\": {\"color\": \"#F18F01\", \"width\": 0}, \"mode\": \"lines\", \"x\": [0, 39.473684210526315], \"y\": [38000, 38000], \"type\": \"scatter\", \"uid\": \"0fd5c429-0a0c-4600-acaa-f4d5a75c7423\"}, {\"mode\": \"text\", \"text\": [\"<b>Bernie Sanders</b><br>$5,925,771<br>223,047 donors<br>&#36;27 avg\", \"<b>Beto O'Rourke</b><br>$6,136,736<br>112,000 donors<br>&#36;47 avg\", \"<b>Kamala Harris</b><br>$1.5 M<br>38,000 donors<br>&#36;37 avg\"], \"textfont\": {\"family\": \"verdana\", \"size\": 10}, \"textposition\": \"top right\", \"x\": [27, 47, 37], \"y\": [223047, 112000, 38000], \"type\": \"scatter\", \"uid\": \"e599bf82-b417-47fa-8c03-f02a06be7ceb\"}, {\"line\": {\"color\": \"black\", \"dash\": \"solid\", \"width\": 1.0}, \"mode\": \"lines\", \"x\": [27, 27], \"y\": [0, 223047], \"type\": \"scatter\", \"uid\": \"71dc135b-f2ed-4d4d-8dca-67a5b75e37e5\"}, {\"line\": {\"color\": \"black\", \"dash\": \"solid\", \"width\": 1.0}, \"mode\": \"lines\", \"x\": [47, 47], \"y\": [0, 112000], \"type\": \"scatter\", \"uid\": \"9fbf7e6e-25b3-4338-a733-2c39e15e22c8\"}, {\"line\": {\"color\": \"black\", \"dash\": \"solid\", \"width\": 1.0}, \"mode\": \"lines\", \"x\": [37, 37], \"y\": [0, 38000], \"type\": \"scatter\", \"uid\": \"3eec93c4-863f-4dd6-96c6-6bbb292843bf\"}], {\"annotations\": [{\"font\": {\"color\": \"white\", \"size\": 10}, \"showarrow\": false, \"text\": \"<i>&#36;26.57 actual</i>\", \"textangle\": -90, \"x\": 26.56736472582012, \"xanchor\": \"right\", \"xref\": \"x\", \"y\": 0, \"yanchor\": \"bottom\", \"yref\": \"y\"}, {\"font\": {\"color\": \"white\", \"size\": 10}, \"showarrow\": false, \"text\": \"<i>&#36;54.79 actual</i>\", \"textangle\": -90, \"x\": 54.79228571428571, \"xanchor\": \"right\", \"xref\": \"x\", \"y\": 0, \"yanchor\": \"bottom\", \"yref\": \"y\"}, {\"font\": {\"color\": \"white\", \"size\": 10}, \"showarrow\": false, \"text\": \"<i>&#36;39.47 actual</i>\", \"textangle\": -90, \"x\": 39.473684210526315, \"xanchor\": \"right\", \"xref\": \"x\", \"y\": 0, \"yanchor\": \"bottom\", \"yref\": \"y\"}, {\"align\": \"right\", \"font\": {\"color\": \"gray\", \"size\": 10}, \"showarrow\": false, \"text\": \"<i>\\\"actual\\\" averages are<br>calculated from<br>figures released by<br>each campaign\", \"x\": 60, \"xanchor\": \"right\", \"xref\": \"x\", \"y\": 200000, \"yanchor\": \"bottom\", \"yref\": \"y\"}, {\"align\": \"right\", \"font\": {\"color\": \"lightgray\", \"family\": \"Andale Mono\", \"size\": 10}, \"showarrow\": false, \"text\": \"03/23/2019<br>@jeremy_m_joseph\", \"x\": 1, \"xanchor\": \"right\", \"xref\": \"paper\", \"y\": -0.1, \"yanchor\": \"bottom\", \"yref\": \"paper\"}], \"autosize\": false, \"height\": 700, \"images\": [{\"sizex\": 5, \"sizey\": 25000, \"source\": \"https://i.imgur.com/t8YoO1f.png\", \"x\": 26.7, \"xanchor\": \"right\", \"xref\": \"x\", \"y\": 223547, \"yanchor\": \"bottom\", \"yref\": \"y\"}, {\"sizex\": 5, \"sizey\": 25000, \"source\": \"https://i.imgur.com/qLNftOJ.png\", \"x\": 46.7, \"xanchor\": \"right\", \"xref\": \"x\", \"y\": 112500, \"yanchor\": \"bottom\", \"yref\": \"y\"}, {\"sizex\": 5, \"sizey\": 25000, \"source\": \"https://i.imgur.com/oDU7p8k.png\", \"x\": 36.7, \"xanchor\": \"right\", \"xref\": \"x\", \"y\": 38500, \"yanchor\": \"bottom\", \"yref\": \"y\"}], \"showlegend\": false, \"title\": {\"font\": {\"family\": \"verdana\", \"size\": 20}, \"pad\": {\"b\": 20}, \"text\": \"First Day Fundraising By Democratic Candidates\", \"xref\": \"paper\", \"y\": 1.0, \"yanchor\": \"bottom\", \"yref\": \"paper\"}, \"width\": 800, \"xaxis\": {\"gridcolor\": \"#eeeeee\", \"range\": [0, 65], \"showgrid\": true, \"tickangle\": 0, \"tickfont\": {\"size\": 11}, \"tickprefix\": \"$\", \"title\": {\"font\": {\"size\": 12}, \"text\": \"<b>Average Donation</b>\"}, \"zeroline\": false}, \"yaxis\": {\"gridcolor\": \"#eeeeee\", \"range\": [0, 265000], \"showgrid\": true, \"tickfont\": {\"size\": 11}, \"title\": {\"font\": {\"size\": 12}, \"text\": \"<b>Individual Donors</b><br>&#8192;\"}}}, {\"showLink\": false, \"linkText\": \"Export to plot.ly\", \"plotlyServerURL\": \"https://plot.ly\"}); \n",
       "}\n",
       "});</script>"
      ]
     },
     "metadata": {},
     "output_type": "display_data"
    }
   ],
   "source": [
    "bernie = go.Scatter(\n",
    "    x=[0, float(dem_dict['Bernie Sanders'][0])/dem_dict['Bernie Sanders'][1]],\n",
    "    y=2*[dem_dict['Bernie Sanders'][1]],\n",
    "    mode='lines',\n",
    "    line=dict(\n",
    "        width=0,\n",
    "        #color='rgb(17,114,201)',\n",
    "        color='#092B49',\n",
    "        #color='#34365F'\n",
    "    ),\n",
    "    fill='tozeroy',\n",
    "    #fillcolor='#17becf',\n",
    ")\n",
    "\n",
    "kamala = go.Scatter(\n",
    "    x=[0, float(dem_dict['Kamala Harris'][0])/dem_dict['Kamala Harris'][1]],\n",
    "    y=2*[dem_dict['Kamala Harris'][1]],\n",
    "    mode='lines',\n",
    "    line=dict(\n",
    "        width=0,\n",
    "        #color='rgb(64,51,147)',\n",
    "        color='#F18F01',\n",
    "        #color='#F79406'\n",
    "    ),\n",
    "    fill='tozeroy'\n",
    ")\n",
    "\n",
    "beto = go.Scatter(\n",
    "    x=[0, float(dem_dict[\"Beto O'Rourke\"][0])/dem_dict[\"Beto O'Rourke\"][1]],\n",
    "    y=2*[dem_dict[\"Beto O'Rourke\"][1]],\n",
    "    mode='lines',\n",
    "    line=dict(\n",
    "        width=0,\n",
    "        #color='rgb(0,0,0)',\n",
    "        color='#0E7C7B',\n",
    "        #color='#F7E64F'\n",
    "    ),\n",
    "    fill='tozeroy'\n",
    ")\n",
    "\n",
    "\n",
    "labels = go.Scatter(\n",
    "    x=[d[2] for d in dem_dict.values()],\n",
    "    y=[d[1] for d in dem_dict.values()],\n",
    "    mode='text',\n",
    "    text=['<b>' + [d for d in dem_dict.keys()][n] + '</b>'\n",
    "          '<br>' +\n",
    "          [d[3] for d in dem_dict.values()][n] +\n",
    "          '<br>' +\n",
    "          '{:,}'.format([d[1] for d in dem_dict.values()][n]) + ' donors' + \n",
    "          '<br>' +\n",
    "          '&#36;' + str([d[2] for d in dem_dict.values()][n]) + ' avg'\n",
    "          for n in range(3)],\n",
    "    textposition='top right',\n",
    "    textfont=dict(\n",
    "        family='verdana',        \n",
    "        color=None,\n",
    "        size=10\n",
    "    )\n",
    ")\n",
    "\n",
    "error = []\n",
    "for d in dem_dict.values():\n",
    "    error.append(go.Scatter(\n",
    "        x=[d[2]] * 2,\n",
    "        y=[0, d[1]],\n",
    "        mode='lines',\n",
    "        line=dict(\n",
    "            color='black',\n",
    "            width=1.0,\n",
    "            dash='solid',\n",
    "        ),\n",
    "    ))\n",
    "    \n",
    "#error[2].update(y = [13000, dem_dict['Kamala Harris'][1]])\n",
    "# error[0]['line'].update(color='#092B49')\n",
    "# error[1]['line'].update(color='#0E7C7B')\n",
    "# error[2]['line'].update(color='#F18F01')\n",
    "\n",
    "data = [bernie, beto, kamala, labels] + error\n",
    "\n",
    "y_adj = 500\n",
    "x_adj = -0.3\n",
    "\n",
    "gray = '#eeeeee'\n",
    "\n",
    "layout = go.Layout(\n",
    "    font=dict(\n",
    "        family=None,\n",
    "    ),\n",
    "    title=dict(\n",
    "        text=\"First Day Fundraising By Democratic Candidates\",\n",
    "        font=dict(\n",
    "            family='verdana',\n",
    "            size=20,\n",
    "            color=None,\n",
    "        ),\n",
    "        xref='paper',\n",
    "        yref='paper',\n",
    "        y=1.0,\n",
    "        yanchor='bottom',\n",
    "        pad=dict( # unit: pixels\n",
    "            b=20,\n",
    "        ),\n",
    "    ),\n",
    "    autosize=False,\n",
    "    width=800,\n",
    "    height=700,\n",
    "    showlegend = False,\n",
    "    xaxis=dict(\n",
    "        title=dict(\n",
    "            text='<b>Average Donation</b>',\n",
    "            font=dict(\n",
    "                family=None,\n",
    "                size=12,\n",
    "                color=None,\n",
    "            )\n",
    "        ),\n",
    "        range=[0,65],\n",
    "        #tickmode='linear',\n",
    "        #tick0=congressYears[0]+(5-congressYears[0]%5),\n",
    "        #dtick=50000,\n",
    "        tickfont=dict(\n",
    "            family=None,\n",
    "            size=11,\n",
    "            color=None,\n",
    "        ),\n",
    "        tickprefix=\"$\",\n",
    "        tickangle=0,\n",
    "        #showline=True,\n",
    "        showgrid=True,\n",
    "        gridcolor=gray,\n",
    "        gridwidth=None,\n",
    "        zeroline=False\n",
    "    ),\n",
    "    yaxis=dict(\n",
    "        title=dict(\n",
    "            text='<b>Individual Donors</b><br>&#8192;', # whitespace\n",
    "            font=dict(\n",
    "                family=None,\n",
    "                size=12,\n",
    "                color=None,\n",
    "            )\n",
    "        ),\n",
    "        range=[0, 265000],\n",
    "#        tickmode='array',\n",
    "#        tickvals=range(30,101,5),\n",
    "#        ticktext=[str(n) if n%10==0 else ' ' for n in range(30,101,5)]\n",
    "        tickfont=dict(\n",
    "            family=None,\n",
    "            size=11,\n",
    "            color=None,\n",
    "        ),\n",
    "        showgrid=True,\n",
    "        gridcolor=gray,\n",
    "        gridwidth=None,\n",
    "    ),\n",
    "    # images @ https://imgur.com/a/gwU2Hv7\n",
    "    images=[dict(\n",
    "        #source=\"http://localhost:8889/view/images/bw-bernie.png\",\n",
    "        source=\"https://i.imgur.com/t8YoO1f.png\",\n",
    "        xref='x',\n",
    "        yref='y',\n",
    "        x=dem_dict['Bernie Sanders'][2] + x_adj,\n",
    "        y=dem_dict['Bernie Sanders'][1] + y_adj,\n",
    "        sizex= 5,\n",
    "        sizey= 25000,\n",
    "        xanchor= \"right\",\n",
    "        yanchor= \"bottom\"\n",
    "        ),\n",
    "        dict(\n",
    "        #source=\"http://localhost:8889/view/images/bw-beto.png\",\n",
    "        source=\"https://i.imgur.com/qLNftOJ.png\",\n",
    "        xref='x',\n",
    "        yref='y',\n",
    "        x=dem_dict[\"Beto O'Rourke\"][2] + x_adj,\n",
    "        y=dem_dict[\"Beto O'Rourke\"][1] + y_adj,\n",
    "        sizex= 5,\n",
    "        sizey= 25000,\n",
    "        xanchor= \"right\",\n",
    "        yanchor= \"bottom\"\n",
    "        ),\n",
    "        dict(\n",
    "        #source=\"http://localhost:8889/view/images/bw-kamala.png\",\n",
    "        source=\"https://i.imgur.com/oDU7p8k.png\",\n",
    "        xref='x',\n",
    "        yref='y',\n",
    "        x=dem_dict['Kamala Harris'][2] + x_adj,\n",
    "        y=dem_dict['Kamala Harris'][1] + y_adj,\n",
    "        sizex= 5,\n",
    "        sizey= 25000,\n",
    "        xanchor= \"right\",\n",
    "        yanchor= \"bottom\"\n",
    "        )\n",
    "    ],\n",
    "#     annotations=[dict(\n",
    "#         text=,\n",
    "#         textangle,\n",
    "#         xref='x',\n",
    "#         yref='y',\n",
    "#         )]\n",
    ")\n",
    "\n",
    "notes = []\n",
    "for d in dem_dict.values():\n",
    "    notes.append(dict(\n",
    "        text='<i>&#36;{:.2f}'.format(float(d[0])/d[1]) + ' actual</i>',\n",
    "        textangle=-90,\n",
    "        font=dict(\n",
    "            family=None,\n",
    "            size=10,\n",
    "            color='white',\n",
    "        ),\n",
    "        x=float(d[0])/d[1],\n",
    "        y=0,\n",
    "        xref='x',\n",
    "        yref='y',\n",
    "        xanchor='right',\n",
    "        yanchor='bottom',\n",
    "        showarrow=False,\n",
    "    ))\n",
    "    \n",
    "notes.append(dict(\n",
    "    text='<i>\"actual\" averages are<br>' +\\\n",
    "         'calculated from<br>' +\\\n",
    "         'figures released by<br>' +\\\n",
    "         'each campaign',\n",
    "    font=dict(\n",
    "        family=None,\n",
    "        size=10,\n",
    "        color='gray',\n",
    "    ),\n",
    "    x=60,\n",
    "    y=200000,\n",
    "    xref='x',\n",
    "    yref='y',\n",
    "    align='right',\n",
    "    xanchor='right',\n",
    "    yanchor='bottom',\n",
    "    showarrow=False,\n",
    "))\n",
    "\n",
    "notes.append(dict(\n",
    "    text='03/23/2019<br>@jeremy_m_joseph',\n",
    "    font=dict(\n",
    "        family='Andale Mono',\n",
    "        size=10,\n",
    "        color='lightgray',\n",
    "    ),\n",
    "    x=1,\n",
    "    y=-0.1,\n",
    "    xref='paper',\n",
    "    yref='paper',\n",
    "    align='right',\n",
    "    xanchor='right',\n",
    "    yanchor='bottom',\n",
    "    showarrow=False,\n",
    "))\n",
    "\n",
    "layout.update(annotations=notes)\n",
    "\n",
    "\n",
    "fig = go.Figure(data=data,layout=layout)\n",
    "plotly.offline.init_notebook_mode(connected=True)\n",
    "plotly.offline.iplot(fig)#, filename=‘whatever’, image=‘png’)"
   ]
  },
  {
   "cell_type": "code",
   "execution_count": 267,
   "metadata": {},
   "outputs": [],
   "source": [
    "# Checked source at\n",
    "# https://github.com/plotly/plotly.py/blob/master/plotly/io/_orca.py\n",
    "pio.write_image(fig, 'images/fig9.png', format='png', scale=3.0, width=800, height=700)"
   ]
  },
  {
   "cell_type": "code",
   "execution_count": 337,
   "metadata": {},
   "outputs": [
    {
     "name": "stdout",
     "output_type": "stream",
     "text": [
      "This is the format of your plot grid:\n",
      "[ (1,1) x1,y1 ]  [ (1,2) x2,y2 ]\n",
      "\n"
     ]
    },
    {
     "data": {
      "text/html": [
       "<script type=\"text/javascript\">window.PlotlyConfig = {MathJaxConfig: 'local'};</script><script type=\"text/javascript\">if (window.MathJax) {MathJax.Hub.Config({SVG: {font: \"STIX-Web\"}});}</script><script>requirejs.config({paths: { 'plotly': ['https://cdn.plot.ly/plotly-latest.min']},});if(!window._Plotly) {require(['plotly'],function(plotly) {window._Plotly=plotly;});}</script>"
      ],
      "text/vnd.plotly.v1+html": [
       "<script type=\"text/javascript\">window.PlotlyConfig = {MathJaxConfig: 'local'};</script><script type=\"text/javascript\">if (window.MathJax) {MathJax.Hub.Config({SVG: {font: \"STIX-Web\"}});}</script><script>requirejs.config({paths: { 'plotly': ['https://cdn.plot.ly/plotly-latest.min']},});if(!window._Plotly) {require(['plotly'],function(plotly) {window._Plotly=plotly;});}</script>"
      ]
     },
     "metadata": {},
     "output_type": "display_data"
    },
    {
     "data": {
      "application/vnd.plotly.v1+json": {
       "config": {
        "linkText": "Export to plot.ly",
        "plotlyServerURL": "https://plot.ly",
        "showLink": false
       },
       "data": [
        {
         "marker": {
          "color": "#4C753B",
          "line": {
           "width": 1.5
          }
         },
         "opacity": 0.8,
         "text": [
          "$1.5 M",
          "$6,136,736",
          "$5,925,771"
         ],
         "textposition": "outside",
         "type": "bar",
         "uid": "045bdb12-38d5-4021-b19b-9d460724fa51",
         "x": [
          "Kamala Harris",
          "Beto O'Rourke",
          "Bernie Sanders"
         ],
         "xaxis": "x",
         "y": [
          1500000,
          6136736,
          5925771
         ],
         "yaxis": "y"
        },
        {
         "marker": {
          "color": "#761A56",
          "line": {
           "width": 1.5
          }
         },
         "opacity": 0.8,
         "text": [
          "38,000",
          "112,000",
          "223,047"
         ],
         "textposition": "outside",
         "type": "bar",
         "uid": "5fb4afe3-e6d5-47a0-b50f-cd5d1bab05d7",
         "x": [
          "Kamala Harris",
          "Beto O'Rourke",
          "Bernie Sanders"
         ],
         "xaxis": "x2",
         "y": [
          38000,
          112000,
          223047
         ],
         "yaxis": "y2"
        }
       ],
       "layout": {
        "annotations": [
         {
          "align": "right",
          "font": {
           "color": "lightgray",
           "family": "Andale Mono",
           "size": 10
          },
          "showarrow": false,
          "text": "03/23/2019<br>@jeremy_m_joseph",
          "x": 1,
          "xanchor": "right",
          "xref": "paper",
          "y": -0.18,
          "yanchor": "bottom",
          "yref": "paper"
         },
         {
          "align": "right",
          "font": {
           "color": "lightgray",
           "family": "Andale Mono",
           "size": 10
          },
          "showarrow": false,
          "text": "03/23/2019<br>@jeremy_m_joseph",
          "x": 1,
          "xanchor": "right",
          "xref": "paper",
          "y": -0.18,
          "yanchor": "bottom",
          "yref": "paper"
         }
        ],
        "height": 500,
        "showlegend": false,
        "title": {
         "font": {
          "family": "verdana",
          "size": 18
         },
         "pad": {
          "b": 30
         },
         "text": "First Day Fundraising: Money or People",
         "xref": "paper",
         "y": 1,
         "yanchor": "bottom",
         "yref": "paper"
        },
        "width": 800,
        "xaxis": {
         "anchor": "y",
         "domain": [
          0,
          0.45
         ],
         "tickfont": {
          "size": 11
         }
        },
        "xaxis2": {
         "anchor": "y2",
         "domain": [
          0.55,
          1
         ],
         "tickfont": {
          "size": 11
         }
        },
        "yaxis": {
         "anchor": "x",
         "domain": [
          0,
          1
         ],
         "range": [
          0,
          7219689.4117647065
         ],
         "tickprefix": "$",
         "title": {
          "text": ""
         }
        },
        "yaxis2": {
         "anchor": "x2",
         "domain": [
          0,
          1
         ],
         "range": [
          0,
          262408.23529411765
         ],
         "title": {
          "text": ""
         }
        }
       }
      },
      "text/html": [
       "<div id=\"a6158f4a-1f47-49e8-9142-68e658c3d75a\" style=\"height: 500px; width: 800px;\" class=\"plotly-graph-div\"></div><script type=\"text/javascript\">require([\"plotly\"], function(Plotly) { window.PLOTLYENV=window.PLOTLYENV || {};window.PLOTLYENV.BASE_URL=\"https://plot.ly\";\n",
       "if (document.getElementById(\"a6158f4a-1f47-49e8-9142-68e658c3d75a\")) {\n",
       "    Plotly.newPlot(\"a6158f4a-1f47-49e8-9142-68e658c3d75a\", [{\"marker\": {\"color\": \"#4C753B\", \"line\": {\"width\": 1.5}}, \"opacity\": 0.8, \"text\": [\"$1.5 M\", \"$6,136,736\", \"$5,925,771\"], \"textposition\": \"outside\", \"x\": [\"Kamala Harris\", \"Beto O'Rourke\", \"Bernie Sanders\"], \"y\": [1500000, 6136736, 5925771], \"type\": \"bar\", \"uid\": \"045bdb12-38d5-4021-b19b-9d460724fa51\", \"xaxis\": \"x\", \"yaxis\": \"y\"}, {\"marker\": {\"color\": \"#761A56\", \"line\": {\"width\": 1.5}}, \"opacity\": 0.8, \"text\": [\"38,000\", \"112,000\", \"223,047\"], \"textposition\": \"outside\", \"x\": [\"Kamala Harris\", \"Beto O'Rourke\", \"Bernie Sanders\"], \"y\": [38000, 112000, 223047], \"type\": \"bar\", \"uid\": \"5fb4afe3-e6d5-47a0-b50f-cd5d1bab05d7\", \"xaxis\": \"x2\", \"yaxis\": \"y2\"}], {\"annotations\": [{\"font\": {\"size\": 10, \"family\": \"Andale Mono\", \"color\": \"lightgray\"}, \"showarrow\": false, \"text\": \"03/23/2019<br>@jeremy_m_joseph\", \"x\": 1, \"xanchor\": \"right\", \"xref\": \"paper\", \"y\": -0.18, \"yanchor\": \"bottom\", \"yref\": \"paper\", \"align\": \"right\"}, {\"font\": {\"size\": 10, \"family\": \"Andale Mono\", \"color\": \"lightgray\"}, \"showarrow\": false, \"text\": \"03/23/2019<br>@jeremy_m_joseph\", \"x\": 1, \"xanchor\": \"right\", \"xref\": \"paper\", \"y\": -0.18, \"yanchor\": \"bottom\", \"yref\": \"paper\", \"align\": \"right\"}], \"xaxis\": {\"anchor\": \"y\", \"domain\": [0.0, 0.45], \"tickfont\": {\"size\": 11}}, \"yaxis\": {\"anchor\": \"x\", \"domain\": [0.0, 1.0], \"title\": {\"text\": \"\"}, \"tickprefix\": \"$\", \"range\": [0, 7219689.4117647065]}, \"xaxis2\": {\"anchor\": \"y2\", \"domain\": [0.55, 1.0], \"tickfont\": {\"size\": 11}}, \"yaxis2\": {\"anchor\": \"x2\", \"domain\": [0.0, 1.0], \"title\": {\"text\": \"\"}, \"range\": [0, 262408.23529411765]}, \"title\": {\"font\": {\"family\": \"verdana\", \"size\": 18}, \"pad\": {\"b\": 30}, \"text\": \"First Day Fundraising: Money or People\", \"xref\": \"paper\", \"yref\": \"paper\", \"y\": 1.0, \"yanchor\": \"bottom\"}, \"width\": 800, \"height\": 500, \"showlegend\": false}, {\"showLink\": false, \"linkText\": \"Export to plot.ly\", \"plotlyServerURL\": \"https://plot.ly\"}); \n",
       "}\n",
       "});</script>"
      ],
      "text/vnd.plotly.v1+html": [
       "<div id=\"a6158f4a-1f47-49e8-9142-68e658c3d75a\" style=\"height: 500px; width: 800px;\" class=\"plotly-graph-div\"></div><script type=\"text/javascript\">require([\"plotly\"], function(Plotly) { window.PLOTLYENV=window.PLOTLYENV || {};window.PLOTLYENV.BASE_URL=\"https://plot.ly\";\n",
       "if (document.getElementById(\"a6158f4a-1f47-49e8-9142-68e658c3d75a\")) {\n",
       "    Plotly.newPlot(\"a6158f4a-1f47-49e8-9142-68e658c3d75a\", [{\"marker\": {\"color\": \"#4C753B\", \"line\": {\"width\": 1.5}}, \"opacity\": 0.8, \"text\": [\"$1.5 M\", \"$6,136,736\", \"$5,925,771\"], \"textposition\": \"outside\", \"x\": [\"Kamala Harris\", \"Beto O'Rourke\", \"Bernie Sanders\"], \"y\": [1500000, 6136736, 5925771], \"type\": \"bar\", \"uid\": \"045bdb12-38d5-4021-b19b-9d460724fa51\", \"xaxis\": \"x\", \"yaxis\": \"y\"}, {\"marker\": {\"color\": \"#761A56\", \"line\": {\"width\": 1.5}}, \"opacity\": 0.8, \"text\": [\"38,000\", \"112,000\", \"223,047\"], \"textposition\": \"outside\", \"x\": [\"Kamala Harris\", \"Beto O'Rourke\", \"Bernie Sanders\"], \"y\": [38000, 112000, 223047], \"type\": \"bar\", \"uid\": \"5fb4afe3-e6d5-47a0-b50f-cd5d1bab05d7\", \"xaxis\": \"x2\", \"yaxis\": \"y2\"}], {\"annotations\": [{\"font\": {\"size\": 10, \"family\": \"Andale Mono\", \"color\": \"lightgray\"}, \"showarrow\": false, \"text\": \"03/23/2019<br>@jeremy_m_joseph\", \"x\": 1, \"xanchor\": \"right\", \"xref\": \"paper\", \"y\": -0.18, \"yanchor\": \"bottom\", \"yref\": \"paper\", \"align\": \"right\"}, {\"font\": {\"size\": 10, \"family\": \"Andale Mono\", \"color\": \"lightgray\"}, \"showarrow\": false, \"text\": \"03/23/2019<br>@jeremy_m_joseph\", \"x\": 1, \"xanchor\": \"right\", \"xref\": \"paper\", \"y\": -0.18, \"yanchor\": \"bottom\", \"yref\": \"paper\", \"align\": \"right\"}], \"xaxis\": {\"anchor\": \"y\", \"domain\": [0.0, 0.45], \"tickfont\": {\"size\": 11}}, \"yaxis\": {\"anchor\": \"x\", \"domain\": [0.0, 1.0], \"title\": {\"text\": \"\"}, \"tickprefix\": \"$\", \"range\": [0, 7219689.4117647065]}, \"xaxis2\": {\"anchor\": \"y2\", \"domain\": [0.55, 1.0], \"tickfont\": {\"size\": 11}}, \"yaxis2\": {\"anchor\": \"x2\", \"domain\": [0.0, 1.0], \"title\": {\"text\": \"\"}, \"range\": [0, 262408.23529411765]}, \"title\": {\"font\": {\"family\": \"verdana\", \"size\": 18}, \"pad\": {\"b\": 30}, \"text\": \"First Day Fundraising: Money or People\", \"xref\": \"paper\", \"yref\": \"paper\", \"y\": 1.0, \"yanchor\": \"bottom\"}, \"width\": 800, \"height\": 500, \"showlegend\": false}, {\"showLink\": false, \"linkText\": \"Export to plot.ly\", \"plotlyServerURL\": \"https://plot.ly\"}); \n",
       "}\n",
       "});</script>"
      ]
     },
     "metadata": {},
     "output_type": "display_data"
    }
   ],
   "source": [
    "names = ['Kamala Harris', \"Beto O'Rourke\", 'Bernie Sanders']\n",
    "money_bars = go.Bar(\n",
    "    x=names,\n",
    "    y=[dem_dict[n][0] for n in names],\n",
    "    #width=25000,\n",
    "    text=[dem_dict[n][3] for n in names],\n",
    "    textposition = 'outside',\n",
    "#     textfont=dict(\n",
    "#         size=10\n",
    "#     ),\n",
    "    marker=dict(\n",
    "        #color='#2ca02c',\n",
    "        color='#4C753B',\n",
    "        line=dict(\n",
    "            #color='rgb(8,48,107)',\n",
    "            width=1.5\n",
    "        ),\n",
    "    ),\n",
    "    opacity=0.8\n",
    ")\n",
    "\n",
    "donation_bars = go.Bar(\n",
    "    x=names,\n",
    "    y=[dem_dict[n][1] for n in names],\n",
    "    #width=25000,\n",
    "    text=[\"{:,}\".format(dem_dict[n][1]) for n in names],\n",
    "    textposition = 'outside',\n",
    "    marker=dict(\n",
    "        #color='#9467bd',\n",
    "        color='#761A56',\n",
    "        line=dict(\n",
    "            #color='rgb(8,48,107)',\n",
    "            width=1.5,\n",
    "        ),\n",
    "    ),\n",
    "    opacity=0.8\n",
    "    \n",
    ")\n",
    "\n",
    "\n",
    "fig = plotly.tools.make_subplots(rows=1, cols=2, subplot_titles=('Total Money Raised', 'Individual Donors'))\n",
    "\n",
    "fig.append_trace(money_bars, 1, 1)\n",
    "fig.append_trace(donation_bars, 1, 2)\n",
    "\n",
    "# Set max height of tallest bar equal across plots\n",
    "ratio = .85\n",
    "fig['layout']['xaxis1'].update(tickfont=dict(size=11))\n",
    "fig['layout']['xaxis2'].update(tickfont=dict(size=11))\n",
    "\n",
    "fig['layout']['yaxis1'].update(title='',\n",
    "                               tickprefix=\"$\",\n",
    "                               range=[0,dem_dict[\"Beto O'Rourke\"][0]/float(ratio)])\n",
    "\n",
    "fig['layout']['yaxis2'].update(title='',\n",
    "                               range=[0, dem_dict['Bernie Sanders'][1]/float(ratio)])\n",
    "\n",
    "fig['layout'].update(title=dict(\n",
    "                         text='First Day Fundraising: Money or People',\n",
    "                         font=dict(\n",
    "                             family='verdana',\n",
    "                             size=18,\n",
    "                             color=None,\n",
    "                         ),\n",
    "                         xref='paper',\n",
    "                         yref='paper',\n",
    "                         y=1.0,\n",
    "                         yanchor='bottom',\n",
    "                         pad=dict( # unit: pixels\n",
    "                             b=30,\n",
    "                         ),\n",
    "                     ),\n",
    "                     width=800,\n",
    "                     height=500,\n",
    "                     showlegend=False)\n",
    "\n",
    "fig['layout'].update(annotations=[dict(\n",
    "    text='03/23/2019<br>@jeremy_m_joseph',\n",
    "    font=dict(\n",
    "        family='Andale Mono',\n",
    "        size=10,\n",
    "        color='lightgray',\n",
    "    ),\n",
    "    x=1,\n",
    "    y=-.18,\n",
    "    xref='paper',\n",
    "    yref='paper',\n",
    "    align='right',\n",
    "    xanchor='right',\n",
    "    yanchor='bottom',\n",
    "    showarrow=False,\n",
    ")])\n",
    "\n",
    "plotly.offline.init_notebook_mode(connected=True)\n",
    "plotly.offline.iplot(fig)"
   ]
  },
  {
   "cell_type": "code",
   "execution_count": 81,
   "metadata": {},
   "outputs": [],
   "source": [
    "pio.write_image(fig, 'images/bars1.png', format='png', scale=3.0, width=800, height=500)"
   ]
  },
  {
   "cell_type": "code",
   "execution_count": 580,
   "metadata": {},
   "outputs": [
    {
     "name": "stdout",
     "output_type": "stream",
     "text": [
      "This is the format of your plot grid:\n",
      "[ (1,1) x1,y1 ]\n",
      "[ (2,1) x2,y2 ]\n",
      "[ (3,1) x3,y3 ]\n",
      "\n"
     ]
    },
    {
     "data": {
      "text/html": [
       "<script type=\"text/javascript\">window.PlotlyConfig = {MathJaxConfig: 'local'};</script><script type=\"text/javascript\">if (window.MathJax) {MathJax.Hub.Config({SVG: {font: \"STIX-Web\"}});}</script><script>requirejs.config({paths: { 'plotly': ['https://cdn.plot.ly/plotly-latest.min']},});if(!window._Plotly) {require(['plotly'],function(plotly) {window._Plotly=plotly;});}</script>"
      ],
      "text/vnd.plotly.v1+html": [
       "<script type=\"text/javascript\">window.PlotlyConfig = {MathJaxConfig: 'local'};</script><script type=\"text/javascript\">if (window.MathJax) {MathJax.Hub.Config({SVG: {font: \"STIX-Web\"}});}</script><script>requirejs.config({paths: { 'plotly': ['https://cdn.plot.ly/plotly-latest.min']},});if(!window._Plotly) {require(['plotly'],function(plotly) {window._Plotly=plotly;});}</script>"
      ]
     },
     "metadata": {},
     "output_type": "display_data"
    },
    {
     "data": {
      "application/vnd.plotly.v1+json": {
       "config": {
        "linkText": "Export to plot.ly",
        "plotlyServerURL": "https://plot.ly",
        "showLink": false
       },
       "data": [
        {
         "fill": "toself",
         "line": {
          "color": "gray",
          "width": 0
         },
         "mode": "lines",
         "type": "scatter",
         "uid": "fc797612-19cf-447f-be13-354f74b984a8",
         "x": [
          37.66233766233766,
          40.25974025974026,
          41.333333333333336,
          38.666666666666664
         ],
         "xaxis": "x",
         "y": [
          38500,
          38500,
          37500,
          37500
         ],
         "yaxis": "y"
        },
        {
         "fill": "toself",
         "line": {
          "color": "gray",
          "width": 0
         },
         "mode": "lines",
         "type": "scatter",
         "uid": "736f1d6f-1952-4afb-a758-bd9c0b71d69b",
         "x": [
          54.44876444444444,
          54.648764444444446,
          55.137991031390136,
          54.93799103139013
         ],
         "xaxis": "x2",
         "y": [
          112500,
          112500,
          111500,
          111500
         ],
         "yaxis": "y2"
        },
        {
         "fill": "toself",
         "line": {
          "color": "gray",
          "width": 0
         },
         "mode": "lines",
         "opacity": 0.25,
         "type": "scatter",
         "uid": "67f0c3dd-4225-45ae-bc35-a40729665f34",
         "x": [
          47.656700389105055,
          47.85670038910506,
          48.23126274509804,
          48.03126274509804
         ],
         "xaxis": "x2",
         "y": [
          112500,
          112500,
          111500,
          111500
         ],
         "yaxis": "y2"
        },
        {
         "line": {
          "width": 6
         },
         "marker": {
          "color": "#17becf"
         },
         "mode": "markers+lines",
         "opacity": 0.5,
         "type": "scatter",
         "uid": "9638f616-d099-400b-9457-6e69e32f4092",
         "x": [
          36.5,
          37.5
         ],
         "xaxis": "x",
         "y": [
          38000,
          38000
         ],
         "yaxis": "y"
        },
        {
         "marker": {
          "color": "black"
         },
         "mode": "markers+text",
         "text": "<b>&#36;37</b>",
         "textfont": {
          "family": "verdana",
          "size": 10
         },
         "textposition": "top center",
         "type": "scatter",
         "uid": "ed8399b3-ec30-4696-8be7-ea97f023557e",
         "x": [
          37
         ],
         "xaxis": "x",
         "y": [
          38000
         ],
         "yaxis": "y"
        },
        {
         "line": {
          "width": 6
         },
         "marker": {
          "color": "#17becf"
         },
         "mode": "markers+lines",
         "opacity": 0.5,
         "type": "scatter",
         "uid": "c2c40b1c-feb4-4b17-8e4b-7761d30cda73",
         "x": [
          46.5,
          47.5
         ],
         "xaxis": "x2",
         "y": [
          112000,
          112000
         ],
         "yaxis": "y2"
        },
        {
         "marker": {
          "color": "black"
         },
         "mode": "markers+text",
         "text": "<b>&#36;47</b>",
         "textfont": {
          "family": "verdana",
          "size": 10
         },
         "textposition": "top center",
         "type": "scatter",
         "uid": "d4b9c119-171b-4c7d-8842-fa4990b3aac2",
         "x": [
          47
         ],
         "xaxis": "x2",
         "y": [
          112000
         ],
         "yaxis": "y2"
        },
        {
         "line": {
          "width": 6
         },
         "marker": {
          "color": "#17becf"
         },
         "mode": "markers+lines",
         "opacity": 0.5,
         "type": "scatter",
         "uid": "1874129d-7eec-44da-991c-882670f3a03a",
         "x": [
          26.5,
          27.5
         ],
         "xaxis": "x3",
         "y": [
          223047,
          223047
         ],
         "yaxis": "y3"
        },
        {
         "marker": {
          "color": "black"
         },
         "mode": "markers+text",
         "text": "<b>&#36;27</b>",
         "textfont": {
          "family": "verdana",
          "size": 10
         },
         "textposition": "top center",
         "type": "scatter",
         "uid": "c89b4891-093c-44a5-be86-f1d91635b72f",
         "x": [
          27
         ],
         "xaxis": "x3",
         "y": [
          223047
         ],
         "yaxis": "y3"
        },
        {
         "marker": {
          "color": "gray",
          "symbol": "square"
         },
         "mode": "markers",
         "opacity": 0.8,
         "type": "scatter",
         "uid": "f6fcdf52-0615-4038-bed4-3a03390600d0",
         "x": [
          26.56736472582012
         ],
         "xaxis": "x3",
         "y": [
          223047
         ],
         "yaxis": "y3"
        }
       ],
       "layout": {
        "annotations": [
         {
          "align": "right",
          "font": {
           "color": "lightgray",
           "family": "Andale Mono",
           "size": 10
          },
          "showarrow": false,
          "text": "03/23/2019<br>@jeremy_m_joseph",
          "x": 1,
          "xanchor": "right",
          "xref": "paper",
          "y": -0.1,
          "yanchor": "bottom",
          "yref": "paper"
         },
         {
          "align": "right",
          "font": {
           "color": "black",
           "family": "verdana",
           "size": 11
          },
          "showarrow": false,
          "text": "<b>Individual<br>Donors</b>",
          "x": 0,
          "xanchor": "right",
          "xref": "paper",
          "y": 1.04,
          "yref": "paper"
         },
         {
          "align": "left",
          "font": {
           "color": "black",
           "family": "verdana",
           "size": 10
          },
          "showarrow": false,
          "text": "&#36;1,500,000<i> +/- $50,000</i><br>38,000<i> +/- 500</i>",
          "x": 0.6,
          "xanchor": "left",
          "xref": "paper",
          "y": 38000,
          "yref": "y"
         },
         {
          "align": "left",
          "font": {
           "color": "black",
           "family": "verdana",
           "size": 10
          },
          "showarrow": false,
          "text": "&#36;6,136,736<br>112,000<i> +/- 500</i>",
          "x": 0.6,
          "xanchor": "left",
          "xref": "paper",
          "y": 112000,
          "yref": "y2"
         },
         {
          "align": "left",
          "font": {
           "color": "black",
           "family": "verdana",
           "size": 10
          },
          "showarrow": false,
          "text": "$5,925,771<br>223,047",
          "x": 0.6,
          "xanchor": "left",
          "xref": "paper",
          "y": 223047,
          "yref": "y3"
         },
         {
          "align": "left",
          "font": {
           "color": "gray",
           "family": "verdana",
           "size": 10
          },
          "showarrow": false,
          "text": "<i>Average donation figure<br>released by campaign.<br>If accurate, the blue bar<br>should touch the gray area",
          "x": 31,
          "xanchor": "left",
          "xref": "x",
          "y": 37650,
          "yref": "y"
         },
         {
          "align": "left",
          "font": {
           "color": "gray",
           "family": "verdana",
           "size": 10
          },
          "showarrow": false,
          "text": "<i>Gray area represents all possible <br>avg donation amounts based<br>on approx. figures from campaign</i>",
          "x": 41,
          "xanchor": "left",
          "xref": "x",
          "y": 38600,
          "yref": "y"
         },
         {
          "align": "left",
          "font": {
           "color": "gray",
           "family": "verdana",
           "size": 10
          },
          "showarrow": false,
          "text": "<i>Light gray area<br>represents initial<br>figure of 128,000<br>donations, not donors",
          "x": 48.5,
          "xanchor": "left",
          "xref": "x2",
          "y": 112500,
          "yanchor": "top",
          "yref": "y2"
         }
        ],
        "font": {
         "family": "verdana",
         "size": 11
        },
        "height": 700,
        "images": [
         {
          "sizex": 0.1,
          "sizey": 1000,
          "source": "https://i.imgur.com/oDU7p8k.png",
          "x": -0.17,
          "xanchor": "center",
          "xref": "paper",
          "y": 38000,
          "yanchor": "middle",
          "yref": "y"
         },
         {
          "sizex": 0.1,
          "sizey": 1000,
          "source": "https://i.imgur.com/qLNftOJ.png",
          "x": -0.17,
          "xanchor": "center",
          "xref": "paper",
          "y": 112000,
          "yanchor": "middle",
          "yref": "y2"
         },
         {
          "sizex": 0.1,
          "sizey": 1000,
          "source": "https://i.imgur.com/t8YoO1f.png",
          "x": -0.17,
          "xanchor": "center",
          "xref": "paper",
          "y": 223047,
          "yanchor": "middle",
          "yref": "y3"
         }
        ],
        "margin": {
         "autoexpand": false,
         "l": 120,
         "pad": 2
        },
        "showlegend": false,
        "title": {
         "font": {
          "family": "verdana",
          "size": 16
         },
         "pad": {
          "b": 50
         },
         "text": "First Day Fundraising: Rounding Average Donation Numbers",
         "y": 1,
         "yanchor": "bottom",
         "yref": "paper"
        },
        "width": 600,
        "xaxis": {
         "anchor": "y",
         "domain": [
          0,
          1
         ],
         "dtick": 1,
         "range": [
          30.704457759918206,
          48.291213235752785
         ],
         "showtickprefix": "first",
         "tickmode": "linear",
         "tickprefix": "$"
        },
        "xaxis2": {
         "anchor": "y2",
         "domain": [
          0,
          1
         ],
         "dtick": 1,
         "range": [
          46,
          63.58675547583458
         ],
         "scaleanchor": "x",
         "showtickprefix": "first",
         "tickprefix": "$"
        },
        "xaxis3": {
         "anchor": "y3",
         "domain": [
          0,
          1
         ],
         "dtick": 1,
         "range": [
          17.77398698790283,
          35.36074246373741
         ],
         "scaleanchor": "x",
         "showtickprefix": "first",
         "tickprefix": "$",
         "title": {
          "font": {
           "size": 11
          },
          "text": "<b>Average Donation</b>"
         }
        },
        "yaxis": {
         "anchor": "x",
         "domain": [
          0.7333333333333333,
          1
         ],
         "range": [
          37250,
          38750
         ]
        },
        "yaxis2": {
         "anchor": "x2",
         "domain": [
          0.36666666666666664,
          0.6333333333333333
         ],
         "scaleanchor": "y"
        },
        "yaxis3": {
         "anchor": "x3",
         "domain": [
          0,
          0.26666666666666666
         ],
         "scaleanchor": "y"
        }
       }
      },
      "text/html": [
       "<div id=\"1134398c-fe83-4da2-9e42-ba37034b19ec\" style=\"height: 700px; width: 600px;\" class=\"plotly-graph-div\"></div><script type=\"text/javascript\">require([\"plotly\"], function(Plotly) { window.PLOTLYENV=window.PLOTLYENV || {};window.PLOTLYENV.BASE_URL=\"https://plot.ly\";\n",
       "if (document.getElementById(\"1134398c-fe83-4da2-9e42-ba37034b19ec\")) {\n",
       "    Plotly.newPlot(\"1134398c-fe83-4da2-9e42-ba37034b19ec\", [{\"fill\": \"toself\", \"line\": {\"color\": \"gray\", \"width\": 0}, \"mode\": \"lines\", \"x\": [37.66233766233766, 40.25974025974026, 41.333333333333336, 38.666666666666664], \"y\": [38500, 38500, 37500, 37500], \"type\": \"scatter\", \"uid\": \"fc797612-19cf-447f-be13-354f74b984a8\", \"xaxis\": \"x\", \"yaxis\": \"y\"}, {\"fill\": \"toself\", \"line\": {\"color\": \"gray\", \"width\": 0}, \"mode\": \"lines\", \"x\": [54.44876444444444, 54.648764444444446, 55.137991031390136, 54.93799103139013], \"y\": [112500, 112500, 111500, 111500], \"type\": \"scatter\", \"uid\": \"736f1d6f-1952-4afb-a758-bd9c0b71d69b\", \"xaxis\": \"x2\", \"yaxis\": \"y2\"}, {\"fill\": \"toself\", \"line\": {\"color\": \"gray\", \"width\": 0}, \"mode\": \"lines\", \"opacity\": 0.25, \"x\": [47.656700389105055, 47.85670038910506, 48.23126274509804, 48.03126274509804], \"y\": [112500, 112500, 111500, 111500], \"type\": \"scatter\", \"uid\": \"67f0c3dd-4225-45ae-bc35-a40729665f34\", \"xaxis\": \"x2\", \"yaxis\": \"y2\"}, {\"line\": {\"width\": 6}, \"marker\": {\"color\": \"#17becf\"}, \"mode\": \"markers+lines\", \"opacity\": 0.5, \"x\": [36.5, 37.5], \"y\": [38000, 38000], \"type\": \"scatter\", \"uid\": \"9638f616-d099-400b-9457-6e69e32f4092\", \"xaxis\": \"x\", \"yaxis\": \"y\"}, {\"marker\": {\"color\": \"black\"}, \"mode\": \"markers+text\", \"text\": \"<b>&#36;37</b>\", \"textfont\": {\"family\": \"verdana\", \"size\": 10}, \"textposition\": \"top center\", \"x\": [37], \"y\": [38000], \"type\": \"scatter\", \"uid\": \"ed8399b3-ec30-4696-8be7-ea97f023557e\", \"xaxis\": \"x\", \"yaxis\": \"y\"}, {\"line\": {\"width\": 6}, \"marker\": {\"color\": \"#17becf\"}, \"mode\": \"markers+lines\", \"opacity\": 0.5, \"x\": [46.5, 47.5], \"y\": [112000, 112000], \"type\": \"scatter\", \"uid\": \"c2c40b1c-feb4-4b17-8e4b-7761d30cda73\", \"xaxis\": \"x2\", \"yaxis\": \"y2\"}, {\"marker\": {\"color\": \"black\"}, \"mode\": \"markers+text\", \"text\": \"<b>&#36;47</b>\", \"textfont\": {\"family\": \"verdana\", \"size\": 10}, \"textposition\": \"top center\", \"x\": [47], \"y\": [112000], \"type\": \"scatter\", \"uid\": \"d4b9c119-171b-4c7d-8842-fa4990b3aac2\", \"xaxis\": \"x2\", \"yaxis\": \"y2\"}, {\"line\": {\"width\": 6}, \"marker\": {\"color\": \"#17becf\"}, \"mode\": \"markers+lines\", \"opacity\": 0.5, \"x\": [26.5, 27.5], \"y\": [223047, 223047], \"type\": \"scatter\", \"uid\": \"1874129d-7eec-44da-991c-882670f3a03a\", \"xaxis\": \"x3\", \"yaxis\": \"y3\"}, {\"marker\": {\"color\": \"black\"}, \"mode\": \"markers+text\", \"text\": \"<b>&#36;27</b>\", \"textfont\": {\"family\": \"verdana\", \"size\": 10}, \"textposition\": \"top center\", \"x\": [27], \"y\": [223047], \"type\": \"scatter\", \"uid\": \"c89b4891-093c-44a5-be86-f1d91635b72f\", \"xaxis\": \"x3\", \"yaxis\": \"y3\"}, {\"marker\": {\"color\": \"gray\", \"symbol\": \"square\"}, \"mode\": \"markers\", \"opacity\": 0.8, \"x\": [26.56736472582012], \"y\": [223047], \"type\": \"scatter\", \"uid\": \"f6fcdf52-0615-4038-bed4-3a03390600d0\", \"xaxis\": \"x3\", \"yaxis\": \"y3\"}], {\"xaxis\": {\"anchor\": \"y\", \"domain\": [0.0, 1.0], \"range\": [30.704457759918206, 48.291213235752785], \"tickmode\": \"linear\", \"dtick\": 1, \"tickprefix\": \"$\", \"showtickprefix\": \"first\"}, \"yaxis\": {\"anchor\": \"x\", \"domain\": [0.7333333333333333, 1.0], \"range\": [37250, 38750]}, \"xaxis2\": {\"anchor\": \"y2\", \"domain\": [0.0, 1.0], \"range\": [46.0, 63.58675547583458], \"scaleanchor\": \"x\", \"dtick\": 1, \"tickprefix\": \"$\", \"showtickprefix\": \"first\"}, \"yaxis2\": {\"anchor\": \"x2\", \"domain\": [0.36666666666666664, 0.6333333333333333], \"scaleanchor\": \"y\"}, \"xaxis3\": {\"anchor\": \"y3\", \"domain\": [0.0, 1.0], \"title\": {\"font\": {\"size\": 11}, \"text\": \"<b>Average Donation</b>\"}, \"range\": [17.77398698790283, 35.36074246373741], \"scaleanchor\": \"x\", \"dtick\": 1, \"tickprefix\": \"$\", \"showtickprefix\": \"first\"}, \"yaxis3\": {\"anchor\": \"x3\", \"domain\": [0.0, 0.26666666666666666], \"scaleanchor\": \"y\"}, \"font\": {\"family\": \"verdana\", \"size\": 11}, \"title\": {\"font\": {\"family\": \"verdana\", \"size\": 16}, \"pad\": {\"b\": 50}, \"text\": \"First Day Fundraising: Rounding Average Donation Numbers\", \"yref\": \"paper\", \"y\": 1.0, \"yanchor\": \"bottom\"}, \"width\": 600, \"height\": 700, \"showlegend\": false, \"images\": [{\"sizex\": 0.1, \"sizey\": 1000, \"source\": \"https://i.imgur.com/oDU7p8k.png\", \"x\": -0.17, \"xanchor\": \"center\", \"xref\": \"paper\", \"y\": 38000, \"yanchor\": \"middle\", \"yref\": \"y\"}, {\"sizex\": 0.1, \"sizey\": 1000, \"source\": \"https://i.imgur.com/qLNftOJ.png\", \"x\": -0.17, \"xanchor\": \"center\", \"xref\": \"paper\", \"y\": 112000, \"yanchor\": \"middle\", \"yref\": \"y2\"}, {\"sizex\": 0.1, \"sizey\": 1000, \"source\": \"https://i.imgur.com/t8YoO1f.png\", \"x\": -0.17, \"xanchor\": \"center\", \"xref\": \"paper\", \"y\": 223047, \"yanchor\": \"middle\", \"yref\": \"y3\"}], \"margin\": {\"autoexpand\": false, \"l\": 120, \"pad\": 2}, \"annotations\": [{\"align\": \"right\", \"font\": {\"color\": \"lightgray\", \"family\": \"Andale Mono\", \"size\": 10}, \"showarrow\": false, \"text\": \"03/23/2019<br>@jeremy_m_joseph\", \"x\": 1, \"xanchor\": \"right\", \"xref\": \"paper\", \"y\": -0.1, \"yanchor\": \"bottom\", \"yref\": \"paper\"}, {\"align\": \"right\", \"font\": {\"color\": \"black\", \"family\": \"verdana\", \"size\": 11}, \"showarrow\": false, \"text\": \"<b>Individual<br>Donors</b>\", \"x\": 0, \"xanchor\": \"right\", \"xref\": \"paper\", \"y\": 1.04, \"yref\": \"paper\"}, {\"align\": \"left\", \"font\": {\"color\": \"black\", \"family\": \"verdana\", \"size\": 10}, \"showarrow\": false, \"text\": \"&#36;1,500,000<i> +/- $50,000</i><br>38,000<i> +/- 500</i>\", \"x\": 0.6, \"xanchor\": \"left\", \"xref\": \"paper\", \"y\": 38000, \"yref\": \"y\"}, {\"align\": \"left\", \"font\": {\"color\": \"black\", \"family\": \"verdana\", \"size\": 10}, \"showarrow\": false, \"text\": \"&#36;6,136,736<br>112,000<i> +/- 500</i>\", \"x\": 0.6, \"xanchor\": \"left\", \"xref\": \"paper\", \"y\": 112000, \"yref\": \"y2\"}, {\"align\": \"left\", \"font\": {\"color\": \"black\", \"family\": \"verdana\", \"size\": 10}, \"showarrow\": false, \"text\": \"$5,925,771<br>223,047\", \"x\": 0.6, \"xanchor\": \"left\", \"xref\": \"paper\", \"y\": 223047, \"yref\": \"y3\"}, {\"align\": \"left\", \"font\": {\"color\": \"gray\", \"family\": \"verdana\", \"size\": 10}, \"showarrow\": false, \"text\": \"<i>Average donation figure<br>released by campaign.<br>If accurate, the blue bar<br>should touch the gray area\", \"x\": 31, \"xanchor\": \"left\", \"xref\": \"x\", \"y\": 37650, \"yref\": \"y\"}, {\"align\": \"left\", \"font\": {\"color\": \"gray\", \"family\": \"verdana\", \"size\": 10}, \"showarrow\": false, \"text\": \"<i>Gray area represents all possible <br>avg donation amounts based<br>on approx. figures from campaign</i>\", \"x\": 41, \"xanchor\": \"left\", \"xref\": \"x\", \"y\": 38600, \"yref\": \"y\"}, {\"align\": \"left\", \"font\": {\"color\": \"gray\", \"family\": \"verdana\", \"size\": 10}, \"showarrow\": false, \"text\": \"<i>Light gray area<br>represents initial<br>figure of 128,000<br>donations, not donors\", \"x\": 48.5, \"xanchor\": \"left\", \"xref\": \"x2\", \"y\": 112500, \"yanchor\": \"top\", \"yref\": \"y2\"}]}, {\"showLink\": false, \"linkText\": \"Export to plot.ly\", \"plotlyServerURL\": \"https://plot.ly\"}); \n",
       "}\n",
       "});</script>"
      ],
      "text/vnd.plotly.v1+html": [
       "<div id=\"1134398c-fe83-4da2-9e42-ba37034b19ec\" style=\"height: 700px; width: 600px;\" class=\"plotly-graph-div\"></div><script type=\"text/javascript\">require([\"plotly\"], function(Plotly) { window.PLOTLYENV=window.PLOTLYENV || {};window.PLOTLYENV.BASE_URL=\"https://plot.ly\";\n",
       "if (document.getElementById(\"1134398c-fe83-4da2-9e42-ba37034b19ec\")) {\n",
       "    Plotly.newPlot(\"1134398c-fe83-4da2-9e42-ba37034b19ec\", [{\"fill\": \"toself\", \"line\": {\"color\": \"gray\", \"width\": 0}, \"mode\": \"lines\", \"x\": [37.66233766233766, 40.25974025974026, 41.333333333333336, 38.666666666666664], \"y\": [38500, 38500, 37500, 37500], \"type\": \"scatter\", \"uid\": \"fc797612-19cf-447f-be13-354f74b984a8\", \"xaxis\": \"x\", \"yaxis\": \"y\"}, {\"fill\": \"toself\", \"line\": {\"color\": \"gray\", \"width\": 0}, \"mode\": \"lines\", \"x\": [54.44876444444444, 54.648764444444446, 55.137991031390136, 54.93799103139013], \"y\": [112500, 112500, 111500, 111500], \"type\": \"scatter\", \"uid\": \"736f1d6f-1952-4afb-a758-bd9c0b71d69b\", \"xaxis\": \"x2\", \"yaxis\": \"y2\"}, {\"fill\": \"toself\", \"line\": {\"color\": \"gray\", \"width\": 0}, \"mode\": \"lines\", \"opacity\": 0.25, \"x\": [47.656700389105055, 47.85670038910506, 48.23126274509804, 48.03126274509804], \"y\": [112500, 112500, 111500, 111500], \"type\": \"scatter\", \"uid\": \"67f0c3dd-4225-45ae-bc35-a40729665f34\", \"xaxis\": \"x2\", \"yaxis\": \"y2\"}, {\"line\": {\"width\": 6}, \"marker\": {\"color\": \"#17becf\"}, \"mode\": \"markers+lines\", \"opacity\": 0.5, \"x\": [36.5, 37.5], \"y\": [38000, 38000], \"type\": \"scatter\", \"uid\": \"9638f616-d099-400b-9457-6e69e32f4092\", \"xaxis\": \"x\", \"yaxis\": \"y\"}, {\"marker\": {\"color\": \"black\"}, \"mode\": \"markers+text\", \"text\": \"<b>&#36;37</b>\", \"textfont\": {\"family\": \"verdana\", \"size\": 10}, \"textposition\": \"top center\", \"x\": [37], \"y\": [38000], \"type\": \"scatter\", \"uid\": \"ed8399b3-ec30-4696-8be7-ea97f023557e\", \"xaxis\": \"x\", \"yaxis\": \"y\"}, {\"line\": {\"width\": 6}, \"marker\": {\"color\": \"#17becf\"}, \"mode\": \"markers+lines\", \"opacity\": 0.5, \"x\": [46.5, 47.5], \"y\": [112000, 112000], \"type\": \"scatter\", \"uid\": \"c2c40b1c-feb4-4b17-8e4b-7761d30cda73\", \"xaxis\": \"x2\", \"yaxis\": \"y2\"}, {\"marker\": {\"color\": \"black\"}, \"mode\": \"markers+text\", \"text\": \"<b>&#36;47</b>\", \"textfont\": {\"family\": \"verdana\", \"size\": 10}, \"textposition\": \"top center\", \"x\": [47], \"y\": [112000], \"type\": \"scatter\", \"uid\": \"d4b9c119-171b-4c7d-8842-fa4990b3aac2\", \"xaxis\": \"x2\", \"yaxis\": \"y2\"}, {\"line\": {\"width\": 6}, \"marker\": {\"color\": \"#17becf\"}, \"mode\": \"markers+lines\", \"opacity\": 0.5, \"x\": [26.5, 27.5], \"y\": [223047, 223047], \"type\": \"scatter\", \"uid\": \"1874129d-7eec-44da-991c-882670f3a03a\", \"xaxis\": \"x3\", \"yaxis\": \"y3\"}, {\"marker\": {\"color\": \"black\"}, \"mode\": \"markers+text\", \"text\": \"<b>&#36;27</b>\", \"textfont\": {\"family\": \"verdana\", \"size\": 10}, \"textposition\": \"top center\", \"x\": [27], \"y\": [223047], \"type\": \"scatter\", \"uid\": \"c89b4891-093c-44a5-be86-f1d91635b72f\", \"xaxis\": \"x3\", \"yaxis\": \"y3\"}, {\"marker\": {\"color\": \"gray\", \"symbol\": \"square\"}, \"mode\": \"markers\", \"opacity\": 0.8, \"x\": [26.56736472582012], \"y\": [223047], \"type\": \"scatter\", \"uid\": \"f6fcdf52-0615-4038-bed4-3a03390600d0\", \"xaxis\": \"x3\", \"yaxis\": \"y3\"}], {\"xaxis\": {\"anchor\": \"y\", \"domain\": [0.0, 1.0], \"range\": [30.704457759918206, 48.291213235752785], \"tickmode\": \"linear\", \"dtick\": 1, \"tickprefix\": \"$\", \"showtickprefix\": \"first\"}, \"yaxis\": {\"anchor\": \"x\", \"domain\": [0.7333333333333333, 1.0], \"range\": [37250, 38750]}, \"xaxis2\": {\"anchor\": \"y2\", \"domain\": [0.0, 1.0], \"range\": [46.0, 63.58675547583458], \"scaleanchor\": \"x\", \"dtick\": 1, \"tickprefix\": \"$\", \"showtickprefix\": \"first\"}, \"yaxis2\": {\"anchor\": \"x2\", \"domain\": [0.36666666666666664, 0.6333333333333333], \"scaleanchor\": \"y\"}, \"xaxis3\": {\"anchor\": \"y3\", \"domain\": [0.0, 1.0], \"title\": {\"font\": {\"size\": 11}, \"text\": \"<b>Average Donation</b>\"}, \"range\": [17.77398698790283, 35.36074246373741], \"scaleanchor\": \"x\", \"dtick\": 1, \"tickprefix\": \"$\", \"showtickprefix\": \"first\"}, \"yaxis3\": {\"anchor\": \"x3\", \"domain\": [0.0, 0.26666666666666666], \"scaleanchor\": \"y\"}, \"font\": {\"family\": \"verdana\", \"size\": 11}, \"title\": {\"font\": {\"family\": \"verdana\", \"size\": 16}, \"pad\": {\"b\": 50}, \"text\": \"First Day Fundraising: Rounding Average Donation Numbers\", \"yref\": \"paper\", \"y\": 1.0, \"yanchor\": \"bottom\"}, \"width\": 600, \"height\": 700, \"showlegend\": false, \"images\": [{\"sizex\": 0.1, \"sizey\": 1000, \"source\": \"https://i.imgur.com/oDU7p8k.png\", \"x\": -0.17, \"xanchor\": \"center\", \"xref\": \"paper\", \"y\": 38000, \"yanchor\": \"middle\", \"yref\": \"y\"}, {\"sizex\": 0.1, \"sizey\": 1000, \"source\": \"https://i.imgur.com/qLNftOJ.png\", \"x\": -0.17, \"xanchor\": \"center\", \"xref\": \"paper\", \"y\": 112000, \"yanchor\": \"middle\", \"yref\": \"y2\"}, {\"sizex\": 0.1, \"sizey\": 1000, \"source\": \"https://i.imgur.com/t8YoO1f.png\", \"x\": -0.17, \"xanchor\": \"center\", \"xref\": \"paper\", \"y\": 223047, \"yanchor\": \"middle\", \"yref\": \"y3\"}], \"margin\": {\"autoexpand\": false, \"l\": 120, \"pad\": 2}, \"annotations\": [{\"align\": \"right\", \"font\": {\"color\": \"lightgray\", \"family\": \"Andale Mono\", \"size\": 10}, \"showarrow\": false, \"text\": \"03/23/2019<br>@jeremy_m_joseph\", \"x\": 1, \"xanchor\": \"right\", \"xref\": \"paper\", \"y\": -0.1, \"yanchor\": \"bottom\", \"yref\": \"paper\"}, {\"align\": \"right\", \"font\": {\"color\": \"black\", \"family\": \"verdana\", \"size\": 11}, \"showarrow\": false, \"text\": \"<b>Individual<br>Donors</b>\", \"x\": 0, \"xanchor\": \"right\", \"xref\": \"paper\", \"y\": 1.04, \"yref\": \"paper\"}, {\"align\": \"left\", \"font\": {\"color\": \"black\", \"family\": \"verdana\", \"size\": 10}, \"showarrow\": false, \"text\": \"&#36;1,500,000<i> +/- $50,000</i><br>38,000<i> +/- 500</i>\", \"x\": 0.6, \"xanchor\": \"left\", \"xref\": \"paper\", \"y\": 38000, \"yref\": \"y\"}, {\"align\": \"left\", \"font\": {\"color\": \"black\", \"family\": \"verdana\", \"size\": 10}, \"showarrow\": false, \"text\": \"&#36;6,136,736<br>112,000<i> +/- 500</i>\", \"x\": 0.6, \"xanchor\": \"left\", \"xref\": \"paper\", \"y\": 112000, \"yref\": \"y2\"}, {\"align\": \"left\", \"font\": {\"color\": \"black\", \"family\": \"verdana\", \"size\": 10}, \"showarrow\": false, \"text\": \"$5,925,771<br>223,047\", \"x\": 0.6, \"xanchor\": \"left\", \"xref\": \"paper\", \"y\": 223047, \"yref\": \"y3\"}, {\"align\": \"left\", \"font\": {\"color\": \"gray\", \"family\": \"verdana\", \"size\": 10}, \"showarrow\": false, \"text\": \"<i>Average donation figure<br>released by campaign.<br>If accurate, the blue bar<br>should touch the gray area\", \"x\": 31, \"xanchor\": \"left\", \"xref\": \"x\", \"y\": 37650, \"yref\": \"y\"}, {\"align\": \"left\", \"font\": {\"color\": \"gray\", \"family\": \"verdana\", \"size\": 10}, \"showarrow\": false, \"text\": \"<i>Gray area represents all possible <br>avg donation amounts based<br>on approx. figures from campaign</i>\", \"x\": 41, \"xanchor\": \"left\", \"xref\": \"x\", \"y\": 38600, \"yref\": \"y\"}, {\"align\": \"left\", \"font\": {\"color\": \"gray\", \"family\": \"verdana\", \"size\": 10}, \"showarrow\": false, \"text\": \"<i>Light gray area<br>represents initial<br>figure of 128,000<br>donations, not donors\", \"x\": 48.5, \"xanchor\": \"left\", \"xref\": \"x2\", \"y\": 112500, \"yanchor\": \"top\", \"yref\": \"y2\"}]}, {\"showLink\": false, \"linkText\": \"Export to plot.ly\", \"plotlyServerURL\": \"https://plot.ly\"}); \n",
       "}\n",
       "});</script>"
      ]
     },
     "metadata": {},
     "output_type": "display_data"
    }
   ],
   "source": [
    "fig = plotly.tools.make_subplots(rows=3, cols=1)\n",
    "\n",
    "k_ymax = dem_dict['Kamala Harris'][1] + 500\n",
    "k_ymin = dem_dict['Kamala Harris'][1] - 500\n",
    "k_xmax = float(dem_dict['Kamala Harris'][0] + 50000)/k_ymin\n",
    "k_xmin = float(dem_dict['Kamala Harris'][0] - 50000)/k_ymax\n",
    "k_xbot = float(dem_dict['Kamala Harris'][0] - 50000)/k_ymin\n",
    "k_xtop = float(dem_dict['Kamala Harris'][0] + 50000)/k_ymax\n",
    "\n",
    "\n",
    "box_kamala = go.Scatter(\n",
    "    x=[k_xmin, k_xtop, k_xmax, k_xbot],\n",
    "    y=[k_ymax, k_ymax, k_ymin, k_ymin],\n",
    "    mode='lines',\n",
    "    line=dict(\n",
    "        width=0,\n",
    "        color='gray',\n",
    "    ),\n",
    "    #opacity=0.5,\n",
    "    fill='toself',\n",
    "    #fillcolor='#17becf',\n",
    ")\n",
    "\n",
    "fig.append_trace(box_kamala, 1, 1)\n",
    "\n",
    "\n",
    "b_ymax = dem_dict[\"Beto O'Rourke\"][1] + 500\n",
    "b_ymin = dem_dict[\"Beto O'Rourke\"][1] - 500\n",
    "b_xmax = float(dem_dict[\"Beto O'Rourke\"][0])/b_ymin\n",
    "b_xmin = float(dem_dict[\"Beto O'Rourke\"][0])/b_ymax\n",
    "\n",
    "w=.1\n",
    "box_beto = go.Scatter(\n",
    "    x=[b_xmin-w, b_xmin+w, b_xmax+w, b_xmax-w],\n",
    "    y=[b_ymax, b_ymax, b_ymin, b_ymin],\n",
    "    mode='lines',\n",
    "    line=dict(\n",
    "        width=0,\n",
    "        color='gray',\n",
    "    ),\n",
    "    #opacity=0.5,\n",
    "    fill='toself',\n",
    "    #fillcolor='#17becf',\n",
    ")\n",
    "\n",
    "fig.append_trace(box_beto, 2, 1)\n",
    "\n",
    "bo_xmax = float(dem_dict[\"Beto O'Rourke\"][0])/127500\n",
    "bo_xmin = float(dem_dict[\"Beto O'Rourke\"][0])/128500\n",
    "badbox_beto = go.Scatter(\n",
    "    x=[bo_xmin-w, bo_xmin+w, bo_xmax+w, bo_xmax-w],\n",
    "    y=[b_ymax, b_ymax, b_ymin, b_ymin],\n",
    "    mode='lines',\n",
    "    line=dict(\n",
    "        width=0,\n",
    "        color='gray',\n",
    "    ),\n",
    "    opacity=0.25,\n",
    "    fill='toself',\n",
    "    #fillcolor='#17becf',\n",
    ")\n",
    "\n",
    "fig.append_trace(badbox_beto, 2, 1)\n",
    "\n",
    "bernie_exact = float(dem_dict['Bernie Sanders'][0])/dem_dict['Bernie Sanders'][1]\n",
    "box_bernie = go.Scatter(\n",
    "    x=[bernie_exact],\n",
    "    y=[dem_dict['Bernie Sanders'][1]],\n",
    "    mode='markers',\n",
    "    marker=dict(\n",
    "        symbol='square',\n",
    "        color='gray',\n",
    "    ),\n",
    "    opacity=0.8,\n",
    "    #fill='toself',\n",
    "    #fillcolor='#17becf',\n",
    ")\n",
    "\n",
    "\n",
    "for x in range(3):\n",
    "    pt = go.Scatter(\n",
    "        x=[dem_dict[names[x]][2]],\n",
    "        y=[dem_dict[names[x]][1]],\n",
    "        mode='markers+text',\n",
    "        marker=dict(color='black'),\n",
    "        text='<b>&#36;' + str(dem_dict[names[x]][2]) + '</b>',\n",
    "        textposition='top center',\n",
    "        textfont=dict(\n",
    "            family='verdana',\n",
    "            color=None,\n",
    "            size=10\n",
    "        )\n",
    "    )\n",
    "    \n",
    "    span = go.Scatter(\n",
    "        x=[dem_dict[names[x]][2]-.5, dem_dict[names[x]][2]+.5],\n",
    "        y=[dem_dict[names[x]][1]]*2,\n",
    "        mode='markers+lines',\n",
    "        marker=dict(color='#17becf'),#'pink'),\n",
    "        line=dict(width=6),\n",
    "        opacity=0.5\n",
    "    )\n",
    "    \n",
    "    fig.append_trace(span, x+1, 1)\n",
    "    fig.append_trace(pt, x+1, 1)\n",
    "    \n",
    "\n",
    "fig.append_trace(box_bernie, 3, 1)\n",
    "\n",
    "pics = []\n",
    "for i, n in enumerate(names):\n",
    "    pics.append(dict(\n",
    "        source=dem_dict[n][4],\n",
    "        xref='paper',\n",
    "        yref='y' + str(i+1),\n",
    "        x=-.17,\n",
    "        y=dem_dict[n][1],\n",
    "        sizex= .1, # overridden by smaller dimension\n",
    "        sizey= 1000,\n",
    "        xanchor= \"center\",\n",
    "        yanchor= \"middle\"\n",
    "        ))\n",
    "\n",
    "fig['layout'].update(font=dict(\n",
    "                         family='verdana',\n",
    "                         size=11,\n",
    "                     ),\n",
    "                     title=dict(\n",
    "                         text='First Day Fundraising: Rounding Average Donation Numbers',\n",
    "                         font=dict(\n",
    "                             family='verdana',\n",
    "                             size=16,\n",
    "                             color=None,\n",
    "                         ),\n",
    "                         #xref='paper',\n",
    "                         yref='paper',\n",
    "                         y=1.0,\n",
    "                         yanchor='bottom',\n",
    "                         #xanchor='right',\n",
    "                         pad=dict( # unit: pixels\n",
    "                             b=50,\n",
    "                         ),\n",
    "                     ),\n",
    "                     width=600,\n",
    "                     height=700,\n",
    "                     showlegend=False,\n",
    "                     images=pics,\n",
    "                    )\n",
    "\n",
    "k_mid = (k_xmin + k_xmax) / 2.0\n",
    "b_mid = (b_xmin + b_xmax) / 2.0\n",
    "b_width = b_mid - dem_dict[\"Beto O'Rourke\"][2] + 1\n",
    "\n",
    "fig['layout']['xaxis1'].update(range=[k_mid-b_width, k_mid+b_width],\n",
    "                               tickmode='linear',\n",
    "                               dtick=1,\n",
    "                               tickprefix='$',\n",
    "                               showtickprefix='first')\n",
    "\n",
    "fig['layout']['xaxis2'].update(range=[b_mid-b_width, b_mid+b_width],\n",
    "                               scaleanchor='x',\n",
    "                               dtick=1,\n",
    "                               tickprefix='$',\n",
    "                               showtickprefix='first')\n",
    "\n",
    "fig['layout']['xaxis3'].update(range=[bernie_exact-b_width, bernie_exact+b_width],\n",
    "                               scaleanchor='x',\n",
    "                               dtick=1,\n",
    "                               tickprefix='$',\n",
    "                               showtickprefix='first',\n",
    "                               title=dict(\n",
    "                                   text='<b>Average Donation</b>',\n",
    "                                   font=dict(\n",
    "                                       family=None,\n",
    "                                       size=11,\n",
    "                                       color=None,\n",
    "                                   )\n",
    "                               ))\n",
    "\n",
    "fig['layout']['yaxis1'].update(range=[k_ymin-250, k_ymax+250],\n",
    "                              )#dtick=1000)\n",
    "fig['layout']['yaxis2'].update(scaleanchor='y',\n",
    "                              )#dtick=1)\n",
    "fig['layout']['yaxis3'].update(scaleanchor='y',\n",
    "                              )#dtick=1)\n",
    "\n",
    "fig['layout'].update(margin=go.layout.Margin(\n",
    "                         l=120,\n",
    "                         pad=2,\n",
    "                         autoexpand=False,\n",
    "                     ),\n",
    "                    )\n",
    "\n",
    "\n",
    "fig['layout'].update(annotations=[dict(\n",
    "    text='03/23/2019<br>@jeremy_m_joseph',\n",
    "    font=dict(\n",
    "        family='Andale Mono',\n",
    "        size=10,\n",
    "        color='lightgray',\n",
    "    ),\n",
    "    x=1,\n",
    "    y=-.1,\n",
    "    xref='paper',\n",
    "    yref='paper',\n",
    "    align='right',\n",
    "    xanchor='right',\n",
    "    yanchor='bottom',\n",
    "    showarrow=False,\n",
    "),\n",
    "    dict(\n",
    "    text='<b>Individual<br>Donors</b>',\n",
    "    font=dict(\n",
    "        family='verdana',\n",
    "        size=11,\n",
    "        color='black',\n",
    "    ),\n",
    "    x=0,\n",
    "    y=1.04,\n",
    "    xref='paper',\n",
    "    yref='paper',\n",
    "    align='right',\n",
    "    xanchor='right',\n",
    "    showarrow=False,\n",
    "),\n",
    "    dict(\n",
    "    text='&#36;' + '{:,}'.format(dem_dict[names[0]][0]) + \\\n",
    "         '<i> +/- ' + u\"\\u0024\" + '50,000</i><br>' + \\\n",
    "         '{:,}'.format(dem_dict[names[0]][1]) + '<i> +/- 500</i>',\n",
    "    font=dict(\n",
    "        family='verdana',\n",
    "        size=10,\n",
    "        color='black',\n",
    "    ),\n",
    "    x=0.60,\n",
    "    y=dem_dict[names[0]][1],\n",
    "    xref='paper',\n",
    "    yref='y1',\n",
    "    align='left',\n",
    "    xanchor='left',\n",
    "    showarrow=False,\n",
    "),\n",
    "    dict(\n",
    "    text='&#36;' + '{:,}'.format(dem_dict[names[1]][0]) + '<br>' + \\\n",
    "         '{:,}'.format(dem_dict[names[1]][1]) + '<i> +/- 500</i>',\n",
    "    font=dict(\n",
    "        family='verdana',\n",
    "        size=10,\n",
    "        color='black',\n",
    "    ),\n",
    "    x=0.60,\n",
    "    y=dem_dict[names[1]][1],\n",
    "    xref='paper',\n",
    "    yref='y2',\n",
    "    align='left',\n",
    "    xanchor='left',\n",
    "    showarrow=False,\n",
    "),\n",
    "    dict(\n",
    "    text=u\"\\u0024\" + '{:,}'.format(dem_dict[names[2]][0]) + '<br>' + \\\n",
    "         '{:,}'.format(dem_dict[names[2]][1]),\n",
    "    font=dict(\n",
    "        family='verdana',\n",
    "        size=10,\n",
    "        color='black',\n",
    "    ),\n",
    "    x=0.60,\n",
    "    y=dem_dict[names[2]][1],\n",
    "    xref='paper',\n",
    "    yref='y3',\n",
    "    align='left',\n",
    "    xanchor='left',\n",
    "    showarrow=False,\n",
    "),\n",
    "    dict(\n",
    "    text='<i>Average donation figure<br>' + \\\n",
    "         'released by campaign.<br>' + \\\n",
    "         'If accurate, the blue bar<br>' + \\\n",
    "         'should touch the gray area',\n",
    "    font=dict(\n",
    "        family='verdana',\n",
    "        size=10,\n",
    "        color='gray',\n",
    "    ),\n",
    "    x=31,\n",
    "    y=37650,\n",
    "    xref='x1',\n",
    "    yref='y1',\n",
    "    align='left',\n",
    "    xanchor='left',\n",
    "    showarrow=False,\n",
    "#     axref='x1',\n",
    "#     ayref='y1',\n",
    "#     ax=34.5,\n",
    "#     ay=37700,\n",
    "),\n",
    "    dict(\n",
    "    text='<i>Gray area represents all possible <br>' + \\\n",
    "         'avg donation amounts based<br>' + \\\n",
    "         'on approx. figures from campaign</i>',\n",
    "    font=dict(\n",
    "        family='verdana',\n",
    "        size=10,\n",
    "        color='gray',\n",
    "    ),\n",
    "    x=41,\n",
    "    y=38600,\n",
    "    xref='x1',\n",
    "    yref='y1',\n",
    "    align='left',\n",
    "    xanchor='left',\n",
    "    showarrow=False,\n",
    "#     axref='x1',\n",
    "#     ayref='y1',\n",
    "#     ax=34.5,\n",
    "#     ay=37700,\n",
    "),\n",
    "    dict(\n",
    "    text='<i>Light gray area<br>represents initial<br>' + \\\n",
    "         'figure of 128,000<br>donations, not donors',\n",
    "    font=dict(\n",
    "        family='verdana',\n",
    "        size=10,\n",
    "        color='gray',\n",
    "    ),\n",
    "    x=48.5,\n",
    "    y=112500,\n",
    "    xref='x2',\n",
    "    yref='y2',\n",
    "    align='left',\n",
    "    xanchor='left',\n",
    "    yanchor='top',\n",
    "    showarrow=False,\n",
    "#     axref='x1',\n",
    "#     ayref='y1',\n",
    "#     ax=34.5,\n",
    "#     ay=37700,\n",
    ")\n",
    "])\n",
    "\n",
    "plotly.offline.init_notebook_mode(connected=True)\n",
    "plotly.offline.iplot(fig)"
   ]
  },
  {
   "cell_type": "code",
   "execution_count": 528,
   "metadata": {},
   "outputs": [],
   "source": [
    "pio.write_image(fig, 'images/round1.png', format='png', scale=3.0)#, width=800, height=500)"
   ]
  },
  {
   "cell_type": "code",
   "execution_count": 408,
   "metadata": {},
   "outputs": [
    {
     "data": {
      "text/plain": [
       "[{'source': 'https://i.imgur.com/oDU7p8k.png',\n",
       "  'xref': 'paper',\n",
       "  'yref': 'paper',\n",
       "  'x': 0.5,\n",
       "  'y': 0.5,\n",
       "  'sizex': 1000,\n",
       "  'xanchor': 'center',\n",
       "  'yanchor': 'middle'},\n",
       " {'source': 'https://i.imgur.com/qLNftOJ.png',\n",
       "  'xref': 'paper',\n",
       "  'yref': 'paper',\n",
       "  'x': 0.5,\n",
       "  'y': 0.5,\n",
       "  'sizex': 1000,\n",
       "  'xanchor': 'center',\n",
       "  'yanchor': 'middle'},\n",
       " {'source': 'https://i.imgur.com/t8YoO1f.png',\n",
       "  'xref': 'paper',\n",
       "  'yref': 'paper',\n",
       "  'x': 0.5,\n",
       "  'y': 0.5,\n",
       "  'sizex': 1000,\n",
       "  'xanchor': 'center',\n",
       "  'yanchor': 'middle'}]"
      ]
     },
     "execution_count": 408,
     "metadata": {},
     "output_type": "execute_result"
    }
   ],
   "source": [
    "pics"
   ]
  },
  {
   "cell_type": "code",
   "execution_count": 376,
   "metadata": {},
   "outputs": [
    {
     "data": {
      "text/plain": [
       "2.5"
      ]
     },
     "execution_count": 376,
     "metadata": {},
     "output_type": "execute_result"
    }
   ],
   "source": [
    "5/2.0"
   ]
  },
  {
   "cell_type": "code",
   "execution_count": null,
   "metadata": {},
   "outputs": [],
   "source": []
  }
 ],
 "metadata": {
  "kernelspec": {
   "display_name": "Python 3",
   "language": "python",
   "name": "python3"
  },
  "language_info": {
   "codemirror_mode": {
    "name": "ipython",
    "version": 3
   },
   "file_extension": ".py",
   "mimetype": "text/x-python",
   "name": "python",
   "nbconvert_exporter": "python",
   "pygments_lexer": "ipython3",
   "version": "3.6.8"
  }
 },
 "nbformat": 4,
 "nbformat_minor": 2
}
