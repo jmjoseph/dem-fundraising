{
 "cells": [
  {
   "cell_type": "code",
   "execution_count": 1,
   "metadata": {},
   "outputs": [],
   "source": [
    "import plotly\n",
    "import plotly.graph_objs as go"
   ]
  },
  {
   "cell_type": "code",
   "execution_count": 62,
   "metadata": {},
   "outputs": [],
   "source": [
    "# (CANDIDATE, TOTAL FUNDS, NUMBER OF DONATIONS, AVG DONATION)\n",
    "dem_dict = {'Kamala Harris' : (1500000, 38000, 37, '$1.5 M'),\n",
    "            'Beto O\\'Rourke' : (6136736, 128000, 47, '$6,136,736'),\n",
    "            'Bernie Sanders' : (5925771, 223047, 27, '$5,925,771'),\n",
    "           }"
   ]
  },
  {
   "cell_type": "code",
   "execution_count": 71,
   "metadata": {},
   "outputs": [
    {
     "data": {
      "text/plain": [
       "['Bernie Sanders<br>$1.5 M',\n",
       " \"Beto O'Rourke<br>$6,136,736\",\n",
       " 'Kamala Harris<br>$5,925,771']"
      ]
     },
     "execution_count": 71,
     "metadata": {},
     "output_type": "execute_result"
    }
   ],
   "source": [
    "[[d for d in dem_dict.keys()][n] + \n",
    "          '<br>' +\n",
    "          ['$1.5 M', '$6,136,736', '$5,925,771'][n] for n in range(3)]"
   ]
  },
  {
   "cell_type": "code",
   "execution_count": 73,
   "metadata": {},
   "outputs": [
    {
     "data": {
      "text/html": [
       "<script type=\"text/javascript\">window.PlotlyConfig = {MathJaxConfig: 'local'};</script><script type=\"text/javascript\">if (window.MathJax) {MathJax.Hub.Config({SVG: {font: \"STIX-Web\"}});}</script><script>requirejs.config({paths: { 'plotly': ['https://cdn.plot.ly/plotly-latest.min']},});if(!window._Plotly) {require(['plotly'],function(plotly) {window._Plotly=plotly;});}</script>"
      ],
      "text/vnd.plotly.v1+html": [
       "<script type=\"text/javascript\">window.PlotlyConfig = {MathJaxConfig: 'local'};</script><script type=\"text/javascript\">if (window.MathJax) {MathJax.Hub.Config({SVG: {font: \"STIX-Web\"}});}</script><script>requirejs.config({paths: { 'plotly': ['https://cdn.plot.ly/plotly-latest.min']},});if(!window._Plotly) {require(['plotly'],function(plotly) {window._Plotly=plotly;});}</script>"
      ]
     },
     "metadata": {},
     "output_type": "display_data"
    },
    {
     "data": {
      "application/vnd.plotly.v1+json": {
       "config": {
        "linkText": "Export to plot.ly",
        "plotlyServerURL": "https://plot.ly",
        "showLink": false
       },
       "data": [
        {
         "marker": {
          "cmax": 50,
          "cmin": 25,
          "color": [
           27,
           47,
           37
          ],
          "colorbar": {
           "tickmode": "auto",
           "tickprefix": "$",
           "title": {
            "side": "right",
            "text": "Average Donation Amount"
           }
          },
          "colorscale": "Blues",
          "line": {
           "color": "rgb(8,48,107)",
           "width": 1.5
          }
         },
         "opacity": 0.8,
         "text": [
          "Bernie Sanders<br>$5,925,771",
          "Beto O'Rourke<br>$6,136,736",
          "Kamala Harris<br>$1.5 M"
         ],
         "textposition": "outside",
         "type": "bar",
         "uid": "01bdd6b7-458b-414a-9c91-c31c66c40f5b",
         "width": 25000,
         "x": [
          223047,
          128000,
          38000
         ],
         "y": [
          5925771,
          6136736,
          1500000
         ]
        }
       ],
       "layout": {
        "showlegend": false,
        "title": {
         "text": "First Day Fundraising By Democratic Candidates"
        },
        "xaxis": {
         "showgrid": true,
         "tickangle": 0,
         "title": {
          "text": "Number of Donations"
         },
         "zeroline": false
        },
        "yaxis": {
         "range": [
          0,
          7000000
         ],
         "title": {
          "text": "Money Raised [$]"
         }
        }
       }
      },
      "text/html": [
       "<div id=\"3cac2d86-965f-4165-86a4-a6f5e6186d06\" style=\"height: 525px; width: 100%;\" class=\"plotly-graph-div\"></div><script type=\"text/javascript\">require([\"plotly\"], function(Plotly) { window.PLOTLYENV=window.PLOTLYENV || {};window.PLOTLYENV.BASE_URL=\"https://plot.ly\";\n",
       "if (document.getElementById(\"3cac2d86-965f-4165-86a4-a6f5e6186d06\")) {\n",
       "    Plotly.newPlot(\"3cac2d86-965f-4165-86a4-a6f5e6186d06\", [{\"marker\": {\"cmax\": 50, \"cmin\": 25, \"color\": [27, 47, 37], \"colorbar\": {\"tickmode\": \"auto\", \"tickprefix\": \"$\", \"title\": {\"side\": \"right\", \"text\": \"Average Donation Amount\"}}, \"colorscale\": \"Blues\", \"line\": {\"color\": \"rgb(8,48,107)\", \"width\": 1.5}}, \"opacity\": 0.8, \"text\": [\"Bernie Sanders<br>$5,925,771\", \"Beto O'Rourke<br>$6,136,736\", \"Kamala Harris<br>$1.5 M\"], \"textposition\": \"outside\", \"width\": 25000, \"x\": [223047, 128000, 38000], \"y\": [5925771, 6136736, 1500000], \"type\": \"bar\", \"uid\": \"01bdd6b7-458b-414a-9c91-c31c66c40f5b\"}], {\"showlegend\": false, \"title\": {\"text\": \"First Day Fundraising By Democratic Candidates\"}, \"xaxis\": {\"showgrid\": true, \"tickangle\": 0, \"title\": {\"text\": \"Number of Donations\"}, \"zeroline\": false}, \"yaxis\": {\"range\": [0, 7000000], \"title\": {\"text\": \"Money Raised [$]\"}}}, {\"showLink\": false, \"linkText\": \"Export to plot.ly\", \"plotlyServerURL\": \"https://plot.ly\"}); \n",
       "}\n",
       "});</script><script type=\"text/javascript\">window.addEventListener(\"resize\", function(){if (document.getElementById(\"3cac2d86-965f-4165-86a4-a6f5e6186d06\")) {window._Plotly.Plots.resize(document.getElementById(\"3cac2d86-965f-4165-86a4-a6f5e6186d06\"));};})</script>"
      ],
      "text/vnd.plotly.v1+html": [
       "<div id=\"3cac2d86-965f-4165-86a4-a6f5e6186d06\" style=\"height: 525px; width: 100%;\" class=\"plotly-graph-div\"></div><script type=\"text/javascript\">require([\"plotly\"], function(Plotly) { window.PLOTLYENV=window.PLOTLYENV || {};window.PLOTLYENV.BASE_URL=\"https://plot.ly\";\n",
       "if (document.getElementById(\"3cac2d86-965f-4165-86a4-a6f5e6186d06\")) {\n",
       "    Plotly.newPlot(\"3cac2d86-965f-4165-86a4-a6f5e6186d06\", [{\"marker\": {\"cmax\": 50, \"cmin\": 25, \"color\": [27, 47, 37], \"colorbar\": {\"tickmode\": \"auto\", \"tickprefix\": \"$\", \"title\": {\"side\": \"right\", \"text\": \"Average Donation Amount\"}}, \"colorscale\": \"Blues\", \"line\": {\"color\": \"rgb(8,48,107)\", \"width\": 1.5}}, \"opacity\": 0.8, \"text\": [\"Bernie Sanders<br>$5,925,771\", \"Beto O'Rourke<br>$6,136,736\", \"Kamala Harris<br>$1.5 M\"], \"textposition\": \"outside\", \"width\": 25000, \"x\": [223047, 128000, 38000], \"y\": [5925771, 6136736, 1500000], \"type\": \"bar\", \"uid\": \"01bdd6b7-458b-414a-9c91-c31c66c40f5b\"}], {\"showlegend\": false, \"title\": {\"text\": \"First Day Fundraising By Democratic Candidates\"}, \"xaxis\": {\"showgrid\": true, \"tickangle\": 0, \"title\": {\"text\": \"Number of Donations\"}, \"zeroline\": false}, \"yaxis\": {\"range\": [0, 7000000], \"title\": {\"text\": \"Money Raised [$]\"}}}, {\"showLink\": false, \"linkText\": \"Export to plot.ly\", \"plotlyServerURL\": \"https://plot.ly\"}); \n",
       "}\n",
       "});</script><script type=\"text/javascript\">window.addEventListener(\"resize\", function(){if (document.getElementById(\"3cac2d86-965f-4165-86a4-a6f5e6186d06\")) {window._Plotly.Plots.resize(document.getElementById(\"3cac2d86-965f-4165-86a4-a6f5e6186d06\"));};})</script>"
      ]
     },
     "metadata": {},
     "output_type": "display_data"
    }
   ],
   "source": [
    "bars = go.Bar(\n",
    "    x=[d[1] for d in dem_dict.values()],\n",
    "    y=[d[0] for d in dem_dict.values()],\n",
    "    width=25000,\n",
    "    text=[[d for d in dem_dict.keys()][n] + \n",
    "          '<br>' +\n",
    "          [d[3] for d in dem_dict.values()][n] for n in range(3)],\n",
    "    textposition = 'outside',\n",
    "    marker=dict(\n",
    "        color=[d[2] for d in dem_dict.values()],#'rgb(158,202,225)',\n",
    "        cmin=25,\n",
    "        cmax=50,\n",
    "        colorscale='Blues',\n",
    "        line=dict(\n",
    "            color='rgb(8,48,107)',\n",
    "            width=1.5\n",
    "        ),\n",
    "        colorbar=dict(\n",
    "            title=dict(\n",
    "                text='Average Donation Amount',\n",
    "                side='right'\n",
    "            ),\n",
    "            tickmode = 'auto',\n",
    "            #tickvals = [2,50,100],\n",
    "            #ticktext = ['Hot','Mild','Cool'],\n",
    "            tickprefix = '$',\n",
    "        )\n",
    "    ),\n",
    "    opacity=0.8\n",
    ")\n",
    "\n",
    "data = [bars]\n",
    "\n",
    "layout = go.Layout(\n",
    "    title = \"First Day Fundraising By Democratic Candidates\",\n",
    "    showlegend = False,\n",
    "    xaxis=dict(\n",
    "        title='Number of Donations',\n",
    "        #range=[congressYears[0]-1, congressYears[-1]+1],\n",
    "        #tickmode='linear',\n",
    "        #tick0=congressYears[0]+(5-congressYears[0]%5),\n",
    "        #dtick=50000,\n",
    "        tickangle=0,\n",
    "        #showline=True,\n",
    "        showgrid=True,\n",
    "        zeroline=False\n",
    "    ),\n",
    "    yaxis=dict(\n",
    "        title='Money Raised [$]',\n",
    "        range=[0,7000000],\n",
    "#        tickmode='array',\n",
    "#        tickvals=range(30,101,5),\n",
    "#        ticktext=[str(n) if n%10==0 else ' ' for n in range(30,101,5)]\n",
    "    )\n",
    ")\n",
    "\n",
    "\n",
    "fig = go.Figure(data=data,layout=layout)\n",
    "plotly.offline.init_notebook_mode(connected=True)\n",
    "plotly.offline.iplot(fig)"
   ]
  },
  {
   "cell_type": "code",
   "execution_count": 70,
   "metadata": {},
   "outputs": [
    {
     "data": {
      "text/html": [
       "<script type=\"text/javascript\">window.PlotlyConfig = {MathJaxConfig: 'local'};</script><script type=\"text/javascript\">if (window.MathJax) {MathJax.Hub.Config({SVG: {font: \"STIX-Web\"}});}</script><script>requirejs.config({paths: { 'plotly': ['https://cdn.plot.ly/plotly-latest.min']},});if(!window._Plotly) {require(['plotly'],function(plotly) {window._Plotly=plotly;});}</script>"
      ],
      "text/vnd.plotly.v1+html": [
       "<script type=\"text/javascript\">window.PlotlyConfig = {MathJaxConfig: 'local'};</script><script type=\"text/javascript\">if (window.MathJax) {MathJax.Hub.Config({SVG: {font: \"STIX-Web\"}});}</script><script>requirejs.config({paths: { 'plotly': ['https://cdn.plot.ly/plotly-latest.min']},});if(!window._Plotly) {require(['plotly'],function(plotly) {window._Plotly=plotly;});}</script>"
      ]
     },
     "metadata": {},
     "output_type": "display_data"
    },
    {
     "data": {
      "application/vnd.plotly.v1+json": {
       "config": {
        "linkText": "Export to plot.ly",
        "plotlyServerURL": "https://plot.ly",
        "showLink": false
       },
       "data": [
        {
         "marker": {
          "cmax": 50,
          "cmin": 25,
          "color": [
           27,
           47,
           37
          ],
          "colorbar": {
           "tickmode": "auto",
           "title": {
            "side": "right",
            "text": "Average Donation Amount [$]"
           }
          },
          "colorscale": "Blues",
          "line": {
           "color": "rgb(8,48,107)",
           "width": 1.5
          }
         },
         "opacity": 0.8,
         "type": "bar",
         "uid": "733ed54c-a0fb-4570-b721-4399d4200c7f",
         "width": [
          223047,
          128000,
          38000
         ],
         "x": [
          111523.5,
          64000,
          19000
         ],
         "y": [
          5925771,
          6136736,
          1500000
         ]
        },
        {
         "mode": "text",
         "text": [
          "Bernie Sanders<br>$5,925,771",
          "Beto O'Rourke<br>$6,136,736",
          "Kamala Harris<br>$1.5 M"
         ],
         "textposition": "top right",
         "type": "scatter",
         "uid": "1bd5a806-5326-4b5e-85c2-54fe9da346f2",
         "x": [
          223047,
          128000,
          38000
         ],
         "y": [
          5925771,
          6136736,
          1500000
         ]
        }
       ],
       "layout": {
        "showlegend": false,
        "title": {
         "text": "First Day Fundraising By Democratic Candidates"
        },
        "xaxis": {
         "range": [
          0,
          265000
         ],
         "showgrid": true,
         "tickangle": 0,
         "title": {
          "text": "Number of Donations"
         },
         "zeroline": false
        },
        "yaxis": {
         "range": [
          0,
          7000000
         ],
         "title": {
          "text": "Money Raised [$]"
         }
        }
       }
      },
      "text/html": [
       "<div id=\"25b2ad89-de4d-4284-b5a0-3cbf63e59729\" style=\"height: 525px; width: 100%;\" class=\"plotly-graph-div\"></div><script type=\"text/javascript\">require([\"plotly\"], function(Plotly) { window.PLOTLYENV=window.PLOTLYENV || {};window.PLOTLYENV.BASE_URL=\"https://plot.ly\";\n",
       "if (document.getElementById(\"25b2ad89-de4d-4284-b5a0-3cbf63e59729\")) {\n",
       "    Plotly.newPlot(\"25b2ad89-de4d-4284-b5a0-3cbf63e59729\", [{\"marker\": {\"cmax\": 50, \"cmin\": 25, \"color\": [27, 47, 37], \"colorbar\": {\"tickmode\": \"auto\", \"title\": {\"side\": \"right\", \"text\": \"Average Donation Amount [$]\"}}, \"colorscale\": \"Blues\", \"line\": {\"color\": \"rgb(8,48,107)\", \"width\": 1.5}}, \"opacity\": 0.8, \"width\": [223047, 128000, 38000], \"x\": [111523.5, 64000.0, 19000.0], \"y\": [5925771, 6136736, 1500000], \"type\": \"bar\", \"uid\": \"733ed54c-a0fb-4570-b721-4399d4200c7f\"}, {\"mode\": \"text\", \"text\": [\"Bernie Sanders<br>$5,925,771\", \"Beto O'Rourke<br>$6,136,736\", \"Kamala Harris<br>$1.5 M\"], \"textposition\": \"top right\", \"x\": [223047, 128000, 38000], \"y\": [5925771, 6136736, 1500000], \"type\": \"scatter\", \"uid\": \"1bd5a806-5326-4b5e-85c2-54fe9da346f2\"}], {\"showlegend\": false, \"title\": {\"text\": \"First Day Fundraising By Democratic Candidates\"}, \"xaxis\": {\"range\": [0, 265000], \"showgrid\": true, \"tickangle\": 0, \"title\": {\"text\": \"Number of Donations\"}, \"zeroline\": false}, \"yaxis\": {\"range\": [0, 7000000], \"title\": {\"text\": \"Money Raised [$]\"}}}, {\"showLink\": false, \"linkText\": \"Export to plot.ly\", \"plotlyServerURL\": \"https://plot.ly\"}); \n",
       "}\n",
       "});</script><script type=\"text/javascript\">window.addEventListener(\"resize\", function(){if (document.getElementById(\"25b2ad89-de4d-4284-b5a0-3cbf63e59729\")) {window._Plotly.Plots.resize(document.getElementById(\"25b2ad89-de4d-4284-b5a0-3cbf63e59729\"));};})</script>"
      ],
      "text/vnd.plotly.v1+html": [
       "<div id=\"25b2ad89-de4d-4284-b5a0-3cbf63e59729\" style=\"height: 525px; width: 100%;\" class=\"plotly-graph-div\"></div><script type=\"text/javascript\">require([\"plotly\"], function(Plotly) { window.PLOTLYENV=window.PLOTLYENV || {};window.PLOTLYENV.BASE_URL=\"https://plot.ly\";\n",
       "if (document.getElementById(\"25b2ad89-de4d-4284-b5a0-3cbf63e59729\")) {\n",
       "    Plotly.newPlot(\"25b2ad89-de4d-4284-b5a0-3cbf63e59729\", [{\"marker\": {\"cmax\": 50, \"cmin\": 25, \"color\": [27, 47, 37], \"colorbar\": {\"tickmode\": \"auto\", \"title\": {\"side\": \"right\", \"text\": \"Average Donation Amount [$]\"}}, \"colorscale\": \"Blues\", \"line\": {\"color\": \"rgb(8,48,107)\", \"width\": 1.5}}, \"opacity\": 0.8, \"width\": [223047, 128000, 38000], \"x\": [111523.5, 64000.0, 19000.0], \"y\": [5925771, 6136736, 1500000], \"type\": \"bar\", \"uid\": \"733ed54c-a0fb-4570-b721-4399d4200c7f\"}, {\"mode\": \"text\", \"text\": [\"Bernie Sanders<br>$5,925,771\", \"Beto O'Rourke<br>$6,136,736\", \"Kamala Harris<br>$1.5 M\"], \"textposition\": \"top right\", \"x\": [223047, 128000, 38000], \"y\": [5925771, 6136736, 1500000], \"type\": \"scatter\", \"uid\": \"1bd5a806-5326-4b5e-85c2-54fe9da346f2\"}], {\"showlegend\": false, \"title\": {\"text\": \"First Day Fundraising By Democratic Candidates\"}, \"xaxis\": {\"range\": [0, 265000], \"showgrid\": true, \"tickangle\": 0, \"title\": {\"text\": \"Number of Donations\"}, \"zeroline\": false}, \"yaxis\": {\"range\": [0, 7000000], \"title\": {\"text\": \"Money Raised [$]\"}}}, {\"showLink\": false, \"linkText\": \"Export to plot.ly\", \"plotlyServerURL\": \"https://plot.ly\"}); \n",
       "}\n",
       "});</script><script type=\"text/javascript\">window.addEventListener(\"resize\", function(){if (document.getElementById(\"25b2ad89-de4d-4284-b5a0-3cbf63e59729\")) {window._Plotly.Plots.resize(document.getElementById(\"25b2ad89-de4d-4284-b5a0-3cbf63e59729\"));};})</script>"
      ]
     },
     "metadata": {},
     "output_type": "display_data"
    }
   ],
   "source": [
    "# (CANDIDATE, TOTAL FUNDS, NUMBER OF DONATIONS, AVG DONATION)\n",
    "dem_dict = {'Bernie Sanders' : (5925771, 223047, 27, '$5,925,771'),\n",
    "            'Beto O\\'Rourke' : (6136736, 128000, 47, '$6,136,736'),\n",
    "            'Kamala Harris' : (1500000, 38000, 37, '$1.5 M'),\n",
    "           }\n",
    "\n",
    "bars = go.Bar(\n",
    "    x=[d[1]/2.0 for d in dem_dict.values()],\n",
    "    y=[d[0] for d in dem_dict.values()],\n",
    "    width=[d[1] for d in dem_dict.values()],\n",
    "#     text=[[d for d in dem_dict.keys()][n] + \n",
    "#           '<br>' +\n",
    "#           [d[3] for d in dem_dict.values()][n] for n in range(3)],\n",
    "#     textposition = 'outside',\n",
    "    marker=dict(\n",
    "        color=[d[2] for d in dem_dict.values()],#'rgb(158,202,225)',\n",
    "        cmin=25,\n",
    "        cmax=50,\n",
    "        colorscale='Blues',\n",
    "        line=dict(\n",
    "            color='rgb(8,48,107)',\n",
    "            width=1.5\n",
    "        ),\n",
    "        colorbar=dict(\n",
    "            title=dict(\n",
    "                text='Average Donation Amount [$]',\n",
    "                side='right'\n",
    "            ),\n",
    "            tickmode = 'auto',\n",
    "            #tickvals = [2,50,100],\n",
    "            #ticktext = ['Hot','Mild','Cool'],\n",
    "        )\n",
    "    ),\n",
    "    opacity=0.8\n",
    ")\n",
    "\n",
    "labels = go.Scatter(\n",
    "    x=[d[1] for d in dem_dict.values()],\n",
    "    y=[d[0] for d in dem_dict.values()],\n",
    "    mode='text',\n",
    "    text=[[d for d in dem_dict.keys()][n] + \n",
    "          '<br>' +\n",
    "          [d[3] for d in dem_dict.values()][n] for n in range(3)],\n",
    "    textposition='top right'\n",
    ")\n",
    "\n",
    "data = [bars, labels]\n",
    "\n",
    "layout = go.Layout(\n",
    "    title = \"First Day Fundraising By Democratic Candidates\",\n",
    "    showlegend = False,\n",
    "    xaxis=dict(\n",
    "        title='Number of Donations',\n",
    "        range=[0, 265000],\n",
    "        #tickmode='linear',\n",
    "        #tick0=congressYears[0]+(5-congressYears[0]%5),\n",
    "        #dtick=50000,\n",
    "        tickangle=0,\n",
    "        #showline=True,\n",
    "        showgrid=True,\n",
    "        zeroline=False\n",
    "    ),\n",
    "    yaxis=dict(\n",
    "        title='Money Raised [$]',\n",
    "        range=[0,7000000],\n",
    "#        tickmode='array',\n",
    "#        tickvals=range(30,101,5),\n",
    "#        ticktext=[str(n) if n%10==0 else ' ' for n in range(30,101,5)]\n",
    "    )\n",
    ")\n",
    "\n",
    "\n",
    "fig = go.Figure(data=data,layout=layout)\n",
    "plotly.offline.init_notebook_mode(connected=True)\n",
    "plotly.offline.iplot(fig)"
   ]
  },
  {
   "cell_type": "code",
   "execution_count": 104,
   "metadata": {},
   "outputs": [
    {
     "data": {
      "text/html": [
       "<script type=\"text/javascript\">window.PlotlyConfig = {MathJaxConfig: 'local'};</script><script type=\"text/javascript\">if (window.MathJax) {MathJax.Hub.Config({SVG: {font: \"STIX-Web\"}});}</script><script>requirejs.config({paths: { 'plotly': ['https://cdn.plot.ly/plotly-latest.min']},});if(!window._Plotly) {require(['plotly'],function(plotly) {window._Plotly=plotly;});}</script>"
      ],
      "text/vnd.plotly.v1+html": [
       "<script type=\"text/javascript\">window.PlotlyConfig = {MathJaxConfig: 'local'};</script><script type=\"text/javascript\">if (window.MathJax) {MathJax.Hub.Config({SVG: {font: \"STIX-Web\"}});}</script><script>requirejs.config({paths: { 'plotly': ['https://cdn.plot.ly/plotly-latest.min']},});if(!window._Plotly) {require(['plotly'],function(plotly) {window._Plotly=plotly;});}</script>"
      ]
     },
     "metadata": {},
     "output_type": "display_data"
    },
    {
     "data": {
      "application/vnd.plotly.v1+json": {
       "config": {
        "linkText": "Export to plot.ly",
        "plotlyServerURL": "https://plot.ly",
        "showLink": false
       },
       "data": [
        {
         "fill": "tozeroy",
         "mode": "none",
         "type": "scatter",
         "uid": "09b70abe-9edb-49ea-a530-311fd954c1d4",
         "x": [
          0,
          223047
         ],
         "y": [
          27,
          27
         ]
        },
        {
         "fill": "tozeroy",
         "mode": "none",
         "type": "scatter",
         "uid": "1d82514f-fb44-4017-b6d3-8bfe499496a2",
         "x": [
          0,
          128000
         ],
         "y": [
          47,
          47
         ]
        },
        {
         "fill": "tozeroy",
         "mode": "none",
         "type": "scatter",
         "uid": "7f415818-eb74-4514-a453-25eb4de2de85",
         "x": [
          0,
          38000
         ],
         "y": [
          37,
          37
         ]
        },
        {
         "mode": "text",
         "text": [
          "Bernie Sanders<br>$5,925,771",
          "Beto O'Rourke<br>$6,136,736",
          "Kamala Harris<br>$1.5 M"
         ],
         "textposition": "top right",
         "type": "scatter",
         "uid": "7cb8c64e-7a9f-4a84-967b-59e117387c06",
         "x": [
          223047,
          128000,
          38000
         ],
         "y": [
          27,
          47,
          37
         ]
        }
       ],
       "layout": {
        "showlegend": false,
        "title": {
         "text": "First Day Fundraising By Democratic Candidates"
        },
        "xaxis": {
         "range": [
          0,
          265000
         ],
         "showgrid": true,
         "tickangle": 0,
         "title": {
          "text": "Number of Donations"
         },
         "zeroline": false
        },
        "yaxis": {
         "range": [
          0,
          55
         ],
         "title": {
          "text": "Average Donation [$]"
         }
        }
       }
      },
      "text/html": [
       "<div id=\"885117c1-f084-4170-92c5-004c5c7fb5b4\" style=\"height: 525px; width: 100%;\" class=\"plotly-graph-div\"></div><script type=\"text/javascript\">require([\"plotly\"], function(Plotly) { window.PLOTLYENV=window.PLOTLYENV || {};window.PLOTLYENV.BASE_URL=\"https://plot.ly\";\n",
       "if (document.getElementById(\"885117c1-f084-4170-92c5-004c5c7fb5b4\")) {\n",
       "    Plotly.newPlot(\"885117c1-f084-4170-92c5-004c5c7fb5b4\", [{\"fill\": \"tozeroy\", \"mode\": \"none\", \"x\": [0, 223047], \"y\": [27, 27], \"type\": \"scatter\", \"uid\": \"09b70abe-9edb-49ea-a530-311fd954c1d4\"}, {\"fill\": \"tozeroy\", \"mode\": \"none\", \"x\": [0, 128000], \"y\": [47, 47], \"type\": \"scatter\", \"uid\": \"1d82514f-fb44-4017-b6d3-8bfe499496a2\"}, {\"fill\": \"tozeroy\", \"mode\": \"none\", \"x\": [0, 38000], \"y\": [37, 37], \"type\": \"scatter\", \"uid\": \"7f415818-eb74-4514-a453-25eb4de2de85\"}, {\"mode\": \"text\", \"text\": [\"Bernie Sanders<br>$5,925,771\", \"Beto O'Rourke<br>$6,136,736\", \"Kamala Harris<br>$1.5 M\"], \"textposition\": \"top right\", \"x\": [223047, 128000, 38000], \"y\": [27, 47, 37], \"type\": \"scatter\", \"uid\": \"7cb8c64e-7a9f-4a84-967b-59e117387c06\"}], {\"showlegend\": false, \"title\": {\"text\": \"First Day Fundraising By Democratic Candidates\"}, \"xaxis\": {\"range\": [0, 265000], \"showgrid\": true, \"tickangle\": 0, \"title\": {\"text\": \"Number of Donations\"}, \"zeroline\": false}, \"yaxis\": {\"range\": [0, 55], \"title\": {\"text\": \"Average Donation [$]\"}}}, {\"showLink\": false, \"linkText\": \"Export to plot.ly\", \"plotlyServerURL\": \"https://plot.ly\"}); \n",
       "}\n",
       "});</script><script type=\"text/javascript\">window.addEventListener(\"resize\", function(){if (document.getElementById(\"885117c1-f084-4170-92c5-004c5c7fb5b4\")) {window._Plotly.Plots.resize(document.getElementById(\"885117c1-f084-4170-92c5-004c5c7fb5b4\"));};})</script>"
      ],
      "text/vnd.plotly.v1+html": [
       "<div id=\"885117c1-f084-4170-92c5-004c5c7fb5b4\" style=\"height: 525px; width: 100%;\" class=\"plotly-graph-div\"></div><script type=\"text/javascript\">require([\"plotly\"], function(Plotly) { window.PLOTLYENV=window.PLOTLYENV || {};window.PLOTLYENV.BASE_URL=\"https://plot.ly\";\n",
       "if (document.getElementById(\"885117c1-f084-4170-92c5-004c5c7fb5b4\")) {\n",
       "    Plotly.newPlot(\"885117c1-f084-4170-92c5-004c5c7fb5b4\", [{\"fill\": \"tozeroy\", \"mode\": \"none\", \"x\": [0, 223047], \"y\": [27, 27], \"type\": \"scatter\", \"uid\": \"09b70abe-9edb-49ea-a530-311fd954c1d4\"}, {\"fill\": \"tozeroy\", \"mode\": \"none\", \"x\": [0, 128000], \"y\": [47, 47], \"type\": \"scatter\", \"uid\": \"1d82514f-fb44-4017-b6d3-8bfe499496a2\"}, {\"fill\": \"tozeroy\", \"mode\": \"none\", \"x\": [0, 38000], \"y\": [37, 37], \"type\": \"scatter\", \"uid\": \"7f415818-eb74-4514-a453-25eb4de2de85\"}, {\"mode\": \"text\", \"text\": [\"Bernie Sanders<br>$5,925,771\", \"Beto O'Rourke<br>$6,136,736\", \"Kamala Harris<br>$1.5 M\"], \"textposition\": \"top right\", \"x\": [223047, 128000, 38000], \"y\": [27, 47, 37], \"type\": \"scatter\", \"uid\": \"7cb8c64e-7a9f-4a84-967b-59e117387c06\"}], {\"showlegend\": false, \"title\": {\"text\": \"First Day Fundraising By Democratic Candidates\"}, \"xaxis\": {\"range\": [0, 265000], \"showgrid\": true, \"tickangle\": 0, \"title\": {\"text\": \"Number of Donations\"}, \"zeroline\": false}, \"yaxis\": {\"range\": [0, 55], \"title\": {\"text\": \"Average Donation [$]\"}}}, {\"showLink\": false, \"linkText\": \"Export to plot.ly\", \"plotlyServerURL\": \"https://plot.ly\"}); \n",
       "}\n",
       "});</script><script type=\"text/javascript\">window.addEventListener(\"resize\", function(){if (document.getElementById(\"885117c1-f084-4170-92c5-004c5c7fb5b4\")) {window._Plotly.Plots.resize(document.getElementById(\"885117c1-f084-4170-92c5-004c5c7fb5b4\"));};})</script>"
      ]
     },
     "metadata": {},
     "output_type": "display_data"
    }
   ],
   "source": [
    "bernie = go.Scatter(\n",
    "    x=[0, dem_dict['Bernie Sanders'][1]],\n",
    "    y=2*[dem_dict['Bernie Sanders'][2]],\n",
    "    mode='none',\n",
    "    fill='tozeroy'\n",
    ")\n",
    "\n",
    "kamala = go.Scatter(\n",
    "    x=[0, dem_dict['Kamala Harris'][1]],\n",
    "    y=2*[dem_dict['Kamala Harris'][2]],\n",
    "    mode='none',\n",
    "    fill='tozeroy'\n",
    ")\n",
    "\n",
    "beto = go.Scatter(\n",
    "    x=[0, dem_dict[\"Beto O'Rourke\"][1]],\n",
    "    y=2*[dem_dict[\"Beto O'Rourke\"][2]],\n",
    "    mode='none',\n",
    "    fill='tozeroy'\n",
    ")\n",
    "\n",
    "labels = go.Scatter(\n",
    "    x=[d[1] for d in dem_dict.values()],\n",
    "    y=[d[2] for d in dem_dict.values()],\n",
    "    mode='text',\n",
    "    text=[[d for d in dem_dict.keys()][n] + \n",
    "          '<br>' +\n",
    "          [d[3] for d in dem_dict.values()][n] for n in range(3)],\n",
    "    textposition='top right'\n",
    ")\n",
    "\n",
    "\n",
    "data = [bernie, beto, kamala, labels]\n",
    "\n",
    "layout = go.Layout(\n",
    "    title = \"First Day Fundraising By Democratic Candidates\",\n",
    "    showlegend = False,\n",
    "    xaxis=dict(\n",
    "        title='Number of Donations',\n",
    "        range=[0, 265000],\n",
    "        #tickmode='linear',\n",
    "        #tick0=congressYears[0]+(5-congressYears[0]%5),\n",
    "        #dtick=50000,\n",
    "        tickangle=0,\n",
    "        #showline=True,\n",
    "        showgrid=True,\n",
    "        zeroline=False\n",
    "    ),\n",
    "    yaxis=dict(\n",
    "        title='Average Donation [$]',\n",
    "        range=[0,55],\n",
    "#        tickmode='array',\n",
    "#        tickvals=range(30,101,5),\n",
    "#        ticktext=[str(n) if n%10==0 else ' ' for n in range(30,101,5)]\n",
    "    )\n",
    ")\n",
    "\n",
    "\n",
    "fig = go.Figure(data=data,layout=layout)\n",
    "plotly.offline.init_notebook_mode(connected=True)\n",
    "plotly.offline.iplot(fig)"
   ]
  },
  {
   "cell_type": "code",
   "execution_count": 107,
   "metadata": {},
   "outputs": [
    {
     "data": {
      "text/html": [
       "<script type=\"text/javascript\">window.PlotlyConfig = {MathJaxConfig: 'local'};</script><script type=\"text/javascript\">if (window.MathJax) {MathJax.Hub.Config({SVG: {font: \"STIX-Web\"}});}</script><script>requirejs.config({paths: { 'plotly': ['https://cdn.plot.ly/plotly-latest.min']},});if(!window._Plotly) {require(['plotly'],function(plotly) {window._Plotly=plotly;});}</script>"
      ],
      "text/vnd.plotly.v1+html": [
       "<script type=\"text/javascript\">window.PlotlyConfig = {MathJaxConfig: 'local'};</script><script type=\"text/javascript\">if (window.MathJax) {MathJax.Hub.Config({SVG: {font: \"STIX-Web\"}});}</script><script>requirejs.config({paths: { 'plotly': ['https://cdn.plot.ly/plotly-latest.min']},});if(!window._Plotly) {require(['plotly'],function(plotly) {window._Plotly=plotly;});}</script>"
      ]
     },
     "metadata": {},
     "output_type": "display_data"
    },
    {
     "data": {
      "application/vnd.plotly.v1+json": {
       "config": {
        "linkText": "Export to plot.ly",
        "plotlyServerURL": "https://plot.ly",
        "showLink": false
       },
       "data": [
        {
         "fill": "tozeroy",
         "mode": "none",
         "type": "scatter",
         "uid": "1dc3b5bd-8980-45ba-ba01-b947fa614bb9",
         "x": [
          0,
          27
         ],
         "y": [
          223047,
          223047
         ]
        },
        {
         "fill": "tozeroy",
         "mode": "none",
         "type": "scatter",
         "uid": "4523fa70-23e1-419d-b8cb-385f5cffdc48",
         "x": [
          0,
          47
         ],
         "y": [
          128000,
          128000
         ]
        },
        {
         "fill": "tozeroy",
         "mode": "none",
         "type": "scatter",
         "uid": "7b4869b8-3c2b-47db-8782-21c96eb51313",
         "x": [
          0,
          37
         ],
         "y": [
          38000,
          38000
         ]
        },
        {
         "mode": "text",
         "text": [
          "Bernie Sanders<br>$5,925,771",
          "Beto O'Rourke<br>$6,136,736",
          "Kamala Harris<br>$1.5 M"
         ],
         "textposition": "top right",
         "type": "scatter",
         "uid": "d160ea9d-f570-4fec-b6bd-9bbe631d9c69",
         "x": [
          27,
          47,
          37
         ],
         "y": [
          223047,
          128000,
          38000
         ]
        }
       ],
       "layout": {
        "showlegend": false,
        "title": {
         "text": "First Day Fundraising By Democratic Candidates"
        },
        "xaxis": {
         "range": [
          0,
          55
         ],
         "showgrid": true,
         "tickangle": 0,
         "title": {
          "text": "Average Donation [$]"
         },
         "zeroline": false
        },
        "yaxis": {
         "range": [
          0,
          265000
         ],
         "title": {
          "text": "Number of Donations"
         }
        }
       }
      },
      "text/html": [
       "<div id=\"bacc98ba-bd7d-49b9-b633-6b75bb06f7ab\" style=\"height: 525px; width: 100%;\" class=\"plotly-graph-div\"></div><script type=\"text/javascript\">require([\"plotly\"], function(Plotly) { window.PLOTLYENV=window.PLOTLYENV || {};window.PLOTLYENV.BASE_URL=\"https://plot.ly\";\n",
       "if (document.getElementById(\"bacc98ba-bd7d-49b9-b633-6b75bb06f7ab\")) {\n",
       "    Plotly.newPlot(\"bacc98ba-bd7d-49b9-b633-6b75bb06f7ab\", [{\"fill\": \"tozeroy\", \"mode\": \"none\", \"x\": [0, 27], \"y\": [223047, 223047], \"type\": \"scatter\", \"uid\": \"1dc3b5bd-8980-45ba-ba01-b947fa614bb9\"}, {\"fill\": \"tozeroy\", \"mode\": \"none\", \"x\": [0, 47], \"y\": [128000, 128000], \"type\": \"scatter\", \"uid\": \"4523fa70-23e1-419d-b8cb-385f5cffdc48\"}, {\"fill\": \"tozeroy\", \"mode\": \"none\", \"x\": [0, 37], \"y\": [38000, 38000], \"type\": \"scatter\", \"uid\": \"7b4869b8-3c2b-47db-8782-21c96eb51313\"}, {\"mode\": \"text\", \"text\": [\"Bernie Sanders<br>$5,925,771\", \"Beto O'Rourke<br>$6,136,736\", \"Kamala Harris<br>$1.5 M\"], \"textposition\": \"top right\", \"x\": [27, 47, 37], \"y\": [223047, 128000, 38000], \"type\": \"scatter\", \"uid\": \"d160ea9d-f570-4fec-b6bd-9bbe631d9c69\"}], {\"showlegend\": false, \"title\": {\"text\": \"First Day Fundraising By Democratic Candidates\"}, \"xaxis\": {\"range\": [0, 55], \"showgrid\": true, \"tickangle\": 0, \"title\": {\"text\": \"Average Donation [$]\"}, \"zeroline\": false}, \"yaxis\": {\"range\": [0, 265000], \"title\": {\"text\": \"Number of Donations\"}}}, {\"showLink\": false, \"linkText\": \"Export to plot.ly\", \"plotlyServerURL\": \"https://plot.ly\"}); \n",
       "}\n",
       "});</script><script type=\"text/javascript\">window.addEventListener(\"resize\", function(){if (document.getElementById(\"bacc98ba-bd7d-49b9-b633-6b75bb06f7ab\")) {window._Plotly.Plots.resize(document.getElementById(\"bacc98ba-bd7d-49b9-b633-6b75bb06f7ab\"));};})</script>"
      ],
      "text/vnd.plotly.v1+html": [
       "<div id=\"bacc98ba-bd7d-49b9-b633-6b75bb06f7ab\" style=\"height: 525px; width: 100%;\" class=\"plotly-graph-div\"></div><script type=\"text/javascript\">require([\"plotly\"], function(Plotly) { window.PLOTLYENV=window.PLOTLYENV || {};window.PLOTLYENV.BASE_URL=\"https://plot.ly\";\n",
       "if (document.getElementById(\"bacc98ba-bd7d-49b9-b633-6b75bb06f7ab\")) {\n",
       "    Plotly.newPlot(\"bacc98ba-bd7d-49b9-b633-6b75bb06f7ab\", [{\"fill\": \"tozeroy\", \"mode\": \"none\", \"x\": [0, 27], \"y\": [223047, 223047], \"type\": \"scatter\", \"uid\": \"1dc3b5bd-8980-45ba-ba01-b947fa614bb9\"}, {\"fill\": \"tozeroy\", \"mode\": \"none\", \"x\": [0, 47], \"y\": [128000, 128000], \"type\": \"scatter\", \"uid\": \"4523fa70-23e1-419d-b8cb-385f5cffdc48\"}, {\"fill\": \"tozeroy\", \"mode\": \"none\", \"x\": [0, 37], \"y\": [38000, 38000], \"type\": \"scatter\", \"uid\": \"7b4869b8-3c2b-47db-8782-21c96eb51313\"}, {\"mode\": \"text\", \"text\": [\"Bernie Sanders<br>$5,925,771\", \"Beto O'Rourke<br>$6,136,736\", \"Kamala Harris<br>$1.5 M\"], \"textposition\": \"top right\", \"x\": [27, 47, 37], \"y\": [223047, 128000, 38000], \"type\": \"scatter\", \"uid\": \"d160ea9d-f570-4fec-b6bd-9bbe631d9c69\"}], {\"showlegend\": false, \"title\": {\"text\": \"First Day Fundraising By Democratic Candidates\"}, \"xaxis\": {\"range\": [0, 55], \"showgrid\": true, \"tickangle\": 0, \"title\": {\"text\": \"Average Donation [$]\"}, \"zeroline\": false}, \"yaxis\": {\"range\": [0, 265000], \"title\": {\"text\": \"Number of Donations\"}}}, {\"showLink\": false, \"linkText\": \"Export to plot.ly\", \"plotlyServerURL\": \"https://plot.ly\"}); \n",
       "}\n",
       "});</script><script type=\"text/javascript\">window.addEventListener(\"resize\", function(){if (document.getElementById(\"bacc98ba-bd7d-49b9-b633-6b75bb06f7ab\")) {window._Plotly.Plots.resize(document.getElementById(\"bacc98ba-bd7d-49b9-b633-6b75bb06f7ab\"));};})</script>"
      ]
     },
     "metadata": {},
     "output_type": "display_data"
    }
   ],
   "source": [
    "bernie = go.Scatter(\n",
    "    x=[0, dem_dict['Bernie Sanders'][2]],\n",
    "    y=2*[dem_dict['Bernie Sanders'][1]],\n",
    "    mode='none',\n",
    "    fill='tozeroy'\n",
    ")\n",
    "\n",
    "kamala = go.Scatter(\n",
    "    x=[0, dem_dict['Kamala Harris'][2]],\n",
    "    y=2*[dem_dict['Kamala Harris'][1]],\n",
    "    mode='none',\n",
    "    fill='tozeroy'\n",
    ")\n",
    "\n",
    "beto = go.Scatter(\n",
    "    x=[0, dem_dict[\"Beto O'Rourke\"][2]],\n",
    "    y=2*[dem_dict[\"Beto O'Rourke\"][1]],\n",
    "    mode='none',\n",
    "    fill='tozeroy'\n",
    ")\n",
    "\n",
    "\n",
    "labels = go.Scatter(\n",
    "    x=[d[2] for d in dem_dict.values()],\n",
    "    y=[d[1] for d in dem_dict.values()],\n",
    "    mode='text',\n",
    "    text=[[d for d in dem_dict.keys()][n] + \n",
    "          '<br>' +\n",
    "          [d[3] for d in dem_dict.values()][n] for n in range(3)],\n",
    "    textposition='top right'\n",
    ")\n",
    "\n",
    "data = [bernie, beto, kamala, labels]\n",
    "\n",
    "layout = go.Layout(\n",
    "    title = \"First Day Fundraising By Democratic Candidates\",\n",
    "    showlegend = False,\n",
    "    xaxis=dict(\n",
    "        title='Average Donation [$]',\n",
    "        range=[0,55],\n",
    "        #tickmode='linear',\n",
    "        #tick0=congressYears[0]+(5-congressYears[0]%5),\n",
    "        #dtick=50000,\n",
    "        tickangle=0,\n",
    "        #showline=True,\n",
    "        showgrid=True,\n",
    "        zeroline=False\n",
    "    ),\n",
    "    yaxis=dict(\n",
    "        title='Number of Donations',\n",
    "        range=[0, 265000],\n",
    "#        tickmode='array',\n",
    "#        tickvals=range(30,101,5),\n",
    "#        ticktext=[str(n) if n%10==0 else ' ' for n in range(30,101,5)]\n",
    "    )\n",
    ")\n",
    "\n",
    "\n",
    "fig = go.Figure(data=data,layout=layout)\n",
    "plotly.offline.init_notebook_mode(connected=True)\n",
    "plotly.offline.iplot(fig)"
   ]
  },
  {
   "cell_type": "code",
   "execution_count": null,
   "metadata": {},
   "outputs": [],
   "source": []
  }
 ],
 "metadata": {
  "kernelspec": {
   "display_name": "Python 3",
   "language": "python",
   "name": "python3"
  },
  "language_info": {
   "codemirror_mode": {
    "name": "ipython",
    "version": 3
   },
   "file_extension": ".py",
   "mimetype": "text/x-python",
   "name": "python",
   "nbconvert_exporter": "python",
   "pygments_lexer": "ipython3",
   "version": "3.6.8"
  }
 },
 "nbformat": 4,
 "nbformat_minor": 2
}
